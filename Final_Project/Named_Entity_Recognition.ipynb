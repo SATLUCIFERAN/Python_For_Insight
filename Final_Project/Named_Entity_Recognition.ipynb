{
 "cells": [
  {
   "cell_type": "code",
   "execution_count": 6,
   "id": "0558e450",
   "metadata": {},
   "outputs": [
    {
     "name": "stdout",
     "output_type": "stream",
     "text": [
      "Collecting en-core-web-sm==3.8.0\n",
      "  Using cached https://github.com/explosion/spacy-models/releases/download/en_core_web_sm-3.8.0/en_core_web_sm-3.8.0-py3-none-any.whl (12.8 MB)\n",
      "\u001b[38;5;2m✔ Download and installation successful\u001b[0m\n",
      "You can now load the package via spacy.load('en_core_web_sm')\n"
     ]
    }
   ],
   "source": [
    "# Step 8: The Scrying Spell – Named Entity Recognition (NER)\n",
    "\n",
    "import pandas as pd\n",
    "import spacy\n",
    "# Make sure to run this line in your environment if you haven't installed spaCy yet:\n",
    "# !pip install spacy\n",
    "# Make sure to run this line once to download the model:\n",
    "! python -m spacy download en_core_web_sm"
   ]
  },
  {
   "cell_type": "code",
   "execution_count": 7,
   "id": "b9a14819",
   "metadata": {},
   "outputs": [],
   "source": [
    "def categorize_sentiment(rating):\n",
    "    if rating >= 4:\n",
    "        return 'positive'\n",
    "    elif rating <= 2:\n",
    "        return 'negative'\n",
    "    else:\n",
    "        return 'neutral'\n",
    "\n",
    "df = pd.read_csv(\"Amazon_Reviews.csv\", on_bad_lines='skip', engine='python')\n",
    "df.rename(columns={'Review Text': 'review_text', 'Rating': 'rating', 'Date of Experience': 'date_of_experience'}, inplace=True)\n",
    "df.dropna(subset=['review_text', 'rating', 'date_of_experience'], inplace=True)\n",
    "df.drop_duplicates(inplace=True)\n",
    "df['rating'] = df['rating'].str.extract(r'(\\d+)')\n",
    "df['rating'] = df['rating'].astype(int)\n",
    "df['date_of_experience'] = pd.to_datetime(df['date_of_experience'], errors='coerce')\n",
    "df.dropna(subset=['date_of_experience'], inplace=True)\n",
    "df['text_length'] = df['review_text'].str.len()\n",
    "df['exclamation_count'] = df['review_text'].str.count('!')\n",
    "current_date = pd.Timestamp.now()\n",
    "df['review_age_days'] = (current_date - df['date_of_experience']).dt.days\n",
    "df['sentiment'] = df['rating'].apply(categorize_sentiment)"
   ]
  },
  {
   "cell_type": "code",
   "execution_count": null,
   "id": "c8759c32",
   "metadata": {},
   "outputs": [
    {
     "name": "stdout",
     "output_type": "stream",
     "text": [
      "spaCy model loaded successfully.\n"
     ]
    }
   ],
   "source": [
    "# 2. Load the spaCy language model.\n",
    "# The 'en_core_web_sm' model is a small English model that is fast and effective.\n",
    "\n",
    "try:\n",
    "    nlp = spacy.load(\"en_core_web_sm\")\n",
    "    print(\"spaCy model loaded successfully.\")\n",
    "except OSError:\n",
    "    print(\"Downloading spaCy model 'en_core_web_sm'...\")\n",
    "    from spacy.cli import download\n",
    "    download(\"en_core_web_sm\")\n",
    "    nlp = spacy.load(\"en_core_web_sm\")"
   ]
  },
  {
   "cell_type": "code",
   "execution_count": null,
   "id": "0fc47037",
   "metadata": {},
   "outputs": [],
   "source": [
    "# 3. Define a function to extract entities from a given text.\n",
    "# The function will return a dictionary of entities and their labels.\n",
    "def extract_entities(text):\n",
    "    doc = nlp(text)\n",
    "    entities = {ent.label_: ent.text for ent in doc.ents}\n",
    "    return entities"
   ]
  },
  {
   "cell_type": "code",
   "execution_count": null,
   "id": "2e941e0a",
   "metadata": {},
   "outputs": [],
   "source": [
    "# 4. Apply the entity extraction function to the 'review_text' column.\n",
    "# We'll apply this to a sample of the data to keep it fast.\n",
    "\n",
    "df_sample = df.sample(10, random_state=42).copy()\n",
    "df_sample['entities'] = df_sample['review_text'].apply(extract_entities)\n"
   ]
  },
  {
   "cell_type": "code",
   "execution_count": null,
   "id": "6910e46c",
   "metadata": {},
   "outputs": [
    {
     "name": "stdout",
     "output_type": "stream",
     "text": [
      "\n",
      "--- The Scrying Glass Reveals Entities ---\n",
      "Review Text: I always use Amazon! I think they are great. Never had a problem with them.\n",
      "Extracted Entities: {'ORG': 'Amazon'}\n",
      "--------------------------------------------------\n",
      "Review Text: Shalu displayed rather incompetent customer service today by constantly saying \"sorry for the inconvenience\" rather than trying to sort the issue. On top of that, they asked me what the issue was despite having already explained it to them which makes me think they didn't actually bother reading my message. The issue wasn't even a complicated one, simply just that I needed a code to pick up my parcel from the shop like you do with any Amazon order that goes to a pick-up point, just that I hadn't been provided one this time. And then on top of all of the above, they've just decided to stop responding to my messages - how professional.\n",
      "Extracted Entities: {'DATE': 'today', 'ORG': 'Amazon'}\n",
      "--------------------------------------------------\n",
      "Review Text: After being a Prime member for years and always receiving a daily good service, the day arrived when I was not only let down but mistreated by a Amazon Customer Service representative.Sadly I placed an order on March 23rd for a watch that cost USD 450 aprox. I kept receiving messages the delivery was running late until I received a message I should ask for a refund. Why didn’t the refund it automatically I never understood but now I do.To ask for a refund you have to return your item. How can I return something I never received ? The only option is cancelling the delivery (even if it’s days late) and it can be cancelled by the seller (Amazon) or the client, since I was not the seller I had to do it as the client. After that I could only ask for a refund. I called before and I was told that was the method.  By chat the representative told me the item was going to be “delivered tonight” and I asked “you mean in the next 4 hours because it’s already 8pm” and the answer was yes.The following day after not receiving the item I did what I was told. I couldn’t wait longer because I was visiting the US and was flying back to my country. The strange thing is that they told me it was “undeliverable” which is impossible because I was staying in a 5star hotel with 24/7 service and front desk receiving packages. Amazon sent me a code to be given when delivered and I gave it to the hotel. They never arrived to deliver anything nor requested a code. I confirmed that with the hotel. But it’s funny because in 6 days I received at least 10 other orders from Amazon, never missed or lost 1 single order. So “undeliverable” was not accurate.It’s April 12th and still haven’t received anything, the watch or the refund. They told me it was undeliverable and then they told me it was damaged but “since you cancelled the delivery” now I have to wait 30 days for it to be returned to Amazon for my refund.It was never in my hands and I cancelled because they told me to do it but now it’s their excuse for having me wait until they decide.Meanwhile I have had to pay the bank for the USD 450 charged to my credit card.I have chatted 4 times and talked over the phone 1 time with Customer Service Representatives, this lady whose name is Cha. She was rude, arrogant and 0 willingness to help.. just told me I have to wait 30 days and that’s it. I asked if I can talked to somebody else and she told me she was going to hang the phone… 2 times.What can I do ? It’s impossible to get to Amazon, nobody understands the issue.I am responsible for whatever Amazon sold, they decided which carrier to use, they didn’t deliver the order, haven’t sent it back yet BUT everything is about me. They have already charged me but won’t give the money back.A disaster. They work well with sells under USD 300 but more than USD 300 just beware.I have the terrible feeling I won’t see my USD 450 back. Very bad Amazon !!\n",
      "Extracted Entities: {'DATE': '30 days', 'ORG': 'Amazon', 'PRODUCT': 'USD 450', 'TIME': '8pm”', 'GPE': 'US', 'CARDINAL': 'more than USD 300', 'PERSON': 'Cha'}\n",
      "--------------------------------------------------\n",
      "Review Text: The Amazon delivery seems to have a problem with reading the sign on the front door that says in big bold red lamination \"PLEASE DELIVER PACKAGES TO THE BACK DOOR\".  Today they just dumped my packages in the driveway.  Unfortunately you can find everything on Amazon.  So hard to find stuff I do buy still.  As the owner of a company that also sells on Amazon, the seller support is virtually non existent.   Yes you can go to the knowledge base or community forum and read the useless answers that don't cover your specific issue.  You're only other option is to email support.  NO phone calls allowed period. So I have sent many many emails trying to resolve issues.  You may as well email your local politician.  You will receive a reply that vaguely touches on the topic in question or maybe doesn't address your question at all.  The only way you will ever get anything resolved is to badger them with email after email on the same topic.  Reopen cases after they have been closed (by Amazon) and resubmit your question.  I had some listings that were out of Amazon policy and were removed by Amazon until I \"corrected\" them.  This only happened because Amazon changed the requirements.  So I corrected all of my listings and still nothing.  I emailed them to let them know I had corrected the issue.  They emailed me back letting me know that I needed to make the corrections I had already made. Frustrating?  It took all summer to resolve the issue.  I mean it took me one day and all summer to get Amazon to realize that I had indeed done all they required.\n",
      "Extracted Entities: {'ORG': 'Amazon', 'DATE': 'one day'}\n",
      "--------------------------------------------------\n",
      "Review Text: Deliveries are amazing but can get almost every product somewhere else cheaper\n",
      "Extracted Entities: {}\n",
      "--------------------------------------------------\n",
      "Review Text: I just bought a good reasonably priced computer for my work from my home job. The specs and pictures of the products by other customers is great. I love that they deliver the next day but my only issue is the customer service is just okay at best. I was also given amazon prime membership even after I called to say I didn't want this they charged my card twice for this 99 dollar fee. They eventually refunded my money but it was a real inconvenience.\n",
      "Extracted Entities: {'DATE': 'the next day', 'MONEY': '99 dollar'}\n",
      "--------------------------------------------------\n",
      "Review Text: I always order clothes on Amazon and am very pleased. I want to thank them for the regular promotions and discounts on the site. They have never failed either with delivery or with the quality of the goods. In the future I will still order on Amazon and advise my friends.\n",
      "Extracted Entities: {'ORG': 'Amazon'}\n",
      "--------------------------------------------------\n",
      "Review Text: I tried to log in 3 times in a row, each time entering the same password, each time it was ‚wrong’ and i had to change it (to an equal one) and again wrong password. moreover, I can’t find the option ‚personal document settings’ anywhere. it seems like amazon doesn’t want to let people buy books on other websides than itself. i am really dissapointed, the side should help people but all it does is to confuse.\n",
      "Extracted Entities: {'CARDINAL': '3', 'PERSON': '‚'}\n",
      "--------------------------------------------------\n",
      "Review Text: You need it, they got it, try UPC for the best barcodes you can ever get, fast and reliable and making the payment it is really easy and clear instructions. Thank you and keep on the good work.\n",
      "Extracted Entities: {'ORG': 'UPC'}\n",
      "--------------------------------------------------\n",
      "Review Text: Amazon was at one time a brilliant service, now im afraid its gone downhill and getting worse.1 Poor delivery service2 Constant failed deliveries3 Customer services that lie to you4 Constantly having to chase up deliveriesI ordered 4 items recently, due to past delivery issues I opted for locker delivery and that also turned out to be a mistake.One of the items was missing and the traking showed as attempted delivery failed and would be delivered that day.Sadly Item never got redelivered, contacted Amazon who assured me the iten would be deliverd in the next 24 hrs.They offered me a refund on the item and as a gesture of goodwill said when the item arrives the next day I could keep it and have it for free.Cant say I was suprised when the item never turned up anyway.This has happened frequently and the need to chase orders is more common.To be fair the prime subscription is a waste of money as they very rarely deliver as promised and quite often the next day delivery turns ito 2 days or not at all.Overall useless drivers and customer service that tell you lies.\n",
      "Extracted Entities: {'ORG': 'Amazon', 'CARDINAL': 'One', 'DATE': '2 days'}\n",
      "--------------------------------------------------\n"
     ]
    }
   ],
   "source": [
    "# 5. Display the results.\n",
    "\n",
    "print(\"\\n--- The Scrying Glass Reveals Entities ---\")\n",
    "for index, row in df_sample.iterrows():\n",
    "    print(f\"Review Text: {row['review_text']}\")\n",
    "    print(f\"Extracted Entities: {row['entities']}\")\n",
    "    print(\"-\" * 50)"
   ]
  },
  {
   "cell_type": "code",
   "execution_count": null,
   "id": "5d6cc349",
   "metadata": {},
   "outputs": [],
   "source": []
  }
 ],
 "metadata": {
  "kernelspec": {
   "display_name": "base",
   "language": "python",
   "name": "python3"
  },
  "language_info": {
   "codemirror_mode": {
    "name": "ipython",
    "version": 3
   },
   "file_extension": ".py",
   "mimetype": "text/x-python",
   "name": "python",
   "nbconvert_exporter": "python",
   "pygments_lexer": "ipython3",
   "version": "3.13.5"
  }
 },
 "nbformat": 4,
 "nbformat_minor": 5
}
