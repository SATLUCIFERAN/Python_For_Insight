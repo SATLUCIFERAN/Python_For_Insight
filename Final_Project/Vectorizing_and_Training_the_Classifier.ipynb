{
 "cells": [
  {
   "cell_type": "code",
   "execution_count": 3,
   "id": "c46409d9",
   "metadata": {},
   "outputs": [],
   "source": [
    "# Step 5: The Predictive Enchantment – Vectorizing and Training the Classifier\n",
    "\n",
    "import pandas as pd\n",
    "from sklearn.model_selection import train_test_split\n",
    "from sklearn.feature_extraction.text import TfidfVectorizer\n",
    "from sklearn.linear_model import LogisticRegression\n",
    "from sklearn.pipeline import Pipeline"
   ]
  },
  {
   "cell_type": "code",
   "execution_count": 4,
   "id": "53672739",
   "metadata": {},
   "outputs": [],
   "source": [
    "def categorize_sentiment(rating):\n",
    "    if rating >= 4:\n",
    "        return 'positive'\n",
    "    elif rating <= 2:\n",
    "        return 'negative'\n",
    "    else:\n",
    "        return 'neutral'\n",
    "\n",
    "df = pd.read_csv(\"Amazon_Reviews.csv\", on_bad_lines='skip', engine='python')\n",
    "df.rename(columns={'Review Text': 'review_text', 'Rating': 'rating', 'Date of Experience': 'date_of_experience'}, inplace=True)\n",
    "df.dropna(subset=['review_text', 'rating', 'date_of_experience'], inplace=True)\n",
    "df.drop_duplicates(inplace=True)\n",
    "df['rating'] = df['rating'].str.extract(r'(\\d+)')\n",
    "df['rating'] = df['rating'].astype(int)\n",
    "df['date_of_experience'] = pd.to_datetime(df['date_of_experience'], errors='coerce')\n",
    "df.dropna(subset=['date_of_experience'], inplace=True)\n",
    "df['text_length'] = df['review_text'].str.len()\n",
    "df['exclamation_count'] = df['review_text'].str.count('!')\n",
    "current_date = pd.Timestamp.now()\n",
    "df['review_age_days'] = (current_date - df['date_of_experience']).dt.days\n",
    "df['sentiment'] = df['rating'].apply(categorize_sentiment)"
   ]
  },
  {
   "cell_type": "code",
   "execution_count": null,
   "id": "d48cc0fc",
   "metadata": {},
   "outputs": [],
   "source": [
    "# 2. Separate our features (X) and our target (y)\n",
    "X = df['review_text']\n",
    "y = df['sentiment']"
   ]
  },
  {
   "cell_type": "code",
   "execution_count": null,
   "id": "1b834298",
   "metadata": {},
   "outputs": [
    {
     "name": "stdout",
     "output_type": "stream",
     "text": [
      "--- Data Split Report ---\n",
      "Training set size: 16757\n",
      "Testing set size: 4190\n",
      "\n",
      "Train sentiment distribution:\n",
      " sentiment\n",
      "negative    0.684908\n",
      "positive    0.273378\n",
      "neutral     0.041714\n",
      "Name: proportion, dtype: float64\n",
      "\n",
      "Test sentiment distribution:\n",
      " sentiment\n",
      "negative    0.684964\n",
      "positive    0.273270\n",
      "neutral     0.041766\n",
      "Name: proportion, dtype: float64\n"
     ]
    }
   ],
   "source": [
    "# 3. Perform a train/test split, ensuring our sentiment classes are balanced.\n",
    "# We'll set aside 20% of our data for testing.\n",
    "\n",
    "X_train, X_test, y_train, y_test = \\\n",
    "train_test_split(X, y, test_size=0.2, random_state=42, stratify=y)\n",
    "print(\"--- Data Split Report ---\")\n",
    "print(f\"Training set size: {len(X_train)}\")\n",
    "print(f\"Testing set size: {len(X_test)}\")\n",
    "\n",
    "print(\"\\nTrain sentiment distribution:\\n\", \n",
    "      y_train.value_counts(normalize=True))\n",
    "\n",
    "print(\"\\nTest sentiment distribution:\\n\", \n",
    "      y_test.value_counts(normalize=True))\n"
   ]
  },
  {
   "cell_type": "code",
   "execution_count": null,
   "id": "aeaebe38",
   "metadata": {},
   "outputs": [
    {
     "name": "stdout",
     "output_type": "stream",
     "text": [
      "\n",
      "--- The Predictive Pipeline is Assembled ---\n",
      "Pipeline(steps=[('vectorizer', TfidfVectorizer()),\n",
      "                ('classifier',\n",
      "                 LogisticRegression(max_iter=1000, solver='liblinear'))])\n"
     ]
    }
   ],
   "source": [
    "# 4. Build our powerful Machine Learning Pipeline.\n",
    "# This chains the Vectorizer and the Classifier together in one object.\n",
    "\n",
    "sentiment_pipeline = Pipeline([\n",
    "    ('vectorizer', TfidfVectorizer()),\n",
    "    ('classifier', LogisticRegression(max_iter=1000, solver='liblinear'))\n",
    "])\n",
    "print(\"\\n--- The Predictive Pipeline is Assembled ---\")\n",
    "print(sentiment_pipeline)\n"
   ]
  },
  {
   "cell_type": "code",
   "execution_count": null,
   "id": "29cb38cf",
   "metadata": {},
   "outputs": [
    {
     "name": "stdout",
     "output_type": "stream",
     "text": [
      "\n",
      "--- The Ritual Begins: Training the Model ---\n",
      "Training complete! The model has learned to predict sentiment.\n"
     ]
    }
   ],
   "source": [
    "# 5. Train the model by fitting the pipeline to our training data.\n",
    "print(\"\\n--- The Ritual Begins: Training the Model ---\")\n",
    "sentiment_pipeline.fit(X_train, y_train)\n",
    "print(\"Training complete! The model has learned to predict sentiment.\")\n"
   ]
  },
  {
   "cell_type": "code",
   "execution_count": null,
   "id": "523e2460",
   "metadata": {},
   "outputs": [
    {
     "name": "stdout",
     "output_type": "stream",
     "text": [
      "\n",
      "--- The First Predictions ---\n",
      "First 5 actual labels: ['negative', 'positive', 'negative', 'negative', 'negative']\n",
      "First 5 predicted labels: ['negative', 'positive', 'negative', 'negative', 'negative']\n"
     ]
    }
   ],
   "source": [
    "# 6. Make predictions on our unseen test data.\n",
    "\n",
    "y_pred = sentiment_pipeline.predict(X_test)\n",
    "print(\"\\n--- The First Predictions ---\")\n",
    "print(\"First 5 actual labels:\", list(y_test.iloc[:5]))\n",
    "print(\"First 5 predicted labels:\", list(y_pred[:5]))\n"
   ]
  },
  {
   "cell_type": "code",
   "execution_count": null,
   "id": "6e14ab5c",
   "metadata": {},
   "outputs": [],
   "source": []
  }
 ],
 "metadata": {
  "kernelspec": {
   "display_name": "base",
   "language": "python",
   "name": "python3"
  },
  "language_info": {
   "codemirror_mode": {
    "name": "ipython",
    "version": 3
   },
   "file_extension": ".py",
   "mimetype": "text/x-python",
   "name": "python",
   "nbconvert_exporter": "python",
   "pygments_lexer": "ipython3",
   "version": "3.13.5"
  }
 },
 "nbformat": 4,
 "nbformat_minor": 5
}
