{
 "cells": [
  {
   "cell_type": "code",
   "execution_count": 8,
   "id": "d3f5f489",
   "metadata": {},
   "outputs": [
    {
     "name": "stdout",
     "output_type": "stream",
     "text": [
      "Successfully loaded the Amazon_Reviews.csv file.\n",
      "\n",
      "--- The First Glimpse of the Raw Artifacts ---\n",
      "      Reviewer Name                     Profile Link Country Review Count  \\\n",
      "0        Eugene ath  /users/66e8185ff1598352d6b3701a      US     1 review   \n",
      "1  Daniel ohalloran  /users/5d75e460200c1f6a6373648c      GB    9 reviews   \n",
      "2          p fisher  /users/546cfcf1000064000197b88f      GB   90 reviews   \n",
      "3         Greg Dunn  /users/62c35cdbacc0ea0012ccaffa      AU    5 reviews   \n",
      "4     Sheila Hannah  /users/5ddbe429478d88251550610e      GB    8 reviews   \n",
      "\n",
      "                Review Date                  Rating  \\\n",
      "0  2024-09-16T13:44:26.000Z  Rated 1 out of 5 stars   \n",
      "1  2024-09-16T18:26:46.000Z  Rated 1 out of 5 stars   \n",
      "2  2024-09-16T21:47:39.000Z  Rated 1 out of 5 stars   \n",
      "3  2024-09-17T07:15:49.000Z  Rated 1 out of 5 stars   \n",
      "4  2024-09-16T18:37:17.000Z  Rated 1 out of 5 stars   \n",
      "\n",
      "                                      Review Title  \\\n",
      "0       A Store That Doesn't Want to Sell Anything   \n",
      "1           Had multiple orders one turned up and…   \n",
      "2                      I informed these reprobates   \n",
      "3  Advertise one price then increase it on website   \n",
      "4             If I could give a lower rate I would   \n",
      "\n",
      "                                         Review Text  Date of Experience  \n",
      "0  I registered on the website, tried to order a ...  September 16, 2024  \n",
      "1  Had multiple orders one turned up and driver h...  September 16, 2024  \n",
      "2  I informed these reprobates that I WOULD NOT B...  September 16, 2024  \n",
      "3  I have bought from Amazon before and no proble...  September 17, 2024  \n",
      "4  If I could give a lower rate I would! I cancel...  September 16, 2024  \n"
     ]
    }
   ],
   "source": [
    "# The Review Intelligence Hub: Final Project\n",
    "\n",
    "# 0. Project Setup & Data Acquisition\n",
    "# We import our trusted data cartographer, pandas.\n",
    "\n",
    "\n",
    "import pandas as pd\n",
    "\n",
    "# We will now use a more robust parsing spell with engine='python'\n",
    "# This is our second attempt to read the raw CSV artifact.\n",
    "\n",
    "try:\n",
    "    df = pd.read_csv(\"Amazon_Reviews.csv\", on_bad_lines='skip', engine='python')\n",
    "    print(\"Successfully loaded the Amazon_Reviews.csv file.\")\n",
    "except FileNotFoundError:\n",
    "    print(\"Error: The file 'Amazon_Reviews.csv' was not found.\")\n",
    "    print(\"Please make sure the file is in the same directory as this script.\")\n",
    "   \n",
    "# Let's inspect our data artifact to get a feel for its contents.\n",
    "\n",
    "print(\"\\n--- The First Glimpse of the Raw Artifacts ---\")\n",
    "print(df.head())\n",
    "\n",
    "# print(\"\\n--- Initial Data Report ---\")\n",
    "# # Using .info() gives us a quick overview of the data types and missing values\n",
    "# print(df.info())"
   ]
  },
  {
   "cell_type": "code",
   "execution_count": null,
   "id": "8fcf4c40",
   "metadata": {},
   "outputs": [],
   "source": []
  },
  {
   "cell_type": "code",
   "execution_count": null,
   "id": "a1e463c7",
   "metadata": {},
   "outputs": [],
   "source": []
  }
 ],
 "metadata": {
  "kernelspec": {
   "display_name": "base",
   "language": "python",
   "name": "python3"
  },
  "language_info": {
   "codemirror_mode": {
    "name": "ipython",
    "version": 3
   },
   "file_extension": ".py",
   "mimetype": "text/x-python",
   "name": "python",
   "nbconvert_exporter": "python",
   "pygments_lexer": "ipython3",
   "version": "3.13.5"
  }
 },
 "nbformat": 4,
 "nbformat_minor": 5
}
