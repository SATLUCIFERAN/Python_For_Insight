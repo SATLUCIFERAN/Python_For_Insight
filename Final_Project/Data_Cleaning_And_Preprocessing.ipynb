{
 "cells": [
  {
   "cell_type": "code",
   "execution_count": 17,
   "id": "6f1cf00d",
   "metadata": {},
   "outputs": [
    {
     "name": "stdout",
     "output_type": "stream",
     "text": [
      "--- Raw Data Loaded ---\n",
      "Initial shape of the DataFrame: (21214, 9)\n"
     ]
    }
   ],
   "source": [
    "# Step 1: Polishing the Gems – Data Cleaning & Preprocessing\n",
    "import pandas as pd\n",
    "\n",
    "# First, we load our DataFrame from the raw CSV artifact.\n",
    "df = pd.read_csv(\"Amazon_Reviews.csv\", on_bad_lines='skip', engine='python')\n",
    "print(\"--- Raw Data Loaded ---\")\n",
    "print(f\"Initial shape of the DataFrame: {df.shape}\")"
   ]
  },
  {
   "cell_type": "code",
   "execution_count": 18,
   "id": "2c51544b",
   "metadata": {},
   "outputs": [],
   "source": [
    "# Let's rename some columns to make them easier to work with.\n",
    "# This is a good practice to ensure consistency, as we learned in Chapter 5.\n",
    "df.rename(columns={'Review Text': 'review_text', 'Rating': 'rating'}, inplace=True)"
   ]
  },
  {
   "cell_type": "code",
   "execution_count": 19,
   "id": "9282741f",
   "metadata": {},
   "outputs": [
    {
     "name": "stdout",
     "output_type": "stream",
     "text": [
      "\n",
      "--- After dropping rows with missing text or rating ---\n",
      "Shape of the DataFrame: (21055, 9)\n"
     ]
    }
   ],
   "source": [
    "# 1. Handling Missing Values (The Restoration Technique)\n",
    "# We'll drop any rows where the essential columns are missing data.\n",
    "# A review without text or a rating is useless to us.\n",
    "df.dropna(subset=['review_text', 'rating'], inplace=True)\n",
    "print(\"\\n--- After dropping rows with missing text or rating ---\")\n",
    "print(f\"Shape of the DataFrame: {df.shape}\")"
   ]
  },
  {
   "cell_type": "code",
   "execution_count": 20,
   "id": "e8ff16d1",
   "metadata": {},
   "outputs": [
    {
     "name": "stdout",
     "output_type": "stream",
     "text": [
      "\n",
      "--- After removing duplicate rows ---\n",
      "Shape of the DataFrame: (21055, 9)\n"
     ]
    }
   ],
   "source": [
    "# 2. Eliminating Duplicates (The Uniqueness Filter)\n",
    "# We'll check for and remove any rows that are exact duplicates.\n",
    "# Having the same review twice would skew our analysis and training.\n",
    "df.drop_duplicates(inplace=True)\n",
    "print(\"\\n--- After removing duplicate rows ---\")\n",
    "print(f\"Shape of the DataFrame: {df.shape}\")"
   ]
  },
  {
   "cell_type": "code",
   "execution_count": null,
   "id": "9785a226",
   "metadata": {},
   "outputs": [
    {
     "name": "stdout",
     "output_type": "stream",
     "text": [
      "\n",
      "--- After cleaning and converting 'rating' column ---\n",
      "0        1\n",
      "1        1\n",
      "2        1\n",
      "3        1\n",
      "4        1\n",
      "        ..\n",
      "21209    5\n",
      "21210    5\n",
      "21211    3\n",
      "21212    5\n",
      "21213    4\n",
      "Name: rating, Length: 21055, dtype: int64\n"
     ]
    }
   ],
   "source": [
    "# 3. Data Type Conversion (The Elemental Transformation)\n",
    "df['rating'] = df['rating'].str.extract(r'(\\d+)')\n",
    "df['rating'] = df['rating'].astype(int)\n",
    "print(\"\\n--- After cleaning and converting 'rating' column ---\")\n",
    "print(df['rating'])"
   ]
  },
  {
   "cell_type": "code",
   "execution_count": null,
   "id": "57ed3af4",
   "metadata": {},
   "outputs": [
    {
     "name": "stdout",
     "output_type": "stream",
     "text": [
      "\n",
      "--- After converting date and cleaning ---\n",
      "Shape of the DataFrame: (20947, 10)\n"
     ]
    }
   ],
   "source": [
    "# We'll also convert the 'Date of Experience' column into a proper datetime object.\n",
    "# This is crucial for any time-based analysis in a later step (Chapter 6 & 8).\n",
    "# The errors='coerce' argument will turn any unparsable dates into NaT (Not a Time), which we can then drop.\n",
    "\n",
    "df['date_of_experience'] =\\\n",
    "pd.to_datetime(df['Date of Experience'], errors='coerce')\n",
    "\n",
    "df.dropna(subset=['date_of_experience'], inplace=True)\n",
    "print(\"\\n--- After converting date and cleaning ---\")\n",
    "print(f\"Shape of the DataFrame: {df.shape}\")"
   ]
  },
  {
   "cell_type": "code",
   "execution_count": 23,
   "id": "5f6026b2",
   "metadata": {},
   "outputs": [
    {
     "name": "stdout",
     "output_type": "stream",
     "text": [
      "\n",
      "--- The Polished Artifacts ---\n",
      "      Reviewer Name                     Profile Link Country Review Count  \\\n",
      "0        Eugene ath  /users/66e8185ff1598352d6b3701a      US     1 review   \n",
      "1  Daniel ohalloran  /users/5d75e460200c1f6a6373648c      GB    9 reviews   \n",
      "2          p fisher  /users/546cfcf1000064000197b88f      GB   90 reviews   \n",
      "3         Greg Dunn  /users/62c35cdbacc0ea0012ccaffa      AU    5 reviews   \n",
      "4     Sheila Hannah  /users/5ddbe429478d88251550610e      GB    8 reviews   \n",
      "\n",
      "                Review Date  rating  \\\n",
      "0  2024-09-16T13:44:26.000Z       1   \n",
      "1  2024-09-16T18:26:46.000Z       1   \n",
      "2  2024-09-16T21:47:39.000Z       1   \n",
      "3  2024-09-17T07:15:49.000Z       1   \n",
      "4  2024-09-16T18:37:17.000Z       1   \n",
      "\n",
      "                                      Review Title  \\\n",
      "0       A Store That Doesn't Want to Sell Anything   \n",
      "1           Had multiple orders one turned up and…   \n",
      "2                      I informed these reprobates   \n",
      "3  Advertise one price then increase it on website   \n",
      "4             If I could give a lower rate I would   \n",
      "\n",
      "                                         review_text  Date of Experience  \\\n",
      "0  I registered on the website, tried to order a ...  September 16, 2024   \n",
      "1  Had multiple orders one turned up and driver h...  September 16, 2024   \n",
      "2  I informed these reprobates that I WOULD NOT B...  September 16, 2024   \n",
      "3  I have bought from Amazon before and no proble...  September 17, 2024   \n",
      "4  If I could give a lower rate I would! I cancel...  September 16, 2024   \n",
      "\n",
      "  date_of_experience  \n",
      "0         2024-09-16  \n",
      "1         2024-09-16  \n",
      "2         2024-09-16  \n",
      "3         2024-09-17  \n",
      "4         2024-09-16  \n",
      "\n",
      "--- Final Data Report ---\n",
      "<class 'pandas.core.frame.DataFrame'>\n",
      "Index: 20947 entries, 0 to 21213\n",
      "Data columns (total 10 columns):\n",
      " #   Column              Non-Null Count  Dtype         \n",
      "---  ------              --------------  -----         \n",
      " 0   Reviewer Name       20947 non-null  object        \n",
      " 1   Profile Link        20947 non-null  object        \n",
      " 2   Country             20946 non-null  object        \n",
      " 3   Review Count        20947 non-null  object        \n",
      " 4   Review Date         20947 non-null  object        \n",
      " 5   rating              20947 non-null  int64         \n",
      " 6   Review Title        20947 non-null  object        \n",
      " 7   review_text         20947 non-null  object        \n",
      " 8   Date of Experience  20947 non-null  object        \n",
      " 9   date_of_experience  20947 non-null  datetime64[ns]\n",
      "dtypes: datetime64[ns](1), int64(1), object(8)\n",
      "memory usage: 1.8+ MB\n",
      "None\n"
     ]
    }
   ],
   "source": [
    "print(\"\\n--- The Polished Artifacts ---\")\n",
    "print(df.head())\n",
    "print(\"\\n--- Final Data Report ---\")\n",
    "# The .info() method now shows us the correct data types.\n",
    "print(df.info())"
   ]
  },
  {
   "cell_type": "code",
   "execution_count": null,
   "id": "a20f52b4",
   "metadata": {},
   "outputs": [],
   "source": []
  }
 ],
 "metadata": {
  "kernelspec": {
   "display_name": "base",
   "language": "python",
   "name": "python3"
  },
  "language_info": {
   "codemirror_mode": {
    "name": "ipython",
    "version": 3
   },
   "file_extension": ".py",
   "mimetype": "text/x-python",
   "name": "python",
   "nbconvert_exporter": "python",
   "pygments_lexer": "ipython3",
   "version": "3.13.5"
  }
 },
 "nbformat": 4,
 "nbformat_minor": 5
}
