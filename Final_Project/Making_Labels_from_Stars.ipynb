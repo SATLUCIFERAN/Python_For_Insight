{
 "cells": [
  {
   "cell_type": "code",
   "execution_count": 2,
   "id": "588a567e",
   "metadata": {},
   "outputs": [],
   "source": [
    "# Step 4: The Sentiment Sorcery – Making Labels from Stars\n",
    "\n",
    "import pandas as pd\n",
    "import numpy as np\n",
    "import matplotlib.pyplot as plt\n",
    "import seaborn as sns\n"
   ]
  },
  {
   "cell_type": "code",
   "execution_count": 3,
   "id": "864cf0d6",
   "metadata": {},
   "outputs": [],
   "source": [
    "# We'll reload and re-process the data from our previous steps.\n",
    "df = pd.read_csv(\"Amazon_Reviews.csv\", on_bad_lines='skip', engine='python')\n",
    "df.rename(columns={'Review Text': 'review_text', 'Rating': 'rating', 'Date of Experience': 'date_of_experience','Country':'country'}, inplace=True)\n",
    "df.dropna(subset=['review_text', 'rating', 'date_of_experience'], inplace=True)\n",
    "df.drop_duplicates(inplace=True)\n",
    "df['rating'] = df['rating'].str.extract(r'(\\d+)')\n",
    "df['rating'] = df['rating'].astype(int)\n",
    "df['date_of_experience'] = pd.to_datetime(df['date_of_experience'], errors='coerce')\n",
    "df.dropna(subset=['date_of_experience'], inplace=True)\n",
    "df['text_length'] = df['review_text'].str.len()\n",
    "df['exclamation_count'] = df['review_text'].str.count('!')\n",
    "current_date = pd.Timestamp.now()\n",
    "df['review_age_days'] = (current_date - df['date_of_experience']).dt.days"
   ]
  },
  {
   "cell_type": "code",
   "execution_count": null,
   "id": "05b009fc",
   "metadata": {},
   "outputs": [],
   "source": [
    "# --- Sentiment Sorcery: Mapping Ratings to Labels ---\n",
    "# We define a function to categorize our star ratings into sentiment labels.\n",
    "def categorize_sentiment(rating):\n",
    "    if rating >= 4:\n",
    "        return 'positive'\n",
    "    elif rating <= 2:\n",
    "        return 'negative'\n",
    "    else:\n",
    "        return 'neutral'"
   ]
  },
  {
   "cell_type": "code",
   "execution_count": null,
   "id": "7220eb05",
   "metadata": {},
   "outputs": [],
   "source": [
    "# Now we apply this function to the entire 'rating' column to create a new 'sentiment' column.\n",
    "# This uses the powerful .apply() method from Chapter 6.\n",
    "df['sentiment'] = df['rating'].apply(categorize_sentiment)"
   ]
  },
  {
   "cell_type": "code",
   "execution_count": null,
   "id": "e4e1f4df",
   "metadata": {},
   "outputs": [
    {
     "name": "stdout",
     "output_type": "stream",
     "text": [
      "--- The Sentiment Labels are Forged ---\n",
      "       rating sentiment                                        review_text\n",
      "0           1  negative  I registered on the website, tried to order a ...\n",
      "1           1  negative  Had multiple orders one turned up and driver h...\n",
      "2           1  negative  I informed these reprobates that I WOULD NOT B...\n",
      "3           1  negative  I have bought from Amazon before and no proble...\n",
      "4           1  negative  If I could give a lower rate I would! I cancel...\n",
      "...       ...       ...                                                ...\n",
      "21209       5  positive  I have had perfect order fulfillment, and fast...\n",
      "21210       5  positive  I have had perfect order fulfillment, and fast...\n",
      "21211       3   neutral  I always find myself going back to amazon beco...\n",
      "21212       5  positive  I have placed an abundance of orders with Amaz...\n",
      "21213       4  positive  those goods i've ordered by Amazon.com, have b...\n",
      "\n",
      "[20947 rows x 3 columns]\n"
     ]
    }
   ],
   "source": [
    "# Let's inspect our DataFrame to see our newly created sentiment labels.\n",
    "print(\"--- The Sentiment Labels are Forged ---\")\n",
    "print(df[['rating', 'sentiment', 'review_text']])"
   ]
  },
  {
   "cell_type": "code",
   "execution_count": null,
   "id": "9972b02e",
   "metadata": {},
   "outputs": [
    {
     "name": "stdout",
     "output_type": "stream",
     "text": [
      "\n",
      "--- Distribution of New Sentiment Labels ---\n",
      "sentiment\n",
      "negative    14347\n",
      "positive     5726\n",
      "neutral       874\n",
      "Name: count, dtype: int64\n"
     ]
    }
   ],
   "source": [
    "# Let's see the distribution of our new sentiment labels.\n",
    "\n",
    "print(\"\\n--- Distribution of New Sentiment Labels ---\")\n",
    "print(df['sentiment'].value_counts())\n"
   ]
  },
  {
   "cell_type": "code",
   "execution_count": null,
   "id": "8abe7cee",
   "metadata": {},
   "outputs": [],
   "source": []
  }
 ],
 "metadata": {
  "kernelspec": {
   "display_name": "base",
   "language": "python",
   "name": "python3"
  },
  "language_info": {
   "codemirror_mode": {
    "name": "ipython",
    "version": 3
   },
   "file_extension": ".py",
   "mimetype": "text/x-python",
   "name": "python",
   "nbconvert_exporter": "python",
   "pygments_lexer": "ipython3",
   "version": "3.13.5"
  }
 },
 "nbformat": 4,
 "nbformat_minor": 5
}
