{
 "cells": [
  {
   "cell_type": "code",
   "execution_count": null,
   "id": "72bcbd54",
   "metadata": {},
   "outputs": [],
   "source": [
    "# Step 2: Forging New Compounds – Data Transformation & Feature Engineering\n",
    "import pandas as pd\n",
    "import numpy as np\n"
   ]
  },
  {
   "cell_type": "code",
   "execution_count": null,
   "id": "7e3a2277",
   "metadata": {},
   "outputs": [],
   "source": [
    "#We'll reload our data to ensure we're starting from a clean slate.\n",
    "\n",
    "df = pd.read_csv(\"Amazon_Reviews.csv\", on_bad_lines='skip', engine='python')\n",
    "df.rename(columns={'Review Text': 'review_text', 'Rating': 'rating', \n",
    "                   'Date of Experience': 'date_of_experience'}, inplace=True)\n",
    "df.dropna(subset=['review_text', 'rating', 'date_of_experience'], inplace=True)\n",
    "df.drop_duplicates(inplace=True)\n",
    "df['rating'] = df['rating'].str.extract(r'(\\d+)')\n",
    "df['rating'] = df['rating'].astype(int)\n",
    "df['date_of_experience'] = pd.to_datetime(df['date_of_experience'], \n",
    "                                          errors='coerce')\n",
    "df.dropna(subset=['date_of_experience'], inplace=True)"
   ]
  },
  {
   "cell_type": "code",
   "execution_count": null,
   "id": "fb71b1fa",
   "metadata": {},
   "outputs": [],
   "source": [
    "# 1. Creating the 'text_length' feature.\n",
    "# This uses a vectorized string operation, just like we learned in Chapter 4!\n",
    "df['text_length'] = df['review_text'].str.len()"
   ]
  },
  {
   "cell_type": "code",
   "execution_count": 6,
   "id": "c68476cb",
   "metadata": {},
   "outputs": [],
   "source": [
    "# 2. Creating the 'exclamation_count' feature.\n",
    "# We'll apply another vectorized string method to count a specific character.\n",
    "# This is a simple but brilliant way to capture emotional intensity.\n",
    "df['exclamation_count'] = df['review_text'].str.count('!')\n"
   ]
  },
  {
   "cell_type": "code",
   "execution_count": null,
   "id": "f84363d3",
   "metadata": {},
   "outputs": [],
   "source": [
    "# 3. Creating the 'review_age_days' feature.\n",
    "# This is where we combine our knowledge of dates and vectorized operations.\n",
    "# We get the current date and subtract the review date to get the difference in days.\n",
    "current_date = pd.Timestamp.now()\n",
    "df['review_age_days'] = (current_date - df['date_of_experience']).dt.days\n"
   ]
  },
  {
   "cell_type": "code",
   "execution_count": null,
   "id": "ed02369b",
   "metadata": {},
   "outputs": [
    {
     "name": "stdout",
     "output_type": "stream",
     "text": [
      "--- The Newly Forged Compounds ---\n",
      "                                         review_text  rating  text_length  \\\n",
      "0  I registered on the website, tried to order a ...       1          590   \n",
      "1  Had multiple orders one turned up and driver h...       1          293   \n",
      "2  I informed these reprobates that I WOULD NOT B...       1          611   \n",
      "3  I have bought from Amazon before and no proble...       1          450   \n",
      "4  If I could give a lower rate I would! I cancel...       1          538   \n",
      "\n",
      "   exclamation_count  review_age_days  \n",
      "0                  0              328  \n",
      "1                  0              328  \n",
      "2                  3              328  \n",
      "3                  0              327  \n",
      "4                  5              328  \n"
     ]
    }
   ],
   "source": [
    "# Let's inspect our DataFrame to see our newly forged compounds\n",
    "\n",
    "print(\"--- The Newly Forged Compounds ---\")\n",
    "print(df[['review_text', 'rating', 'text_length', \n",
    "          'exclamation_count', 'review_age_days']].head())"
   ]
  },
  {
   "cell_type": "code",
   "execution_count": null,
   "id": "0de7a58b",
   "metadata": {},
   "outputs": [
    {
     "name": "stdout",
     "output_type": "stream",
     "text": [
      "\n",
      "--- Final Data Report with New Features ---\n",
      "<class 'pandas.core.frame.DataFrame'>\n",
      "Index: 20947 entries, 0 to 21213\n",
      "Data columns (total 12 columns):\n",
      " #   Column              Non-Null Count  Dtype         \n",
      "---  ------              --------------  -----         \n",
      " 0   Reviewer Name       20947 non-null  object        \n",
      " 1   Profile Link        20947 non-null  object        \n",
      " 2   Country             20946 non-null  object        \n",
      " 3   Review Count        20947 non-null  object        \n",
      " 4   Review Date         20947 non-null  object        \n",
      " 5   rating              20947 non-null  int64         \n",
      " 6   Review Title        20947 non-null  object        \n",
      " 7   review_text         20947 non-null  object        \n",
      " 8   date_of_experience  20947 non-null  datetime64[ns]\n",
      " 9   text_length         20947 non-null  int64         \n",
      " 10  exclamation_count   20947 non-null  int64         \n",
      " 11  review_age_days     20947 non-null  int64         \n",
      "dtypes: datetime64[ns](1), int64(4), object(7)\n",
      "memory usage: 2.1+ MB\n",
      "None\n"
     ]
    }
   ],
   "source": [
    "print(\"\\n--- Final Data Report with New Features ---\")\n",
    "print(df.info())"
   ]
  },
  {
   "cell_type": "code",
   "execution_count": null,
   "id": "f0bf5c56",
   "metadata": {},
   "outputs": [
    {
     "name": "stdout",
     "output_type": "stream",
     "text": [
      "\n",
      "--- Descriptive Statistics of New Features ---\n",
      "        text_length  exclamation_count  review_age_days\n",
      "count  20947.000000       20947.000000     20947.000000\n",
      "mean     462.690409           0.849095      1711.958228\n",
      "std      517.244005           2.444339      1190.704878\n",
      "min       10.000000           0.000000       327.000000\n",
      "25%      148.000000           0.000000       821.000000\n",
      "50%      317.000000           0.000000      1471.000000\n",
      "75%      585.500000           1.000000      2144.500000\n",
      "max     9951.000000          52.000000      6558.000000\n"
     ]
    }
   ],
   "source": [
    "# Let's also run a quick description to see the statistics of our new features.\n",
    "print(\"\\n--- Descriptive Statistics of New Features ---\")\n",
    "print(df[['text_length', 'exclamation_count', 'review_age_days']]\\\n",
    "      .describe())\n"
   ]
  },
  {
   "cell_type": "code",
   "execution_count": null,
   "id": "29562db7",
   "metadata": {},
   "outputs": [],
   "source": []
  }
 ],
 "metadata": {
  "kernelspec": {
   "display_name": "base",
   "language": "python",
   "name": "python3"
  },
  "language_info": {
   "codemirror_mode": {
    "name": "ipython",
    "version": 3
   },
   "file_extension": ".py",
   "mimetype": "text/x-python",
   "name": "python",
   "nbconvert_exporter": "python",
   "pygments_lexer": "ipython3",
   "version": "3.13.5"
  }
 },
 "nbformat": 4,
 "nbformat_minor": 5
}
