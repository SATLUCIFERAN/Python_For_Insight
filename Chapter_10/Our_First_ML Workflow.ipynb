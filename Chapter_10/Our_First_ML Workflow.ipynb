{
 "cells": [
  {
   "cell_type": "code",
   "execution_count": null,
   "id": "09d9b382",
   "metadata": {},
   "outputs": [],
   "source": [
    "import numpy as np\n",
    "import pandas as pd\n",
    "from sklearn.model_selection import train_test_split\n",
    "from sklearn.linear_model import LinearRegression\n",
    "from sklearn.metrics import mean_squared_error\n",
    "\n",
    "# --- 1. The Mock Artifacts: Creating our data ---\n",
    "\n",
    "np.random.seed(42)  \n",
    "duration = np.random.uniform(low=60, high=180, size=100) # Movie durations from 60 to 180 min\n",
    "imdb_score = 4.0 + 0.03 * duration + np.random.normal(loc=0, scale=0.8, size=100) # Scores with a linear trend and noise"
   ]
  },
  {
   "cell_type": "code",
   "execution_count": null,
   "id": "e4ed5fc4",
   "metadata": {},
   "outputs": [
    {
     "name": "stdout",
     "output_type": "stream",
     "text": [
      "--- The First 5 Movies in Our Dataset ---\n",
      "     duration  imdb_score\n",
      "0  104.944814    7.217982\n",
      "1  174.085717    8.983366\n",
      "2  147.839273    8.508587\n",
      "3  131.839018    6.365115\n",
      "4   78.722237    6.185930\n",
      "\n",
      "========================================\n",
      "\n"
     ]
    }
   ],
   "source": [
    "# Create a Pandas DataFrame to hold our data\n",
    "\n",
    "movies_df = pd.DataFrame({'duration': duration, \n",
    "                          'imdb_score': imdb_score})\n",
    "print(\"--- The First 5 Movies in Our Dataset ---\")\n",
    "print(movies_df.head())\n",
    "print(\"\\n\" + \"=\"*40 + \"\\n\")"
   ]
  },
  {
   "cell_type": "code",
   "execution_count": null,
   "id": "892b3518",
   "metadata": {},
   "outputs": [],
   "source": [
    "# --- 2. Preparing the Ritual: Splitting our data ---\n",
    "X = movies_df[['duration']]\n",
    "y = movies_df['imdb_score']"
   ]
  },
  {
   "cell_type": "code",
   "execution_count": 18,
   "id": "65515e44",
   "metadata": {},
   "outputs": [
    {
     "name": "stdout",
     "output_type": "stream",
     "text": [
      "Training set size: 80 movies\n",
      "Testing set size: 20 movies\n",
      "\n",
      "========================================\n",
      "\n"
     ]
    }
   ],
   "source": [
    "# The train_test_split() function \n",
    "\n",
    "X_train, X_test, y_train, y_test =\\\n",
    "train_test_split(X, y, test_size=0.2, random_state=42)\n",
    "\n",
    "print(f\"Training set size: {X_train.shape[0]} movies\")\n",
    "print(f\"Testing set size: {X_test.shape[0]} movies\")\n",
    "print(\"\\n\" + \"=\"*40 + \"\\n\")"
   ]
  },
  {
   "cell_type": "code",
   "execution_count": null,
   "id": "a06c6c9d",
   "metadata": {},
   "outputs": [],
   "source": [
    "# --- 3. The Grand Ritual: Training the Linear Regression Model ---\n",
    "model = LinearRegression()"
   ]
  },
  {
   "cell_type": "code",
   "execution_count": null,
   "id": "c1f69960",
   "metadata": {},
   "outputs": [
    {
     "name": "stdout",
     "output_type": "stream",
     "text": [
      "Training the model...\n",
      "Training complete! The model has found its prophecy line.\n",
      "\n",
      "========================================\n",
      "\n"
     ]
    }
   ],
   "source": [
    "# We train our model using the .fit() method on our training data.\n",
    "# The model is learning the best-fit line to describe the relationship\n",
    "# between movie duration and IMDB score from this data.\n",
    "\n",
    "print(\"Training the model...\")\n",
    "model.fit(X_train, y_train)\n",
    "print(\"Training complete! The model has found its prophecy line.\")\n",
    "print(\"\\n\" + \"=\"*40 + \"\\n\")"
   ]
  },
  {
   "cell_type": "code",
   "execution_count": null,
   "id": "3f260f8a",
   "metadata": {},
   "outputs": [
    {
     "name": "stdout",
     "output_type": "stream",
     "text": [
      "--- The Model's Prophecies vs. The Real Scores ---\n",
      "Movie duration: 67.63 min\n",
      "  Model's Prophecy (Predicted Score): 6.12\n",
      "  True Score: 6.55\n",
      "\n",
      "Movie duration: 167.38 min\n",
      "  Model's Prophecy (Predicted Score): 8.85\n",
      "  True Score: 8.62\n",
      "\n",
      "Movie duration: 152.67 min\n",
      "  Model's Prophecy (Predicted Score): 8.45\n",
      "  True Score: 7.59\n",
      "\n",
      "Movie duration: 139.50 min\n",
      "  Model's Prophecy (Predicted Score): 8.09\n",
      "  True Score: 7.46\n",
      "\n",
      "Movie duration: 91.05 min\n",
      "  Model's Prophecy (Predicted Score): 6.76\n",
      "  True Score: 7.36\n",
      "\n"
     ]
    }
   ],
   "source": [
    "# --- 4. The First Prophecy: Making a prediction ---\n",
    "y_pred = model.predict(X_test)\n",
    "print(\"--- The Model's Prophecies vs. The Real Scores ---\")\n",
    "for i in range(5):\n",
    "    print(f\"Movie duration: {X_test.iloc[i].values[0]:.2f} min\")\n",
    "    print(f\"  Model's Prophecy (Predicted Score): {y_pred[i]:.2f}\")\n",
    "    print(f\"  True Score: {y_test.iloc[i]:.2f}\\n\")"
   ]
  },
  {
   "cell_type": "code",
   "execution_count": 27,
   "id": "7c8c0a02",
   "metadata": {},
   "outputs": [
    {
     "name": "stdout",
     "output_type": "stream",
     "text": [
      "The model's overall prediction error (Mean Squared Error): 0.42\n",
      "The model's formula is approximately: IMDB_Score = 4.27 + 0.03 * duration\n"
     ]
    }
   ],
   "source": [
    "#5. Evaluating the Prophecy's Accuracy\n",
    "#We use a metric called Mean Squared Error (MSE) to quantify\n",
    "mse = mean_squared_error(y_test, y_pred)\n",
    "print(f\"The model's overall prediction error (Mean Squared Error): {mse:.2f}\")\n",
    "\n",
    "# The model's prophecy line can be described by an intercept and a coefficient.\n",
    "print(f\"The model's formula is approximately: IMDB_Score = {model.intercept_:.2f} + {model.coef_[0]:.2f} * duration\")"
   ]
  },
  {
   "cell_type": "code",
   "execution_count": null,
   "id": "bdbe7e91",
   "metadata": {},
   "outputs": [],
   "source": []
  }
 ],
 "metadata": {
  "kernelspec": {
   "display_name": "base",
   "language": "python",
   "name": "python3"
  },
  "language_info": {
   "codemirror_mode": {
    "name": "ipython",
    "version": 3
   },
   "file_extension": ".py",
   "mimetype": "text/x-python",
   "name": "python",
   "nbconvert_exporter": "python",
   "pygments_lexer": "ipython3",
   "version": "3.13.5"
  }
 },
 "nbformat": 4,
 "nbformat_minor": 5
}
