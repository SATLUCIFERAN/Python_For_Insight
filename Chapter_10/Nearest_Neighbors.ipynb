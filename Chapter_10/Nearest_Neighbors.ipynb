{
 "cells": [
  {
   "cell_type": "code",
   "execution_count": 1,
   "id": "9c8388a0",
   "metadata": {},
   "outputs": [],
   "source": [
    "import numpy as np\n",
    "import pandas as pd\n",
    "from sklearn.model_selection import train_test_split\n",
    "from sklearn.neighbors import KNeighborsClassifier\n",
    "from sklearn.metrics import accuracy_score"
   ]
  },
  {
   "cell_type": "code",
   "execution_count": 4,
   "id": "b1c203a4",
   "metadata": {},
   "outputs": [],
   "source": [
    "# --- 1. The Mock Artifacts: Creating our data ---\n",
    "# Let's imagine we have a dataset of celestial bodies with their size (in millions of km³)\n",
    "# and orbital speed (in km/s), and whether they are a planet (1) or a comet (0).\n",
    "np.random.seed(42)  \n",
    "size = np.concatenate([\n",
    "    np.random.uniform(500, 1000, size=50),  # Larger sizes for planets\n",
    "    np.random.uniform(1, 100, size=50)   # Smaller sizes for comets\n",
    "])\n",
    "orbital_speed = np.concatenate([\n",
    "    np.random.uniform(1, 30, size=50),      # Slower speeds for planets\n",
    "    np.random.uniform(30, 80, size=50)      # Faster speeds for comets\n",
    "])\n",
    "\n",
    "# The 'type' status (1 for planet, 0 for comet) is determined by the mock data generation.\n",
    "body_type = np.concatenate([np.ones(50), np.zeros(50)])"
   ]
  },
  {
   "cell_type": "code",
   "execution_count": null,
   "id": "68ea0882",
   "metadata": {},
   "outputs": [
    {
     "name": "stdout",
     "output_type": "stream",
     "text": [
      "--- The First 5 Celestial Bodies in Our Dataset ---\n",
      "         size  orbital_speed  type\n",
      "0  687.270059       1.911446   1.0\n",
      "1  975.357153      19.455902   1.0\n",
      "2  865.996971      10.116323   1.0\n",
      "3  799.329242      15.748550   1.0\n",
      "4  578.009320      27.319428   1.0\n",
      "\n",
      "========================================\n",
      "\n"
     ]
    }
   ],
   "source": [
    "# Create a Pandas DataFrame to hold our data\n",
    "\n",
    "celestial_df = pd.DataFrame({'size': size, \n",
    "               'orbital_speed': orbital_speed, 'type': body_type})\n",
    "\n",
    "print(\"--- The First 5 Celestial Bodies in Our Dataset ---\")\n",
    "print(celestial_df.head())\n",
    "print(\"\\n\" + \"=\"*40 + \"\\n\")\n"
   ]
  },
  {
   "cell_type": "code",
   "execution_count": null,
   "id": "7b6f39e2",
   "metadata": {},
   "outputs": [],
   "source": [
    "# --- 2. Preparing the Ritual: Splitting our data ---\n",
    "X = celestial_df[['size', 'orbital_speed']]\n",
    "y = celestial_df['type']\n"
   ]
  },
  {
   "cell_type": "code",
   "execution_count": 12,
   "id": "36e3b1dc",
   "metadata": {},
   "outputs": [
    {
     "name": "stdout",
     "output_type": "stream",
     "text": [
      "Training set size: 80 celestial bodies\n",
      "Testing set size: 20 celestial bodies\n",
      "\n",
      "========================================\n",
      "\n"
     ]
    }
   ],
   "source": [
    "# The train_test_split() function performs the crucial step of\n",
    "# randomly splitting our data into training and testing sets.\n",
    "\n",
    "X_train, X_test, y_train, y_test = \\\n",
    "train_test_split(X, y, test_size=0.2, random_state=42)\n",
    "\n",
    "print(f\"Training set size: {X_train.shape[0]} celestial bodies\")\n",
    "print(f\"Testing set size: {X_test.shape[0]} celestial bodies\")\n",
    "print(\"\\n\" + \"=\"*40 + \"\\n\")\n"
   ]
  },
  {
   "cell_type": "code",
   "execution_count": null,
   "id": "2ab2a532",
   "metadata": {},
   "outputs": [],
   "source": [
    "# --- 3. The Grand Ritual: Training the KNN Model ---\n",
    "# We create an instance of the KNeighborsClassifier model.\n",
    "# The 'n_neighbors' parameter is our 'K'. Let's choose K=5 for this example.\n",
    "model = KNeighborsClassifier(n_neighbors=5)\n"
   ]
  },
  {
   "cell_type": "code",
   "execution_count": null,
   "id": "37b4bd01",
   "metadata": {},
   "outputs": [
    {
     "name": "stdout",
     "output_type": "stream",
     "text": [
      "Training the KNN model with K = 5...\n",
      "Training complete! The model is ready to make prophecies.\n",
      "\n",
      "========================================\n",
      "\n"
     ]
    }
   ],
   "source": [
    "# We train our model using the .fit() method on our training data.\n",
    "print(f\"Training the KNN model with K = {model.n_neighbors}...\")\n",
    "model.fit(X_train, y_train)\n",
    "print(\"Training complete! The model is ready to make prophecies.\")\n",
    "print(\"\\n\" + \"=\"*40 + \"\\n\")"
   ]
  },
  {
   "cell_type": "code",
   "execution_count": null,
   "id": "d8ebcd60",
   "metadata": {},
   "outputs": [
    {
     "name": "stdout",
     "output_type": "stream",
     "text": [
      "--- The Model's Prophecies vs. The Real Outcomes (First 5) ---\n",
      "Object Size: 7.29,          Orbital Speed: 73.87\n",
      "  Model's Prophecy (Predicted Type): Comet\n",
      "  True Outcome: Comet\n",
      "\n",
      "Object Size: 89.59,          Orbital Speed: 54.47\n",
      "  Model's Prophecy (Predicted Type): Comet\n",
      "  True Outcome: Comet\n",
      "\n",
      "Object Size: 77.45,          Orbital Speed: 63.88\n",
      "  Model's Prophecy (Predicted Type): Comet\n",
      "  True Outcome: Comet\n",
      "\n",
      "Object Size: 831.26,          Orbital Speed: 2.07\n",
      "  Model's Prophecy (Predicted Type): Planet\n",
      "  True Outcome: Planet\n",
      "\n",
      "Object Size: 629.39,          Orbital Speed: 9.26\n",
      "  Model's Prophecy (Predicted Type): Planet\n",
      "  True Outcome: Planet\n",
      "\n"
     ]
    }
   ],
   "source": [
    "# --- 4. The First Prophecy: Making a prediction ---\n",
    "# Now, we use the model to make predictions on our secret testing data.\n",
    "y_pred = model.predict(X_test)\n",
    "\n",
    "print(\"--- The Model's Prophecies vs. The Real Outcomes (First 5) ---\")\n",
    "body_map = {0.0: 'Comet', 1.0: 'Planet'}\n",
    "for i in range(5):\n",
    "    print(f\"Object Size: {X_test.iloc[i]['size']:.2f},\\\n",
    "          Orbital Speed: {X_test.iloc[i]['orbital_speed']:.2f}\")\n",
    "    print(f\"  Model's Prophecy (Predicted Type): {body_map[y_pred[i]]}\")\n",
    "    print(f\"  True Outcome: {body_map[y_test.iloc[i]]}\\n\")"
   ]
  },
  {
   "cell_type": "code",
   "execution_count": 18,
   "id": "7efebea2",
   "metadata": {},
   "outputs": [
    {
     "name": "stdout",
     "output_type": "stream",
     "text": [
      "The model's overall prediction accuracy: 1.00\n"
     ]
    }
   ],
   "source": [
    "# --- 5. Evaluating the Prophecy's Accuracy ---\n",
    "# For classification, a simple and intuitive metric is 'accuracy'.\n",
    "# It tells us the percentage of correct predictions.\n",
    "\n",
    "accuracy = accuracy_score(y_test, y_pred)\n",
    "print(f\"The model's overall prediction accuracy: {accuracy:.2f}\")\n"
   ]
  },
  {
   "cell_type": "code",
   "execution_count": 20,
   "id": "b486ed9c",
   "metadata": {},
   "outputs": [
    {
     "name": "stdout",
     "output_type": "stream",
     "text": [
      "\n",
      "========================================\n",
      "\n",
      "Prophecy for a new object (Size: 800, Speed: 15): Planet\n"
     ]
    }
   ],
   "source": [
    "# Let's make a new, single prediction for a fictional celestial body.\n",
    "new_object = pd.DataFrame({'size': [800], 'orbital_speed': [15]})\n",
    "prophecy = model.predict(new_object)\n",
    "print(\"\\n\" + \"=\"*40 + \"\\n\")\n",
    "print(f\"Prophecy for a new object (Size: 800, Speed: 15): {body_map[prophecy[0]]}\")"
   ]
  },
  {
   "cell_type": "code",
   "execution_count": null,
   "id": "fd1fc0bb",
   "metadata": {},
   "outputs": [],
   "source": []
  }
 ],
 "metadata": {
  "kernelspec": {
   "display_name": "base",
   "language": "python",
   "name": "python3"
  },
  "language_info": {
   "codemirror_mode": {
    "name": "ipython",
    "version": 3
   },
   "file_extension": ".py",
   "mimetype": "text/x-python",
   "name": "python",
   "nbconvert_exporter": "python",
   "pygments_lexer": "ipython3",
   "version": "3.13.5"
  }
 },
 "nbformat": 4,
 "nbformat_minor": 5
}
