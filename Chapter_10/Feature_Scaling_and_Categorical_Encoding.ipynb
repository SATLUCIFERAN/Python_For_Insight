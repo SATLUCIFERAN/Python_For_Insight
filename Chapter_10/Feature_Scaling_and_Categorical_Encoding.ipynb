{
 "cells": [
  {
   "cell_type": "code",
   "execution_count": 1,
   "id": "7b0d4de8",
   "metadata": {},
   "outputs": [],
   "source": [
    "import numpy as np\n",
    "import pandas as pd\n",
    "from sklearn.preprocessing import StandardScaler, OneHotEncoder\n",
    "from sklearn.model_selection import train_test_split\n",
    "from sklearn.compose import ColumnTransformer"
   ]
  },
  {
   "cell_type": "code",
   "execution_count": null,
   "id": "8c967380",
   "metadata": {},
   "outputs": [
    {
     "name": "stdout",
     "output_type": "stream",
     "text": [
      "--- Original Movie Data ---\n",
      "   duration  budget_millions   genre  target_score\n",
      "0        90              1.5  Comedy           6.5\n",
      "1       150            200.0  Action           8.8\n",
      "2       105              5.0   Drama           7.1\n",
      "3       120             50.0  Action           8.5\n",
      "4        95              2.5  Comedy           6.2\n",
      "\n",
      "========================================\n",
      "\n"
     ]
    }
   ],
   "source": [
    "# Let's imagine a dataset with both numerical and categorical features.\n",
    "\n",
    "data = {\n",
    "    'duration': [90, 150, 105, 120, 95],\n",
    "    'budget_millions': [1.5, 200.0, 5.0, 50.0, 2.5],\n",
    "    'genre': ['Comedy', 'Action', 'Drama', 'Action', 'Comedy'],\n",
    "    'target_score': [6.5, 8.8, 7.1, 8.5, 6.2]\n",
    "}\n",
    "movies_df = pd.DataFrame(data)\n",
    "print(\"--- Original Movie Data ---\")\n",
    "print(movies_df)\n",
    "print(\"\\n\" + \"=\"*40 + \"\\n\")"
   ]
  },
  {
   "cell_type": "code",
   "execution_count": 7,
   "id": "bccb8fb6",
   "metadata": {},
   "outputs": [],
   "source": [
    "# --- 2. Preparing the Ritual: Defining our features ---\n",
    "# We separate our features (X) from our target (y).\n",
    "X = movies_df[['duration', 'budget_millions', 'genre']]\n",
    "y = movies_df['target_score']"
   ]
  },
  {
   "cell_type": "code",
   "execution_count": null,
   "id": "b4cb445d",
   "metadata": {},
   "outputs": [],
   "source": [
    "# Define which columns are numerical and which are categorical.\n",
    "\n",
    "numerical_features = ['duration', 'budget_millions']\n",
    "categorical_features = ['genre']"
   ]
  },
  {
   "cell_type": "code",
   "execution_count": null,
   "id": "79ea84de",
   "metadata": {},
   "outputs": [
    {
     "name": "stdout",
     "output_type": "stream",
     "text": [
      "--- Applying the Rituals... ---\n"
     ]
    }
   ],
   "source": [
    "# --- 3. The Grand Ritual: Building the ColumnTransformer ---\n",
    "# ColumnTransformer is our magical tool for applying different rituals\n",
    "# to different columns in our dataset simultaneously.\n",
    "\n",
    "preprocessor = ColumnTransformer(\n",
    "    transformers=[\n",
    "        ('num', StandardScaler(), numerical_features),\n",
    "        ('cat', OneHotEncoder(), categorical_features)\n",
    "    ])\n",
    "\n",
    "print(\"--- Applying the Rituals... ---\")\n"
   ]
  },
  {
   "cell_type": "code",
   "execution_count": null,
   "id": "01565897",
   "metadata": {},
   "outputs": [
    {
     "name": "stdout",
     "output_type": "stream",
     "text": [
      "Rituals complete! Here is the transformed data:\n",
      "   num__duration  num__budget_millions  cat__genre_Action  cat__genre_Comedy  \\\n",
      "0      -1.019130             -0.659140                0.0                1.0   \n",
      "1       1.760316              1.942038                1.0                0.0   \n",
      "2      -0.324269             -0.613275                0.0                0.0   \n",
      "3       0.370593             -0.023588                1.0                0.0   \n",
      "4      -0.787510             -0.646035                0.0                1.0   \n",
      "\n",
      "   cat__genre_Drama  \n",
      "0               0.0  \n",
      "1               0.0  \n",
      "2               1.0  \n",
      "3               0.0  \n",
      "4               0.0  \n",
      "\n",
      "========================================\n",
      "\n"
     ]
    }
   ],
   "source": [
    "# .fit_transform() learns the rules from the training data AND applies them.\n",
    "\n",
    "X_transformed = preprocessor.fit_transform(X)\n",
    "print(\"Rituals complete! Here is the transformed data:\")\n",
    "\n",
    "transformed_df = pd.DataFrame(X_transformed, \n",
    "                 columns=preprocessor.get_feature_names_out())\n",
    "print(transformed_df)\n",
    "print(\"\\n\" + \"=\"*40 + \"\\n\")"
   ]
  },
  {
   "cell_type": "code",
   "execution_count": null,
   "id": "4874935c",
   "metadata": {},
   "outputs": [],
   "source": []
  }
 ],
 "metadata": {
  "kernelspec": {
   "display_name": "base",
   "language": "python",
   "name": "python3"
  },
  "language_info": {
   "codemirror_mode": {
    "name": "ipython",
    "version": 3
   },
   "file_extension": ".py",
   "mimetype": "text/x-python",
   "name": "python",
   "nbconvert_exporter": "python",
   "pygments_lexer": "ipython3",
   "version": "3.13.5"
  }
 },
 "nbformat": 4,
 "nbformat_minor": 5
}
