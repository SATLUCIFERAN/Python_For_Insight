{
 "cells": [
  {
   "cell_type": "code",
   "execution_count": 1,
   "id": "3c2cdfa2",
   "metadata": {},
   "outputs": [],
   "source": [
    "import numpy as np\n",
    "import pandas as pd\n",
    "from sklearn.model_selection import train_test_split\n",
    "from sklearn.linear_model import LogisticRegression\n",
    "from sklearn.tree import DecisionTreeClassifier\n",
    "from sklearn.metrics import accuracy_score"
   ]
  },
  {
   "cell_type": "code",
   "execution_count": null,
   "id": "bbd38fef",
   "metadata": {},
   "outputs": [],
   "source": [
    "# --- 1. The Mock Artifacts: Creating our data ---\n",
    "# We'll re-create the celestial body dataset for this standalone script.\n",
    "np.random.seed(42)  # For reproducibility\n",
    "size = np.concatenate([\n",
    "    np.random.uniform(500, 1000, size=50),  # Larger sizes for planets\n",
    "    np.random.uniform(1, 100, size=50)      # Smaller sizes for comets\n",
    "])\n",
    "orbital_speed = np.concatenate([\n",
    "    np.random.uniform(1, 30, size=50),      # Slower speeds for planets\n",
    "    np.random.uniform(30, 80, size=50)      # Faster speeds for comets\n",
    "])"
   ]
  },
  {
   "cell_type": "code",
   "execution_count": 5,
   "id": "8a2434a8",
   "metadata": {},
   "outputs": [],
   "source": [
    "# The 'type' status (1 for planet, 0 for comet)\n",
    "body_type = np.concatenate([np.ones(50), np.zeros(50)])"
   ]
  },
  {
   "cell_type": "code",
   "execution_count": 7,
   "id": "000b8729",
   "metadata": {},
   "outputs": [],
   "source": [
    "# Create a Pandas DataFrame to hold our data\n",
    "celestial_df = pd.DataFrame({'size': size, \n",
    "               'orbital_speed': orbital_speed, 'type': body_type})\n"
   ]
  },
  {
   "cell_type": "code",
   "execution_count": 9,
   "id": "884a448e",
   "metadata": {},
   "outputs": [],
   "source": [
    "# --- 2. Preparing the Ritual: Splitting our data ---\n",
    "X = celestial_df[['size', 'orbital_speed']]\n",
    "y = celestial_df['type']\n",
    "\n",
    "X_train, X_test, y_train, y_test = train_test_split(X, y, test_size=0.2, random_state=42)"
   ]
  },
  {
   "cell_type": "code",
   "execution_count": null,
   "id": "caf0835b",
   "metadata": {},
   "outputs": [
    {
     "name": "stdout",
     "output_type": "stream",
     "text": [
      "Training the Logistic Regression model...\n",
      "Logistic Regression training complete.\n"
     ]
    }
   ],
   "source": [
    "# --- 3. The Grand Ritual: Training the Two Models ---\n",
    "# Train the Logistic Regression Model (The Cosmic Fence)\n",
    "print(\"Training the Logistic Regression model...\")\n",
    "log_reg_model = LogisticRegression()\n",
    "log_reg_model.fit(X_train, y_train)\n",
    "print(\"Logistic Regression training complete.\")\n",
    "log_reg_predictions = log_reg_model.predict(X_test)\n",
    "log_reg_accuracy = accuracy_score(y_test, log_reg_predictions)"
   ]
  },
  {
   "cell_type": "code",
   "execution_count": 13,
   "id": "fe97f314",
   "metadata": {},
   "outputs": [
    {
     "name": "stdout",
     "output_type": "stream",
     "text": [
      "\n",
      "Training the Decision Tree model...\n",
      "Decision Tree training complete.\n"
     ]
    }
   ],
   "source": [
    "# Train the Decision Tree Model (The Cosmic Flowchart)\n",
    "\n",
    "print(\"\\nTraining the Decision Tree model...\")\n",
    "tree_model = DecisionTreeClassifier(random_state=42)\n",
    "tree_model.fit(X_train, y_train)\n",
    "print(\"Decision Tree training complete.\")\n",
    "tree_predictions = tree_model.predict(X_test)\n",
    "tree_accuracy = accuracy_score(y_test, tree_predictions)"
   ]
  },
  {
   "cell_type": "code",
   "execution_count": 15,
   "id": "94a4e18b",
   "metadata": {},
   "outputs": [
    {
     "name": "stdout",
     "output_type": "stream",
     "text": [
      "\n",
      "========================================\n",
      "\n",
      "--- Final Prophecy Comparison ---\n",
      "Logistic Regression Prophecy Accuracy: 1.00\n",
      "Decision Tree Prophecy Accuracy:       1.00\n"
     ]
    }
   ],
   "source": [
    "# --- 4. The Grand Revelation: Comparing the prophecies ---\n",
    "\n",
    "print(\"\\n\" + \"=\"*40 + \"\\n\")\n",
    "print(\"--- Final Prophecy Comparison ---\")\n",
    "print(f\"Logistic Regression Prophecy Accuracy: {log_reg_accuracy:.2f}\")\n",
    "print(f\"Decision Tree Prophecy Accuracy:       {tree_accuracy:.2f}\")\n"
   ]
  },
  {
   "cell_type": "code",
   "execution_count": null,
   "id": "c357ce7d",
   "metadata": {},
   "outputs": [],
   "source": []
  }
 ],
 "metadata": {
  "kernelspec": {
   "display_name": "base",
   "language": "python",
   "name": "python3"
  },
  "language_info": {
   "codemirror_mode": {
    "name": "ipython",
    "version": 3
   },
   "file_extension": ".py",
   "mimetype": "text/x-python",
   "name": "python",
   "nbconvert_exporter": "python",
   "pygments_lexer": "ipython3",
   "version": "3.13.5"
  }
 },
 "nbformat": 4,
 "nbformat_minor": 5
}
