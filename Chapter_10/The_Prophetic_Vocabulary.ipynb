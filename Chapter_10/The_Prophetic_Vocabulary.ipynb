{
 "cells": [
  {
   "cell_type": "code",
   "execution_count": 1,
   "id": "d802089a",
   "metadata": {},
   "outputs": [],
   "source": [
    "import numpy as np\n",
    "import pandas as pd\n",
    "from sklearn.model_selection import train_test_split\n",
    "from sklearn.feature_extraction.text import CountVectorizer\n",
    "from sklearn.naive_bayes import MultinomialNB\n",
    "from sklearn.metrics import accuracy_score"
   ]
  },
  {
   "cell_type": "code",
   "execution_count": 3,
   "id": "59967639",
   "metadata": {},
   "outputs": [],
   "source": [
    "# Let's imagine we have a dataset of movie review texts and their sentiment.\n",
    "\n",
    "reviews = [\n",
    "    \"I absolutely loved this movie, it was amazing!\",\n",
    "    \"The acting was terrible and the plot was boring.\",\n",
    "    \"A fantastic film with a wonderful story.\",\n",
    "    \"I was so disappointed with the special effects.\",\n",
    "    \"This is a masterpiece of modern cinema.\",\n",
    "    \"I fell asleep halfway through, it was so slow.\",\n",
    "    \"An instant classic, I'd watch it again and again.\",\n",
    "    \"The worst movie I've seen all year. Waste of time.\"\n",
    "]\n"
   ]
  },
  {
   "cell_type": "code",
   "execution_count": null,
   "id": "43cfd4a9",
   "metadata": {},
   "outputs": [],
   "source": [
    "# The sentiments: 1 for positive, 0 for negative.\n",
    "sentiments = [1, 0, 1, 0, 1, 0, 1, 0]"
   ]
  },
  {
   "cell_type": "code",
   "execution_count": null,
   "id": "ca6a92e5",
   "metadata": {},
   "outputs": [
    {
     "name": "stdout",
     "output_type": "stream",
     "text": [
      "--- The First 5 Reviews in Our Dataset ---\n",
      "                                        review_text  sentiment\n",
      "0    I absolutely loved this movie, it was amazing!          1\n",
      "1  The acting was terrible and the plot was boring.          0\n",
      "2          A fantastic film with a wonderful story.          1\n",
      "3   I was so disappointed with the special effects.          0\n",
      "4           This is a masterpiece of modern cinema.          1\n",
      "\n",
      "========================================\n",
      "\n"
     ]
    }
   ],
   "source": [
    "# Create a Pandas DataFrame to hold our data\n",
    "reviews_df = pd.DataFrame({'review_text': reviews, \n",
    "                           'sentiment': sentiments})\n",
    "\n",
    "print(\"--- The First 5 Reviews in Our Dataset ---\")\n",
    "print(reviews_df.head())\n",
    "print(\"\\n\" + \"=\"*40 + \"\\n\")"
   ]
  },
  {
   "cell_type": "code",
   "execution_count": null,
   "id": "c351f5ba",
   "metadata": {},
   "outputs": [],
   "source": [
    "# --- 2. Preparing the Ritual: Splitting our data ---\n",
    "# This time, our feature (X) is the text itself.\n",
    "# Our target (y) is the sentiment.\n",
    "X = reviews_df['review_text']\n",
    "y = reviews_df['sentiment']"
   ]
  },
  {
   "cell_type": "code",
   "execution_count": null,
   "id": "4299baf0",
   "metadata": {},
   "outputs": [
    {
     "name": "stdout",
     "output_type": "stream",
     "text": [
      "Training set size: 6 reviews\n",
      "Testing set size: 2 reviews\n",
      "\n",
      "========================================\n",
      "\n"
     ]
    }
   ],
   "source": [
    "# The train_test_split() function performs the crucial step of\n",
    "# randomly splitting our data into training and testing sets.\n",
    "\n",
    "X_train, X_test, y_train, y_test =\\\n",
    "train_test_split(X, y, test_size=0.2, random_state=42)\n",
    "\n",
    "print(f\"Training set size: {X_train.shape[0]} reviews\")\n",
    "print(f\"Testing set size: {X_test.shape[0]} reviews\")\n",
    "print(\"\\n\" + \"=\"*40 + \"\\n\")\n"
   ]
  },
  {
   "cell_type": "code",
   "execution_count": null,
   "id": "8069fcdd",
   "metadata": {},
   "outputs": [
    {
     "name": "stdout",
     "output_type": "stream",
     "text": [
      "--- Example of Vectorized Text (first review) ---\n",
      "I absolutely loved this movie, it was amazing!\n",
      "Vectorized form (counts):\n",
      "[[1 0 0 1 0 0 0 0 0 0 0 0 0 0 1 1 0 0 1 0 0 0 0 0 0 1 0 0 1 0 0 0 0 0 0]]\n",
      "\n",
      "========================================\n",
      "\n"
     ]
    }
   ],
   "source": [
    "# --- 3. The Feature Engineering Ritual: Turning Text into Numbers ---\n",
    "# Naive Bayes can't read text directly. We must transform our words into numbers.\n",
    "# CountVectorizer is our tool for this ritual. It counts word occurrences.\n",
    "\n",
    "vectorizer = CountVectorizer()\n",
    "X_train_vectorized = vectorizer.fit_transform(X_train)\n",
    "X_test_vectorized = vectorizer.transform(X_test)\n",
    "\n",
    "print(\"--- Example of Vectorized Text (first review) ---\")\n",
    "print(X_train.iloc[0])\n",
    "print(\"Vectorized form (counts):\")\n",
    "print(X_train_vectorized[0].toarray())\n",
    "print(\"\\n\" + \"=\"*40 + \"\\n\")"
   ]
  },
  {
   "cell_type": "code",
   "execution_count": 13,
   "id": "93f097f3",
   "metadata": {},
   "outputs": [],
   "source": [
    "# --- 4. The Grand Ritual: Training the Naive Bayes Model ---\n",
    "# We create an instance of the Multinomial Naive Bayes model.\n",
    "model = MultinomialNB()"
   ]
  },
  {
   "cell_type": "code",
   "execution_count": null,
   "id": "3781e6ed",
   "metadata": {},
   "outputs": [
    {
     "name": "stdout",
     "output_type": "stream",
     "text": [
      "Training the Naive Bayes model...\n",
      "Training complete! The model is ready to make prophecies.\n",
      "\n",
      "========================================\n",
      "\n"
     ]
    }
   ],
   "source": [
    "# We train our model using the .fit() method on our vectorized training data.\n",
    "# The model is learning the probability of each word appearing in positive vs. negative reviews.\n",
    "\n",
    "print(f\"Training the Naive Bayes model...\")\n",
    "model.fit(X_train_vectorized, y_train)\n",
    "print(\"Training complete! The model is ready to make prophecies.\")\n",
    "print(\"\\n\" + \"=\"*40 + \"\\n\")\n"
   ]
  },
  {
   "cell_type": "code",
   "execution_count": null,
   "id": "5e472dbd",
   "metadata": {},
   "outputs": [
    {
     "name": "stdout",
     "output_type": "stream",
     "text": [
      "--- The Model's Prophecies vs. The Real Outcomes ---\n",
      "Review: 'The acting was terrible and the plot was boring.'\n",
      "  Model's Prophecy: Negative\n",
      "  True Outcome:     Negative\n",
      "\n",
      "Review: 'I fell asleep halfway through, it was so slow.'\n",
      "  Model's Prophecy: Positive\n",
      "  True Outcome:     Negative\n",
      "\n"
     ]
    }
   ],
   "source": [
    "# --- 5. The First Prophecy: Making a prediction ---\n",
    "# Now, we use the model to make predictions on our secret testing data.\n",
    "\n",
    "y_pred = model.predict(X_test_vectorized)\n",
    "\n",
    "print(\"--- The Model's Prophecies vs. The Real Outcomes ---\")\n",
    "sentiment_map = {0: 'Negative', 1: 'Positive'}\n",
    "for i in range(len(y_pred)):\n",
    "    print(f\"Review: '{X_test.iloc[i]}'\")\n",
    "    print(f\"  Model's Prophecy: {sentiment_map[y_pred[i]]}\")\n",
    "    print(f\"  True Outcome:     {sentiment_map[y_test.iloc[i]]}\\n\")\n"
   ]
  },
  {
   "cell_type": "code",
   "execution_count": null,
   "id": "5562eef5",
   "metadata": {},
   "outputs": [
    {
     "name": "stdout",
     "output_type": "stream",
     "text": [
      "The model's overall prediction accuracy: 0.50\n"
     ]
    }
   ],
   "source": [
    "# --- 6. Evaluating the Prophecy's Accuracy ---\n",
    "# For classification, accuracy tells us the percentage of correct predictions.\n",
    "\n",
    "accuracy = accuracy_score(y_test, y_pred)\n",
    "print(f\"The model's overall prediction accuracy: {accuracy:.2f}\")\n"
   ]
  },
  {
   "cell_type": "code",
   "execution_count": null,
   "id": "b6a96838",
   "metadata": {},
   "outputs": [],
   "source": []
  }
 ],
 "metadata": {
  "kernelspec": {
   "display_name": "base",
   "language": "python",
   "name": "python3"
  },
  "language_info": {
   "codemirror_mode": {
    "name": "ipython",
    "version": 3
   },
   "file_extension": ".py",
   "mimetype": "text/x-python",
   "name": "python",
   "nbconvert_exporter": "python",
   "pygments_lexer": "ipython3",
   "version": "3.13.5"
  }
 },
 "nbformat": 4,
 "nbformat_minor": 5
}
