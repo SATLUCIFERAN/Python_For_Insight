{
 "cells": [
  {
   "cell_type": "code",
   "execution_count": 2,
   "id": "3adb870c",
   "metadata": {},
   "outputs": [],
   "source": [
    "import numpy as np\n",
    "import pandas as pd\n",
    "from sklearn.model_selection import train_test_split\n",
    "from sklearn.tree import DecisionTreeClassifier\n",
    "from sklearn.metrics import accuracy_score"
   ]
  },
  {
   "cell_type": "code",
   "execution_count": null,
   "id": "2eddc6d9",
   "metadata": {},
   "outputs": [],
   "source": [
    "# --- 1. The Mock Artifacts: Creating our data with more realistic overlap ---\n",
    "\n",
    "np.random.seed(42)  # For reproducibility\n",
    "\n",
    "# We'll create overlapping data ranges for the features.\n",
    "size_planets = np.random.uniform(400, 900, size=50)   # Planets can be smaller\n",
    "size_comets = np.random.uniform(50, 500, size=50)     # Comets can be larger\n",
    "size = np.concatenate([size_planets, size_comets])\n",
    "\n",
    "orbital_speed_planets = np.random.uniform(1, 40, size=50)      # Planets can be faster\n",
    "orbital_speed_comets = np.random.uniform(20, 80, size=50)      # Comets can be slower\n",
    "orbital_speed = np.concatenate([orbital_speed_planets, orbital_speed_comets])"
   ]
  },
  {
   "cell_type": "code",
   "execution_count": 5,
   "id": "8ab34c27",
   "metadata": {},
   "outputs": [],
   "source": [
    "# The 'type' status (1 for planet, 0 for comet)\n",
    "body_type = np.concatenate([np.ones(50), np.zeros(50)])"
   ]
  },
  {
   "cell_type": "code",
   "execution_count": 8,
   "id": "88a612f5",
   "metadata": {},
   "outputs": [],
   "source": [
    "# Create a Pandas DataFrame to hold our data\n",
    "celestial_df = pd.DataFrame({'size': size, 'orbital_speed': orbital_speed, 'type': body_type})"
   ]
  },
  {
   "cell_type": "code",
   "execution_count": 13,
   "id": "2b51deb1",
   "metadata": {},
   "outputs": [],
   "source": [
    "# --- 2. Preparing the Ritual: Splitting our data ---\n",
    "X = celestial_df[['size', 'orbital_speed']]\n",
    "y = celestial_df['type']\n",
    "X_train, X_test, y_train, y_test = \\\n",
    "train_test_split(X, y, test_size=0.2, random_state=42)"
   ]
  },
  {
   "cell_type": "code",
   "execution_count": null,
   "id": "ffa6269a",
   "metadata": {},
   "outputs": [
    {
     "name": "stdout",
     "output_type": "stream",
     "text": [
      "Training the Obsessed Prophet (Overfit Model)...\n"
     ]
    }
   ],
   "source": [
    "# --- 3. The Grand Rituals: Training three different prophets ---\n",
    "\n",
    "# The Obsessed Prophet (Overfit Model)\n",
    "# We will create a very complex tree with no limits on its depth.\n",
    "\n",
    "print(\"Training the Obsessed Prophet (Overfit Model)...\")\n",
    "overfit_model = DecisionTreeClassifier(random_state=42)\n",
    "overfit_model.fit(X_train, y_train)\n",
    "\n",
    "overfit_train_accuracy = \\\n",
    "accuracy_score(y_train, overfit_model.predict(X_train))\n",
    "overfit_test_accuracy =\\\n",
    "accuracy_score(y_test, overfit_model.predict(X_test))\n"
   ]
  },
  {
   "cell_type": "code",
   "execution_count": null,
   "id": "06e50e3f",
   "metadata": {},
   "outputs": [
    {
     "name": "stdout",
     "output_type": "stream",
     "text": [
      "Training the Lazy Prophet (Underfit Model)...\n"
     ]
    }
   ],
   "source": [
    "# The Lazy Prophet (Underfit Model)\n",
    "# We will create a very simple tree with a max depth of 1.\n",
    "\n",
    "print(\"Training the Lazy Prophet (Underfit Model)...\")\n",
    "underfit_model = DecisionTreeClassifier(max_depth=1, \n",
    "                                       random_state=42)\n",
    "underfit_model.fit(X_train, y_train)\n",
    "\n",
    "underfit_train_accuracy =\\\n",
    "accuracy_score(y_train, underfit_model.predict(X_train))\n",
    "underfit_test_accuracy = \\\n",
    "accuracy_score(y_test, underfit_model.predict(X_test))"
   ]
  },
  {
   "cell_type": "code",
   "execution_count": null,
   "id": "738bb996",
   "metadata": {},
   "outputs": [
    {
     "name": "stdout",
     "output_type": "stream",
     "text": [
      "Training the Balanced Prophet...\n"
     ]
    }
   ],
   "source": [
    "# The Balanced Prophet (Just right)\n",
    "# We will create a more balanced tree with a max depth of 3.\n",
    "\n",
    "print(\"Training the Balanced Prophet...\")\n",
    "balanced_model = DecisionTreeClassifier(max_depth=3, \n",
    "                                       random_state=42)\n",
    "balanced_model.fit(X_train, y_train)\n",
    "\n",
    "balanced_train_accuracy = \\\n",
    "accuracy_score(y_train, balanced_model.predict(X_train))\n",
    "balanced_test_accuracy = \\\n",
    "accuracy_score(y_test, balanced_model.predict(X_test))"
   ]
  },
  {
   "cell_type": "code",
   "execution_count": 19,
   "id": "46ca3909",
   "metadata": {},
   "outputs": [
    {
     "name": "stdout",
     "output_type": "stream",
     "text": [
      "\n",
      "========================================\n",
      "\n",
      "--- Overfitting vs. Underfitting vs. Balanced ---\n",
      "Overfit Model: Training Acc=1.00, Testing Acc=0.85\n",
      "Underfit Model: Training Acc=0.93, Testing Acc=0.80\n",
      "Balanced Model: Training Acc=0.97, Testing Acc=0.85\n"
     ]
    }
   ],
   "source": [
    "# --- 4. The Grand Revelation: Comparing the flawed prophecies ---\n",
    "print(\"\\n\" + \"=\"*40 + \"\\n\")\n",
    "print(\"--- Overfitting vs. Underfitting vs. Balanced ---\")\n",
    "print(f\"Overfit Model: Training Acc={overfit_train_accuracy:.2f}, Testing Acc={overfit_test_accuracy:.2f}\")\n",
    "print(f\"Underfit Model: Training Acc={underfit_train_accuracy:.2f}, Testing Acc={underfit_test_accuracy:.2f}\")\n",
    "print(f\"Balanced Model: Training Acc={balanced_train_accuracy:.2f}, Testing Acc={balanced_test_accuracy:.2f}\")"
   ]
  },
  {
   "cell_type": "code",
   "execution_count": null,
   "id": "5d5bb07e",
   "metadata": {},
   "outputs": [],
   "source": []
  }
 ],
 "metadata": {
  "kernelspec": {
   "display_name": "base",
   "language": "python",
   "name": "python3"
  },
  "language_info": {
   "codemirror_mode": {
    "name": "ipython",
    "version": 3
   },
   "file_extension": ".py",
   "mimetype": "text/x-python",
   "name": "python",
   "nbconvert_exporter": "python",
   "pygments_lexer": "ipython3",
   "version": "3.13.5"
  }
 },
 "nbformat": 4,
 "nbformat_minor": 5
}
