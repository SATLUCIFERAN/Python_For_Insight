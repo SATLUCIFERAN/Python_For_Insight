{
 "cells": [
  {
   "cell_type": "code",
   "execution_count": 4,
   "id": "a1ac8cfe",
   "metadata": {},
   "outputs": [],
   "source": [
    "import pandas as pd\n",
    "\n",
    "sensor_data = pd.DataFrame({\n",
    "    'Date': ['2023-01-01', '2023-01-01', '2023-01-01', '2023-01-02',\n",
    "             '2023-01-02', '2023-01-02'],\n",
    "    'Sensor_Type': ['Temperature', 'Humidity', 'Wind_Speed', 'Temperature',\n",
    "                    'Humidity', 'Wind_Speed'],\n",
    "    'Value': [22, 65, 15, 23, 68, 12]\n",
    "})"
   ]
  },
  {
   "cell_type": "code",
   "execution_count": 5,
   "id": "837394f8",
   "metadata": {},
   "outputs": [
    {
     "name": "stdout",
     "output_type": "stream",
     "text": [
      "--- The Original 'Long' Sensor Data ---\n",
      "         Date  Sensor_Type  Value\n",
      "0  2023-01-01  Temperature     22\n",
      "1  2023-01-01     Humidity     65\n",
      "2  2023-01-01   Wind_Speed     15\n",
      "3  2023-01-02  Temperature     23\n",
      "4  2023-01-02     Humidity     68\n",
      "5  2023-01-02   Wind_Speed     12\n",
      "------------------------------------------------------------\n"
     ]
    }
   ],
   "source": [
    "print(\"--- The Original 'Long' Sensor Data ---\")\n",
    "print(sensor_data)\n",
    "print(\"-\" * 60)"
   ]
  },
  {
   "cell_type": "code",
   "execution_count": 7,
   "id": "fe1d898c",
   "metadata": {},
   "outputs": [
    {
     "name": "stdout",
     "output_type": "stream",
     "text": [
      "WOW! The Pivoted Data (easier to compare values by date):\n",
      "Sensor_Type  Humidity  Temperature  Wind_Speed\n",
      "Date                                          \n",
      "2023-01-01       65.0         22.0        15.0\n",
      "2023-01-02       68.0         23.0        12.0\n",
      "------------------------------------------------------------\n"
     ]
    }
   ],
   "source": [
    "pivoted_data = sensor_data.pivot_table(index='Date', \n",
    "                           columns='Sensor_Type', values='Value')\n",
    "\n",
    "print(\"WOW! The Pivoted Data (easier to compare values by date):\")\n",
    "print(pivoted_data)\n",
    "print(\"-\" * 60)"
   ]
  },
  {
   "cell_type": "code",
   "execution_count": 11,
   "id": "abe4a0f0",
   "metadata": {},
   "outputs": [
    {
     "name": "stdout",
     "output_type": "stream",
     "text": [
      "WOW! The Melted Data (back to a 'long' format):\n",
      "            Sensor_Type  Value\n",
      "Date                          \n",
      "2023-01-01     Humidity   65.0\n",
      "2023-01-02     Humidity   68.0\n",
      "2023-01-01  Temperature   22.0\n",
      "2023-01-02  Temperature   23.0\n",
      "2023-01-01   Wind_Speed   15.0\n",
      "2023-01-02   Wind_Speed   12.0\n",
      "------------------------------------------------------------\n"
     ]
    }
   ],
   "source": [
    "melted_data = pivoted_data.melt(ignore_index=False,\n",
    "                           var_name='Sensor_Type', value_name='Value')\n",
    "\n",
    "print(\"WOW! The Melted Data (back to a 'long' format):\")\n",
    "print(melted_data)\n",
    "print(\"-\" * 60)"
   ]
  },
  {
   "cell_type": "code",
   "execution_count": null,
   "id": "be951868",
   "metadata": {},
   "outputs": [],
   "source": []
  }
 ],
 "metadata": {
  "kernelspec": {
   "display_name": "base",
   "language": "python",
   "name": "python3"
  },
  "language_info": {
   "codemirror_mode": {
    "name": "ipython",
    "version": 3
   },
   "file_extension": ".py",
   "mimetype": "text/x-python",
   "name": "python",
   "nbconvert_exporter": "python",
   "pygments_lexer": "ipython3",
   "version": "3.13.5"
  }
 },
 "nbformat": 4,
 "nbformat_minor": 5
}
