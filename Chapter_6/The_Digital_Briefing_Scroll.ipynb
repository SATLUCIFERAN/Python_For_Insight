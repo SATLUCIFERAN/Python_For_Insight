{
 "cells": [
  {
   "cell_type": "code",
   "execution_count": null,
   "id": "99ee313d",
   "metadata": {},
   "outputs": [],
   "source": [
    "import pandas as pd\n",
    "import numpy as np\n",
    "\n",
    "summary_data = pd.DataFrame({\n",
    "    'Team': ['Alpha', 'Beta', 'Gamma', 'Delta'],\n",
    "    'Sales_Total': [4500, 5800, 3100, 6200],\n",
    "    'Expeditions': [10, 12, 8, 15],\n",
    "    'Success_Rate': [0.90, 0.85, 0.75, 0.95]\n",
    "})\n"
   ]
  },
  {
   "cell_type": "code",
   "execution_count": 2,
   "id": "e161ceb9",
   "metadata": {},
   "outputs": [
    {
     "name": "stdout",
     "output_type": "stream",
     "text": [
      "--- The Unstyled Summary Data ---\n",
      "    Team  Sales_Total  Expeditions  Success_Rate\n",
      "0  Alpha         4500           10          0.90\n",
      "1   Beta         5800           12          0.85\n",
      "2  Gamma         3100            8          0.75\n",
      "3  Delta         6200           15          0.95\n",
      "------------------------------------------------------------\n"
     ]
    }
   ],
   "source": [
    "print(\"--- The Unstyled Summary Data ---\")\n",
    "print(summary_data)\n",
    "print(\"-\" * 60)"
   ]
  },
  {
   "cell_type": "code",
   "execution_count": null,
   "id": "fe3d3274",
   "metadata": {},
   "outputs": [],
   "source": [
    "styled_report_html_part1 = summary_data.style.highlight_max(\n",
    "    subset=['Sales_Total', 'Expeditions'], \n",
    "    color='lightgreen' \n",
    ").highlight_max(\n",
    "    subset=['Success_Rate'], \n",
    "    color='#FFFF99' \n",
    "    \n",
    ").bar(\n",
    "    subset=['Sales_Total'], \n",
    "    color='lightblue'\n",
    ").format(    \n",
    "    {'Sales_Total': \"${:,}\", 'Success_Rate': \"{:.1%}\"} \n",
    "    \n",
    ").apply(    \n",
    "    lambda x: ['font-weight: bold; border: 2px solid green;' if v else '' \n",
    "               for v in x == x.max()], \n",
    "    subset=['Expeditions']\n",
    ")"
   ]
  },
  {
   "cell_type": "code",
   "execution_count": 6,
   "id": "00ac11da",
   "metadata": {},
   "outputs": [
    {
     "name": "stdout",
     "output_type": "stream",
     "text": [
      "A stunning HTML report has been created! Please follow the 'Explorer's Guide to Live Server' below to view it instantly.\n",
      "------------------------------------------------------------\n"
     ]
    }
   ],
   "source": [
    "html_output = styled_report_html_part1.to_html()\n",
    "\n",
    "with open(\"styled_report.html\", \"w\") as f:\n",
    "    f.write(html_output)\n",
    "\n",
    "print(\"A stunning HTML report has been created! \" \\\n",
    "      \"Please follow the 'Explorer's Guide to Live Server' \" \\\n",
    "      \"below to view it instantly.\")\n",
    "print(\"-\" * 60)"
   ]
  },
  {
   "cell_type": "code",
   "execution_count": null,
   "id": "537f38c8",
   "metadata": {},
   "outputs": [],
   "source": []
  }
 ],
 "metadata": {
  "kernelspec": {
   "display_name": "base",
   "language": "python",
   "name": "python3"
  },
  "language_info": {
   "codemirror_mode": {
    "name": "ipython",
    "version": 3
   },
   "file_extension": ".py",
   "mimetype": "text/x-python",
   "name": "python",
   "nbconvert_exporter": "python",
   "pygments_lexer": "ipython3",
   "version": "3.13.5"
  }
 },
 "nbformat": 4,
 "nbformat_minor": 5
}
