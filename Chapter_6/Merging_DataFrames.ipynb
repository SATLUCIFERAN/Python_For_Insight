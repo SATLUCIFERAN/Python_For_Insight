{
 "cells": [
  {
   "cell_type": "code",
   "execution_count": null,
   "id": "2f043e72",
   "metadata": {},
   "outputs": [],
   "source": [
    "import pandas as pd\n",
    "\n",
    "sales_log = pd.DataFrame({\n",
    "    'Team_ID': [101, 102, 103, 104],\n",
    "    'Region': ['North', 'South', 'West', 'East'],\n",
    "    'Total_Sales': [2500, 3100, 1800, 4200]\n",
    "})"
   ]
  },
  {
   "cell_type": "code",
   "execution_count": null,
   "id": "03a7ff94",
   "metadata": {},
   "outputs": [],
   "source": [
    "team_info_log = pd.DataFrame({\n",
    "    'Team_ID': [101, 103, 104, 105], \n",
    "    'Team_Leader': ['Commander Jane', 'Sergeant Bob',\n",
    "                    'Captain Alice', 'Lt. Dan'],\n",
    "    'Experience_Years': [5, 3, 7, 2]\n",
    "})\n"
   ]
  },
  {
   "cell_type": "code",
   "execution_count": null,
   "id": "0c0384ad",
   "metadata": {},
   "outputs": [],
   "source": [
    "print(\"--- Sales Log Blueprint (Primary) ---\")\n",
    "print(sales_log)\n",
    "print(\"-\" * 30)\n",
    "\n",
    "print(\"--- Team Info Blueprint (Secondary) ---\")\n",
    "print(team_info_log)\n",
    "print(\"-\" * 60)\n"
   ]
  },
  {
   "cell_type": "code",
   "execution_count": null,
   "id": "d386ba80",
   "metadata": {},
   "outputs": [],
   "source": [
    "print(\"WOW! The Masterpiece created by an 'inner' merge:\")\n",
    "merged_inner_log = pd.merge(sales_log, team_info_log, \n",
    "                            on='Team_ID', how='inner')\n",
    "print(merged_inner_log)\n",
    "print(\"-\" * 60)\n"
   ]
  },
  {
   "cell_type": "code",
   "execution_count": null,
   "id": "f3e8578d",
   "metadata": {},
   "outputs": [],
   "source": [
    "print(\"WOW! The 'Loyal Leader' with a 'left' merge:\")\n",
    "merged_left_log = pd.merge(sales_log, team_info_log, \n",
    "                           on='Team_ID', how='left')\n",
    "print(merged_left_log)\n",
    "print(\"-\" * 60)"
   ]
  },
  {
   "cell_type": "code",
   "execution_count": null,
   "id": "7fc3a365",
   "metadata": {},
   "outputs": [],
   "source": []
  }
 ],
 "metadata": {
  "kernelspec": {
   "display_name": "Python 3",
   "language": "python",
   "name": "python3"
  },
  "language_info": {
   "codemirror_mode": {
    "name": "ipython",
    "version": 3
   },
   "file_extension": ".py",
   "mimetype": "text/x-python",
   "name": "python",
   "nbconvert_exporter": "python",
   "pygments_lexer": "ipython3",
   "version": "3.12.5"
  }
 },
 "nbformat": 4,
 "nbformat_minor": 5
}
