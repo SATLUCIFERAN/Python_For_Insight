{
 "cells": [
  {
   "cell_type": "code",
   "execution_count": 2,
   "id": "0e75cbb6",
   "metadata": {},
   "outputs": [],
   "source": [
    "import pandas as pd\n",
    "import numpy as np\n",
    "\n",
    "expedition_data = pd.DataFrame({\n",
    "    'Expedition_ID': [1, 2, 3, 4],\n",
    "    'Altitude_m': [500, 1500, 250, 2000],\n",
    "    'Weather_Code': [1, 5, 2, 8] \n",
    "    # 1: Sunny, 5: Storm, 2: Cloudy, 8: Blizzard\n",
    "})"
   ]
  },
  {
   "cell_type": "code",
   "execution_count": 5,
   "id": "770dac1f",
   "metadata": {},
   "outputs": [],
   "source": [
    "def calculate_danger(row):\n",
    "    danger_level = 0\n",
    "    if row['Altitude_m'] > 1000:\n",
    "        danger_level += 2\n",
    "    if row['Weather_Code'] >= 5:\n",
    "        danger_level += 3\n",
    "    return danger_level"
   ]
  },
  {
   "cell_type": "code",
   "execution_count": 6,
   "id": "688f94ab",
   "metadata": {},
   "outputs": [
    {
     "name": "stdout",
     "output_type": "stream",
     "text": [
      "--- Original Expedition Data ---\n",
      "   Expedition_ID  Altitude_m  Weather_Code\n",
      "0              1         500             1\n",
      "1              2        1500             5\n",
      "2              3         250             2\n",
      "3              4        2000             8\n",
      "------------------------------------------------------------\n"
     ]
    }
   ],
   "source": [
    "print(\"--- Original Expedition Data ---\")\n",
    "print(expedition_data)\n",
    "print(\"-\" * 60)"
   ]
  },
  {
   "cell_type": "code",
   "execution_count": 7,
   "id": "040641e2",
   "metadata": {},
   "outputs": [
    {
     "name": "stdout",
     "output_type": "stream",
     "text": [
      "WOW! The new 'Danger_Level' column has been forged:\n",
      "   Expedition_ID  Altitude_m  Weather_Code  Danger_Level\n",
      "0              1         500             1             0\n",
      "1              2        1500             5             5\n",
      "2              3         250             2             0\n",
      "3              4        2000             8             5\n",
      "------------------------------------------------------------\n"
     ]
    }
   ],
   "source": [
    "expedition_data_enriched = expedition_data.assign(\n",
    "    Danger_Level=expedition_data.apply(calculate_danger, axis=1)\n",
    ")\n",
    "\n",
    "print(\"WOW! The new 'Danger_Level' column has been forged:\")\n",
    "print(expedition_data_enriched)\n",
    "print(\"-\" * 60)"
   ]
  },
  {
   "cell_type": "code",
   "execution_count": null,
   "id": "55044f75",
   "metadata": {},
   "outputs": [],
   "source": []
  }
 ],
 "metadata": {
  "kernelspec": {
   "display_name": "base",
   "language": "python",
   "name": "python3"
  },
  "language_info": {
   "codemirror_mode": {
    "name": "ipython",
    "version": 3
   },
   "file_extension": ".py",
   "mimetype": "text/x-python",
   "name": "python",
   "nbconvert_exporter": "python",
   "pygments_lexer": "ipython3",
   "version": "3.13.5"
  }
 },
 "nbformat": 4,
 "nbformat_minor": 5
}
