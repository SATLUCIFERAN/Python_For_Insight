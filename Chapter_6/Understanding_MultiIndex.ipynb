{
 "cells": [
  {
   "cell_type": "code",
   "execution_count": 1,
   "id": "3057cf9b",
   "metadata": {},
   "outputs": [],
   "source": [
    "import pandas as pd\n",
    "\n",
    "large_log = pd.DataFrame({\n",
    "    'Region': ['North', 'South', 'North', 'West', 'South',\n",
    "               'North', 'East', 'South', 'West', 'North', 'East', 'East'],\n",
    "    'Team': ['A', 'B', 'A', 'C', 'B', 'A', 'D', 'B', 'C', 'A', 'D', 'D'],\n",
    "    'Sales': [150, 200, 180, 100, 220, 160, 250, 190, 140, 170, 260, 240]\n",
    "})"
   ]
  },
  {
   "cell_type": "code",
   "execution_count": 2,
   "id": "1146abd8",
   "metadata": {},
   "outputs": [
    {
     "name": "stdout",
     "output_type": "stream",
     "text": [
      "--- MultiIndex DataFrame ---\n",
      "             Sales\n",
      "Region Team       \n",
      "East   D       750\n",
      "North  A       660\n",
      "South  B       610\n",
      "West   C       240\n",
      "------------------------------------------------------------\n"
     ]
    }
   ],
   "source": [
    "multi_index_df = large_log.groupby(['Region', 'Team'])['Sales'].\\\n",
    "                           sum().to_frame()\n",
    "\n",
    "print(\"--- MultiIndex DataFrame ---\")\n",
    "print(multi_index_df)\n",
    "print(\"-\" * 60)"
   ]
  },
  {
   "cell_type": "code",
   "execution_count": 3,
   "id": "8ee4abef",
   "metadata": {},
   "outputs": [
    {
     "name": "stdout",
     "output_type": "stream",
     "text": [
      "WOW! Total sales for Team A in the North region:\n",
      "Sales    660\n",
      "Name: (North, A), dtype: int64\n",
      "------------------------------------------------------------\n"
     ]
    }
   ],
   "source": [
    "print(\"WOW! Total sales for Team A in the North region:\")\n",
    "print(multi_index_df.loc[('North', 'A')])\n",
    "print(\"-\" * 60)"
   ]
  },
  {
   "cell_type": "code",
   "execution_count": null,
   "id": "713547b7",
   "metadata": {},
   "outputs": [],
   "source": []
  }
 ],
 "metadata": {
  "kernelspec": {
   "display_name": "base",
   "language": "python",
   "name": "python3"
  },
  "language_info": {
   "codemirror_mode": {
    "name": "ipython",
    "version": 3
   },
   "file_extension": ".py",
   "mimetype": "text/x-python",
   "name": "python",
   "nbconvert_exporter": "python",
   "pygments_lexer": "ipython3",
   "version": "3.13.5"
  }
 },
 "nbformat": 4,
 "nbformat_minor": 5
}
