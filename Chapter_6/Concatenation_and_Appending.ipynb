{
 "cells": [
  {
   "cell_type": "code",
   "execution_count": 2,
   "id": "48ea2d60",
   "metadata": {},
   "outputs": [],
   "source": [
    "import pandas as pd\n",
    "\n",
    "team_alpha_week1 = pd.DataFrame({\n",
    "    'Region': ['North', 'South'],\n",
    "    'Date': ['2023-01-01', '2023-01-02'],\n",
    "    'Observations': ['Clear skies', 'High winds']\n",
    "})"
   ]
  },
  {
   "cell_type": "code",
   "execution_count": 3,
   "id": "2a752c93",
   "metadata": {},
   "outputs": [],
   "source": [
    "team_alpha_week2 = pd.DataFrame({\n",
    "    'Region': ['East', 'West'],\n",
    "    'Date': ['2023-01-08', '2023-01-09'],\n",
    "    'Observations': ['Heavy rain', 'Seismic activity']\n",
    "})"
   ]
  },
  {
   "cell_type": "code",
   "execution_count": 4,
   "id": "9c529a8b",
   "metadata": {},
   "outputs": [
    {
     "name": "stdout",
     "output_type": "stream",
     "text": [
      "--- Team Alpha Log (Week 1) ---\n",
      "  Region        Date Observations\n",
      "0  North  2023-01-01  Clear skies\n",
      "1  South  2023-01-02   High winds\n",
      "------------------------------\n",
      "--- Team Alpha Log (Week 2) ---\n",
      "  Region        Date      Observations\n",
      "0   East  2023-01-08        Heavy rain\n",
      "1   West  2023-01-09  Seismic activity\n",
      "------------------------------------------------------------\n"
     ]
    }
   ],
   "source": [
    "print(\"--- Team Alpha Log (Week 1) ---\")\n",
    "print(team_alpha_week1)\n",
    "print(\"-\" * 30)\n",
    "\n",
    "print(\"--- Team Alpha Log (Week 2) ---\")\n",
    "print(team_alpha_week2)\n",
    "print(\"-\" * 60)\n"
   ]
  },
  {
   "cell_type": "code",
   "execution_count": 7,
   "id": "71549922",
   "metadata": {},
   "outputs": [
    {
     "name": "stdout",
     "output_type": "stream",
     "text": [
      "WOW! The Unified Expedition Log for Team Alpha:\n",
      "  Region        Date      Observations\n",
      "0  North  2023-01-01       Clear skies\n",
      "1  South  2023-01-02        High winds\n",
      "2   East  2023-01-08        Heavy rain\n",
      "3   West  2023-01-09  Seismic activity\n",
      "------------------------------------------------------------\n"
     ]
    }
   ],
   "source": [
    "full_expedition_log = pd.concat([team_alpha_week1, team_alpha_week2],\n",
    "                                 ignore_index=True)\n",
    "print(\"WOW! The Unified Expedition Log for Team Alpha:\")\n",
    "print(full_expedition_log)\n",
    "print(\"-\" * 60)"
   ]
  },
  {
   "cell_type": "code",
   "execution_count": null,
   "id": "11b65f27",
   "metadata": {},
   "outputs": [],
   "source": []
  }
 ],
 "metadata": {
  "kernelspec": {
   "display_name": "base",
   "language": "python",
   "name": "python3"
  },
  "language_info": {
   "codemirror_mode": {
    "name": "ipython",
    "version": 3
   },
   "file_extension": ".py",
   "mimetype": "text/x-python",
   "name": "python",
   "nbconvert_exporter": "python",
   "pygments_lexer": "ipython3",
   "version": "3.13.5"
  }
 },
 "nbformat": 4,
 "nbformat_minor": 5
}
