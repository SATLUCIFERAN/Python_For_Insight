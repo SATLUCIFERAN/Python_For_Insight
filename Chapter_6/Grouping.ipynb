{
 "cells": [
  {
   "cell_type": "code",
   "execution_count": 1,
   "id": "3f7765b2",
   "metadata": {},
   "outputs": [],
   "source": [
    "import pandas as pd\n",
    "\n",
    "large_log = pd.DataFrame({\n",
    "    'Region': ['North', 'South', 'North', 'West', 'South', 'North',\n",
    "               'East', 'South', 'West', 'North', 'East', 'East'],\n",
    "    'Product': ['Gears', 'Ropes', 'Gears', 'Pulleys', 'Ropes', 'Gears',\n",
    "                'Compass', 'Ropes', 'Gears', 'Pulleys', 'Compass', 'Compass'],\n",
    "    'Sales': [150, 200, 180, 100, 220, 160, 250, 190, 140, 170, 260, 240]\n",
    "})"
   ]
  },
  {
   "cell_type": "code",
   "execution_count": 2,
   "id": "c19db1c4",
   "metadata": {},
   "outputs": [
    {
     "name": "stdout",
     "output_type": "stream",
     "text": [
      "--- Our Large Expedition Log ---\n",
      "   Region  Product  Sales\n",
      "0   North    Gears    150\n",
      "1   South    Ropes    200\n",
      "2   North    Gears    180\n",
      "3    West  Pulleys    100\n",
      "4   South    Ropes    220\n",
      "5   North    Gears    160\n",
      "6    East  Compass    250\n",
      "7   South    Ropes    190\n",
      "8    West    Gears    140\n",
      "9   North  Pulleys    170\n",
      "10   East  Compass    260\n",
      "11   East  Compass    240\n",
      "------------------------------------------------------------\n"
     ]
    }
   ],
   "source": [
    "print(\"--- Our Large Expedition Log ---\")\n",
    "print(large_log)\n",
    "print(\"-\" * 60)"
   ]
  },
  {
   "cell_type": "code",
   "execution_count": 3,
   "id": "5bfcb74b",
   "metadata": {},
   "outputs": [
    {
     "name": "stdout",
     "output_type": "stream",
     "text": [
      "WOW! Total Sales for Each Region:\n",
      "Region\n",
      "East     750\n",
      "North    660\n",
      "South    610\n",
      "West     240\n",
      "Name: Sales, dtype: int64\n",
      "------------------------------------------------------------\n"
     ]
    }
   ],
   "source": [
    "total_sales_by_region = large_log.groupby('Region')['Sales'].sum()\n",
    "print(\"WOW! Total Sales for Each Region:\")\n",
    "print(total_sales_by_region)\n",
    "print(\"-\" * 60)"
   ]
  },
  {
   "cell_type": "code",
   "execution_count": 4,
   "id": "cb0411d6",
   "metadata": {},
   "outputs": [
    {
     "name": "stdout",
     "output_type": "stream",
     "text": [
      "WOW! Average Sales for Each Product:\n",
      "Product\n",
      "Compass    250.000000\n",
      "Gears      157.500000\n",
      "Pulleys    135.000000\n",
      "Ropes      203.333333\n",
      "Name: Sales, dtype: float64\n",
      "------------------------------------------------------------\n"
     ]
    }
   ],
   "source": [
    "average_sales_by_product = large_log.groupby('Product')['Sales'].mean()\n",
    "print(\"WOW! Average Sales for Each Product:\")\n",
    "print(average_sales_by_product)\n",
    "print(\"-\" * 60)"
   ]
  },
  {
   "cell_type": "code",
   "execution_count": null,
   "id": "a862717f",
   "metadata": {},
   "outputs": [],
   "source": []
  }
 ],
 "metadata": {
  "kernelspec": {
   "display_name": "base",
   "language": "python",
   "name": "python3"
  },
  "language_info": {
   "codemirror_mode": {
    "name": "ipython",
    "version": 3
   },
   "file_extension": ".py",
   "mimetype": "text/x-python",
   "name": "python",
   "nbconvert_exporter": "python",
   "pygments_lexer": "ipython3",
   "version": "3.13.5"
  }
 },
 "nbformat": 4,
 "nbformat_minor": 5
}
