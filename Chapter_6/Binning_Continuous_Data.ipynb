{
 "cells": [
  {
   "cell_type": "code",
   "execution_count": 2,
   "id": "a0e74de3",
   "metadata": {},
   "outputs": [],
   "source": [
    "import pandas as pd\n",
    "import numpy as np\n",
    "\n",
    "sales_data = pd.DataFrame({\n",
    "    'Team_ID': [1, 2, 3, 4, 5, 6, 7],\n",
    "    'Total_Sales': [1200, 4500, 2800, 6100, 500, 3500, 8000]\n",
    "})\n"
   ]
  },
  {
   "cell_type": "code",
   "execution_count": 4,
   "id": "2cb94b72",
   "metadata": {},
   "outputs": [
    {
     "name": "stdout",
     "output_type": "stream",
     "text": [
      "--- Original Sales Data ---\n",
      "   Team_ID  Total_Sales\n",
      "0        1         1200\n",
      "1        2         4500\n",
      "2        3         2800\n",
      "3        4         6100\n",
      "4        5          500\n",
      "5        6         3500\n",
      "6        7         8000\n",
      "------------------------------------------------------------\n"
     ]
    }
   ],
   "source": [
    "bins = [0, 2000, 4000, 6000, np.inf]\n",
    "labels = ['Low Sales', 'Medium Sales', 'High Sales', 'Expert Sales']\n",
    "\n",
    "print(\"--- Original Sales Data ---\")\n",
    "print(sales_data)\n",
    "print(\"-\" * 60)"
   ]
  },
  {
   "cell_type": "code",
   "execution_count": null,
   "id": "01d4ef78",
   "metadata": {},
   "outputs": [
    {
     "name": "stdout",
     "output_type": "stream",
     "text": [
      "WOW! The sales data has been magically categorized into tiers:\n",
      "   Team_ID  Total_Sales    Sales_Tier\n",
      "0        1         1200     Low Sales\n",
      "1        2         4500    High Sales\n",
      "2        3         2800  Medium Sales\n",
      "3        4         6100  Expert Sales\n",
      "4        5          500     Low Sales\n",
      "5        6         3500  Medium Sales\n",
      "6        7         8000  Expert Sales\n",
      "------------------------------------------------------------\n"
     ]
    }
   ],
   "source": [
    "sales_data['Sales_Tier'] = pd.cut(sales_data['Total_Sales'],\n",
    "                                  bins=bins, labels=labels)\n",
    "\n",
    "print(\"WOW! The sales data has been magically categorized into tiers:\")\n",
    "print(sales_data)\n",
    "print(\"-\" * 60)"
   ]
  },
  {
   "cell_type": "code",
   "execution_count": null,
   "id": "46451290",
   "metadata": {},
   "outputs": [],
   "source": []
  }
 ],
 "metadata": {
  "kernelspec": {
   "display_name": "base",
   "language": "python",
   "name": "python3"
  },
  "language_info": {
   "codemirror_mode": {
    "name": "ipython",
    "version": 3
   },
   "file_extension": ".py",
   "mimetype": "text/x-python",
   "name": "python",
   "nbconvert_exporter": "python",
   "pygments_lexer": "ipython3",
   "version": "3.13.5"
  }
 },
 "nbformat": 4,
 "nbformat_minor": 5
}
