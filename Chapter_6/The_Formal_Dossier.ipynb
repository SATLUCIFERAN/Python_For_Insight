{
 "cells": [
  {
   "cell_type": "code",
   "execution_count": null,
   "id": "4ac60c4a",
   "metadata": {},
   "outputs": [],
   "source": [
    "! pip install xlsxwriter"
   ]
  },
  {
   "cell_type": "code",
   "execution_count": 26,
   "id": "0cfb9521",
   "metadata": {},
   "outputs": [],
   "source": [
    "import pandas as pd\n",
    "import numpy as np\n",
    "import xlsxwriter \n",
    "\n",
    "summary_data = pd.DataFrame({\n",
    "    'Team': ['Alpha', 'Beta', 'Gamma', 'Delta'],\n",
    "    'Sales_Total': [4500, 5800, 3100, 6200],\n",
    "    'Expeditions': [10, 12, 8, 15],\n",
    "    'Success_Rate': [0.90, 0.85, 0.75, 0.95]\n",
    "})"
   ]
  },
  {
   "cell_type": "code",
   "execution_count": 27,
   "id": "a0d3e5ab",
   "metadata": {},
   "outputs": [
    {
     "name": "stdout",
     "output_type": "stream",
     "text": [
      "--- The Unstyled Summary Data ---\n",
      "    Team  Sales_Total  Expeditions  Success_Rate\n",
      "0  Alpha         4500           10          0.90\n",
      "1   Beta         5800           12          0.85\n",
      "2  Gamma         3100            8          0.75\n",
      "3  Delta         6200           15          0.95\n",
      "------------------------------------------------------------\n"
     ]
    }
   ],
   "source": [
    "print(\"--- The Unstyled Summary Data ---\")\n",
    "print(summary_data)\n",
    "print(\"-\" * 60)"
   ]
  },
  {
   "cell_type": "code",
   "execution_count": 29,
   "id": "32ab64c3",
   "metadata": {},
   "outputs": [],
   "source": [
    "def starify(val):\n",
    "    \"\"\"Converts a success rate (0-1) into a string of up to 5 stars.\"\"\"\n",
    "    num_stars = int(val * 5) # Scale to 5 stars, truncate decimals\n",
    "    return '★' * num_stars"
   ]
  },
  {
   "cell_type": "code",
   "execution_count": 30,
   "id": "ba03a384",
   "metadata": {},
   "outputs": [
    {
     "name": "stdout",
     "output_type": "stream",
     "text": [
      "\n",
      "--- Summary Data with New Yellow Emoji Visual Column ---\n",
      "    Team  Sales_Total  Expeditions  Success_Rate Success_Rating_Visual\n",
      "0  Alpha         4500           10          0.90                  ★★★★\n",
      "1   Beta         5800           12          0.85                  ★★★★\n",
      "2  Gamma         3100            8          0.75                   ★★★\n",
      "3  Delta         6200           15          0.95                  ★★★★\n",
      "------------------------------------------------------------\n"
     ]
    }
   ],
   "source": [
    "summary_data['Success_Rating_Visual'] = summary_data['Success_Rate'].apply(starify)\n",
    "\n",
    "print(\"\\n--- Summary Data with New Yellow Emoji Visual Column ---\")\n",
    "print(summary_data)\n",
    "print(\"-\" * 60)"
   ]
  },
  {
   "cell_type": "code",
   "execution_count": 34,
   "id": "2a2ba0ed",
   "metadata": {},
   "outputs": [
    {
     "name": "stdout",
     "output_type": "stream",
     "text": [
      "✅ Excel report created: 'styled_report.xlsx' — open it to see colored stars, data bars, and highlights!\n"
     ]
    }
   ],
   "source": [
    "try:\n",
    "  with pd.ExcelWriter('styled_report.xlsx', engine='xlsxwriter') as writer:    \n",
    "    summary_data.to_excel(writer, sheet_name='Report', index=False)\n",
    "\n",
    "    # 1) Write the raw data (including the emoji column) to Excel\n",
    "    workbook = writer.book\n",
    "    worksheet = writer.sheets['Report']\n",
    "    num_rows = len(summary_data)\n",
    "\n",
    "    # 2) Highlight the max Sales_Total\n",
    "    max_idx = summary_data['Sales_Total'].idxmax()\n",
    "    fmt_max = workbook.add_format({'bg_color': '#C6EFCE', 'bold': True})\n",
    "    worksheet.write(max_idx + 1, 1, summary_data.loc[max_idx, 'Sales_Total'],\n",
    "                                                     fmt_max)\n",
    "\n",
    "    # 3) Add a data bar to Sales_Total    \n",
    "    worksheet.conditional_format(f'B2:B{num_rows+1}', {'type': 'data_bar'})\n",
    "\n",
    "    # 4) Apply number formats    \n",
    "    money_fmt  = workbook.add_format({'num_format': '$#,##0'})\n",
    "    percent_fmt = workbook.add_format({'num_format': '0.0%'})\n",
    "    worksheet.set_column('B:B', None, money_fmt)  # Sales_Total\n",
    "    worksheet.set_column('D:D', None, percent_fmt) # Success_Rate\n",
    "\n",
    "    # 5) Overwrite the 'Success_Rating_Visual' column with colored ★ stars\n",
    "    #  This replaces the black emoji with gilted stars in gold.\n",
    "    star_fmt = workbook.add_format({'font_color': '#FFD700', 'bold': True})    \n",
    "    for row, rate in enumerate(summary_data['Success_Rate'], start=1):\n",
    "      stars = '★' * int(rate * 5)\n",
    "      worksheet.write_string(row, 4, stars, star_fmt)\n",
    "\n",
    "  print(\"✅ Excel report created: 'styled_report.xlsx' — open it to see colored stars, data bars, and highlights!\")\n",
    "except Exception as e: print(f\"An error occurred during Excel export: {e}\")"
   ]
  },
  {
   "cell_type": "code",
   "execution_count": null,
   "id": "527c2c89",
   "metadata": {},
   "outputs": [],
   "source": []
  }
 ],
 "metadata": {
  "kernelspec": {
   "display_name": "base",
   "language": "python",
   "name": "python3"
  },
  "language_info": {
   "codemirror_mode": {
    "name": "ipython",
    "version": 3
   },
   "file_extension": ".py",
   "mimetype": "text/x-python",
   "name": "python",
   "nbconvert_exporter": "python",
   "pygments_lexer": "ipython3",
   "version": "3.13.5"
  }
 },
 "nbformat": 4,
 "nbformat_minor": 5
}
