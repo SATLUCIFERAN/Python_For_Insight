{
 "cells": [
  {
   "cell_type": "code",
   "execution_count": 1,
   "id": "ad0a0d7a",
   "metadata": {},
   "outputs": [
    {
     "name": "stdout",
     "output_type": "stream",
     "text": [
      "Emotional status: Neutral. Further observation is required.\n"
     ]
    }
   ],
   "source": [
    "# Our sensor's reading, represented as an integer\n",
    "emotional_score = 3\n",
    "\n",
    "if emotional_score >= 4:\n",
    "    # First condition: is the score 4 or 5?\n",
    "    print(\"Emotional status: Joyful. Hypothesis: Our treatment is a success!\")\n",
    "elif emotional_score == 3:\n",
    "    # Second condition: if not joyful, is it exactly 3?\n",
    "    print(\"Emotional status: Neutral. Further observation is required.\")\n",
    "else:\n",
    "    # The default path: if it's not joyful or neutral, it must be negative.\n",
    "    print(\"Emotional status: Discontent. We need to check our variables again.\")"
   ]
  },
  {
   "cell_type": "code",
   "execution_count": null,
   "id": "e3ce90e6",
   "metadata": {},
   "outputs": [],
   "source": []
  }
 ],
 "metadata": {
  "kernelspec": {
   "display_name": "base",
   "language": "python",
   "name": "python3"
  },
  "language_info": {
   "codemirror_mode": {
    "name": "ipython",
    "version": 3
   },
   "file_extension": ".py",
   "mimetype": "text/x-python",
   "name": "python",
   "nbconvert_exporter": "python",
   "pygments_lexer": "ipython3",
   "version": "3.13.5"
  }
 },
 "nbformat": 4,
 "nbformat_minor": 5
}
