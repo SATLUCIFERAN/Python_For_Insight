{
 "cells": [
  {
   "cell_type": "code",
   "execution_count": 1,
   "id": "121dded2",
   "metadata": {},
   "outputs": [
    {
     "name": "stdout",
     "output_type": "stream",
     "text": [
      "Observation confirmed: Bacterial growth detected. Proceed to analysis phase.\n",
      "Recording a negative result. Protocol complete.\n"
     ]
    }
   ],
   "source": [
    "# Our current lab observation. Is there bacterial growth?\n",
    "bacterial_growth = True\n",
    "\n",
    "# The program checks our observation.\n",
    "if bacterial_growth:\n",
    "    print(\"Observation confirmed: Bacterial growth detected. Proceed to analysis phase.\")\n",
    "\n",
    "# What happens if there was no growth?\n",
    "bacterial_growth = False\n",
    "\n",
    "if bacterial_growth:\n",
    "    # This entire block is ignored because the condition is False.\n",
    "    print(\"Observation confirmed: Bacterial growth detected.\")\n",
    "\n",
    "print(\"Recording a negative result. Protocol complete.\")"
   ]
  },
  {
   "cell_type": "code",
   "execution_count": null,
   "id": "1f588186",
   "metadata": {},
   "outputs": [],
   "source": []
  }
 ],
 "metadata": {
  "kernelspec": {
   "display_name": "base",
   "language": "python",
   "name": "python3"
  },
  "language_info": {
   "codemirror_mode": {
    "name": "ipython",
    "version": 3
   },
   "file_extension": ".py",
   "mimetype": "text/x-python",
   "name": "python",
   "nbconvert_exporter": "python",
   "pygments_lexer": "ipython3",
   "version": "3.13.5"
  }
 },
 "nbformat": 4,
 "nbformat_minor": 5
}
