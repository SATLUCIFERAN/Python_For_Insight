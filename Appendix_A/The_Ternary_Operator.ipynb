{
 "cells": [
  {
   "cell_type": "code",
   "execution_count": 1,
   "id": "12b5421a",
   "metadata": {},
   "outputs": [
    {
     "name": "stdout",
     "output_type": "stream",
     "text": [
      "The sample status is: Healthy\n"
     ]
    }
   ],
   "source": [
    "bacterial_count = 250\n",
    "sample_status = \"Healthy\" if bacterial_count > 100 else \"Compromised\"\n",
    "\n",
    "print(f\"The sample status is: {sample_status}\")\n",
    "\n",
    "# Output will be:\n",
    "# The sample status is: Healthy\n"
   ]
  },
  {
   "cell_type": "code",
   "execution_count": null,
   "id": "17e7e64f",
   "metadata": {},
   "outputs": [],
   "source": []
  }
 ],
 "metadata": {
  "kernelspec": {
   "display_name": "base",
   "language": "python",
   "name": "python3"
  },
  "language_info": {
   "codemirror_mode": {
    "name": "ipython",
    "version": 3
   },
   "file_extension": ".py",
   "mimetype": "text/x-python",
   "name": "python",
   "nbconvert_exporter": "python",
   "pygments_lexer": "ipython3",
   "version": "3.13.5"
  }
 },
 "nbformat": 4,
 "nbformat_minor": 5
}
