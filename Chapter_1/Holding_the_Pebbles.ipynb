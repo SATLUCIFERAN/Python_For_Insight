{
 "cells": [
  {
   "cell_type": "code",
   "execution_count": 2,
   "id": "6b44a806-a504-487e-a4f0-049530e4e87d",
   "metadata": {},
   "outputs": [],
   "source": [
    "import pandas as pd"
   ]
  },
  {
   "cell_type": "code",
   "execution_count": 3,
   "id": "6c343585-bb74-469c-b3a2-87be5c6769f1",
   "metadata": {},
   "outputs": [],
   "source": [
    "import numpy as np"
   ]
  },
  {
   "cell_type": "code",
   "execution_count": 5,
   "id": "add6be58-5a0a-49b9-9b76-8e4c812f323b",
   "metadata": {},
   "outputs": [
    {
     "name": "stdout",
     "output_type": "stream",
     "text": [
      "NumPy array: [1 2 3 4 5]\n"
     ]
    }
   ],
   "source": [
    "numbers_array = np.array([1, 2, 3, 4, 5])\n",
    "print(\"NumPy array:\", numbers_array)"
   ]
  },
  {
   "cell_type": "code",
   "execution_count": 6,
   "id": "559471f7-76df-4855-91f4-c6e96d18316c",
   "metadata": {},
   "outputs": [
    {
     "name": "stdout",
     "output_type": "stream",
     "text": [
      "Sum of array elements: 15\n",
      "Average of array elements: 3.0\n"
     ]
    }
   ],
   "source": [
    "print(\"Sum of array elements:\", np.sum(numbers_array))\n",
    "print(\"Average of array elements:\", np.mean(numbers_array))"
   ]
  },
  {
   "cell_type": "code",
   "execution_count": 7,
   "id": "d7a41075-cbc4-4b58-9f2d-4db28a9c855a",
   "metadata": {},
   "outputs": [],
   "source": [
    "import matplotlib.pyplot as plt \n",
    "import seaborn as sns "
   ]
  },
  {
   "cell_type": "code",
   "execution_count": null,
   "id": "575bda06-81c3-4092-ae52-53623a035fb5",
   "metadata": {},
   "outputs": [],
   "source": []
  },
  {
   "cell_type": "code",
   "execution_count": 8,
   "id": "39f865e3-4b57-4883-a27d-875e83a86e2c",
   "metadata": {},
   "outputs": [],
   "source": [
    "file_path = 'movie_ratings.csv'\n",
    "df_movies = pd.read_csv(file_path)"
   ]
  },
  {
   "cell_type": "code",
   "execution_count": 9,
   "id": "6fcca48e-127a-4fa0-a3aa-776e4087c7b1",
   "metadata": {},
   "outputs": [
    {
     "data": {
      "text/html": [
       "<div>\n",
       "<style scoped>\n",
       "    .dataframe tbody tr th:only-of-type {\n",
       "        vertical-align: middle;\n",
       "    }\n",
       "\n",
       "    .dataframe tbody tr th {\n",
       "        vertical-align: top;\n",
       "    }\n",
       "\n",
       "    .dataframe thead th {\n",
       "        text-align: right;\n",
       "    }\n",
       "</style>\n",
       "<table border=\"1\" class=\"dataframe\">\n",
       "  <thead>\n",
       "    <tr style=\"text-align: right;\">\n",
       "      <th></th>\n",
       "      <th>user_id</th>\n",
       "      <th>movie_title</th>\n",
       "      <th>genre</th>\n",
       "      <th>rating</th>\n",
       "      <th>watch_duration_minutes</th>\n",
       "      <th>day_of_week</th>\n",
       "      <th>watch_time_hour</th>\n",
       "    </tr>\n",
       "  </thead>\n",
       "  <tbody>\n",
       "    <tr>\n",
       "      <th>0</th>\n",
       "      <td>101</td>\n",
       "      <td>The Haunting of Hill House</td>\n",
       "      <td>Horror</td>\n",
       "      <td>8</td>\n",
       "      <td>75</td>\n",
       "      <td>Friday</td>\n",
       "      <td>23</td>\n",
       "    </tr>\n",
       "    <tr>\n",
       "      <th>1</th>\n",
       "      <td>102</td>\n",
       "      <td>Space Odyssey</td>\n",
       "      <td>Sci-Fi</td>\n",
       "      <td>9</td>\n",
       "      <td>140</td>\n",
       "      <td>Saturday</td>\n",
       "      <td>20</td>\n",
       "    </tr>\n",
       "    <tr>\n",
       "      <th>2</th>\n",
       "      <td>101</td>\n",
       "      <td>Comedy Central Special</td>\n",
       "      <td>Comedy</td>\n",
       "      <td>7</td>\n",
       "      <td>45</td>\n",
       "      <td>Friday</td>\n",
       "      <td>22</td>\n",
       "    </tr>\n",
       "    <tr>\n",
       "      <th>3</th>\n",
       "      <td>103</td>\n",
       "      <td>Ancient Aliens</td>\n",
       "      <td>Documentary</td>\n",
       "      <td>6</td>\n",
       "      <td>90</td>\n",
       "      <td>Tuesday</td>\n",
       "      <td>19</td>\n",
       "    </tr>\n",
       "    <tr>\n",
       "      <th>4</th>\n",
       "      <td>101</td>\n",
       "      <td>The Exorcist</td>\n",
       "      <td>Horror</td>\n",
       "      <td>9</td>\n",
       "      <td>120</td>\n",
       "      <td>Friday</td>\n",
       "      <td>0</td>\n",
       "    </tr>\n",
       "  </tbody>\n",
       "</table>\n",
       "</div>"
      ],
      "text/plain": [
       "   user_id                 movie_title        genre  rating  \\\n",
       "0      101  The Haunting of Hill House       Horror       8   \n",
       "1      102               Space Odyssey       Sci-Fi       9   \n",
       "2      101      Comedy Central Special       Comedy       7   \n",
       "3      103              Ancient Aliens  Documentary       6   \n",
       "4      101                The Exorcist       Horror       9   \n",
       "\n",
       "   watch_duration_minutes day_of_week  watch_time_hour  \n",
       "0                      75      Friday               23  \n",
       "1                     140    Saturday               20  \n",
       "2                      45      Friday               22  \n",
       "3                      90     Tuesday               19  \n",
       "4                     120      Friday                0  "
      ]
     },
     "execution_count": 9,
     "metadata": {},
     "output_type": "execute_result"
    }
   ],
   "source": [
    "df_movies.head()"
   ]
  },
  {
   "cell_type": "code",
   "execution_count": 10,
   "id": "d48c6929-f852-46af-ab10-4fbc5c83c3ce",
   "metadata": {},
   "outputs": [
    {
     "name": "stdout",
     "output_type": "stream",
     "text": [
      "<class 'pandas.core.frame.DataFrame'>\n",
      "RangeIndex: 8 entries, 0 to 7\n",
      "Data columns (total 7 columns):\n",
      " #   Column                  Non-Null Count  Dtype \n",
      "---  ------                  --------------  ----- \n",
      " 0   user_id                 8 non-null      int64 \n",
      " 1   movie_title             8 non-null      object\n",
      " 2   genre                   8 non-null      object\n",
      " 3   rating                  8 non-null      int64 \n",
      " 4   watch_duration_minutes  8 non-null      int64 \n",
      " 5   day_of_week             8 non-null      object\n",
      " 6   watch_time_hour         8 non-null      int64 \n",
      "dtypes: int64(4), object(3)\n",
      "memory usage: 580.0+ bytes\n"
     ]
    }
   ],
   "source": [
    "df_movies.info()"
   ]
  },
  {
   "cell_type": "code",
   "execution_count": 11,
   "id": "d9ca323d-fe07-4400-8834-38c67026e254",
   "metadata": {},
   "outputs": [
    {
     "data": {
      "text/plain": [
       "(8, 7)"
      ]
     },
     "execution_count": 11,
     "metadata": {},
     "output_type": "execute_result"
    }
   ],
   "source": [
    "df_movies.shape"
   ]
  },
  {
   "cell_type": "code",
   "execution_count": 15,
   "id": "a75fa7c4-9e7b-4059-8552-4875477abb74",
   "metadata": {},
   "outputs": [
    {
     "name": "stdout",
     "output_type": "stream",
     "text": [
      "Friday Binge Sessions:\n",
      "   user_id                 movie_title   genre  rating  \\\n",
      "0      101  The Haunting of Hill House  Horror       8   \n",
      "4      101                The Exorcist  Horror       9   \n",
      "7      101              Spooky Mansion  Horror       7   \n",
      "\n",
      "   watch_duration_minutes day_of_week  watch_time_hour  \n",
      "0                      75      Friday               23  \n",
      "4                     120      Friday                0  \n",
      "7                      80      Friday                1  \n"
     ]
    }
   ],
   "source": [
    "friday_binges = df_movies[(df_movies['day_of_week'] == 'Friday') &\n",
    "                          (df_movies['watch_duration_minutes'] > 60)]\n",
    "\n",
    "print(\"Friday Binge Sessions:\")\n",
    "print(friday_binges)"
   ]
  },
  {
   "cell_type": "code",
   "execution_count": 16,
   "id": "e0d23843-bd51-43d1-8104-8e8e35034218",
   "metadata": {},
   "outputs": [
    {
     "name": "stdout",
     "output_type": "stream",
     "text": [
      "\n",
      "Genre Counts for Friday Binge Sessions:\n",
      "genre\n",
      "Horror    3\n",
      "Name: count, dtype: int64\n"
     ]
    }
   ],
   "source": [
    "# Count how many times each genre appears in our filtered data\n",
    "genre_counts = friday_binges['genre'].value_counts()\n",
    "print(\"\\nGenre Counts for Friday Binge Sessions:\")\n",
    "print(genre_counts)"
   ]
  },
  {
   "cell_type": "code",
   "execution_count": null,
   "id": "275e3ff3-2b0d-4c4f-bfdf-3393d4a60645",
   "metadata": {},
   "outputs": [],
   "source": []
  },
  {
   "cell_type": "code",
   "execution_count": null,
   "id": "4ab00ac9-0d2f-415a-9da8-c663819cac6a",
   "metadata": {},
   "outputs": [],
   "source": []
  },
  {
   "cell_type": "code",
   "execution_count": null,
   "id": "13e28d6f-b796-4b82-9407-19c65ffc1a3f",
   "metadata": {},
   "outputs": [],
   "source": []
  },
  {
   "cell_type": "code",
   "execution_count": null,
   "id": "5eb644fa-66af-49de-a03f-46a9ebb149a4",
   "metadata": {},
   "outputs": [],
   "source": []
  },
  {
   "cell_type": "code",
   "execution_count": null,
   "id": "43e5c476-2059-4742-8af1-1ee2f16d3c1c",
   "metadata": {},
   "outputs": [],
   "source": []
  },
  {
   "cell_type": "code",
   "execution_count": null,
   "id": "10f6c734-bc81-4681-87bb-701b4f0c1680",
   "metadata": {},
   "outputs": [],
   "source": []
  },
  {
   "cell_type": "code",
   "execution_count": null,
   "id": "9e137544-ef7f-4520-aa4a-7b93e5be6874",
   "metadata": {},
   "outputs": [],
   "source": []
  },
  {
   "cell_type": "code",
   "execution_count": null,
   "id": "1ec47fdf-f505-4fc2-b92d-adeb5415ab3b",
   "metadata": {},
   "outputs": [],
   "source": []
  }
 ],
 "metadata": {
  "kernelspec": {
   "display_name": "Python 3 (ipykernel)",
   "language": "python",
   "name": "python3"
  },
  "language_info": {
   "codemirror_mode": {
    "name": "ipython",
    "version": 3
   },
   "file_extension": ".py",
   "mimetype": "text/x-python",
   "name": "python",
   "nbconvert_exporter": "python",
   "pygments_lexer": "ipython3",
   "version": "3.13.5"
  }
 },
 "nbformat": 4,
 "nbformat_minor": 5
}
