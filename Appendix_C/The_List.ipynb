{
 "cells": [
  {
   "cell_type": "code",
   "execution_count": 1,
   "id": "c36e248d",
   "metadata": {},
   "outputs": [
    {
     "name": "stdout",
     "output_type": "stream",
     "text": [
      "Initial log: ['golden coin', 'obsidian knife']\n"
     ]
    }
   ],
   "source": [
    "expedition_log = [\"golden coin\", \"obsidian knife\"]\n",
    "print(f\"Initial log: {expedition_log}\")"
   ]
  },
  {
   "cell_type": "code",
   "execution_count": 2,
   "id": "780ef007",
   "metadata": {},
   "outputs": [
    {
     "name": "stdout",
     "output_type": "stream",
     "text": [
      "\n",
      "Log after new discovery: ['golden coin', 'obsidian knife', 'mysterious scroll']\n"
     ]
    }
   ],
   "source": [
    "expedition_log = [\"golden coin\", \"obsidian knife\"]\n",
    "\n",
    "expedition_log.append(\"mysterious scroll\")\n",
    "print(f\"\\nLog after new discovery: {expedition_log}\")"
   ]
  },
  {
   "cell_type": "code",
   "execution_count": 3,
   "id": "b98adc99",
   "metadata": {},
   "outputs": [
    {
     "name": "stdout",
     "output_type": "stream",
     "text": [
      "Log after fossil discovery: ['golden coin', 'rare fossil', 'obsidian knife']\n"
     ]
    }
   ],
   "source": [
    "expedition_log = [\"golden coin\", \"obsidian knife\"]\n",
    "\n",
    "expedition_log.insert(1, \"rare fossil\")\n",
    "print(f\"Log after fossil discovery: {expedition_log}\")"
   ]
  },
  {
   "cell_type": "code",
   "execution_count": 4,
   "id": "c9bf9678",
   "metadata": {},
   "outputs": [
    {
     "name": "stdout",
     "output_type": "stream",
     "text": [
      "Log after removing a fake: ['rare fossil', 'obsidian knife']\n"
     ]
    }
   ],
   "source": [
    "expedition_log = [\"golden coin\", \"rare fossil\", \"obsidian knife\"]\n",
    "\n",
    "expedition_log.remove(\"golden coin\")\n",
    "print(f\"Log after removing a fake: {expedition_log}\")"
   ]
  },
  {
   "cell_type": "code",
   "execution_count": 5,
   "id": "332a52ff",
   "metadata": {},
   "outputs": [
    {
     "name": "stdout",
     "output_type": "stream",
     "text": [
      "The first discovery was: ancient fang\n",
      "Our most recent discovery is: obsidian knife\n"
     ]
    }
   ],
   "source": [
    "expedition_log = [\"ancient fang\", \"rare fossil\", \"obsidian knife\"]\n",
    "\n",
    "print(f\"The first discovery was: {expedition_log[0]}\")\n",
    "print(f\"Our most recent discovery is: {expedition_log[-1]}\")"
   ]
  },
  {
   "cell_type": "code",
   "execution_count": 6,
   "id": "38488086",
   "metadata": {},
   "outputs": [
    {
     "name": "stdout",
     "output_type": "stream",
     "text": [
      "\n",
      "Middle section of the log: ['rare fossil', 'obsidian knife', 'rainbow jar']\n"
     ]
    }
   ],
   "source": [
    "expedition_log = [\"ancient fang\", \"rare fossil\", \"obsidian knife\",\n",
    "                  \"rainbow jar\", \"five_head spider\"]\n",
    "\n",
    "print(f\"\\nMiddle section of the log: {expedition_log[1:4]}\")"
   ]
  },
  {
   "cell_type": "code",
   "execution_count": 7,
   "id": "f1280b36",
   "metadata": {},
   "outputs": [
    {
     "name": "stdout",
     "output_type": "stream",
     "text": [
      "The log in reverse order: ['five_head spider', 'rainbow jar', 'obsidian knife', 'rare fossil', 'ancient fang']\n"
     ]
    }
   ],
   "source": [
    "expedition_log = [\"ancient fang\", \"rare fossil\", \"obsidian knife\",\n",
    "                  \"rainbow jar\", \"five_head spider\"]\n",
    "reversed_log = expedition_log[::-1]\n",
    "print(f\"The log in reverse order: {reversed_log}\")\n"
   ]
  },
  {
   "cell_type": "code",
   "execution_count": 8,
   "id": "7b88539e",
   "metadata": {},
   "outputs": [
    {
     "name": "stdout",
     "output_type": "stream",
     "text": [
      "Every other item from the log, in reverse: ['five_head spider', 'obsidian knife', 'ancient fang']\n"
     ]
    }
   ],
   "source": [
    "expedition_log = [\"ancient fang\", \"rare fossil\", \"obsidian knife\",\n",
    "                  \"rainbow jar\", \"five_head spider\"]\n",
    "every_other_item_reversed = expedition_log[::-2]\n",
    "print(\"Every other item from the log, in reverse: \"\n",
    "      f\"{every_other_item_reversed}\")"
   ]
  }
 ],
 "metadata": {
  "kernelspec": {
   "display_name": "base",
   "language": "python",
   "name": "python3"
  },
  "language_info": {
   "codemirror_mode": {
    "name": "ipython",
    "version": 3
   },
   "file_extension": ".py",
   "mimetype": "text/x-python",
   "name": "python",
   "nbconvert_exporter": "python",
   "pygments_lexer": "ipython3",
   "version": "3.13.5"
  }
 },
 "nbformat": 4,
 "nbformat_minor": 5
}
