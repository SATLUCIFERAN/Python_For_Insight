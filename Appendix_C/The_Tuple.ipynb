{
 "cells": [
  {
   "cell_type": "code",
   "execution_count": 18,
   "id": "d2dcf4f4",
   "metadata": {},
   "outputs": [
    {
     "name": "stdout",
     "output_type": "stream",
     "text": [
      "Recorded at: 2023-10-27T14:30:00\n",
      "Coordinates: (40.7128, -74.006)\n",
      "Temperature: 25.5°C\n"
     ]
    }
   ],
   "source": [
    "\n",
    "# A single data record from a sensor\n",
    "sensor_reading = ('2023-10-27T14:30:00', 40.7128, -74.0060, 25.5)\n",
    "timestamp, lat, lon, temp = sensor_reading\n",
    "\n",
    "print(f\"Recorded at: {timestamp}\")\n",
    "print(f\"Coordinates: ({lat}, {lon})\")\n",
    "print(f\"Temperature: {temp}°C\")"
   ]
  },
  {
   "cell_type": "code",
   "execution_count": null,
   "id": "51010e0d",
   "metadata": {},
   "outputs": [
    {
     "ename": "TypeError",
     "evalue": "'tuple' object does not support item assignment",
     "output_type": "error",
     "traceback": [
      "\u001b[1;31m---------------------------------------------------------------------------\u001b[0m",
      "\u001b[1;31mTypeError\u001b[0m                                 Traceback (most recent call last)",
      "Cell \u001b[1;32mIn[19], line 3\u001b[0m\n\u001b[0;32m      1\u001b[0m \u001b[38;5;66;03m# If we try to change a value, Python will stop us!\u001b[39;00m\n\u001b[0;32m      2\u001b[0m sensor_reading \u001b[38;5;241m=\u001b[39m (\u001b[38;5;124m'\u001b[39m\u001b[38;5;124m2023-10-27T14:30:00\u001b[39m\u001b[38;5;124m'\u001b[39m, \u001b[38;5;241m40.7128\u001b[39m, \u001b[38;5;241m-\u001b[39m\u001b[38;5;241m74.0060\u001b[39m, \u001b[38;5;241m25.5\u001b[39m)\n\u001b[1;32m----> 3\u001b[0m sensor_reading[\u001b[38;5;241m3\u001b[39m] \u001b[38;5;241m=\u001b[39m \u001b[38;5;241m26.0\u001b[39m\n\u001b[0;32m      4\u001b[0m \u001b[38;5;28mprint\u001b[39m(sensor_reading[\u001b[38;5;241m3\u001b[39m])\n",
      "\u001b[1;31mTypeError\u001b[0m: 'tuple' object does not support item assignment"
     ]
    }
   ],
   "source": [
    "# If we try to change a value, Python will stop us!\n",
    "\n",
    "sensor_reading = ('2023-10-27T14:30:00', 40.7128, -74.0060, 25.5)\n",
    "sensor_reading[3] = 26.0\n",
    "print(sensor_reading[3])\n"
   ]
  },
  {
   "cell_type": "code",
   "execution_count": null,
   "id": "1298b5ff",
   "metadata": {},
   "outputs": [
    {
     "name": "stdout",
     "output_type": "stream",
     "text": [
      "26.0\n"
     ]
    }
   ],
   "source": []
  },
  {
   "cell_type": "code",
   "execution_count": null,
   "id": "0738f7bd",
   "metadata": {},
   "outputs": [],
   "source": []
  }
 ],
 "metadata": {
  "kernelspec": {
   "display_name": "base",
   "language": "python",
   "name": "python3"
  },
  "language_info": {
   "codemirror_mode": {
    "name": "ipython",
    "version": 3
   },
   "file_extension": ".py",
   "mimetype": "text/x-python",
   "name": "python",
   "nbconvert_exporter": "python",
   "pygments_lexer": "ipython3",
   "version": "3.13.5"
  }
 },
 "nbformat": 4,
 "nbformat_minor": 5
}
