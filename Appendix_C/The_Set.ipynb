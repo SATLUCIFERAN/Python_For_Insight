{
 "cells": [
  {
   "cell_type": "code",
   "execution_count": 10,
   "id": "9b849f3a",
   "metadata": {},
   "outputs": [
    {
     "name": "stdout",
     "output_type": "stream",
     "text": [
      "\n",
      "Markers found at both sites: {'calcium', 'silicon'}\n",
      "\n",
      "Markers found only at Site A: {'magnesium', 'iron'}\n",
      "\n",
      "All unique markers from both sites:\n",
      "{'calcium', 'magnesium', 'aluminum', 'iron', 'silicon', 'oxygen'}\n"
     ]
    }
   ],
   "source": [
    "# Unique chemical markers from our two exploration sites\n",
    "\n",
    "site_a_markers = {\"magnesium\", \"silicon\", \"iron\", \"calcium\"}\n",
    "site_b_markers = {\"silicon\", \"aluminum\", \"calcium\", \"oxygen\"}\n",
    "\n",
    "# Find markers common to both sites (the intersection)\n",
    "common_markers = site_a_markers.intersection(site_b_markers)\n",
    "print(f\"\\nMarkers found at both sites: {common_markers}\")\n",
    "\n",
    "# Find markers unique to Site A (the difference)\n",
    "unique_to_a = site_a_markers.difference(site_b_markers)\n",
    "print(f\"\\nMarkers found only at Site A: {unique_to_a}\")\n",
    "\n",
    "# Find all unique markers across both sites (the union)\n",
    "all_markers = site_a_markers.union(site_b_markers)\n",
    "print(f\"\\nAll unique markers from both sites:\\n{all_markers}\")\n"
   ]
  },
  {
   "cell_type": "code",
   "execution_count": null,
   "id": "d79e4558",
   "metadata": {},
   "outputs": [],
   "source": []
  }
 ],
 "metadata": {
  "kernelspec": {
   "display_name": "base",
   "language": "python",
   "name": "python3"
  },
  "language_info": {
   "codemirror_mode": {
    "name": "ipython",
    "version": 3
   },
   "file_extension": ".py",
   "mimetype": "text/x-python",
   "name": "python",
   "nbconvert_exporter": "python",
   "pygments_lexer": "ipython3",
   "version": "3.13.5"
  }
 },
 "nbformat": 4,
 "nbformat_minor": 5
}
