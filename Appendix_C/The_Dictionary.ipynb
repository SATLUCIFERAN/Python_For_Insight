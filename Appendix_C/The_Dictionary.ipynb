{
 "cells": [
  {
   "cell_type": "code",
   "execution_count": 12,
   "id": "fd34bfb8",
   "metadata": {},
   "outputs": [
    {
     "name": "stdout",
     "output_type": "stream",
     "text": [
      "Status of the microscope: In use by Dr. Aris\n",
      "\n",
      "New status of the centrifuge: In use by Dr. Kim\n",
      "\n",
      "Updated inventory:\n",
      "{'microscope': 'In use by Dr. Aris', 'centrifuge': 'In use by Dr. Kim', 'thermal cycler': 'Scheduled for maintenance', 'pH meter': 'Available', 'fume hood': 'Available'}\n",
      "\n",
      "All equipment names: ['microscope', 'centrifuge', 'thermal cycler', 'pH meter', 'fume hood']\n",
      "All equipment statuses: ['In use by Dr. Aris', 'In use by Dr. Kim', 'Scheduled for maintenance', 'Available', 'Available']\n"
     ]
    }
   ],
   "source": [
    "# Our lab's inventory\n",
    "\n",
    "lab_inventory = {\n",
    "    \"microscope\": \"In use by Dr. Aris\",\n",
    "    \"centrifuge\": \"Available\",\n",
    "    \"thermal cycler\": \"Scheduled for maintenance\",\n",
    "    \"pH meter\": \"Available\"\n",
    "}\n",
    "\n",
    "# We can instantly retrieve an item's status using its key\n",
    "print(f\"Status of the microscope: {lab_inventory['microscope']}\")\n",
    "\n",
    "# We can easily update an item's status\n",
    "lab_inventory[\"centrifuge\"] = \"In use by Dr. Kim\"\n",
    "print(f\"\\nNew status of the centrifuge: {lab_inventory['centrifuge']}\")\n",
    "\n",
    "# We can even add a brand new item to the inventory\n",
    "lab_inventory[\"fume hood\"] = \"Available\"\n",
    "print(f\"\\nUpdated inventory:\\n{lab_inventory}\")\n",
    "\n",
    "#Retrieving all keys and values separately\n",
    "print(f\"\\nAll equipment names: {list(lab_inventory.keys())}\")\n",
    "print(f\"All equipment statuses: {list(lab_inventory.values())}\")\n"
   ]
  },
  {
   "cell_type": "code",
   "execution_count": null,
   "id": "5da26013",
   "metadata": {},
   "outputs": [],
   "source": []
  }
 ],
 "metadata": {
  "kernelspec": {
   "display_name": "base",
   "language": "python",
   "name": "python3"
  },
  "language_info": {
   "codemirror_mode": {
    "name": "ipython",
    "version": 3
   },
   "file_extension": ".py",
   "mimetype": "text/x-python",
   "name": "python",
   "nbconvert_exporter": "python",
   "pygments_lexer": "ipython3",
   "version": "3.13.5"
  }
 },
 "nbformat": 4,
 "nbformat_minor": 5
}
