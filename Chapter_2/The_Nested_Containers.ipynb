{
 "cells": [
  {
   "cell_type": "code",
   "execution_count": 5,
   "id": "349c93c4",
   "metadata": {},
   "outputs": [],
   "source": [
    "import pandas as pd\n",
    "import json"
   ]
  },
  {
   "cell_type": "code",
   "execution_count": 4,
   "id": "f437a2a5",
   "metadata": {},
   "outputs": [],
   "source": [
    "user_profiles_data = [\n",
    "    {\n",
    "        \"user_id\": \"U001\",\n",
    "        \"name\": \"Alice\",\n",
    "        \"age\": 30,\n",
    "        \"interests\": [\"reading\", \"hiking\"]\n",
    "    },\n",
    "\n",
    "    {\n",
    "        \"user_id\": \"U002\",\n",
    "        \"name\": \"Bob\",\n",
    "        \"age\": 24,\n",
    "        \"interests\": [\"gaming\", \"coding\", \"music\"]\n",
    "    },\n",
    "    \n",
    "    {\n",
    "        \"user_id\": \"U003\",\n",
    "        \"name\": \"Charlie\",\n",
    "        \"age\": 35,\n",
    "        \"interests\": [\"cooking\"]\n",
    "    }\n",
    "]"
   ]
  },
  {
   "cell_type": "code",
   "execution_count": 5,
   "id": "2c8d79bb",
   "metadata": {},
   "outputs": [],
   "source": [
    "user_profiles_file_path = 'user_profiles.json'"
   ]
  },
  {
   "cell_type": "code",
   "execution_count": 6,
   "id": "a883607c",
   "metadata": {},
   "outputs": [
    {
     "name": "stdout",
     "output_type": "stream",
     "text": [
      "'user_profiles.json' created successfully.\n"
     ]
    }
   ],
   "source": [
    "with open(user_profiles_file_path, 'w') as f:\n",
    "    json.dump(user_profiles_data, f, indent=2)\n",
    "print(f\"'{user_profiles_file_path}' created successfully.\")"
   ]
  },
  {
   "cell_type": "code",
   "execution_count": null,
   "id": "f88b87ba",
   "metadata": {},
   "outputs": [],
   "source": [
    "nested_sensor_data = [\n",
    "    {\n",
    "        \"sensor_id\": \"S001\",\n",
    "        \"location\": \"North Wing\",\n",
    "        \"timestamp\": \"2025-07-29T10:00:00Z\",\n",
    "        \"sensor_details\": {\n",
    "            \"temperature_c\": 22.5,\n",
    "            \"humidity\": 65,\n",
    "            \"pressure_hpa\": 1012.5\n",
    "        }\n",
    "    },\n",
    "    \n",
    "    {\n",
    "        \"sensor_id\": \"S002\",\n",
    "        \"location\": \"South Wing\",\n",
    "        \"timestamp\": \"2025-07-29T10:05:00Z\",\n",
    "        \"sensor_details\": {\n",
    "            \"temperature_c\": 23.1,\n",
    "            \"humidity\": 63,\n",
    "            \"pressure_hpa\": 1011.8\n",
    "        }\n",
    "    }\n",
    "]"
   ]
  },
  {
   "cell_type": "code",
   "execution_count": 6,
   "id": "4d792379",
   "metadata": {},
   "outputs": [
    {
     "name": "stdout",
     "output_type": "stream",
     "text": [
      "'nested_sensor_data.json' created successfully.\n",
      "\n",
      "Now, you can proceed to load these JSON files using the next code cells!\n"
     ]
    }
   ],
   "source": [
    "nested_sensor_file_path = 'nested_sensor_data.json'\n",
    "\n",
    "with open(nested_sensor_file_path, 'w') as f:\n",
    "    json.dump(nested_sensor_data, f, indent=2)\n",
    "print(f\"'{nested_sensor_file_path}' created successfully.\")\n",
    "\n",
    "print(\"\\nNow, you can proceed to load these JSON files using the next code cells!\")\n"
   ]
  },
  {
   "cell_type": "code",
   "execution_count": 7,
   "id": "a30da704",
   "metadata": {},
   "outputs": [
    {
     "name": "stdout",
     "output_type": "stream",
     "text": [
      "User Profiles Data (from simple JSON):\n",
      "  user_id     name  age                interests\n",
      "0    U001    Alice   30        [reading, hiking]\n",
      "1    U002      Bob   24  [gaming, coding, music]\n",
      "2    U003  Charlie   35                [cooking]\n",
      "\n",
      "User Profiles Data Info:\n",
      "<class 'pandas.core.frame.DataFrame'>\n",
      "RangeIndex: 3 entries, 0 to 2\n",
      "Data columns (total 4 columns):\n",
      " #   Column     Non-Null Count  Dtype \n",
      "---  ------     --------------  ----- \n",
      " 0   user_id    3 non-null      object\n",
      " 1   name       3 non-null      object\n",
      " 2   age        3 non-null      int64 \n",
      " 3   interests  3 non-null      object\n",
      "dtypes: int64(1), object(3)\n",
      "memory usage: 228.0+ bytes\n"
     ]
    }
   ],
   "source": [
    "df_users = pd.read_json('user_profiles.json')\n",
    "\n",
    "print(\"User Profiles Data (from simple JSON):\")\n",
    "print(df_users.head())\n",
    "print(\"\\nUser Profiles Data Info:\")\n",
    "df_users.info()\n"
   ]
  },
  {
   "cell_type": "code",
   "execution_count": 8,
   "id": "8a34f2fb",
   "metadata": {},
   "outputs": [
    {
     "name": "stdout",
     "output_type": "stream",
     "text": [
      "Nested Sensor Data (Initial Load):\n",
      "  sensor_id    location                 timestamp  \\\n",
      "0      S001  North Wing 2025-07-29 10:00:00+00:00   \n",
      "1      S002  South Wing 2025-07-29 10:05:00+00:00   \n",
      "\n",
      "                                      sensor_details  \n",
      "0  {'temperature_c': 22.5, 'humidity': 65, 'press...  \n",
      "1  {'temperature_c': 23.1, 'humidity': 63, 'press...  \n",
      "\n",
      "Nested Sensor Data Info (Initial Load):\n",
      "<class 'pandas.core.frame.DataFrame'>\n",
      "RangeIndex: 2 entries, 0 to 1\n",
      "Data columns (total 4 columns):\n",
      " #   Column          Non-Null Count  Dtype              \n",
      "---  ------          --------------  -----              \n",
      " 0   sensor_id       2 non-null      object             \n",
      " 1   location        2 non-null      object             \n",
      " 2   timestamp       2 non-null      datetime64[ns, UTC]\n",
      " 3   sensor_details  2 non-null      object             \n",
      "dtypes: datetime64[ns, UTC](1), object(3)\n",
      "memory usage: 196.0+ bytes\n"
     ]
    }
   ],
   "source": [
    "df_nested_sensors = pd.read_json('nested_sensor_data.json')\n",
    "\n",
    "print(\"Nested Sensor Data (Initial Load):\")\n",
    "print(df_nested_sensors.head())\n",
    "print(\"\\nNested Sensor Data Info (Initial Load):\")\n",
    "df_nested_sensors.info()"
   ]
  },
  {
   "cell_type": "code",
   "execution_count": 9,
   "id": "93824e03",
   "metadata": {},
   "outputs": [],
   "source": [
    "from pandas import json_normalize"
   ]
  },
  {
   "cell_type": "code",
   "execution_count": 10,
   "id": "0aca6dc8",
   "metadata": {},
   "outputs": [
    {
     "name": "stdout",
     "output_type": "stream",
     "text": [
      "\n",
      "Flattened Sensor Details Data:\n",
      "   temperature_c  humidity  pressure_hpa\n",
      "0           22.5        65        1012.5\n",
      "1           23.1        63        1011.8\n",
      "\n",
      "Flattened Sensor Details Data Info:\n",
      "<class 'pandas.core.frame.DataFrame'>\n",
      "RangeIndex: 2 entries, 0 to 1\n",
      "Data columns (total 3 columns):\n",
      " #   Column         Non-Null Count  Dtype  \n",
      "---  ------         --------------  -----  \n",
      " 0   temperature_c  2 non-null      float64\n",
      " 1   humidity       2 non-null      int64  \n",
      " 2   pressure_hpa   2 non-null      float64\n",
      "dtypes: float64(2), int64(1)\n",
      "memory usage: 180.0 bytes\n"
     ]
    }
   ],
   "source": [
    "df_sensor_details_flattened = json_normalize(df_nested_sensors['sensor_details'])\n",
    "\n",
    "print(\"\\nFlattened Sensor Details Data:\")\n",
    "print(df_sensor_details_flattened.head())\n",
    "print(\"\\nFlattened Sensor Details Data Info:\")\n",
    "df_sensor_details_flattened.info()"
   ]
  },
  {
   "cell_type": "code",
   "execution_count": 11,
   "id": "9980bbe8",
   "metadata": {},
   "outputs": [
    {
     "name": "stdout",
     "output_type": "stream",
     "text": [
      "\n",
      "Final Flattened Sensor Data:\n",
      "  sensor_id    location                 timestamp  temperature_c  humidity  \\\n",
      "0      S001  North Wing 2025-07-29 10:00:00+00:00           22.5        65   \n",
      "1      S002  South Wing 2025-07-29 10:05:00+00:00           23.1        63   \n",
      "\n",
      "   pressure_hpa  \n",
      "0        1012.5  \n",
      "1        1011.8  \n",
      "\n",
      "Final Flattened Sensor Data Info:\n",
      "<class 'pandas.core.frame.DataFrame'>\n",
      "RangeIndex: 2 entries, 0 to 1\n",
      "Data columns (total 6 columns):\n",
      " #   Column         Non-Null Count  Dtype              \n",
      "---  ------         --------------  -----              \n",
      " 0   sensor_id      2 non-null      object             \n",
      " 1   location       2 non-null      object             \n",
      " 2   timestamp      2 non-null      datetime64[ns, UTC]\n",
      " 3   temperature_c  2 non-null      float64            \n",
      " 4   humidity       2 non-null      int64              \n",
      " 5   pressure_hpa   2 non-null      float64            \n",
      "dtypes: datetime64[ns, UTC](1), float64(2), int64(1), object(2)\n",
      "memory usage: 228.0+ bytes\n"
     ]
    }
   ],
   "source": [
    "df_final_sensors = pd.concat([df_nested_sensors.drop(columns=['sensor_details']),\n",
    "                              df_sensor_details_flattened], axis=1)\n",
    "\n",
    "print(\"\\nFinal Flattened Sensor Data:\")\n",
    "print(df_final_sensors.head())\n",
    "print(\"\\nFinal Flattened Sensor Data Info:\")\n",
    "df_final_sensors.info()"
   ]
  },
  {
   "cell_type": "code",
   "execution_count": 12,
   "id": "8a2724b6",
   "metadata": {},
   "outputs": [
    {
     "name": "stdout",
     "output_type": "stream",
     "text": [
      "\n",
      "Final flattened sensor data saved to 'flattened_sensor_data.json'\n"
     ]
    }
   ],
   "source": [
    "df_final_sensors.to_json('flattened_sensor_data.json', orient='records', indent=2)\n",
    "print(\"\\nFinal flattened sensor data saved to 'flattened_sensor_data.json'\")"
   ]
  },
  {
   "cell_type": "code",
   "execution_count": null,
   "id": "6f54981f",
   "metadata": {},
   "outputs": [],
   "source": []
  }
 ],
 "metadata": {
  "kernelspec": {
   "display_name": "base",
   "language": "python",
   "name": "python3"
  },
  "language_info": {
   "codemirror_mode": {
    "name": "ipython",
    "version": 3
   },
   "file_extension": ".py",
   "mimetype": "text/x-python",
   "name": "python",
   "nbconvert_exporter": "python",
   "pygments_lexer": "ipython3",
   "version": "3.13.5"
  }
 },
 "nbformat": 4,
 "nbformat_minor": 5
}
