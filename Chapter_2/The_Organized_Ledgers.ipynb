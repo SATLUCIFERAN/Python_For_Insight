{
 "cells": [
  {
   "cell_type": "code",
   "execution_count": 1,
   "id": "c3f53185",
   "metadata": {},
   "outputs": [
    {
     "name": "stdout",
     "output_type": "stream",
     "text": [
      "Requirement already satisfied: openpyxl in c:\\users\\asus\\anaconda3\\lib\\site-packages (3.1.5)\n",
      "Requirement already satisfied: et-xmlfile in c:\\users\\asus\\anaconda3\\lib\\site-packages (from openpyxl) (1.1.0)\n"
     ]
    }
   ],
   "source": [
    "! pip install openpyxl"
   ]
  },
  {
   "cell_type": "code",
   "execution_count": 2,
   "id": "7449bd72",
   "metadata": {},
   "outputs": [],
   "source": [
    "import pandas as pd\n",
    "import io"
   ]
  },
  {
   "cell_type": "code",
   "execution_count": 3,
   "id": "5bd5c1bb",
   "metadata": {},
   "outputs": [],
   "source": [
    "inventory_data = {\n",
    "    'Item': ['Pen', 'Notebook', 'Stapler'],\n",
    "    'Stock': [500, 250, 100],\n",
    "    'LastUpdated': ['2025-01-20', '2025-01-21', '2025-01-22']\n",
    "}"
   ]
  },
  {
   "cell_type": "code",
   "execution_count": 4,
   "id": "a7fee729",
   "metadata": {},
   "outputs": [],
   "source": [
    "df_inventory_create = pd.DataFrame(inventory_data)"
   ]
  },
  {
   "cell_type": "code",
   "execution_count": 5,
   "id": "d7ca63d8",
   "metadata": {},
   "outputs": [],
   "source": [
    "inventory_file_path = 'inventory.xlsx'"
   ]
  },
  {
   "cell_type": "code",
   "execution_count": 6,
   "id": "3bd28f7c",
   "metadata": {},
   "outputs": [
    {
     "name": "stdout",
     "output_type": "stream",
     "text": [
      "'inventory.xlsx' created successfully.\n"
     ]
    }
   ],
   "source": [
    "df_inventory_create.to_excel(inventory_file_path, index=False)\n",
    "print(f\"'{inventory_file_path}' created successfully.\")"
   ]
  },
  {
   "cell_type": "code",
   "execution_count": 9,
   "id": "c791623c",
   "metadata": {},
   "outputs": [],
   "source": [
    "jan_sales_data = {\n",
    "    'Product': ['Laptop', 'Mouse', 'Keyboard'],\n",
    "    'Sales_Jan': [12000, 500, 3000],\n",
    "    'Region': ['East', 'West', 'Central']\n",
    "}\n",
    "df_jan_sales_create = pd.DataFrame(jan_sales_data)"
   ]
  },
  {
   "cell_type": "code",
   "execution_count": 11,
   "id": "35ce436a",
   "metadata": {},
   "outputs": [],
   "source": [
    "feb_sales_data = {\n",
    "    'Product': ['Laptop', 'Mouse', 'Webcam'],\n",
    "    'Sales_Feb': [15000, 600, 1200],\n",
    "    'Region': ['East', 'West', 'North']\n",
    "}\n",
    "df_feb_sales_create = pd.DataFrame(feb_sales_data)"
   ]
  },
  {
   "cell_type": "code",
   "execution_count": 13,
   "id": "6c122102",
   "metadata": {},
   "outputs": [],
   "source": [
    "monthly_reports_file_path = 'monthly_reports.xlsx'"
   ]
  },
  {
   "cell_type": "code",
   "execution_count": 15,
   "id": "dda90be9",
   "metadata": {},
   "outputs": [
    {
     "name": "stdout",
     "output_type": "stream",
     "text": [
      "'monthly_reports.xlsx' created successfully with 'January Sales' and 'February Sales' sheets.\n",
      "\n",
      "Now, you can proceed to load these files using the next code cells!\n"
     ]
    }
   ],
   "source": [
    "with pd.ExcelWriter(monthly_reports_file_path) as writer:    \n",
    "    df_jan_sales_create.to_excel(writer, sheet_name='January Sales', index=False)\n",
    "    df_feb_sales_create.to_excel(writer, sheet_name='February Sales', index=False)\n",
    "\n",
    "print(f\"'{monthly_reports_file_path}' created successfully with 'January Sales' and 'February Sales' sheets.\")\n",
    "print(\"\\nNow, you can proceed to load these files using the next code cells!\")\n"
   ]
  },
  {
   "cell_type": "code",
   "execution_count": 16,
   "id": "6efa117d",
   "metadata": {},
   "outputs": [
    {
     "name": "stdout",
     "output_type": "stream",
     "text": [
      "Inventory Data (from default sheet):\n",
      "       Item  Stock LastUpdated\n",
      "0       Pen    500  2025-01-20\n",
      "1  Notebook    250  2025-01-21\n",
      "2   Stapler    100  2025-01-22\n",
      "\n",
      "Inventory Data Info:\n",
      "<class 'pandas.core.frame.DataFrame'>\n",
      "RangeIndex: 3 entries, 0 to 2\n",
      "Data columns (total 3 columns):\n",
      " #   Column       Non-Null Count  Dtype \n",
      "---  ------       --------------  ----- \n",
      " 0   Item         3 non-null      object\n",
      " 1   Stock        3 non-null      int64 \n",
      " 2   LastUpdated  3 non-null      object\n",
      "dtypes: int64(1), object(2)\n",
      "memory usage: 204.0+ bytes\n"
     ]
    }
   ],
   "source": [
    "df_inventory = pd.read_excel('inventory.xlsx')\n",
    "\n",
    "print(\"Inventory Data (from default sheet):\")\n",
    "print(df_inventory.head())\n",
    "print(\"\\nInventory Data Info:\")\n",
    "df_inventory.info()"
   ]
  },
  {
   "cell_type": "code",
   "execution_count": 18,
   "id": "84108f35",
   "metadata": {},
   "outputs": [
    {
     "name": "stdout",
     "output_type": "stream",
     "text": [
      "\n",
      "January Sales Data:\n",
      "    Product  Sales_Jan   Region\n",
      "0    Laptop      12000     East\n",
      "1     Mouse        500     West\n",
      "2  Keyboard       3000  Central\n"
     ]
    }
   ],
   "source": [
    "df_jan_sales = pd.read_excel('monthly_reports.xlsx',\n",
    "                              sheet_name='January Sales')\n",
    "print(\"\\nJanuary Sales Data:\")\n",
    "print(df_jan_sales.head())"
   ]
  },
  {
   "cell_type": "code",
   "execution_count": 19,
   "id": "d78882a8",
   "metadata": {},
   "outputs": [
    {
     "name": "stdout",
     "output_type": "stream",
     "text": [
      "\n",
      "February Sales Data:\n",
      "  Product  Sales_Feb Region\n",
      "0  Laptop      15000   East\n",
      "1   Mouse        600   West\n",
      "2  Webcam       1200  North\n"
     ]
    }
   ],
   "source": [
    "df_feb_sales = pd.read_excel('monthly_reports.xlsx', sheet_name=1)\n",
    "print(\"\\nFebruary Sales Data:\")\n",
    "print(df_feb_sales.head())\n"
   ]
  },
  {
   "cell_type": "code",
   "execution_count": 22,
   "id": "fd8bc676",
   "metadata": {},
   "outputs": [
    {
     "data": {
      "text/plain": [
       "{'January Sales':     Product  Sales_Jan   Region\n",
       " 0    Laptop      12000     East\n",
       " 1     Mouse        500     West\n",
       " 2  Keyboard       3000  Central,\n",
       " 'February Sales':   Product  Sales_Feb Region\n",
       " 0  Laptop      15000   East\n",
       " 1   Mouse        600   West\n",
       " 2  Webcam       1200  North}"
      ]
     },
     "execution_count": 22,
     "metadata": {},
     "output_type": "execute_result"
    }
   ],
   "source": [
    "all_sheets_dict = pd.read_excel('monthly_reports.xlsx', sheet_name=None)\n",
    "all_sheets_dict"
   ]
  },
  {
   "cell_type": "code",
   "execution_count": 24,
   "id": "c219f5ec",
   "metadata": {},
   "outputs": [
    {
     "name": "stdout",
     "output_type": "stream",
     "text": [
      "\n",
      "Keys (Sheet Names) in the loaded dictionary:\n",
      "dict_keys(['January Sales', 'February Sales'])\n"
     ]
    }
   ],
   "source": [
    "print(\"\\nKeys (Sheet Names) in the loaded dictionary:\")\n",
    "print(all_sheets_dict.keys())"
   ]
  },
  {
   "cell_type": "code",
   "execution_count": 25,
   "id": "f3c7695c",
   "metadata": {},
   "outputs": [
    {
     "name": "stdout",
     "output_type": "stream",
     "text": [
      "\n",
      "First few rows of 'February Sales' from the dictionary:\n",
      "  Product  Sales_Feb Region\n",
      "0  Laptop      15000   East\n",
      "1   Mouse        600   West\n",
      "2  Webcam       1200  North\n"
     ]
    }
   ],
   "source": [
    "print(\"\\nFirst few rows of 'February Sales' from the dictionary:\")\n",
    "print(all_sheets_dict['February Sales'].head())"
   ]
  },
  {
   "cell_type": "code",
   "execution_count": null,
   "id": "3476b5c1",
   "metadata": {},
   "outputs": [],
   "source": []
  }
 ],
 "metadata": {
  "kernelspec": {
   "display_name": "base",
   "language": "python",
   "name": "python3"
  },
  "language_info": {
   "codemirror_mode": {
    "name": "ipython",
    "version": 3
   },
   "file_extension": ".py",
   "mimetype": "text/x-python",
   "name": "python",
   "nbconvert_exporter": "python",
   "pygments_lexer": "ipython3",
   "version": "3.13.5"
  }
 },
 "nbformat": 4,
 "nbformat_minor": 5
}
