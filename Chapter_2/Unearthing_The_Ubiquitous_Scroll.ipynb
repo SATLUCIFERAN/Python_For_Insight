{
 "cells": [
  {
   "cell_type": "code",
   "execution_count": 1,
   "id": "84ff9515-1f8f-4b11-92fe-a43afede5392",
   "metadata": {},
   "outputs": [],
   "source": [
    "import pandas as pd"
   ]
  },
  {
   "cell_type": "code",
   "execution_count": 2,
   "id": "622e50e6-5a93-4d8f-afe2-c1c498fd75c0",
   "metadata": {},
   "outputs": [],
   "source": [
    "file_path = 'environmental_readings.csv'"
   ]
  },
  {
   "cell_type": "code",
   "execution_count": 4,
   "id": "66f949ab-cf99-43b8-ae87-017e97b15a29",
   "metadata": {},
   "outputs": [
    {
     "name": "stdout",
     "output_type": "stream",
     "text": [
      "Attempting to read data from: environmental_readings.csv\n"
     ]
    }
   ],
   "source": [
    "print(f\"Attempting to read data from: {file_path}\")\n",
    "df_env_sensors = pd.read_csv(file_path)"
   ]
  },
  {
   "cell_type": "code",
   "execution_count": 5,
   "id": "5cd627b9-bb7d-474c-b645-aa34c1683b9c",
   "metadata": {},
   "outputs": [
    {
     "name": "stdout",
     "output_type": "stream",
     "text": [
      "\n",
      "First 5 rows of our simulated environmental sensor data:\n",
      "  sensor_id            timestamp  temperature_celsius  humidity_percent  \\\n",
      "0      S001  2025-07-01 08:00:00                 22.5              65.2   \n",
      "1      S002  2025-07-01 08:00:00                 23.1              63.8   \n",
      "2      S003  2025-07-01 08:00:00                 21.9              66.5   \n",
      "3      S001  2025-07-01 09:00:00                 23.0              64.5   \n",
      "4      S002  2025-07-01 09:00:00                 23.5              62.0   \n",
      "\n",
      "   air_quality_index location_id  \n",
      "0                 45       LOC_A  \n",
      "1                 50       LOC_B  \n",
      "2                 42       LOC_C  \n",
      "3                 48       LOC_A  \n",
      "4                 55       LOC_B  \n"
     ]
    }
   ],
   "source": [
    "print(\"\\nFirst 5 rows of our simulated environmental sensor data:\")\n",
    "print(df_env_sensors.head())"
   ]
  },
  {
   "cell_type": "code",
   "execution_count": 6,
   "id": "0687f031-07f6-4962-9731-9eb73071cfc4",
   "metadata": {},
   "outputs": [
    {
     "name": "stdout",
     "output_type": "stream",
     "text": [
      "\n",
      "Information about our sensor data DataFrame:\n",
      "<class 'pandas.core.frame.DataFrame'>\n",
      "RangeIndex: 12 entries, 0 to 11\n",
      "Data columns (total 6 columns):\n",
      " #   Column               Non-Null Count  Dtype  \n",
      "---  ------               --------------  -----  \n",
      " 0   sensor_id            12 non-null     object \n",
      " 1   timestamp            12 non-null     object \n",
      " 2   temperature_celsius  12 non-null     float64\n",
      " 3   humidity_percent     12 non-null     float64\n",
      " 4   air_quality_index    12 non-null     int64  \n",
      " 5   location_id          12 non-null     object \n",
      "dtypes: float64(2), int64(1), object(3)\n",
      "memory usage: 708.0+ bytes\n"
     ]
    }
   ],
   "source": [
    "print(\"\\nInformation about our sensor data DataFrame:\")\n",
    "df_env_sensors.info()"
   ]
  },
  {
   "cell_type": "code",
   "execution_count": 8,
   "id": "3d28ecac-fae6-4376-ab45-ebc95dd00c49",
   "metadata": {},
   "outputs": [],
   "source": [
    "df_loc_a = df_env_sensors[df_env_sensors['location_id'] == 'LOC_A']"
   ]
  },
  {
   "cell_type": "code",
   "execution_count": 9,
   "id": "eee29277-a9ec-43b1-965b-550f3527c839",
   "metadata": {},
   "outputs": [],
   "source": [
    "output_path = 'loc_a_environmental_data.csv'"
   ]
  },
  {
   "cell_type": "code",
   "execution_count": 10,
   "id": "38196b77-8068-4d22-87c7-d46a19f0e0b6",
   "metadata": {},
   "outputs": [],
   "source": [
    "df_loc_a.to_csv(output_path, index=False)"
   ]
  },
  {
   "cell_type": "code",
   "execution_count": 11,
   "id": "86b85336-0428-4416-ab56-bf4ee11600cd",
   "metadata": {},
   "outputs": [
    {
     "name": "stdout",
     "output_type": "stream",
     "text": [
      "\n",
      "Data for LOC_A sensors saved to loc_a_environmental_data.csv\n"
     ]
    }
   ],
   "source": [
    "print(f\"\\nData for LOC_A sensors saved to {output_path}\")"
   ]
  },
  {
   "cell_type": "code",
   "execution_count": null,
   "id": "60fd8fa0-ad7a-44f5-a174-5acac4adaed4",
   "metadata": {},
   "outputs": [],
   "source": []
  },
  {
   "cell_type": "code",
   "execution_count": null,
   "id": "f4fab4b5-c20e-4e76-9762-1a4f50ed35ea",
   "metadata": {},
   "outputs": [],
   "source": []
  },
  {
   "cell_type": "code",
   "execution_count": null,
   "id": "d812ee6c-4ed8-4df8-8b9b-0d9e3517406f",
   "metadata": {},
   "outputs": [],
   "source": []
  },
  {
   "cell_type": "code",
   "execution_count": null,
   "id": "abf9fe62-eb05-4781-8e06-0f3bad528061",
   "metadata": {},
   "outputs": [],
   "source": []
  }
 ],
 "metadata": {
  "kernelspec": {
   "display_name": "Python 3 (ipykernel)",
   "language": "python",
   "name": "python3"
  },
  "language_info": {
   "codemirror_mode": {
    "name": "ipython",
    "version": 3
   },
   "file_extension": ".py",
   "mimetype": "text/x-python",
   "name": "python",
   "nbconvert_exporter": "python",
   "pygments_lexer": "ipython3",
   "version": "3.13.5"
  }
 },
 "nbformat": 4,
 "nbformat_minor": 5
}
