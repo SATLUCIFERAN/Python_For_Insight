{
 "cells": [
  {
   "cell_type": "code",
   "execution_count": 1,
   "id": "ff47dc90",
   "metadata": {},
   "outputs": [],
   "source": [
    "import pandas as pd\n",
    "import sqlite3 \n",
    "import os"
   ]
  },
  {
   "cell_type": "code",
   "execution_count": 2,
   "id": "337dbcd2",
   "metadata": {},
   "outputs": [],
   "source": [
    "db_file = 'my_app_data.db'"
   ]
  },
  {
   "cell_type": "code",
   "execution_count": 3,
   "id": "63465ba5",
   "metadata": {},
   "outputs": [
    {
     "name": "stdout",
     "output_type": "stream",
     "text": [
      "Removed existing database file: 'my_app_data.db'                to start fresh.\n"
     ]
    }
   ],
   "source": [
    "try:\n",
    "    if os.path.exists(db_file):\n",
    "        os.remove(db_file)\n",
    "        print(f\"Removed existing database file: '{db_file}'\\\n",
    "                to start fresh.\")\n",
    "except PermissionError as e:\n",
    "    print(f\"PermissionError: Could not remove '{db_file}'.\\\n",
    "          It might be in use by another process. \"\n",
    "          \"Please restart your Jupyter kernel \"\n",
    "          \"(Kernel -> Restart Kernel) or close any other applications \"\n",
    "          f\"accessing this file,then try running this cell again.'Error: {e}\")   \n",
    "    raise "
   ]
  },
  {
   "cell_type": "code",
   "execution_count": 4,
   "id": "2329bbc3",
   "metadata": {},
   "outputs": [],
   "source": [
    "conn = sqlite3.connect(db_file)"
   ]
  },
  {
   "cell_type": "code",
   "execution_count": 5,
   "id": "1506c706",
   "metadata": {},
   "outputs": [],
   "source": [
    "cursor = conn.cursor()"
   ]
  },
  {
   "cell_type": "code",
   "execution_count": 6,
   "id": "cbdc3b66",
   "metadata": {},
   "outputs": [],
   "source": [
    "create_table_sql = \"\"\"\n",
    "CREATE TABLE IF NOT EXISTS users (\n",
    "    id INTEGER PRIMARY KEY AUTOINCREMENT,\n",
    "    name TEXT NOT NULL,\n",
    "    email TEXT UNIQUE NOT NULL\n",
    ");\n",
    "\"\"\""
   ]
  },
  {
   "cell_type": "code",
   "execution_count": 7,
   "id": "9bdb0cc4",
   "metadata": {},
   "outputs": [
    {
     "name": "stdout",
     "output_type": "stream",
     "text": [
      "Table 'users' created or already exists.\n"
     ]
    }
   ],
   "source": [
    "cursor.execute(create_table_sql)\n",
    "print(\"Table 'users' created or already exists.\")"
   ]
  },
  {
   "cell_type": "code",
   "execution_count": null,
   "id": "ad5dffbd",
   "metadata": {},
   "outputs": [],
   "source": [
    "# user_data = [\n",
    "#     ('Alice Smith', 'alice@example.com'),\n",
    "#     ('Bob Johnson', 'bob@example.com'),\n",
    "#     ('Charlie Brown', 'charlie@example.com'),\n",
    "#     ('Alice Smith', 'alice@example.com')  # Duplicate email to show error handling later (though not explicitly handled here)    \n",
    "# ]\n",
    "\n",
    "user_data = [\n",
    "    ('Alice Smith', 'alice@example.com'),\n",
    "    ('Bob Johnson', 'bob@example.com'),\n",
    "    ('Charlie Brown', 'charlie@example.com'),      \n",
    "]\n"
   ]
  },
  {
   "cell_type": "code",
   "execution_count": 9,
   "id": "95d4e370",
   "metadata": {},
   "outputs": [
    {
     "name": "stdout",
     "output_type": "stream",
     "text": [
      "Sample data inserted successfully.\n",
      "Database connection closed.\n",
      "\n",
      "Database 'my_app_data.db' is now ready with sample 'users' data.\n",
      "You can now proceed to connect and read from it using the next code cells!\n"
     ]
    }
   ],
   "source": [
    "insert_sql = \"INSERT INTO users (name, email) VALUES (?, ?);\"\n",
    "try:\n",
    "    cursor.executemany(insert_sql, user_data)    \n",
    "    conn.commit()\n",
    "    print(\"Sample data inserted successfully.\")\n",
    "except sqlite3.IntegrityError as e:\n",
    "    print(f\"Error inserting data (likely duplicate email): {e}\")    \n",
    "    conn.rollback()\n",
    "finally:    \n",
    "    conn.close()\n",
    "    print(\"Database connection closed.\")\n",
    "\n",
    "print(\"\\nDatabase 'my_app_data.db' is now ready with sample 'users' data.\")\n",
    "print(\"You can now proceed to connect and read from it using the next code cells!\")\n"
   ]
  },
  {
   "cell_type": "code",
   "execution_count": 13,
   "id": "2490d14a",
   "metadata": {},
   "outputs": [],
   "source": [
    "conn = sqlite3.connect(db_file)"
   ]
  },
  {
   "cell_type": "code",
   "execution_count": 11,
   "id": "a55011cb",
   "metadata": {},
   "outputs": [],
   "source": [
    "query = \"SELECT * FROM users\""
   ]
  },
  {
   "cell_type": "code",
   "execution_count": 12,
   "id": "18d357bb",
   "metadata": {},
   "outputs": [
    {
     "name": "stdout",
     "output_type": "stream",
     "text": [
      "Users Data from Database:\n",
      "   id           name                email\n",
      "0   1    Alice Smith    alice@example.com\n",
      "1   2    Bob Johnson      bob@example.com\n",
      "2   3  Charlie Brown  charlie@example.com\n",
      "\n",
      "Users Data Info from Database:\n",
      "<class 'pandas.core.frame.DataFrame'>\n",
      "RangeIndex: 3 entries, 0 to 2\n",
      "Data columns (total 3 columns):\n",
      " #   Column  Non-Null Count  Dtype \n",
      "---  ------  --------------  ----- \n",
      " 0   id      3 non-null      int64 \n",
      " 1   name    3 non-null      object\n",
      " 2   email   3 non-null      object\n",
      "dtypes: int64(1), object(2)\n",
      "memory usage: 204.0+ bytes\n"
     ]
    }
   ],
   "source": [
    "df_users_from_db = pd.read_sql(query, conn)\n",
    "\n",
    "print(\"Users Data from Database:\")\n",
    "print(df_users_from_db.head())\n",
    "print(\"\\nUsers Data Info from Database:\")\n",
    "df_users_from_db.info()"
   ]
  },
  {
   "cell_type": "code",
   "execution_count": 14,
   "id": "8c024bf5",
   "metadata": {},
   "outputs": [
    {
     "name": "stdout",
     "output_type": "stream",
     "text": [
      "\n",
      "Database connection closed after reading.\n"
     ]
    }
   ],
   "source": [
    "conn.close()\n",
    "print(\"\\nDatabase connection closed after reading.\")"
   ]
  },
  {
   "cell_type": "markdown",
   "id": "77d0e3df",
   "metadata": {},
   "source": [
    "########################################################################################################\n",
    "###################### 2.4.2 Writing Data to a Database: Storing Your Discoveries #######################"
   ]
  },
  {
   "cell_type": "code",
   "execution_count": 15,
   "id": "f2dc3202",
   "metadata": {},
   "outputs": [
    {
     "name": "stdout",
     "output_type": "stream",
     "text": [
      "New Products DataFrame to be saved:\n",
      "   product_id product_name   price\n",
      "0         101   Smartphone  799.99\n",
      "1         102       Tablet  499.00\n",
      "2         103   Smartwatch  249.50\n"
     ]
    }
   ],
   "source": [
    "new_products_data = {\n",
    "    'product_id': [101, 102, 103],\n",
    "    'product_name': ['Smartphone', 'Tablet', 'Smartwatch'],\n",
    "    'price': [799.99, 499.00, 249.50]\n",
    "}\n",
    "df_new_products = pd.DataFrame(new_products_data)\n",
    "\n",
    "print(\"New Products DataFrame to be saved:\")\n",
    "print(df_new_products)"
   ]
  },
  {
   "cell_type": "code",
   "execution_count": 16,
   "id": "afcb4589",
   "metadata": {},
   "outputs": [],
   "source": [
    "conn = sqlite3.connect(db_file)"
   ]
  },
  {
   "cell_type": "code",
   "execution_count": 17,
   "id": "0ed8cf38",
   "metadata": {},
   "outputs": [
    {
     "name": "stdout",
     "output_type": "stream",
     "text": [
      "\n",
      "DataFrame 'df_new_products' saved to 'products' table in the database.\n"
     ]
    }
   ],
   "source": [
    "df_new_products.to_sql('products', conn, if_exists='replace', index=False)\n",
    "print(\"\\nDataFrame 'df_new_products' saved to 'products' table in the database.\")"
   ]
  },
  {
   "cell_type": "code",
   "execution_count": 19,
   "id": "f88baa65",
   "metadata": {},
   "outputs": [
    {
     "name": "stdout",
     "output_type": "stream",
     "text": [
      "\n",
      "Products Data verified from Database:\n",
      "   product_id product_name   price\n",
      "0         101   Smartphone  799.99\n",
      "1         102       Tablet  499.00\n",
      "2         103   Smartwatch  249.50\n"
     ]
    }
   ],
   "source": [
    "query_products = \"SELECT * FROM products\"\n",
    "df_products_from_db = pd.read_sql(query_products, conn)\n",
    "print(\"\\nProducts Data verified from Database:\")\n",
    "print(df_products_from_db)"
   ]
  },
  {
   "cell_type": "code",
   "execution_count": 20,
   "id": "f674906b",
   "metadata": {},
   "outputs": [
    {
     "name": "stdout",
     "output_type": "stream",
     "text": [
      "\n",
      "Database connection closed after writing and verifying.\n"
     ]
    }
   ],
   "source": [
    "conn.close()\n",
    "print(\"\\nDatabase connection closed after writing and verifying.\")\n"
   ]
  },
  {
   "cell_type": "code",
   "execution_count": null,
   "id": "b40bc43d",
   "metadata": {},
   "outputs": [],
   "source": []
  }
 ],
 "metadata": {
  "kernelspec": {
   "display_name": "base",
   "language": "python",
   "name": "python3"
  },
  "language_info": {
   "codemirror_mode": {
    "name": "ipython",
    "version": 3
   },
   "file_extension": ".py",
   "mimetype": "text/x-python",
   "name": "python",
   "nbconvert_exporter": "python",
   "pygments_lexer": "ipython3",
   "version": "3.13.5"
  }
 },
 "nbformat": 4,
 "nbformat_minor": 5
}
