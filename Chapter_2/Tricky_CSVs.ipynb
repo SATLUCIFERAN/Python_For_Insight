{
 "cells": [
  {
   "cell_type": "code",
   "execution_count": 1,
   "id": "3f773231-9d6a-4d8b-940c-130d167f7ad5",
   "metadata": {},
   "outputs": [],
   "source": [
    "import pandas as pd\n",
    "import io"
   ]
  },
  {
   "cell_type": "raw",
   "id": "b9b9fd6b",
   "metadata": {
    "vscode": {
     "languageId": "raw"
    }
   },
   "source": [
    "--- Scenario 1: What if the data uses a different separator, like a semicolon? ---"
   ]
  },
  {
   "cell_type": "code",
   "execution_count": 2,
   "id": "ce0bae80-8a83-478e-b649-34b92079fc53",
   "metadata": {},
   "outputs": [
    {
     "name": "stdout",
     "output_type": "stream",
     "text": [
      "   id   name  value\n",
      "0   1  Alpha    100\n",
      "1   2   Beta    200\n"
     ]
    }
   ],
   "source": [
    "dummy_semicolon_data = \"id;name;value\\n1;Alpha;100\\n2;Beta;200\"\n",
    "df_semicolon = pd.read_csv(io.StringIO(dummy_semicolon_data), sep=';')\n",
    "print(df_semicolon.head())"
   ]
  },
  {
   "cell_type": "code",
   "execution_count": null,
   "id": "f8b0da09",
   "metadata": {},
   "outputs": [],
   "source": []
  },
  {
   "cell_type": "markdown",
   "id": "5f5432e5",
   "metadata": {},
   "source": [
    "--- Scenario 2: What if the CSV has no header row, and the first row is actual data? ---"
   ]
  },
  {
   "cell_type": "code",
   "execution_count": 3,
   "id": "c15c7a94-d4ec-4d73-b7ab-9fcd95bd25cc",
   "metadata": {},
   "outputs": [
    {
     "name": "stdout",
     "output_type": "stream",
     "text": [
      "   Product_ID Fruit_Name  Quantity\n",
      "0           1      Apple        10\n",
      "1           2     Banana        20\n",
      "2           3     Orange        15\n"
     ]
    }
   ],
   "source": [
    "dummy_no_header_data = \"1,Apple,10\\n2,Banana,20\\n3,Orange,15\"\n",
    "df_no_header = pd.read_csv(io.StringIO(dummy_no_header_data), header=None, \n",
    "                           names=['Product_ID', 'Fruit_Name', 'Quantity'])\n",
    "print(df_no_header.head())"
   ]
  },
  {
   "cell_type": "code",
   "execution_count": null,
   "id": "5b2cf566-c492-4f10-a1ee-6b775c335843",
   "metadata": {},
   "outputs": [],
   "source": []
  },
  {
   "cell_type": "raw",
   "id": "2007414e-33ed-4bcd-850b-38b415c3f1f1",
   "metadata": {},
   "source": [
    "--- Scenario 3: What if the CSV has introductory notes or comments before the actual data? ---"
   ]
  },
  {
   "cell_type": "code",
   "execution_count": 4,
   "id": "9e38a560-dd8b-43d1-8af3-eb570d29e296",
   "metadata": {},
   "outputs": [
    {
     "name": "stdout",
     "output_type": "stream",
     "text": [
      "Conceptual DataFrame after skipping notes:\n",
      "                         ID Salesperson Region  Amount\n",
      "0                       101    John Doe  North     500\n",
      "1                       102  Jane Smith  South     750\n"
     ]
    }
   ],
   "source": [
    "dummy_skipped_data = \"# Project: Sales Analysis\\n# Date: 2025-07-29\\n\\\n",
    "                      # Data collected from various regions.\\n\\\n",
    "                      ID,Salesperson,Region,Amount\\n\\\n",
    "                      101,John Doe,North,500\\n\\\n",
    "                      102,Jane Smith,South,750\"\n",
    "df_skipped = pd.read_csv(io.StringIO(dummy_skipped_data), skiprows=3) # Skip the first 3 lines\n",
    "print(\"Conceptual DataFrame after skipping notes:\")\n",
    "print(df_skipped.head())"
   ]
  },
  {
   "cell_type": "code",
   "execution_count": null,
   "id": "81a07a78-23fc-4d39-a165-9f18c5fd14c8",
   "metadata": {},
   "outputs": [],
   "source": []
  }
 ],
 "metadata": {
  "kernelspec": {
   "display_name": "base",
   "language": "python",
   "name": "python3"
  },
  "language_info": {
   "codemirror_mode": {
    "name": "ipython",
    "version": 3
   },
   "file_extension": ".py",
   "mimetype": "text/x-python",
   "name": "python",
   "nbconvert_exporter": "python",
   "pygments_lexer": "ipython3",
   "version": "3.13.5"
  }
 },
 "nbformat": 4,
 "nbformat_minor": 5
}
