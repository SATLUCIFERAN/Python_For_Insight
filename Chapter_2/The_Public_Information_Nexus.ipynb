{
 "cells": [
  {
   "cell_type": "code",
   "execution_count": 1,
   "id": "c5c7f1c9",
   "metadata": {},
   "outputs": [],
   "source": [
    "import pandas as pd\n"
   ]
  },
  {
   "cell_type": "code",
   "execution_count": 5,
   "id": "15620dea",
   "metadata": {},
   "outputs": [],
   "source": [
    "pb_winning_path = 'Lottery_Powerball_Winning_Numbers__Beginning_2010.csv'"
   ]
  },
  {
   "cell_type": "code",
   "execution_count": 6,
   "id": "124f7495",
   "metadata": {},
   "outputs": [],
   "source": [
    "df_pb_winning = pd.read_csv(pb_winning_path)"
   ]
  },
  {
   "cell_type": "code",
   "execution_count": 8,
   "id": "7a3f8735",
   "metadata": {},
   "outputs": [
    {
     "name": "stdout",
     "output_type": "stream",
     "text": [
      "Lottery_Powerball_Winning Dataset (first 5 rows):\n",
      "    Draw Date    Winning Numbers  Multiplier\n",
      "0  09/26/2020  11 21 27 36 62 24         3.0\n",
      "1  09/30/2020  14 18 36 49 67 18         2.0\n",
      "2  10/03/2020  18 31 36 43 47 20         2.0\n",
      "3  10/07/2020  06 24 30 53 56 19         2.0\n",
      "4  10/10/2020  05 18 23 40 50 18         3.0\n",
      "\n",
      "Lottery_Powerball_Winning Dataset Info:\n",
      "<class 'pandas.core.frame.DataFrame'>\n",
      "RangeIndex: 1816 entries, 0 to 1815\n",
      "Data columns (total 3 columns):\n",
      " #   Column           Non-Null Count  Dtype  \n",
      "---  ------           --------------  -----  \n",
      " 0   Draw Date        1816 non-null   object \n",
      " 1   Winning Numbers  1816 non-null   object \n",
      " 2   Multiplier       1606 non-null   float64\n",
      "dtypes: float64(1), object(2)\n",
      "memory usage: 42.7+ KB\n"
     ]
    }
   ],
   "source": [
    "print(\"Lottery_Powerball_Winning Dataset (first 5 rows):\")\n",
    "print(df_pb_winning.head())\n",
    "\n",
    "print(\"\\nLottery_Powerball_Winning Dataset Info:\")\n",
    "df_pb_winning.info()"
   ]
  },
  {
   "cell_type": "code",
   "execution_count": null,
   "id": "f8a0f1f8",
   "metadata": {},
   "outputs": [],
   "source": []
  }
 ],
 "metadata": {
  "kernelspec": {
   "display_name": "base",
   "language": "python",
   "name": "python3"
  },
  "language_info": {
   "codemirror_mode": {
    "name": "ipython",
    "version": 3
   },
   "file_extension": ".py",
   "mimetype": "text/x-python",
   "name": "python",
   "nbconvert_exporter": "python",
   "pygments_lexer": "ipython3",
   "version": "3.13.5"
  }
 },
 "nbformat": 4,
 "nbformat_minor": 5
}
