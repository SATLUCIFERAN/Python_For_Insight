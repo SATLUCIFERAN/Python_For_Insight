{
 "cells": [
  {
   "cell_type": "code",
   "execution_count": null,
   "id": "2dfc55e4",
   "metadata": {},
   "outputs": [
    {
     "name": "stdout",
     "output_type": "stream",
     "text": [
      "Dataset is ready! Clarity Score: 95.00%\n",
      "Further cleaning needed. Clarity Score: 60.00%\n"
     ]
    }
   ],
   "source": [
    "\n",
    "def check_expedition_readiness(clean_points, total_points):\n",
    "   \n",
    "    clarity_score = (clean_points / total_points) * 100\n",
    "    if clarity_score > 75:        \n",
    "        return \"Dataset is ready! Clarity Score: \" \\\n",
    "               f\"{clarity_score:.2f}%\"\n",
    "    else:\n",
    "        return \"Further cleaning needed. Clarity Score: \"\\\n",
    "               f\"{clarity_score:.2f}%\"\n",
    "\n",
    "# Now we can use our reusable protocol!\n",
    "\n",
    "print(check_expedition_readiness(95, 100))\n",
    "print(check_expedition_readiness(60, 100))\n"
   ]
  },
  {
   "cell_type": "code",
   "execution_count": null,
   "id": "5f949b80",
   "metadata": {},
   "outputs": [],
   "source": []
  }
 ],
 "metadata": {
  "kernelspec": {
   "display_name": "base",
   "language": "python",
   "name": "python3"
  },
  "language_info": {
   "codemirror_mode": {
    "name": "ipython",
    "version": 3
   },
   "file_extension": ".py",
   "mimetype": "text/x-python",
   "name": "python",
   "nbconvert_exporter": "python",
   "pygments_lexer": "ipython3",
   "version": "3.13.5"
  }
 },
 "nbformat": 4,
 "nbformat_minor": 5
}
