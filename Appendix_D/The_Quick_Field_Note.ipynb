{
 "cells": [
  {
   "cell_type": "code",
   "execution_count": null,
   "id": "8e404e1b",
   "metadata": {},
   "outputs": [
    {
     "name": "stdout",
     "output_type": "stream",
     "text": [
      "Readings in Celsius: [15.5, 20.1, 22.8, 18.0]\n",
      "Converted to Kelvin: [288.65, 293.25, 295.95, 291.15]\n"
     ]
    }
   ],
   "source": [
    "# Raw sensor readings in Celsius from a lab instrument\n",
    "celsius_readings = [15.5, 20.1, 22.8, 18.0]\n",
    "\n",
    "# We want to convert all these to Kelvin (Kelvin = Celsius + 273.15)\n",
    "# Using a lambda function with the map() function\n",
    "\n",
    "kelvin_readings = list(map(lambda c: c + 273.15, celsius_readings))\n",
    "\n",
    "print(f\"Readings in Celsius: {celsius_readings}\")\n",
    "print(f\"Converted to Kelvin: {kelvin_readings}\")\n"
   ]
  },
  {
   "cell_type": "code",
   "execution_count": null,
   "id": "0b5c0734",
   "metadata": {},
   "outputs": [],
   "source": []
  }
 ],
 "metadata": {
  "kernelspec": {
   "display_name": "base",
   "language": "python",
   "name": "python3"
  },
  "language_info": {
   "codemirror_mode": {
    "name": "ipython",
    "version": 3
   },
   "file_extension": ".py",
   "mimetype": "text/x-python",
   "name": "python",
   "nbconvert_exporter": "python",
   "pygments_lexer": "ipython3",
   "version": "3.13.5"
  }
 },
 "nbformat": 4,
 "nbformat_minor": 5
}
