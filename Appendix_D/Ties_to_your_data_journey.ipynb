{
 "cells": [
  {
   "cell_type": "code",
   "execution_count": null,
   "id": "1afcc07e",
   "metadata": {},
   "outputs": [
    {
     "name": "stdout",
     "output_type": "stream",
     "text": [
      "DataFrame after adding the new column:\n",
      "   ID  mass_g  mass_kg\n",
      "0  S1     100    0.100\n",
      "1  S2     150    0.150\n",
      "2  S3     125    0.125\n"
     ]
    }
   ],
   "source": [
    "import pandas as pd\n",
    "\n",
    "# Let's create a DataFrame of research samples\n",
    "sample_data = {'ID': ['S1', 'S2', 'S3'], 'mass_g': [100, 150, 125]}\n",
    "df = pd.DataFrame(sample_data)\n",
    "\n",
    "# Use a lambda function to convert mass from grams to kilograms on the fly\n",
    "\n",
    "df['mass_kg'] = df['mass_g'].apply(lambda grams: grams / 1000)\n",
    "\n",
    "print(\"DataFrame after adding the new column:\")\n",
    "print(df)\n"
   ]
  },
  {
   "cell_type": "code",
   "execution_count": null,
   "id": "34f34245",
   "metadata": {},
   "outputs": [],
   "source": [
    "fghhf = 32\n"
   ]
  },
  {
   "cell_type": "code",
   "execution_count": null,
   "id": "d7bf1b96",
   "metadata": {},
   "outputs": [],
   "source": [
    "hgtr = 25"
   ]
  }
 ],
 "metadata": {
  "kernelspec": {
   "display_name": "base",
   "language": "python",
   "name": "python3"
  },
  "language_info": {
   "codemirror_mode": {
    "name": "ipython",
    "version": 3
   },
   "file_extension": ".py",
   "mimetype": "text/x-python",
   "name": "python",
   "nbconvert_exporter": "python",
   "pygments_lexer": "ipython3",
   "version": "3.13.5"
  }
 },
 "nbformat": 4,
 "nbformat_minor": 5
}
