{
 "cells": [
  {
   "cell_type": "code",
   "execution_count": 1,
   "id": "70d6c516",
   "metadata": {},
   "outputs": [],
   "source": [
    "import numpy as np\n",
    "from scipy import stats"
   ]
  },
  {
   "cell_type": "code",
   "execution_count": null,
   "id": "83d0f4dd",
   "metadata": {},
   "outputs": [],
   "source": [
    "# Step 1: Simulate the data for our A/B test\n",
    "\n",
    "# Control Group (Group A): Users with the old recommendation system\n",
    "# Let's assume they watch an average of 4.5 movies per week with some variation.\n",
    "np.random.seed(42)  \n",
    "control_group = np.random.normal(loc=4.5, scale=1.5, size=1000)\n",
    "\n",
    "# Variant Group (Group B): Users with the new recommendation system\n",
    "# Let's assume the new system is slightly better, with an average of 4.8 movies.\n",
    "# This small difference is what we want to see if we can detect.\n",
    "variant_group = np.random.normal(loc=4.8, scale=1.5, size=1000)\n"
   ]
  },
  {
   "cell_type": "code",
   "execution_count": null,
   "id": "3ca5a456",
   "metadata": {},
   "outputs": [],
   "source": [
    "# We can't have negative movies watched, so we'll floor the values at 0.\n",
    "\n",
    "control_group = np.floor(control_group.clip(min=0))\n",
    "variant_group = np.floor(variant_group.clip(min=0))"
   ]
  },
  {
   "cell_type": "code",
   "execution_count": 5,
   "id": "f8c3b808",
   "metadata": {},
   "outputs": [
    {
     "name": "stdout",
     "output_type": "stream",
     "text": [
      "--- A/B Test Results (Simulated) ---\n",
      "Control Group Mean: 4.03 movies\n",
      "Variant Group Mean: 4.40 movies\n",
      "-----------------------------------\n"
     ]
    }
   ],
   "source": [
    "# Step 2. Descriptive Statistics \n",
    "\n",
    "print(\"--- A/B Test Results (Simulated) ---\")\n",
    "print(f\"Control Group Mean: {np.mean(control_group):.2f} movies\")\n",
    "print(f\"Variant Group Mean: {np.mean(variant_group):.2f} movies\")\n",
    "print(\"-\" * 35)"
   ]
  },
  {
   "cell_type": "code",
   "execution_count": 7,
   "id": "1dd9ce06",
   "metadata": {},
   "outputs": [
    {
     "name": "stdout",
     "output_type": "stream",
     "text": [
      "T-statistic: 5.58\n",
      "P-value: 0.0000\n"
     ]
    }
   ],
   "source": [
    "# --- 3. Perform a Hypothesis Test (t-test) ---\n",
    "# We'll use a one-tailed t-test because our alternative hypothesis is that\n",
    "# the variant group's mean is GREATER than the control group's mean.\n",
    "# We also use 'equal_var=False' (Welch's t-test), as we don't assume equal variance.\n",
    "\n",
    "t_statistic, p_value = stats.ttest_ind(\n",
    "    variant_group, control_group,\n",
    "    equal_var=False,\n",
    "    alternative='greater'\n",
    ")\n",
    "print(f\"T-statistic: {t_statistic:.2f}\")\n",
    "print(f\"P-value: {p_value:.4f}\")"
   ]
  },
  {
   "cell_type": "code",
   "execution_count": 10,
   "id": "62dd4b48",
   "metadata": {},
   "outputs": [
    {
     "name": "stdout",
     "output_type": "stream",
     "text": [
      "\n",
      "--- Hypothesis Test Decision ---\n",
      "Since p-value (0.0000) < alpha (0.05), we REJECT the Null Hypothesis.\n",
      "Conclusion: The new recommendation system is statistically significantly better. 🎉\n"
     ]
    }
   ],
   "source": [
    "# --- 4. Make a decision based on the p-value and alpha ---\n",
    "alpha = 0.05\n",
    "print(\"\\n--- Hypothesis Test Decision ---\")\n",
    "if p_value < alpha:\n",
    "    print(f\"Since p-value ({p_value:.4f}) < alpha ({alpha}), we REJECT the Null Hypothesis.\")\n",
    "    print(\"Conclusion: The new recommendation system is statistically significantly better. 🎉\")\n",
    "else:\n",
    "    print(f\"Since p-value ({p_value:.4f}) >= alpha ({alpha}), we FAIL TO REJECT the Null Hypothesis.\")\n",
    "    print(\"Conclusion: The data does not provide enough evidence to say the new system is better. 🧐\")"
   ]
  },
  {
   "cell_type": "code",
   "execution_count": null,
   "id": "b42bb7af",
   "metadata": {},
   "outputs": [],
   "source": []
  }
 ],
 "metadata": {
  "kernelspec": {
   "display_name": "base",
   "language": "python",
   "name": "python3"
  },
  "language_info": {
   "codemirror_mode": {
    "name": "ipython",
    "version": 3
   },
   "file_extension": ".py",
   "mimetype": "text/x-python",
   "name": "python",
   "nbconvert_exporter": "python",
   "pygments_lexer": "ipython3",
   "version": "3.13.5"
  }
 },
 "nbformat": 4,
 "nbformat_minor": 5
}
