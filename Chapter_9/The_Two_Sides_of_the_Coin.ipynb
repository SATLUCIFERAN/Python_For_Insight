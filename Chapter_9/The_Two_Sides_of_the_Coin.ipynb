{
 "cells": [
  {
   "cell_type": "code",
   "execution_count": 27,
   "id": "e3aec856",
   "metadata": {},
   "outputs": [],
   "source": [
    "import pandas as pd\n",
    "import numpy as np\n",
    "from scipy import stats\n",
    "\n",
    "file_path = 'netflix_titles.csv'\n",
    "netflix_df = pd.read_csv(file_path)\n"
   ]
  },
  {
   "cell_type": "code",
   "execution_count": 28,
   "id": "ccedcf3c",
   "metadata": {},
   "outputs": [],
   "source": [
    "# Filter for TV Shows only\n",
    "tv_shows_df = netflix_df[netflix_df['type'] == 'TV Show'].copy()\n"
   ]
  },
  {
   "cell_type": "code",
   "execution_count": 29,
   "id": "931d621e",
   "metadata": {},
   "outputs": [],
   "source": [
    "# Group by release_year and count the number of TV shows per year\n",
    "tv_shows_per_year = tv_shows_df.groupby('release_year')\\\n",
    "                               .size().reset_index(name='count')"
   ]
  },
  {
   "cell_type": "code",
   "execution_count": 30,
   "id": "63cafe98",
   "metadata": {},
   "outputs": [],
   "source": [
    "# Define our two periods\n",
    "\n",
    "period_1_counts = tv_shows_per_year[(tv_shows_per_year['release_year'] >= 2012) \n",
    "                  & (tv_shows_per_year['release_year'] <= 2016)]['count']\n",
    "\n",
    "period_2_counts = tv_shows_per_year[(tv_shows_per_year['release_year'] >= 2017) \n",
    "                  & (tv_shows_per_year['release_year'] <= 2021)]['count']\n"
   ]
  },
  {
   "cell_type": "code",
   "execution_count": 31,
   "id": "7032904a",
   "metadata": {},
   "outputs": [
    {
     "name": "stdout",
     "output_type": "stream",
     "text": [
      "Average TV Shows per year (2012–2016):      124.20\n",
      "Average TV Shows per year (2017–2021):      358.60\n"
     ]
    }
   ],
   "source": [
    "# Calculate the average number of TV shows for each period\n",
    "avg_tv_shows_period_1 = period_1_counts.mean()\n",
    "avg_tv_shows_period_2 = period_2_counts.mean()\n",
    "\n",
    "print(f\"Average TV Shows per year (2012–2016):\\\n",
    "      {avg_tv_shows_period_1:.2f}\")\n",
    "print(f\"Average TV Shows per year (2017–2021):\\\n",
    "      {avg_tv_shows_period_2:.2f}\")"
   ]
  },
  {
   "cell_type": "code",
   "execution_count": null,
   "id": "901d1ed4",
   "metadata": {},
   "outputs": [
    {
     "name": "stdout",
     "output_type": "stream",
     "text": [
      "\n",
      "T-statistic: 5.05\n",
      "P-value: 0.0005\n"
     ]
    }
   ],
   "source": [
    "# Perform an independent t-test\n",
    "t_statistic, p_value = stats.ttest_ind(period_2_counts, \n",
    "                                       period_1_counts,\n",
    "                                       equal_var=False, \n",
    "                                       alternative='greater')\n",
    "print(f\"\\nT-statistic: {t_statistic:.2f}\")\n",
    "print(f\"P-value: {p_value:.4f}\")"
   ]
  },
  {
   "cell_type": "code",
   "execution_count": null,
   "id": "b3f981ac",
   "metadata": {},
   "outputs": [],
   "source": [
    "# Set a significance level (alpha)\n",
    "alpha = 0.05"
   ]
  },
  {
   "cell_type": "code",
   "execution_count": null,
   "id": "9a9c0e51",
   "metadata": {},
   "outputs": [
    {
     "name": "stdout",
     "output_type": "stream",
     "text": [
      "\n",
      "--- Hypothesis Test Decision ---\n",
      "Since p-value (0.0005) < alpha (0.05), we REJECT the Null Hypothesis.\n",
      "Conclusion: There is statistically significant evidence that the average number of TV shows added per year in 2017-2021 is greater than in 2012-2016. 🎉\n"
     ]
    }
   ],
   "source": [
    "# Make a decision based on the p-value\n",
    "print(\"\\n--- Hypothesis Test Decision ---\")\n",
    "if p_value < alpha:\n",
    "    print(f\"Since p-value ({p_value:.4f}) < alpha ({alpha}), \\\n",
    "          we REJECT the Null Hypothesis.\")\n",
    "    print(\"Conclusion: There is statistically significant evidence \\\n",
    "          that the average number of TV shows added per year \\\n",
    "          in 2017-2021 is greater than in 2012-2016.\")\n",
    "else:\n",
    "    print(f\"Since p-value ({p_value:.4f}) >= alpha ({alpha}), \\\n",
    "          we FAIL TO REJECT the Null Hypothesis.\")\n",
    "    print(\"Conclusion: There is not enough statistically\\\n",
    "          significant evidence to claim that the average number \\\n",
    "          of TV shows added per year in 2017-2021 is greater than in 2012-2016.\")"
   ]
  },
  {
   "cell_type": "code",
   "execution_count": null,
   "id": "57a2ae4a",
   "metadata": {},
   "outputs": [],
   "source": []
  }
 ],
 "metadata": {
  "kernelspec": {
   "display_name": "base",
   "language": "python",
   "name": "python3"
  },
  "language_info": {
   "codemirror_mode": {
    "name": "ipython",
    "version": 3
   },
   "file_extension": ".py",
   "mimetype": "text/x-python",
   "name": "python",
   "nbconvert_exporter": "python",
   "pygments_lexer": "ipython3",
   "version": "3.13.5"
  }
 },
 "nbformat": 4,
 "nbformat_minor": 5
}
