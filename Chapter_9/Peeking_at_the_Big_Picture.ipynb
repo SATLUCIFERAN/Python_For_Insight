{
 "cells": [
  {
   "cell_type": "code",
   "execution_count": 3,
   "id": "9a136da9",
   "metadata": {},
   "outputs": [],
   "source": [
    "import pandas as pd\n",
    "import numpy as np\n",
    "\n",
    "file_path = 'netflix_titles.csv'\n",
    "netflix_df = pd.read_csv(file_path)"
   ]
  },
  {
   "cell_type": "code",
   "execution_count": null,
   "id": "a5b151d7",
   "metadata": {},
   "outputs": [
    {
     "data": {
      "text/plain": [
       "8807"
      ]
     },
     "execution_count": 6,
     "metadata": {},
     "output_type": "execute_result"
    }
   ],
   "source": [
    "# Our full dataset is our 'population'.\n",
    "population_size = len(netflix_df)"
   ]
  },
  {
   "cell_type": "code",
   "execution_count": null,
   "id": "85c7926e",
   "metadata": {},
   "outputs": [],
   "source": [
    "# Let's take a random sample of 500 titles.\n",
    "# 'random_state' ensures that if you run this code again, you'll get the same sample.\n",
    "\n",
    "sample_df = netflix_df.sample(n=500, random_state=42)\n"
   ]
  },
  {
   "cell_type": "code",
   "execution_count": null,
   "id": "b9eb0e9b",
   "metadata": {},
   "outputs": [
    {
     "name": "stdout",
     "output_type": "stream",
     "text": [
      "Total population size: 8807\n",
      "Sample size: 500\n"
     ]
    }
   ],
   "source": [
    "# Verify the size of our sample.\n",
    "print(f\"Total population size: {population_size}\")\n",
    "print(f\"Sample size: {len(sample_df)}\")"
   ]
  },
  {
   "cell_type": "code",
   "execution_count": 10,
   "id": "ed413334",
   "metadata": {},
   "outputs": [
    {
     "name": "stdout",
     "output_type": "stream",
     "text": [
      "\n",
      "--- Population Mean Release Year ---\n",
      "2014.1801975701146\n",
      "\n",
      "--- Sample Mean Release Year ---\n",
      "2014.034\n"
     ]
    }
   ],
   "source": [
    "#Now, let's see how our sample's statistics compare to the population's\n",
    "\n",
    "print(\"\\n--- Population Mean Release Year ---\")\n",
    "print(netflix_df['release_year'].mean())\n",
    "\n",
    "print(\"\\n--- Sample Mean Release Year ---\")\n",
    "print(sample_df['release_year'].mean())"
   ]
  },
  {
   "cell_type": "code",
   "execution_count": null,
   "id": "7ec7d57e",
   "metadata": {},
   "outputs": [],
   "source": []
  }
 ],
 "metadata": {
  "kernelspec": {
   "display_name": "base",
   "language": "python",
   "name": "python3"
  },
  "language_info": {
   "codemirror_mode": {
    "name": "ipython",
    "version": 3
   },
   "file_extension": ".py",
   "mimetype": "text/x-python",
   "name": "python",
   "nbconvert_exporter": "python",
   "pygments_lexer": "ipython3",
   "version": "3.13.5"
  }
 },
 "nbformat": 4,
 "nbformat_minor": 5
}
