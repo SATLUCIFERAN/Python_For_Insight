{
 "cells": [
  {
   "cell_type": "code",
   "execution_count": null,
   "id": "81b8f398",
   "metadata": {},
   "outputs": [],
   "source": [
    "import pandas as pd\n",
    "import numpy as np\n",
    "\n",
    "file_path = 'netflix_titles.csv'\n",
    "netflix_df = pd.read_csv(file_path)\n"
   ]
  },
  {
   "cell_type": "code",
   "execution_count": null,
   "id": "bbad95d4",
   "metadata": {},
   "outputs": [],
   "source": [
    "# --- Measures of Central Tendency & Variability for Numerical Data ---\n",
    "# Filter for movies only for a clear duration analysis\n",
    "movies_df = netflix_df[netflix_df['type'] == 'Movie'].copy()\n"
   ]
  },
  {
   "cell_type": "code",
   "execution_count": null,
   "id": "e9386e95",
   "metadata": {},
   "outputs": [
    {
     "name": "stdout",
     "output_type": "stream",
     "text": [
      "--- Descriptive Statistics for Movie Duration (in minutes) ---\n",
      "count    6128.000000\n",
      "mean       99.577187\n",
      "std        28.290593\n",
      "min         3.000000\n",
      "25%        87.000000\n",
      "50%        98.000000\n",
      "75%       114.000000\n",
      "max       312.000000\n",
      "Name: duration, dtype: float64\n"
     ]
    }
   ],
   "source": [
    "# inspect  'duration' columns\n",
    "print(\"--- Descriptive Statistics for Movie Duration (in minutes) ---\")\n",
    "print(movies_df['duration'].str.replace(' min', '')\\\n",
    "                               .astype(float).describe())"
   ]
  },
  {
   "cell_type": "code",
   "execution_count": null,
   "id": "62c6adae",
   "metadata": {},
   "outputs": [
    {
     "name": "stdout",
     "output_type": "stream",
     "text": [
      "\n",
      "--- Descriptive Statistics for Release Year ---\n",
      "count    8807.000000\n",
      "mean     2014.180198\n",
      "std         8.819312\n",
      "min      1925.000000\n",
      "25%      2013.000000\n",
      "50%      2017.000000\n",
      "75%      2019.000000\n",
      "max      2021.000000\n",
      "Name: release_year, dtype: float64\n"
     ]
    }
   ],
   "source": [
    "#Inspect the 'release_year' columns\n",
    "\n",
    "print(\"\\n--- Descriptive Statistics for Release Year ---\")\n",
    "print(netflix_df['release_year'].describe())\n"
   ]
  },
  {
   "cell_type": "code",
   "execution_count": null,
   "id": "d23058f6",
   "metadata": {},
   "outputs": [
    {
     "name": "stdout",
     "output_type": "stream",
     "text": [
      "\n",
      "--- Most Frequent Content Type (Mode) ---\n",
      "Movie\n"
     ]
    }
   ],
   "source": [
    "print(\"\\n--- Most Frequent Content Type (Mode) ---\")\n",
    "print(netflix_df['type'].mode()[0]) \n"
   ]
  },
  {
   "cell_type": "code",
   "execution_count": null,
   "id": "3ab763f8",
   "metadata": {},
   "outputs": [
    {
     "name": "stdout",
     "output_type": "stream",
     "text": [
      "\n",
      "--- Most Frequent Rating (Mode) ---\n",
      "TV-MA\n"
     ]
    }
   ],
   "source": [
    "print(\"\\n--- Most Frequent Rating (Mode) ---\")\n",
    "print(netflix_df['rating'].mode()[0])\n"
   ]
  },
  {
   "cell_type": "code",
   "execution_count": null,
   "id": "cfb553b6",
   "metadata": {},
   "outputs": [],
   "source": []
  }
 ],
 "metadata": {
  "kernelspec": {
   "display_name": "base",
   "language": "python",
   "name": "python3"
  },
  "language_info": {
   "codemirror_mode": {
    "name": "ipython",
    "version": 3
   },
   "file_extension": ".py",
   "mimetype": "text/x-python",
   "name": "python",
   "nbconvert_exporter": "python",
   "pygments_lexer": "ipython3",
   "version": "3.13.5"
  }
 },
 "nbformat": 4,
 "nbformat_minor": 5
}
