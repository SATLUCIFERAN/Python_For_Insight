{
 "cells": [
  {
   "cell_type": "code",
   "execution_count": 3,
   "id": "83fc293c",
   "metadata": {},
   "outputs": [],
   "source": [
    "import pandas as pd\n",
    "import numpy as np\n",
    "\n",
    "file_path = 'netflix_titles.csv'\n",
    "netflix_df = pd.read_csv(file_path)"
   ]
  },
  {
   "cell_type": "markdown",
   "id": "0b527060",
   "metadata": {},
   "source": []
  },
  {
   "cell_type": "code",
   "execution_count": null,
   "id": "a33ba1c6",
   "metadata": {},
   "outputs": [],
   "source": [
    "# Count the number of genres for each title\n",
    "netflix_df['num_genres'] = netflix_df['listed_in']\\\n",
    "                           .str.split(',').str.len()\n"
   ]
  },
  {
   "cell_type": "code",
   "execution_count": null,
   "id": "dbbd580a",
   "metadata": {},
   "outputs": [],
   "source": [
    "# Select the two columns we want to correlate\n",
    "correlation_df = netflix_df[['release_year', 'num_genres']]\\\n",
    "                            .dropna()"
   ]
  },
  {
   "cell_type": "code",
   "execution_count": 8,
   "id": "ecf1233e",
   "metadata": {},
   "outputs": [],
   "source": [
    "# Calculate the correlation matrix for the two selected columns.\n",
    "correlation_matrix = correlation_df.corr()"
   ]
  },
  {
   "cell_type": "code",
   "execution_count": 11,
   "id": "3bf635ce",
   "metadata": {},
   "outputs": [
    {
     "name": "stdout",
     "output_type": "stream",
     "text": [
      "Correlation between release_year and number of genres:       -0.04\n"
     ]
    }
   ],
   "source": [
    "# Extract the specific correlation coefficient between release_year and num_genres.\n",
    "\n",
    "correlation_coefficient = correlation_matrix.iloc[0, 1]\n",
    "print(f\"Correlation between release_year and number of genres:\\\n",
    "       {correlation_coefficient:.2f}\")\n",
    "\n"
   ]
  },
  {
   "cell_type": "code",
   "execution_count": null,
   "id": "2273f6eb",
   "metadata": {},
   "outputs": [],
   "source": []
  }
 ],
 "metadata": {
  "kernelspec": {
   "display_name": "base",
   "language": "python",
   "name": "python3"
  },
  "language_info": {
   "codemirror_mode": {
    "name": "ipython",
    "version": 3
   },
   "file_extension": ".py",
   "mimetype": "text/x-python",
   "name": "python",
   "nbconvert_exporter": "python",
   "pygments_lexer": "ipython3",
   "version": "3.13.5"
  }
 },
 "nbformat": 4,
 "nbformat_minor": 5
}
