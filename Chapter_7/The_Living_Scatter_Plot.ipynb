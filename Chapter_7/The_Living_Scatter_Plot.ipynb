{
 "cells": [
  {
   "cell_type": "code",
   "execution_count": 18,
   "id": "d0ac09c2",
   "metadata": {},
   "outputs": [],
   "source": [
    "import pandas as pd\n",
    "import plotly.express as px\n",
    "\n",
    "file_folder = ('train.csv')\n",
    "titanic_df = pd.read_csv(file_folder)\n"
   ]
  },
  {
   "cell_type": "code",
   "execution_count": 19,
   "id": "256989c0",
   "metadata": {},
   "outputs": [],
   "source": [
    "# Drop rows with any missing values to ensure every point is a complete record\n",
    "\n",
    "interactive_data = titanic_df.dropna(subset=['Age', 'Fare',\n",
    "                                             'Pclass', 'Survived'])"
   ]
  },
  {
   "cell_type": "code",
   "execution_count": 20,
   "id": "5ba0084a",
   "metadata": {},
   "outputs": [
    {
     "name": "stderr",
     "output_type": "stream",
     "text": [
      "C:\\Users\\ASUS\\AppData\\Local\\Temp\\ipykernel_35944\\375657043.py:3: SettingWithCopyWarning:\n",
      "\n",
      "\n",
      "A value is trying to be set on a copy of a slice from a DataFrame.\n",
      "Try using .loc[row_indexer,col_indexer] = value instead\n",
      "\n",
      "See the caveats in the documentation: https://pandas.pydata.org/pandas-docs/stable/user_guide/indexing.html#returning-a-view-versus-a-copy\n",
      "\n"
     ]
    }
   ],
   "source": [
    "# We'll create a new column with descriptive names for survival status\n",
    "\n",
    "interactive_data['Survival'] = interactive_data['Survived'].\\\n",
    "                               map({0: 'Perished', 1: 'Survived'})"
   ]
  },
  {
   "cell_type": "code",
   "execution_count": 21,
   "id": "886d1eb5",
   "metadata": {},
   "outputs": [
    {
     "name": "stdout",
     "output_type": "stream",
     "text": [
      "--- Data for Interactive Plot ---\n",
      "    Age     Fare                                               Name  Pclass  \\\n",
      "0  22.0   7.2500                            Braund, Mr. Owen Harris       3   \n",
      "1  38.0  71.2833  Cumings, Mrs. John Bradley (Florence Briggs Th...       1   \n",
      "2  26.0   7.9250                             Heikkinen, Miss. Laina       3   \n",
      "3  35.0  53.1000       Futrelle, Mrs. Jacques Heath (Lily May Peel)       1   \n",
      "4  35.0   8.0500                           Allen, Mr. William Henry       3   \n",
      "\n",
      "   Survival  \n",
      "0  Perished  \n",
      "1  Survived  \n",
      "2  Survived  \n",
      "3  Survived  \n",
      "4  Perished  \n"
     ]
    }
   ],
   "source": [
    "# Let's inspect the data we'll use for the hover-tooltip\n",
    "\n",
    "print(\"--- Data for Interactive Plot ---\")\n",
    "print(interactive_data[['Age', 'Fare', 'Name', 'Pclass', 'Survival']].head())"
   ]
  },
  {
   "cell_type": "code",
   "execution_count": 22,
   "id": "6bd40d34",
   "metadata": {},
   "outputs": [],
   "source": [
    "# Create the interactive scatter plot\n",
    "fig = px.scatter(interactive_data, \n",
    "                 x='Age', \n",
    "                 y='Fare', \n",
    "                 color='Survival', \n",
    "                 color_discrete_map={'Survived':'forestgreen', \n",
    "                                     'Perished':'tomato'},\n",
    "                 hover_data=['Name', 'Pclass', 'Survival'],\n",
    "                 title='Age vs. Fare on the Titanic (Interactive)')"
   ]
  },
  {
   "cell_type": "code",
   "execution_count": 23,
   "id": "154119d2",
   "metadata": {},
   "outputs": [
    {
     "data": {
      "application/vnd.plotly.v1+json": {
       "config": {
        "plotlyServerURL": "https://plot.ly"
       },
       "data": [
        {
         "customdata": [
          [
           "Braund, Mr. Owen Harris",
           3,
           "Perished"
          ],
          [
           "Allen, Mr. William Henry",
           3,
           "Perished"
          ],
          [
           "McCarthy, Mr. Timothy J",
           1,
           "Perished"
          ],
          [
           "Palsson, Master. Gosta Leonard",
           3,
           "Perished"
          ],
          [
           "Saundercock, Mr. William Henry",
           3,
           "Perished"
          ],
          [
           "Andersson, Mr. Anders Johan",
           3,
           "Perished"
          ],
          [
           "Vestrom, Miss. Hulda Amanda Adolfina",
           3,
           "Perished"
          ],
          [
           "Rice, Master. Eugene",
           3,
           "Perished"
          ],
          [
           "Vander Planke, Mrs. Julius (Emelia Maria Vandemoortele)",
           3,
           "Perished"
          ],
          [
           "Fynney, Mr. Joseph J",
           2,
           "Perished"
          ],
          [
           "Palsson, Miss. Torborg Danira",
           3,
           "Perished"
          ],
          [
           "Fortune, Mr. Charles Alexander",
           1,
           "Perished"
          ],
          [
           "Uruchurtu, Don. Manuel E",
           1,
           "Perished"
          ],
          [
           "Wheadon, Mr. Edward H",
           2,
           "Perished"
          ],
          [
           "Meyer, Mr. Edgar Joseph",
           1,
           "Perished"
          ],
          [
           "Holverson, Mr. Alexander Oskar",
           1,
           "Perished"
          ],
          [
           "Cann, Mr. Ernest Charles",
           3,
           "Perished"
          ],
          [
           "Vander Planke, Miss. Augusta Maria",
           3,
           "Perished"
          ],
          [
           "Ahlin, Mrs. Johan (Johanna Persdotter Larsson)",
           3,
           "Perished"
          ],
          [
           "Turpin, Mrs. William John Robert (Dorothy Ann Wonnacott)",
           2,
           "Perished"
          ],
          [
           "Arnold-Franchi, Mrs. Josef (Josefine Franchi)",
           3,
           "Perished"
          ],
          [
           "Panula, Master. Juha Niilo",
           3,
           "Perished"
          ],
          [
           "Nosworthy, Mr. Richard Cater",
           3,
           "Perished"
          ],
          [
           "Ostby, Mr. Engelhart Cornelius",
           1,
           "Perished"
          ],
          [
           "Novel, Mr. Mansouer",
           3,
           "Perished"
          ],
          [
           "Goodwin, Master. William Frederick",
           3,
           "Perished"
          ],
          [
           "Sirayanian, Mr. Orsen",
           3,
           "Perished"
          ],
          [
           "Harris, Mr. Henry Birkhardt",
           1,
           "Perished"
          ],
          [
           "Skoog, Master. Harald",
           3,
           "Perished"
          ],
          [
           "Crease, Mr. Ernest James",
           3,
           "Perished"
          ],
          [
           "Kink, Mr. Vincenz",
           3,
           "Perished"
          ],
          [
           "Jenkin, Mr. Stephen Curnow",
           2,
           "Perished"
          ],
          [
           "Goodwin, Miss. Lillian Amy",
           3,
           "Perished"
          ],
          [
           "Hood, Mr. Ambrose Jr",
           2,
           "Perished"
          ],
          [
           "Chronopoulos, Mr. Apostolos",
           3,
           "Perished"
          ],
          [
           "Moen, Mr. Sigurd Hansen",
           3,
           "Perished"
          ],
          [
           "Waelens, Mr. Achille",
           3,
           "Perished"
          ],
          [
           "Carrau, Mr. Francisco M",
           1,
           "Perished"
          ],
          [
           "Ford, Mr. William Neal",
           3,
           "Perished"
          ],
          [
           "Celotti, Mr. Francesco",
           3,
           "Perished"
          ],
          [
           "Christmann, Mr. Emil",
           3,
           "Perished"
          ],
          [
           "Andreasson, Mr. Paul Edvin",
           3,
           "Perished"
          ],
          [
           "Chaffee, Mr. Herbert Fuller",
           1,
           "Perished"
          ],
          [
           "Dean, Mr. Bertram Frank",
           3,
           "Perished"
          ],
          [
           "Coxon, Mr. Daniel",
           3,
           "Perished"
          ],
          [
           "Goldschmidt, Mr. George B",
           1,
           "Perished"
          ],
          [
           "Kantor, Mr. Sinai",
           2,
           "Perished"
          ],
          [
           "Petranec, Miss. Matilda",
           3,
           "Perished"
          ],
          [
           "White, Mr. Richard Frasar",
           1,
           "Perished"
          ],
          [
           "Johansson, Mr. Gustaf Joel",
           3,
           "Perished"
          ],
          [
           "Gustafsson, Mr. Anders Vilhelm",
           3,
           "Perished"
          ],
          [
           "Mionoff, Mr. Stoytcho",
           3,
           "Perished"
          ],
          [
           "Rekic, Mr. Tido",
           3,
           "Perished"
          ],
          [
           "Porter, Mr. Walter Chamberlain",
           1,
           "Perished"
          ],
          [
           "Zabour, Miss. Hileni",
           3,
           "Perished"
          ],
          [
           "Barton, Mr. David John",
           3,
           "Perished"
          ],
          [
           "Jussila, Miss. Katriina",
           3,
           "Perished"
          ],
          [
           "Attalah, Miss. Malake",
           3,
           "Perished"
          ],
          [
           "Pekoniemi, Mr. Edvard",
           3,
           "Perished"
          ],
          [
           "Connors, Mr. Patrick",
           3,
           "Perished"
          ],
          [
           "Turpin, Mr. William John Robert",
           2,
           "Perished"
          ],
          [
           "Baxter, Mr. Quigg Edmond",
           1,
           "Perished"
          ],
          [
           "Andersson, Miss. Ellis Anna Maria",
           3,
           "Perished"
          ],
          [
           "Hickman, Mr. Stanley George",
           2,
           "Perished"
          ],
          [
           "Nasser, Mr. Nicholas",
           2,
           "Perished"
          ],
          [
           "White, Mr. Percival Wayland",
           1,
           "Perished"
          ],
          [
           "Ekstrom, Mr. Johan",
           3,
           "Perished"
          ],
          [
           "Drazenoic, Mr. Jozef",
           3,
           "Perished"
          ],
          [
           "Coelho, Mr. Domingos Fernandeo",
           3,
           "Perished"
          ],
          [
           "Robins, Mrs. Alexander A (Grace Charity Laury)",
           3,
           "Perished"
          ],
          [
           "Sobey, Mr. Samuel James Hayden",
           2,
           "Perished"
          ],
          [
           "Richard, Mr. Emile",
           2,
           "Perished"
          ],
          [
           "Futrelle, Mr. Jacques Heath",
           1,
           "Perished"
          ],
          [
           "Osen, Mr. Olaf Elon",
           3,
           "Perished"
          ],
          [
           "Giglio, Mr. Victor",
           1,
           "Perished"
          ],
          [
           "Burke, Mr. Jeremiah",
           3,
           "Perished"
          ],
          [
           "Andrew, Mr. Edgardo Samuel",
           2,
           "Perished"
          ],
          [
           "Nicholls, Mr. Joseph Charles",
           2,
           "Perished"
          ],
          [
           "Ford, Miss. Robina Maggie \"Ruby\"",
           3,
           "Perished"
          ],
          [
           "Navratil, Mr. Michel (\"Louis M Hoffman\")",
           2,
           "Perished"
          ],
          [
           "Byles, Rev. Thomas Roussel Davids",
           2,
           "Perished"
          ],
          [
           "Bateman, Rev. Robert James",
           2,
           "Perished"
          ],
          [
           "Meo, Mr. Alfonzo",
           3,
           "Perished"
          ],
          [
           "van Billiard, Mr. Austin Blyler",
           3,
           "Perished"
          ],
          [
           "Williams, Mr. Charles Duane",
           1,
           "Perished"
          ],
          [
           "Corn, Mr. Harry",
           3,
           "Perished"
          ],
          [
           "Cribb, Mr. John Hatfield",
           3,
           "Perished"
          ],
          [
           "Bengtsson, Mr. John Viktor",
           3,
           "Perished"
          ],
          [
           "Calic, Mr. Jovo",
           3,
           "Perished"
          ],
          [
           "Panula, Master. Eino Viljami",
           3,
           "Perished"
          ],
          [
           "Skoog, Mrs. William (Anna Bernhardina Karlsson)",
           3,
           "Perished"
          ],
          [
           "Ling, Mr. Lee",
           3,
           "Perished"
          ],
          [
           "Van der hoef, Mr. Wyckoff",
           1,
           "Perished"
          ],
          [
           "Rice, Master. Arthur",
           3,
           "Perished"
          ],
          [
           "Sivola, Mr. Antti Wilhelm",
           3,
           "Perished"
          ],
          [
           "Smith, Mr. James Clinch",
           1,
           "Perished"
          ],
          [
           "Klasen, Mr. Klas Albin",
           3,
           "Perished"
          ],
          [
           "Isham, Miss. Ann Elizabeth",
           1,
           "Perished"
          ],
          [
           "Hale, Mr. Reginald",
           2,
           "Perished"
          ],
          [
           "Leonard, Mr. Lionel",
           3,
           "Perished"
          ],
          [
           "Asplund, Master. Clarence Gustaf Hugo",
           3,
           "Perished"
          ],
          [
           "Bourke, Mr. John",
           3,
           "Perished"
          ],
          [
           "Turcin, Mr. Stjepan",
           3,
           "Perished"
          ],
          [
           "Carbines, Mr. William",
           2,
           "Perished"
          ],
          [
           "Olsen, Mr. Karl Siegwart Andreas",
           3,
           "Perished"
          ],
          [
           "Yrois, Miss. Henriette (\"Mrs Harbeck\")",
           2,
           "Perished"
          ],
          [
           "Vande Walle, Mr. Nestor Cyriel",
           3,
           "Perished"
          ],
          [
           "Johanson, Mr. Jakob Alfred",
           3,
           "Perished"
          ],
          [
           "Youseff, Mr. Gerious",
           3,
           "Perished"
          ],
          [
           "Strom, Miss. Telma Matilda",
           3,
           "Perished"
          ],
          [
           "Backstrom, Mr. Karl Alfred",
           3,
           "Perished"
          ],
          [
           "Ali, Mr. Ahmed",
           3,
           "Perished"
          ],
          [
           "Perkin, Mr. John Henry",
           3,
           "Perished"
          ],
          [
           "Givard, Mr. Hans Kristensen",
           2,
           "Perished"
          ],
          [
           "Jacobsohn, Mr. Sidney Samuel",
           2,
           "Perished"
          ],
          [
           "Harris, Mr. Walter",
           2,
           "Perished"
          ],
          [
           "Bracken, Mr. James H",
           2,
           "Perished"
          ],
          [
           "Green, Mr. George Henry",
           3,
           "Perished"
          ],
          [
           "Berglund, Mr. Karl Ivar Sven",
           3,
           "Perished"
          ],
          [
           "Lovell, Mr. John Hall (\"Henry\")",
           3,
           "Perished"
          ],
          [
           "Fahlstrom, Mr. Arne Jonas",
           2,
           "Perished"
          ],
          [
           "Larsson, Mr. Bengt Edvin",
           3,
           "Perished"
          ],
          [
           "Sjostedt, Mr. Ernst Adolf",
           2,
           "Perished"
          ],
          [
           "Leyson, Mr. Robert William Norman",
           2,
           "Perished"
          ],
          [
           "Hold, Mr. Stephen",
           2,
           "Perished"
          ],
          [
           "Pengelly, Mr. Frederick William",
           2,
           "Perished"
          ],
          [
           "Hunt, Mr. George Henry",
           2,
           "Perished"
          ],
          [
           "Coleridge, Mr. Reginald Charles",
           2,
           "Perished"
          ],
          [
           "Maenpaa, Mr. Matti Alexanteri",
           3,
           "Perished"
          ],
          [
           "Attalah, Mr. Sleiman",
           3,
           "Perished"
          ],
          [
           "Minahan, Dr. William Edward",
           1,
           "Perished"
          ],
          [
           "Lindahl, Miss. Agda Thorilda Viktoria",
           3,
           "Perished"
          ],
          [
           "Carter, Rev. Ernest Courtenay",
           2,
           "Perished"
          ],
          [
           "Strom, Mrs. Wilhelm (Elna Matilda Persson)",
           3,
           "Perished"
          ],
          [
           "Stead, Mr. William Thomas",
           1,
           "Perished"
          ],
          [
           "Lobb, Mr. William Arthur",
           3,
           "Perished"
          ],
          [
           "Rosblom, Mrs. Viktor (Helena Wilhelmina)",
           3,
           "Perished"
          ],
          [
           "Taussig, Mr. Emil",
           1,
           "Perished"
          ],
          [
           "Harrison, Mr. William",
           1,
           "Perished"
          ],
          [
           "Reeves, Mr. David",
           2,
           "Perished"
          ],
          [
           "Panula, Mr. Ernesti Arvid",
           3,
           "Perished"
          ],
          [
           "Natsch, Mr. Charles H",
           1,
           "Perished"
          ],
          [
           "Lindblom, Miss. Augusta Charlotta",
           3,
           "Perished"
          ],
          [
           "Rice, Master. Eric",
           3,
           "Perished"
          ],
          [
           "Duane, Mr. Frank",
           3,
           "Perished"
          ],
          [
           "Olsson, Mr. Nils Johan Goransson",
           3,
           "Perished"
          ],
          [
           "de Pelsmaeker, Mr. Alfons",
           3,
           "Perished"
          ],
          [
           "Stankovic, Mr. Ivan",
           3,
           "Perished"
          ],
          [
           "Naidenoff, Mr. Penko",
           3,
           "Perished"
          ],
          [
           "Levy, Mr. Rene Jacques",
           2,
           "Perished"
          ],
          [
           "Haas, Miss. Aloisia",
           3,
           "Perished"
          ],
          [
           "Mineff, Mr. Ivan",
           3,
           "Perished"
          ],
          [
           "Hanna, Mr. Mansour",
           3,
           "Perished"
          ],
          [
           "Allison, Miss. Helen Loraine",
           1,
           "Perished"
          ],
          [
           "Johnson, Mr. William Cahoone Jr",
           3,
           "Perished"
          ],
          [
           "Abelson, Mr. Samuel",
           2,
           "Perished"
          ],
          [
           "Lahtinen, Mrs. William (Anna Sylfven)",
           2,
           "Perished"
          ],
          [
           "Hendekovic, Mr. Ignjac",
           3,
           "Perished"
          ],
          [
           "Hart, Mr. Benjamin",
           2,
           "Perished"
          ],
          [
           "Moraweck, Dr. Ernest",
           2,
           "Perished"
          ],
          [
           "Dennis, Mr. Samuel",
           3,
           "Perished"
          ],
          [
           "Danoff, Mr. Yoto",
           3,
           "Perished"
          ],
          [
           "Nysveen, Mr. Johan Hansen",
           3,
           "Perished"
          ],
          [
           "Partner, Mr. Austen",
           1,
           "Perished"
          ],
          [
           "Graham, Mr. George Edward",
           1,
           "Perished"
          ],
          [
           "Vander Planke, Mr. Leo Edmondus",
           3,
           "Perished"
          ],
          [
           "Pears, Mr. Thomas Clinton",
           1,
           "Perished"
          ],
          [
           "Blackwell, Mr. Stephen Weart",
           1,
           "Perished"
          ],
          [
           "Collander, Mr. Erik Gustaf",
           2,
           "Perished"
          ],
          [
           "Sedgwick, Mr. Charles Frederick Waddington",
           2,
           "Perished"
          ],
          [
           "Fox, Mr. Stanley Hubert",
           2,
           "Perished"
          ],
          [
           "Dimic, Mr. Jovan",
           3,
           "Perished"
          ],
          [
           "Odahl, Mr. Nils Martin",
           3,
           "Perished"
          ],
          [
           "Elias, Mr. Tannous",
           3,
           "Perished"
          ],
          [
           "Arnold-Franchi, Mr. Josef",
           3,
           "Perished"
          ],
          [
           "Vanden Steen, Mr. Leo Peter",
           3,
           "Perished"
          ],
          [
           "Funk, Miss. Annie Clemmer",
           2,
           "Perished"
          ],
          [
           "Skoog, Mr. Wilhelm",
           3,
           "Perished"
          ],
          [
           "del Carlo, Mr. Sebastiano",
           2,
           "Perished"
          ],
          [
           "Barbara, Mrs. (Catherine David)",
           3,
           "Perished"
          ],
          [
           "Asim, Mr. Adola",
           3,
           "Perished"
          ],
          [
           "Adahl, Mr. Mauritz Nils Martin",
           3,
           "Perished"
          ],
          [
           "Wiklund, Mr. Jakob Alfred",
           3,
           "Perished"
          ],
          [
           "Beavan, Mr. William Thomas",
           3,
           "Perished"
          ],
          [
           "Ringhini, Mr. Sante",
           1,
           "Perished"
          ],
          [
           "Palsson, Miss. Stina Viola",
           3,
           "Perished"
          ],
          [
           "Widener, Mr. Harry Elkins",
           1,
           "Perished"
          ],
          [
           "Betros, Mr. Tannous",
           3,
           "Perished"
          ],
          [
           "Gustafsson, Mr. Karl Gideon",
           3,
           "Perished"
          ],
          [
           "Tikkanen, Mr. Juho",
           3,
           "Perished"
          ],
          [
           "Davies, Mr. Charles Henry",
           2,
           "Perished"
          ],
          [
           "Goodwin, Master. Sidney Leonard",
           3,
           "Perished"
          ],
          [
           "Gustafsson, Mr. Johan Birger",
           3,
           "Perished"
          ],
          [
           "Johansson, Mr. Erik",
           3,
           "Perished"
          ],
          [
           "Olsson, Miss. Elina",
           3,
           "Perished"
          ],
          [
           "McKane, Mr. Peter David",
           2,
           "Perished"
          ],
          [
           "Pain, Dr. Alfred",
           2,
           "Perished"
          ],
          [
           "Adams, Mr. John",
           3,
           "Perished"
          ],
          [
           "Jussila, Miss. Mari Aina",
           3,
           "Perished"
          ],
          [
           "Hakkarainen, Mr. Pekka Pietari",
           3,
           "Perished"
          ],
          [
           "Oreskovic, Miss. Marija",
           3,
           "Perished"
          ],
          [
           "Gale, Mr. Shadrach",
           2,
           "Perished"
          ],
          [
           "Widegren, Mr. Carl/Charles Peter",
           3,
           "Perished"
          ],
          [
           "Birkeland, Mr. Hans Martin Monsen",
           3,
           "Perished"
          ],
          [
           "Matthews, Mr. William John",
           2,
           "Perished"
          ],
          [
           "Van Impe, Miss. Catharina",
           3,
           "Perished"
          ],
          [
           "Charters, Mr. David",
           3,
           "Perished"
          ],
          [
           "Zimmerman, Mr. Leo",
           3,
           "Perished"
          ],
          [
           "Danbom, Mrs. Ernst Gilbert (Anna Sigrid Maria Brogren)",
           3,
           "Perished"
          ],
          [
           "Rosblom, Mr. Viktor Richard",
           3,
           "Perished"
          ],
          [
           "Kallio, Mr. Nikolai Erland",
           3,
           "Perished"
          ],
          [
           "Silvey, Mr. William Baird",
           1,
           "Perished"
          ],
          [
           "Ford, Miss. Doolina Margaret \"Daisy\"",
           3,
           "Perished"
          ],
          [
           "Fortune, Mr. Mark",
           1,
           "Perished"
          ],
          [
           "Kvillner, Mr. Johan Henrik Johannesson",
           2,
           "Perished"
          ],
          [
           "Hampe, Mr. Leon",
           3,
           "Perished"
          ],
          [
           "Petterson, Mr. Johan Emil",
           3,
           "Perished"
          ],
          [
           "West, Mr. Edwy Arthur",
           2,
           "Perished"
          ],
          [
           "Foreman, Mr. Benjamin Laventall",
           1,
           "Perished"
          ],
          [
           "Millet, Mr. Francis Davis",
           1,
           "Perished"
          ],
          [
           "Morley, Mr. William",
           3,
           "Perished"
          ],
          [
           "Gee, Mr. Arthur H",
           1,
           "Perished"
          ],
          [
           "Milling, Mr. Jacob Christian",
           2,
           "Perished"
          ],
          [
           "Goncalves, Mr. Manuel Estanslas",
           3,
           "Perished"
          ],
          [
           "Smart, Mr. John Montgomery",
           1,
           "Perished"
          ],
          [
           "Cacic, Mr. Luka",
           3,
           "Perished"
          ],
          [
           "Strandberg, Miss. Ida Sofia",
           3,
           "Perished"
          ],
          [
           "Renouf, Mr. Peter Henry",
           2,
           "Perished"
          ],
          [
           "Braund, Mr. Lewis Richard",
           3,
           "Perished"
          ],
          [
           "Karlsson, Mr. Nils August",
           3,
           "Perished"
          ],
          [
           "Goodwin, Master. Harold Victor",
           3,
           "Perished"
          ],
          [
           "Rouse, Mr. Richard Henry",
           3,
           "Perished"
          ],
          [
           "Kent, Mr. Edward Austin",
           1,
           "Perished"
          ],
          [
           "Somerton, Mr. Francis William",
           3,
           "Perished"
          ],
          [
           "Windelov, Mr. Einar",
           3,
           "Perished"
          ],
          [
           "Molson, Mr. Harry Markland",
           1,
           "Perished"
          ],
          [
           "Artagaveytia, Mr. Ramon",
           1,
           "Perished"
          ],
          [
           "Stanley, Mr. Edward Roland",
           3,
           "Perished"
          ],
          [
           "Allison, Mrs. Hudson J C (Bessie Waldo Daniels)",
           1,
           "Perished"
          ],
          [
           "Svensson, Mr. Olof",
           3,
           "Perished"
          ],
          [
           "Calic, Mr. Petar",
           3,
           "Perished"
          ],
          [
           "Canavan, Miss. Mary",
           3,
           "Perished"
          ],
          [
           "Laitinen, Miss. Kristina Sofia",
           3,
           "Perished"
          ],
          [
           "Penasco y Castellana, Mr. Victor de Satode",
           1,
           "Perished"
          ],
          [
           "Olsen, Mr. Henry Margido",
           3,
           "Perished"
          ],
          [
           "Coleff, Mr. Satio",
           3,
           "Perished"
          ],
          [
           "Walker, Mr. William Anderson",
           1,
           "Perished"
          ],
          [
           "Pavlovic, Mr. Stefo",
           3,
           "Perished"
          ],
          [
           "Vovk, Mr. Janko",
           3,
           "Perished"
          ],
          [
           "Farrell, Mr. James",
           3,
           "Perished"
          ],
          [
           "Salonen, Mr. Johan Werner",
           3,
           "Perished"
          ],
          [
           "Hocking, Mr. Richard George",
           2,
           "Perished"
          ],
          [
           "Elias, Mr. Joseph Jr",
           3,
           "Perished"
          ],
          [
           "Cacic, Miss. Marija",
           3,
           "Perished"
          ],
          [
           "Butt, Major. Archibald Willingham",
           1,
           "Perished"
          ],
          [
           "Andersson, Miss. Ingeborg Constanzia",
           3,
           "Perished"
          ],
          [
           "Andersson, Miss. Sigrid Elisabeth",
           3,
           "Perished"
          ],
          [
           "Douglas, Mr. Walter Donald",
           1,
           "Perished"
          ],
          [
           "Nicholson, Mr. Arthur Ernest",
           1,
           "Perished"
          ],
          [
           "Goldsmith, Mr. Frank John",
           3,
           "Perished"
          ],
          [
           "Sharp, Mr. Percival James R",
           2,
           "Perished"
          ],
          [
           "Wright, Mr. George",
           1,
           "Perished"
          ],
          [
           "Sivic, Mr. Husein",
           3,
           "Perished"
          ],
          [
           "Norman, Mr. Robert Douglas",
           2,
           "Perished"
          ],
          [
           "Davies, Mr. Alfred J",
           3,
           "Perished"
          ],
          [
           "Stoytcheff, Mr. Ilia",
           3,
           "Perished"
          ],
          [
           "Palsson, Mrs. Nils (Alma Cornelia Berglund)",
           3,
           "Perished"
          ],
          [
           "Rush, Mr. Alfred George John",
           3,
           "Perished"
          ],
          [
           "Patchett, Mr. George",
           3,
           "Perished"
          ],
          [
           "Downton, Mr. William James",
           2,
           "Perished"
          ],
          [
           "Ross, Mr. John Hugo",
           1,
           "Perished"
          ],
          [
           "Jarvis, Mr. John Denzil",
           2,
           "Perished"
          ],
          [
           "Gilinski, Mr. Eliezer",
           3,
           "Perished"
          ],
          [
           "Rintamaki, Mr. Matti",
           3,
           "Perished"
          ],
          [
           "Elsbury, Mr. William James",
           3,
           "Perished"
          ],
          [
           "Chapman, Mr. John Henry",
           2,
           "Perished"
          ],
          [
           "Van Impe, Mr. Jean Baptiste",
           3,
           "Perished"
          ],
          [
           "Johnson, Mr. Alfred",
           3,
           "Perished"
          ],
          [
           "Torber, Mr. Ernst William",
           3,
           "Perished"
          ],
          [
           "Lindell, Mr. Edvard Bengtsson",
           3,
           "Perished"
          ],
          [
           "Karaic, Mr. Milan",
           3,
           "Perished"
          ],
          [
           "Andersson, Mrs. Anders Johan (Alfrida Konstantia Brogren)",
           3,
           "Perished"
          ],
          [
           "Brocklebank, Mr. William Alfred",
           3,
           "Perished"
          ],
          [
           "Danbom, Mr. Ernst Gilbert",
           3,
           "Perished"
          ],
          [
           "Lobb, Mrs. William Arthur (Cordelia K Stanlick)",
           3,
           "Perished"
          ],
          [
           "Gavey, Mr. Lawrence",
           2,
           "Perished"
          ],
          [
           "Yasbeck, Mr. Antoni",
           3,
           "Perished"
          ],
          [
           "Hansen, Mr. Henry Damsgaard",
           3,
           "Perished"
          ],
          [
           "Bowen, Mr. David John \"Dai\"",
           3,
           "Perished"
          ],
          [
           "Sutton, Mr. Frederick",
           1,
           "Perished"
          ],
          [
           "Kirkland, Rev. Charles Leonard",
           2,
           "Perished"
          ],
          [
           "Bostandyeff, Mr. Guentcho",
           3,
           "Perished"
          ],
          [
           "Lundahl, Mr. Johan Svensson",
           3,
           "Perished"
          ],
          [
           "Skoog, Miss. Mabel",
           3,
           "Perished"
          ],
          [
           "Leinonen, Mr. Antti Gustaf",
           3,
           "Perished"
          ],
          [
           "Collyer, Mr. Harvey",
           2,
           "Perished"
          ],
          [
           "Panula, Mrs. Juha (Maria Emilia Ojala)",
           3,
           "Perished"
          ],
          [
           "Jensen, Mr. Hans Peder",
           3,
           "Perished"
          ],
          [
           "Skoog, Miss. Margit Elizabeth",
           3,
           "Perished"
          ],
          [
           "Cor, Mr. Liudevit",
           3,
           "Perished"
          ],
          [
           "Kalvik, Mr. Johannes Halvorsen",
           3,
           "Perished"
          ],
          [
           "Hegarty, Miss. Hanora \"Nora\"",
           3,
           "Perished"
          ],
          [
           "Hickman, Mr. Leonard Mark",
           2,
           "Perished"
          ],
          [
           "Bourke, Mrs. John (Catherine)",
           3,
           "Perished"
          ],
          [
           "Eitemiller, Mr. George Floyd",
           2,
           "Perished"
          ],
          [
           "Newell, Mr. Arthur Webster",
           1,
           "Perished"
          ],
          [
           "Badt, Mr. Mohamed",
           3,
           "Perished"
          ],
          [
           "Colley, Mr. Edward Pomeroy",
           1,
           "Perished"
          ],
          [
           "Coleff, Mr. Peju",
           3,
           "Perished"
          ],
          [
           "Hickman, Mr. Lewis",
           2,
           "Perished"
          ],
          [
           "Butler, Mr. Reginald Fenton",
           2,
           "Perished"
          ],
          [
           "Cook, Mr. Jacob",
           3,
           "Perished"
          ],
          [
           "Davidson, Mr. Thornton",
           1,
           "Perished"
          ],
          [
           "Mitchell, Mr. Henry Michael",
           2,
           "Perished"
          ],
          [
           "Edvardsson, Mr. Gustaf Hjalmar",
           3,
           "Perished"
          ],
          [
           "Sawyer, Mr. Frederick Charles",
           3,
           "Perished"
          ],
          [
           "Goodwin, Mrs. Frederick (Augusta Tyler)",
           3,
           "Perished"
          ],
          [
           "Olsvigen, Mr. Thor Anderson",
           3,
           "Perished"
          ],
          [
           "Goodwin, Mr. Charles Edward",
           3,
           "Perished"
          ],
          [
           "Brown, Mr. Thomas William Solomon",
           2,
           "Perished"
          ],
          [
           "Laroche, Mr. Joseph Philippe Lemercier",
           2,
           "Perished"
          ],
          [
           "Panula, Mr. Jaako Arnold",
           3,
           "Perished"
          ],
          [
           "Dakic, Mr. Branko",
           3,
           "Perished"
          ],
          [
           "Fischer, Mr. Eberhard Thelander",
           3,
           "Perished"
          ],
          [
           "Saad, Mr. Khalil",
           3,
           "Perished"
          ],
          [
           "Weir, Col. John",
           1,
           "Perished"
          ],
          [
           "Chapman, Mr. Charles Henry",
           2,
           "Perished"
          ],
          [
           "Kelly, Mr. James",
           3,
           "Perished"
          ],
          [
           "Thayer, Mr. John Borland",
           1,
           "Perished"
          ],
          [
           "Humblen, Mr. Adolf Mathias Nicolai Olsen",
           3,
           "Perished"
          ],
          [
           "Barbara, Miss. Saiide",
           3,
           "Perished"
          ],
          [
           "Gallagher, Mr. Martin",
           3,
           "Perished"
          ],
          [
           "Hansen, Mr. Henrik Juul",
           3,
           "Perished"
          ],
          [
           "Morley, Mr. Henry Samuel (\"Mr Henry Marshall\")",
           2,
           "Perished"
          ],
          [
           "Larsson, Mr. August Viktor",
           3,
           "Perished"
          ],
          [
           "Greenberg, Mr. Samuel",
           2,
           "Perished"
          ],
          [
           "Soholt, Mr. Peter Andreas Lauritz Andersen",
           3,
           "Perished"
          ],
          [
           "Johnson, Mr. Malkolm Joackim",
           3,
           "Perished"
          ],
          [
           "Jensen, Mr. Svend Lauritz",
           3,
           "Perished"
          ],
          [
           "Gillespie, Mr. William Henry",
           2,
           "Perished"
          ],
          [
           "Hodges, Mr. Henry Price",
           2,
           "Perished"
          ],
          [
           "Oreskovic, Mr. Luka",
           3,
           "Perished"
          ],
          [
           "Bryhl, Mr. Kurt Arnold Gottfrid",
           2,
           "Perished"
          ],
          [
           "Ilmakangas, Miss. Pieta Sofia",
           3,
           "Perished"
          ],
          [
           "Hassan, Mr. Houssein G N",
           3,
           "Perished"
          ],
          [
           "Berriman, Mr. William John",
           2,
           "Perished"
          ],
          [
           "Troupiansky, Mr. Moses Aaron",
           2,
           "Perished"
          ],
          [
           "Williams, Mr. Leslie",
           3,
           "Perished"
          ],
          [
           "Ford, Mrs. Edward (Margaret Ann Watson)",
           3,
           "Perished"
          ],
          [
           "Cavendish, Mr. Tyrell William",
           1,
           "Perished"
          ],
          [
           "McNamee, Mr. Neal",
           3,
           "Perished"
          ],
          [
           "Crosby, Capt. Edward Gifford",
           1,
           "Perished"
          ],
          [
           "Abbott, Mr. Rossmore Edward",
           3,
           "Perished"
          ],
          [
           "Marvin, Mr. Daniel Warner",
           1,
           "Perished"
          ],
          [
           "Connaghton, Mr. Michael",
           3,
           "Perished"
          ],
          [
           "Vande Velde, Mr. Johannes Joseph",
           3,
           "Perished"
          ],
          [
           "Jonkoff, Mr. Lalio",
           3,
           "Perished"
          ],
          [
           "Carlsson, Mr. August Sigfrid",
           3,
           "Perished"
          ],
          [
           "Bailey, Mr. Percy Andrew",
           2,
           "Perished"
          ],
          [
           "Theobald, Mr. Thomas Leonard",
           3,
           "Perished"
          ],
          [
           "Nirva, Mr. Iisakki Antino Aijo",
           3,
           "Perished"
          ],
          [
           "Eklund, Mr. Hans Linus",
           3,
           "Perished"
          ],
          [
           "Mangan, Miss. Mary",
           3,
           "Perished"
          ],
          [
           "Gronnestad, Mr. Daniel Danielsen",
           3,
           "Perished"
          ],
          [
           "Lievens, Mr. Rene Aime",
           3,
           "Perished"
          ],
          [
           "Jensen, Mr. Niels Peder",
           3,
           "Perished"
          ],
          [
           "Mack, Mrs. (Mary)",
           2,
           "Perished"
          ],
          [
           "Myhrman, Mr. Pehr Fabian Oliver Malkolm",
           3,
           "Perished"
          ],
          [
           "Long, Mr. Milton Clyde",
           1,
           "Perished"
          ],
          [
           "Ali, Mr. William",
           3,
           "Perished"
          ],
          [
           "Harmer, Mr. Abraham (David Lishin)",
           3,
           "Perished"
          ],
          [
           "Rice, Master. George Hugh",
           3,
           "Perished"
          ],
          [
           "Guggenheim, Mr. Benjamin",
           1,
           "Perished"
          ],
          [
           "Gaskell, Mr. Alfred",
           2,
           "Perished"
          ],
          [
           "Dantcheff, Mr. Ristiu",
           3,
           "Perished"
          ],
          [
           "Otter, Mr. Richard",
           2,
           "Perished"
          ],
          [
           "Ibrahim Shawah, Mr. Yousseff",
           3,
           "Perished"
          ],
          [
           "Van Impe, Mrs. Jean Baptiste (Rosalie Paula Govaert)",
           3,
           "Perished"
          ],
          [
           "Ponesell, Mr. Martin",
           2,
           "Perished"
          ],
          [
           "Johansson, Mr. Karl Johan",
           3,
           "Perished"
          ],
          [
           "Andrews, Mr. Thomas Jr",
           1,
           "Perished"
          ],
          [
           "Pettersson, Miss. Ellen Natalia",
           3,
           "Perished"
          ],
          [
           "Meyer, Mr. August",
           2,
           "Perished"
          ],
          [
           "Alexander, Mr. William",
           3,
           "Perished"
          ],
          [
           "Lester, Mr. James",
           3,
           "Perished"
          ],
          [
           "Slemen, Mr. Richard James",
           2,
           "Perished"
          ],
          [
           "Andersson, Miss. Ebba Iris Alfrida",
           3,
           "Perished"
          ],
          [
           "Tomlin, Mr. Ernest Portage",
           3,
           "Perished"
          ],
          [
           "Heininen, Miss. Wendla Maria",
           3,
           "Perished"
          ],
          [
           "Mallet, Mr. Albert",
           2,
           "Perished"
          ],
          [
           "Holm, Mr. John Fredrik Alexander",
           3,
           "Perished"
          ],
          [
           "Skoog, Master. Karl Thorsten",
           3,
           "Perished"
          ],
          [
           "Reuchlin, Jonkheer. John George",
           1,
           "Perished"
          ],
          [
           "Panula, Master. Urho Abraham",
           3,
           "Perished"
          ],
          [
           "Augustsson, Mr. Albert",
           3,
           "Perished"
          ],
          [
           "Allum, Mr. Owen George",
           3,
           "Perished"
          ],
          [
           "Pasic, Mr. Jakob",
           3,
           "Perished"
          ],
          [
           "Alhomaki, Mr. Ilmari Rudolf",
           3,
           "Perished"
          ],
          [
           "Mudd, Mr. Thomas Charles",
           2,
           "Perished"
          ],
          [
           "Lemberopolous, Mr. Peter L",
           3,
           "Perished"
          ],
          [
           "Culumovic, Mr. Jeso",
           3,
           "Perished"
          ],
          [
           "Abbing, Mr. Anthony",
           3,
           "Perished"
          ],
          [
           "Markoff, Mr. Marin",
           3,
           "Perished"
          ],
          [
           "Harper, Rev. John",
           2,
           "Perished"
          ],
          [
           "Andersson, Master. Sigvard Harald Elias",
           3,
           "Perished"
          ],
          [
           "Svensson, Mr. Johan",
           3,
           "Perished"
          ],
          [
           "Boulos, Miss. Nourelain",
           3,
           "Perished"
          ],
          [
           "Carter, Mrs. Ernest Courtenay (Lilian Hughes)",
           2,
           "Perished"
          ],
          [
           "Hansen, Mr. Claus Peter",
           3,
           "Perished"
          ],
          [
           "Giles, Mr. Frederick Edward",
           2,
           "Perished"
          ],
          [
           "Gill, Mr. John William",
           2,
           "Perished"
          ],
          [
           "Roebling, Mr. Washington Augustus II",
           1,
           "Perished"
          ],
          [
           "Balkic, Mr. Cerin",
           3,
           "Perished"
          ],
          [
           "Carlsson, Mr. Frans Olof",
           1,
           "Perished"
          ],
          [
           "Vander Cruyssen, Mr. Victor",
           3,
           "Perished"
          ],
          [
           "Gustafsson, Mr. Alfred Ossian",
           3,
           "Perished"
          ],
          [
           "Petroff, Mr. Nedelio",
           3,
           "Perished"
          ],
          [
           "Markun, Mr. Johann",
           3,
           "Perished"
          ],
          [
           "Dahlberg, Miss. Gerda Ulrika",
           3,
           "Perished"
          ],
          [
           "Banfield, Mr. Frederick James",
           2,
           "Perished"
          ],
          [
           "Sutehall, Mr. Henry Jr",
           3,
           "Perished"
          ],
          [
           "Rice, Mrs. William (Margaret Norton)",
           3,
           "Perished"
          ],
          [
           "Montvila, Rev. Juozas",
           2,
           "Perished"
          ],
          [
           "Dooley, Mr. Patrick",
           3,
           "Perished"
          ]
         ],
         "hovertemplate": "Survival=%{customdata[2]}<br>Age=%{x}<br>Fare=%{y}<br>Name=%{customdata[0]}<br>Pclass=%{customdata[1]}<extra></extra>",
         "legendgroup": "Perished",
         "marker": {
          "color": "tomato",
          "symbol": "circle"
         },
         "mode": "markers",
         "name": "Perished",
         "orientation": "v",
         "showlegend": true,
         "type": "scatter",
         "x": [
          22,
          35,
          54,
          2,
          20,
          39,
          14,
          2,
          31,
          35,
          8,
          19,
          40,
          66,
          28,
          42,
          21,
          18,
          40,
          27,
          18,
          7,
          21,
          65,
          28.5,
          11,
          22,
          45,
          4,
          19,
          26,
          32,
          16,
          21,
          26,
          25,
          22,
          28,
          16,
          24,
          29,
          20,
          46,
          26,
          59,
          71,
          34,
          28,
          21,
          33,
          37,
          28,
          38,
          47,
          14.5,
          22,
          20,
          17,
          21,
          70.5,
          29,
          24,
          2,
          21,
          32.5,
          54,
          45,
          33,
          20,
          47,
          25,
          23,
          37,
          16,
          24,
          19,
          18,
          19,
          9,
          36.5,
          42,
          51,
          55.5,
          40.5,
          51,
          30,
          44,
          26,
          17,
          1,
          45,
          28,
          61,
          4,
          21,
          56,
          18,
          50,
          30,
          36,
          9,
          40,
          36,
          19,
          42,
          24,
          28,
          34,
          45.5,
          2,
          32,
          24,
          22,
          30,
          42,
          30,
          27,
          51,
          22,
          20.5,
          18,
          29,
          59,
          24,
          44,
          19,
          33,
          29,
          22,
          30,
          44,
          25,
          54,
          29,
          62,
          30,
          41,
          52,
          40,
          36,
          16,
          37,
          45,
          7,
          65,
          28,
          16,
          33,
          22,
          36,
          24,
          24,
          23.5,
          2,
          19,
          30,
          26,
          28,
          43,
          54,
          22,
          27,
          61,
          45.5,
          38,
          16,
          29,
          45,
          28,
          25,
          36,
          42,
          23,
          15,
          25,
          28,
          38,
          40,
          29,
          45,
          35,
          30,
          18,
          19,
          22,
          3,
          27,
          20,
          19,
          32,
          18,
          1,
          28,
          22,
          31,
          46,
          23,
          26,
          21,
          28,
          20,
          34,
          51,
          21,
          30,
          10,
          21,
          29,
          28,
          18,
          17,
          50,
          21,
          64,
          31,
          20,
          25,
          36,
          30,
          65,
          34,
          47,
          48,
          38,
          56,
          38,
          22,
          34,
          29,
          22,
          9,
          50,
          58,
          30,
          21,
          55,
          71,
          21,
          25,
          24,
          17,
          21,
          37,
          18,
          28,
          24,
          47,
          32,
          22,
          40.5,
          39,
          23,
          17,
          30,
          45,
          9,
          11,
          50,
          64,
          33,
          27,
          62,
          40,
          28,
          24,
          19,
          29,
          16,
          19,
          54,
          36,
          47,
          22,
          35,
          47,
          37,
          36,
          49,
          44,
          36,
          30,
          39,
          35,
          34,
          26,
          26,
          27,
          21,
          21,
          61,
          57,
          26,
          51,
          9,
          32,
          31,
          41,
          20,
          2,
          19,
          21,
          18,
          24,
          32,
          23,
          58,
          40,
          47,
          36,
          32,
          25,
          43,
          31,
          70,
          18,
          24.5,
          43,
          20,
          14,
          60,
          25,
          14,
          19,
          18,
          25,
          60,
          52,
          44,
          49,
          42,
          18,
          25,
          26,
          39,
          29,
          52,
          19,
          33,
          17,
          34,
          50,
          20,
          25,
          25,
          11,
          23,
          23,
          28.5,
          48,
          36,
          24,
          70,
          16,
          19,
          31,
          33,
          23,
          28,
          18,
          34,
          41,
          16,
          30.5,
          32,
          24,
          48,
          57,
          18,
          29,
          25,
          25,
          8,
          46,
          16,
          25,
          39,
          30,
          30,
          34,
          31,
          39,
          18,
          39,
          26,
          39,
          35,
          6,
          30.5,
          23,
          31,
          43,
          10,
          38,
          2,
          23,
          18,
          21,
          20,
          16,
          34.5,
          17,
          42,
          35,
          28,
          4,
          74,
          9,
          44,
          41,
          21,
          24,
          31,
          26,
          33,
          47,
          20,
          19,
          33,
          22,
          28,
          25,
          39,
          27,
          32
         ],
         "xaxis": "x",
         "y": [
          7.25,
          8.05,
          51.8625,
          21.075,
          8.05,
          31.275,
          7.8542,
          29.125,
          18,
          26,
          21.075,
          263,
          27.7208,
          10.5,
          82.1708,
          52,
          8.05,
          18,
          9.475,
          21,
          17.8,
          39.6875,
          7.8,
          61.9792,
          7.2292,
          46.9,
          7.2292,
          83.475,
          27.9,
          8.1583,
          8.6625,
          10.5,
          46.9,
          73.5,
          14.4542,
          7.65,
          9,
          47.1,
          34.375,
          8.05,
          8.05,
          7.8542,
          61.175,
          20.575,
          7.25,
          34.6542,
          26,
          7.8958,
          77.2875,
          8.6542,
          7.925,
          7.8958,
          7.8958,
          52,
          14.4542,
          8.05,
          9.825,
          14.4583,
          7.925,
          7.75,
          21,
          247.5208,
          31.275,
          73.5,
          30.0708,
          77.2875,
          6.975,
          7.8958,
          7.05,
          14.5,
          13,
          15.0458,
          53.1,
          9.2167,
          79.2,
          6.75,
          11.5,
          36.75,
          34.375,
          26,
          13,
          12.525,
          8.05,
          14.5,
          61.3792,
          8.05,
          16.1,
          7.775,
          8.6625,
          39.6875,
          27.9,
          56.4958,
          33.5,
          29.125,
          7.925,
          30.6958,
          7.8542,
          28.7125,
          13,
          0,
          31.3875,
          15.5,
          7.8958,
          13,
          8.4042,
          13,
          9.5,
          6.4958,
          7.225,
          10.4625,
          15.85,
          7.05,
          7.25,
          13,
          27,
          10.5,
          13,
          8.05,
          9.35,
          7.25,
          13,
          7.775,
          13.5,
          10.5,
          26,
          10.5,
          12.275,
          10.5,
          7.125,
          7.225,
          90,
          7.775,
          26,
          10.4625,
          26.55,
          16.1,
          20.2125,
          79.65,
          0,
          10.5,
          39.6875,
          29.7,
          7.75,
          29.125,
          7.75,
          7.8542,
          9.5,
          8.6625,
          7.8958,
          12.875,
          8.85,
          7.8958,
          7.2292,
          151.55,
          0,
          24,
          26,
          7.8958,
          26.25,
          14,
          7.25,
          7.8958,
          6.2375,
          28.5,
          153.4625,
          18,
          66.6,
          35.5,
          13,
          13,
          13,
          8.6625,
          9.225,
          7.2292,
          17.8,
          9.5,
          13,
          27.9,
          27.7208,
          14.4542,
          7.05,
          7.25,
          6.4958,
          8.05,
          135.6333,
          21.075,
          211.5,
          4.0125,
          7.775,
          7.925,
          73.5,
          46.9,
          7.925,
          7.7958,
          7.8542,
          26,
          10.5,
          8.05,
          9.825,
          15.85,
          8.6625,
          21,
          7.75,
          7.775,
          13,
          24.15,
          7.7333,
          7.875,
          14.4,
          20.2125,
          7.125,
          55.9,
          34.375,
          263,
          10.5,
          9.5,
          7.775,
          27.75,
          27.75,
          26.55,
          8.05,
          38.5,
          13,
          7.05,
          26.55,
          8.6625,
          9.8375,
          21,
          7.0458,
          7.5208,
          46.9,
          8.05,
          29.7,
          8.05,
          7.25,
          30.5,
          49.5042,
          8.05,
          151.55,
          7.7958,
          8.6625,
          7.75,
          9.5875,
          108.9,
          22.525,
          7.4958,
          34.0208,
          7.8958,
          7.8958,
          7.75,
          7.925,
          11.5,
          7.2292,
          8.6625,
          26.55,
          31.275,
          31.275,
          106.425,
          26,
          20.525,
          26,
          26.55,
          7.8958,
          13.5,
          24.15,
          7.8958,
          21.075,
          8.05,
          14.5,
          26,
          40.125,
          15,
          8.05,
          7.125,
          7.25,
          26,
          24.15,
          0,
          8.05,
          15.55,
          7.8958,
          31.275,
          8.05,
          14.4,
          16.1,
          10.5,
          14.4542,
          7.8542,
          16.1,
          32.3208,
          12.35,
          7.8958,
          7.0542,
          27.9,
          7.925,
          26.25,
          39.6875,
          7.8542,
          27.9,
          7.8958,
          8.4333,
          6.75,
          73.5,
          15.5,
          13,
          113.275,
          7.225,
          25.5875,
          7.4958,
          73.5,
          13,
          8.05,
          52,
          10.5,
          7.775,
          8.05,
          46.9,
          9.225,
          46.9,
          39,
          41.5792,
          39.6875,
          10.1708,
          7.7958,
          7.225,
          26.55,
          13.5,
          8.05,
          110.8833,
          7.65,
          14.4542,
          7.7417,
          7.8542,
          26,
          9.4833,
          13,
          7.65,
          7.775,
          7.0542,
          13,
          13,
          8.6625,
          26,
          7.925,
          18.7875,
          13,
          13,
          16.1,
          34.375,
          78.85,
          16.1,
          71,
          20.25,
          53.1,
          7.75,
          9.5,
          7.8958,
          7.7958,
          11.5,
          8.05,
          7.125,
          7.775,
          7.75,
          8.3625,
          9.5,
          7.8542,
          10.5,
          7.75,
          30,
          7.05,
          7.25,
          29.125,
          79.2,
          26,
          7.8958,
          13,
          7.2292,
          24.15,
          13,
          7.775,
          0,
          7.775,
          13,
          7.8875,
          24.15,
          10.5,
          31.275,
          8.05,
          7.925,
          37.0042,
          6.45,
          27.9,
          0,
          39.6875,
          7.8542,
          8.3,
          8.6625,
          7.925,
          10.5,
          6.4375,
          8.6625,
          7.55,
          7.8958,
          33,
          31.275,
          7.775,
          15.2458,
          26,
          14.1083,
          11.5,
          13,
          50.4958,
          7.8958,
          5,
          9,
          9.8458,
          7.8958,
          7.8958,
          10.5167,
          10.5,
          7.05,
          29.125,
          13,
          7.75
         ],
         "yaxis": "y"
        },
        {
         "customdata": [
          [
           "Cumings, Mrs. John Bradley (Florence Briggs Thayer)",
           1,
           "Survived"
          ],
          [
           "Heikkinen, Miss. Laina",
           3,
           "Survived"
          ],
          [
           "Futrelle, Mrs. Jacques Heath (Lily May Peel)",
           1,
           "Survived"
          ],
          [
           "Johnson, Mrs. Oscar W (Elisabeth Vilhelmina Berg)",
           3,
           "Survived"
          ],
          [
           "Nasser, Mrs. Nicholas (Adele Achem)",
           2,
           "Survived"
          ],
          [
           "Sandstrom, Miss. Marguerite Rut",
           3,
           "Survived"
          ],
          [
           "Bonnell, Miss. Elizabeth",
           1,
           "Survived"
          ],
          [
           "Hewlett, Mrs. (Mary D Kingcome) ",
           2,
           "Survived"
          ],
          [
           "Beesley, Mr. Lawrence",
           2,
           "Survived"
          ],
          [
           "McGowan, Miss. Anna \"Annie\"",
           3,
           "Survived"
          ],
          [
           "Sloper, Mr. William Thompson",
           1,
           "Survived"
          ],
          [
           "Asplund, Mrs. Carl Oscar (Selma Augusta Emilia Johansson)",
           3,
           "Survived"
          ],
          [
           "Nicola-Yarred, Miss. Jamila",
           3,
           "Survived"
          ],
          [
           "Laroche, Miss. Simonne Marie Anne Andree",
           2,
           "Survived"
          ],
          [
           "Devaney, Miss. Margaret Delia",
           3,
           "Survived"
          ],
          [
           "Harper, Mrs. Henry Sleeper (Myna Haxtun)",
           1,
           "Survived"
          ],
          [
           "Faunthorpe, Mrs. Lizzie (Elizabeth Anne Wilkinson)",
           2,
           "Survived"
          ],
          [
           "Rugg, Miss. Emily",
           2,
           "Survived"
          ],
          [
           "West, Miss. Constance Mirium",
           2,
           "Survived"
          ],
          [
           "Icard, Miss. Amelie",
           1,
           "Survived"
          ],
          [
           "Nye, Mrs. (Elizabeth Ramell)",
           2,
           "Survived"
          ],
          [
           "Andersson, Miss. Erna Alexandra",
           3,
           "Survived"
          ],
          [
           "Bing, Mr. Lee",
           3,
           "Survived"
          ],
          [
           "Caldwell, Master. Alden Gates",
           2,
           "Survived"
          ],
          [
           "Dowdell, Miss. Elizabeth",
           3,
           "Survived"
          ],
          [
           "Sheerlinck, Mr. Jan Baptist",
           3,
           "Survived"
          ],
          [
           "Ilett, Miss. Bertha",
           2,
           "Survived"
          ],
          [
           "Backstrom, Mrs. Karl Alfred (Maria Mathilda Gustafsson)",
           3,
           "Survived"
          ],
          [
           "Fortune, Miss. Mabel Helen",
           1,
           "Survived"
          ],
          [
           "Greenfield, Mr. William Bertram",
           1,
           "Survived"
          ],
          [
           "Doling, Mrs. John T (Ada Julia Bone)",
           2,
           "Survived"
          ],
          [
           "Salkjelsvik, Miss. Anna Kristine",
           3,
           "Survived"
          ],
          [
           "Webber, Miss. Susan",
           2,
           "Survived"
          ],
          [
           "Nicola-Yarred, Master. Elias",
           3,
           "Survived"
          ],
          [
           "Madsen, Mr. Fridtjof Arne",
           3,
           "Survived"
          ],
          [
           "Weisz, Mrs. Leopold (Mathilde Francoise Pede)",
           2,
           "Survived"
          ],
          [
           "Newsom, Miss. Helen Monypeny",
           1,
           "Survived"
          ],
          [
           "Nysten, Miss. Anna Sofia",
           3,
           "Survived"
          ],
          [
           "Hakkarainen, Mrs. Pekka Pietari (Elin Matilda Dolck)",
           3,
           "Survived"
          ],
          [
           "Andersson, Mr. August Edvard (\"Wennerstrom\")",
           3,
           "Survived"
          ],
          [
           "Pears, Mrs. Thomas (Edith Wearne)",
           1,
           "Survived"
          ],
          [
           "Gilnagh, Miss. Katherine \"Katie\"",
           3,
           "Survived"
          ],
          [
           "Watt, Mrs. James (Elizabeth \"Bessie\" Inglis Milne)",
           2,
           "Survived"
          ],
          [
           "Goldsmith, Master. Frank John William \"Frankie\"",
           3,
           "Survived"
          ],
          [
           "Johnson, Miss. Eleanor Ileen",
           3,
           "Survived"
          ],
          [
           "Becker, Master. Richard F",
           2,
           "Survived"
          ],
          [
           "Kink-Heilmann, Miss. Luise Gretchen",
           3,
           "Survived"
          ],
          [
           "Romaine, Mr. Charles Hallace (\"Mr C Rolmane\")",
           1,
           "Survived"
          ],
          [
           "Pinsky, Mrs. (Rosa)",
           2,
           "Survived"
          ],
          [
           "Andersen-Jensen, Miss. Carla Christine Nielsine",
           3,
           "Survived"
          ],
          [
           "Navratil, Master. Michel M",
           2,
           "Survived"
          ],
          [
           "Brown, Mrs. James Joseph (Margaret Tobin)",
           1,
           "Survived"
          ],
          [
           "Lurette, Miss. Elise",
           1,
           "Survived"
          ],
          [
           "Cohen, Mr. Gurshon \"Gus\"",
           3,
           "Survived"
          ],
          [
           "Albimona, Mr. Nassef Cassem",
           3,
           "Survived"
          ],
          [
           "Carr, Miss. Helen \"Ellen\"",
           3,
           "Survived"
          ],
          [
           "Blank, Mr. Henry",
           1,
           "Survived"
          ],
          [
           "Cameron, Miss. Clear Annie",
           2,
           "Survived"
          ],
          [
           "Newell, Miss. Madeleine",
           1,
           "Survived"
          ],
          [
           "Honkanen, Miss. Eliina",
           3,
           "Survived"
          ],
          [
           "Bazzani, Miss. Albina",
           1,
           "Survived"
          ],
          [
           "Sunderland, Mr. Victor Francis",
           3,
           "Survived"
          ],
          [
           "Hoyt, Mr. Frederick Maxfield",
           1,
           "Survived"
          ],
          [
           "Mellors, Mr. William John",
           2,
           "Survived"
          ],
          [
           "Harris, Mrs. Henry Birkhardt (Irene Wallach)",
           1,
           "Survived"
          ],
          [
           "Asplund, Miss. Lillian Gertrud",
           3,
           "Survived"
          ],
          [
           "Collyer, Miss. Marjorie \"Lottie\"",
           2,
           "Survived"
          ],
          [
           "Hamalainen, Mrs. William (Anna)",
           2,
           "Survived"
          ],
          [
           "Beckwith, Mr. Richard Leonard",
           1,
           "Survived"
          ],
          [
           "Touma, Mrs. Darwis (Hanne Youssef Razi)",
           3,
           "Survived"
          ],
          [
           "Cherry, Miss. Gladys",
           1,
           "Survived"
          ],
          [
           "Ward, Miss. Anna",
           1,
           "Survived"
          ],
          [
           "Parrish, Mrs. (Lutie Davis)",
           2,
           "Survived"
          ],
          [
           "Asplund, Master. Edvin Rojj Felix",
           3,
           "Survived"
          ],
          [
           "Persson, Mr. Ernst Ulrik",
           3,
           "Survived"
          ],
          [
           "Graham, Mrs. William Thompson (Edith Junkins)",
           1,
           "Survived"
          ],
          [
           "Bissette, Miss. Amelia",
           1,
           "Survived"
          ],
          [
           "Tornquist, Mr. William Henry",
           3,
           "Survived"
          ],
          [
           "Mellinger, Mrs. (Elizabeth Anne Maidment)",
           2,
           "Survived"
          ],
          [
           "Andrews, Miss. Kornelia Theodosia",
           1,
           "Survived"
          ],
          [
           "Abbott, Mrs. Stanton (Rosa Hunt)",
           3,
           "Survived"
          ],
          [
           "Dorking, Mr. Edward Arthur",
           3,
           "Survived"
          ],
          [
           "de Mulder, Mr. Theodore",
           3,
           "Survived"
          ],
          [
           "Hosono, Mr. Masabumi",
           2,
           "Survived"
          ],
          [
           "Connolly, Miss. Kate",
           3,
           "Survived"
          ],
          [
           "Barber, Miss. Ellen \"Nellie\"",
           1,
           "Survived"
          ],
          [
           "Bishop, Mrs. Dickinson H (Helen Walton)",
           1,
           "Survived"
          ],
          [
           "Baxter, Mrs. James (Helene DeLaudeniere Chaput)",
           1,
           "Survived"
          ],
          [
           "Allison, Master. Hudson Trevor",
           1,
           "Survived"
          ],
          [
           "Penasco y Castellana, Mrs. Victor de Satode (Maria Josefa Perez de Soto y Vallejo)",
           1,
           "Survived"
          ],
          [
           "Francatelli, Miss. Laura Mabel",
           1,
           "Survived"
          ],
          [
           "Hays, Miss. Margaret Bechstein",
           1,
           "Survived"
          ],
          [
           "Ryerson, Miss. Emily Borie",
           1,
           "Survived"
          ],
          [
           "Nilsson, Miss. Helmina Josefina",
           3,
           "Survived"
          ],
          [
           "Kantor, Mrs. Sinai (Miriam Sternin)",
           2,
           "Survived"
          ],
          [
           "Wick, Miss. Mary Natalie",
           1,
           "Survived"
          ],
          [
           "Spedden, Mrs. Frederic Oakley (Margaretta Corning Stone)",
           1,
           "Survived"
          ],
          [
           "Slayter, Miss. Hilda Mary",
           2,
           "Survived"
          ],
          [
           "Caldwell, Mrs. Albert Francis (Sylvia Mae Harbaugh)",
           2,
           "Survived"
          ],
          [
           "Young, Miss. Marie Grice",
           1,
           "Survived"
          ],
          [
           "Ball, Mrs. (Ada E Hall)",
           2,
           "Survived"
          ],
          [
           "Goldsmith, Mrs. Frank John (Emily Alice Brown)",
           3,
           "Survived"
          ],
          [
           "Hippach, Miss. Jean Gertrude",
           1,
           "Survived"
          ],
          [
           "Burns, Miss. Elizabeth Margaret",
           1,
           "Survived"
          ],
          [
           "Dahl, Mr. Karl Edwart",
           3,
           "Survived"
          ],
          [
           "Navratil, Master. Edmond Roger",
           2,
           "Survived"
          ],
          [
           "Fortune, Miss. Alice Elizabeth",
           1,
           "Survived"
          ],
          [
           "Brown, Miss. Amelia \"Mildred\"",
           2,
           "Survived"
          ],
          [
           "Smith, Miss. Marion Elsie",
           2,
           "Survived"
          ],
          [
           "Coutts, Master. William Loch \"William\"",
           3,
           "Survived"
          ],
          [
           "Bowerman, Miss. Elsie Edith",
           1,
           "Survived"
          ],
          [
           "Warren, Mrs. Frank Manley (Anna Sophia Atkinson)",
           1,
           "Survived"
          ],
          [
           "Aubart, Mme. Leontine Pauline",
           1,
           "Survived"
          ],
          [
           "Harder, Mr. George Achilles",
           1,
           "Survived"
          ],
          [
           "Landergren, Miss. Aurora Adelia",
           3,
           "Survived"
          ],
          [
           "Bidois, Miss. Rosalie",
           1,
           "Survived"
          ],
          [
           "Nakid, Miss. Maria (\"Mary\")",
           3,
           "Survived"
          ],
          [
           "Holverson, Mrs. Alexander Oskar (Mary Aline Towner)",
           1,
           "Survived"
          ],
          [
           "Buss, Miss. Kate",
           2,
           "Survived"
          ],
          [
           "Lehmann, Miss. Bertha",
           2,
           "Survived"
          ],
          [
           "Carter, Mr. William Ernest",
           1,
           "Survived"
          ],
          [
           "Jansson, Mr. Carl Olof",
           3,
           "Survived"
          ],
          [
           "Newell, Miss. Marjorie",
           1,
           "Survived"
          ],
          [
           "Sandstrom, Mrs. Hjalmar (Agnes Charlotta Bengtsson)",
           3,
           "Survived"
          ],
          [
           "Trout, Mrs. William H (Jessie L)",
           2,
           "Survived"
          ],
          [
           "Niskanen, Mr. Juha",
           3,
           "Survived"
          ],
          [
           "Richards, Master. William Rowe",
           2,
           "Survived"
          ],
          [
           "Minahan, Miss. Daisy E",
           1,
           "Survived"
          ],
          [
           "Sundman, Mr. Johan Julian",
           3,
           "Survived"
          ],
          [
           "Drew, Mrs. James Vivian (Lulu Thorne Christian)",
           2,
           "Survived"
          ],
          [
           "Silven, Miss. Lyyli Karoliina",
           2,
           "Survived"
          ],
          [
           "Clarke, Mrs. Charles V (Ada Maria Winfield)",
           2,
           "Survived"
          ],
          [
           "Phillips, Miss. Kate Florence (\"Mrs Kate Louise Phillips Marshall\")",
           2,
           "Survived"
          ],
          [
           "Pickard, Mr. Berk (Berk Trembisky)",
           3,
           "Survived"
          ],
          [
           "Bjornstrom-Steffansson, Mr. Mauritz Hakan",
           1,
           "Survived"
          ],
          [
           "Louch, Mrs. Charles Alexander (Alice Adelaide Slow)",
           2,
           "Survived"
          ],
          [
           "Carter, Miss. Lucile Polk",
           1,
           "Survived"
          ],
          [
           "Richards, Mrs. Sidney (Emily Hocking)",
           2,
           "Survived"
          ],
          [
           "Hart, Mrs. Benjamin (Esther Ada Bloomfield)",
           2,
           "Survived"
          ],
          [
           "Reynaldo, Ms. Encarnacion",
           2,
           "Survived"
          ],
          [
           "Dodge, Master. Washington",
           1,
           "Survived"
          ],
          [
           "Mellinger, Miss. Madeleine Violet",
           2,
           "Survived"
          ],
          [
           "Seward, Mr. Frederic Kimber",
           1,
           "Survived"
          ],
          [
           "Baclini, Miss. Marie Catherine",
           3,
           "Survived"
          ],
          [
           "Peuchen, Major. Arthur Godfrey",
           1,
           "Survived"
          ],
          [
           "Goldenberg, Mr. Samuel L",
           1,
           "Survived"
          ],
          [
           "Jalsevac, Mr. Ivan",
           3,
           "Survived"
          ],
          [
           "Toomey, Miss. Ellen",
           2,
           "Survived"
          ],
          [
           "Anderson, Mr. Harry",
           1,
           "Survived"
          ],
          [
           "Baclini, Miss. Helene Barbara",
           3,
           "Survived"
          ],
          [
           "West, Mrs. Edwy Arthur (Ada Mary Worth)",
           2,
           "Survived"
          ],
          [
           "Jerwan, Mrs. Amin S (Marie Marthe Thuillard)",
           2,
           "Survived"
          ],
          [
           "Hirvonen, Miss. Hildur E",
           3,
           "Survived"
          ],
          [
           "Turkula, Mrs. (Hedwig)",
           3,
           "Survived"
          ],
          [
           "Bishop, Mr. Dickinson H",
           1,
           "Survived"
          ],
          [
           "Hoyt, Mrs. Frederick Maxfield (Jane Anne Forby)",
           1,
           "Survived"
          ],
          [
           "Coutts, Master. Eden Leslie \"Neville\"",
           3,
           "Survived"
          ],
          [
           "Eustis, Miss. Elizabeth Mussey",
           1,
           "Survived"
          ],
          [
           "Maioni, Miss. Roberta",
           1,
           "Survived"
          ],
          [
           "Quick, Mrs. Frederick Charles (Jane Richards)",
           2,
           "Survived"
          ],
          [
           "Lang, Mr. Fang",
           3,
           "Survived"
          ],
          [
           "Daly, Mr. Eugene Patrick",
           3,
           "Survived"
          ],
          [
           "McGough, Mr. James Robert",
           1,
           "Survived"
          ],
          [
           "Rothschild, Mrs. Martin (Elizabeth L. Barrett)",
           1,
           "Survived"
          ],
          [
           "Lemore, Mrs. (Amelia Milley)",
           2,
           "Survived"
          ],
          [
           "Angle, Mrs. William A (Florence \"Mary\" Agnes Hughes)",
           2,
           "Survived"
          ],
          [
           "Perreault, Miss. Anne",
           1,
           "Survived"
          ],
          [
           "Hippach, Mrs. Louis Albert (Ida Sophia Fischer)",
           1,
           "Survived"
          ],
          [
           "Ridsdale, Miss. Lucy",
           2,
           "Survived"
          ],
          [
           "Quick, Miss. Phyllis May",
           2,
           "Survived"
          ],
          [
           "Hart, Miss. Eva Miriam",
           2,
           "Survived"
          ],
          [
           "LeRoy, Miss. Bertha",
           1,
           "Survived"
          ],
          [
           "Frolicher, Miss. Hedwig Margaritha",
           1,
           "Survived"
          ],
          [
           "Crosby, Miss. Harriet R",
           1,
           "Survived"
          ],
          [
           "Beane, Mr. Edward",
           2,
           "Survived"
          ],
          [
           "Beane, Mrs. Edward (Ethel Clarke)",
           2,
           "Survived"
          ],
          [
           "Davies, Master. John Morgan Jr",
           2,
           "Survived"
          ],
          [
           "Thayer, Mr. John Borland Jr",
           1,
           "Survived"
          ],
          [
           "Leeni, Mr. Fahim (\"Philip Zenni\")",
           3,
           "Survived"
          ],
          [
           "Ohman, Miss. Velin",
           3,
           "Survived"
          ],
          [
           "Duff Gordon, Lady. (Lucille Christiana Sutherland) (\"Mrs Morgan\")",
           1,
           "Survived"
          ],
          [
           "Taussig, Mrs. Emil (Tillie Mandelbaum)",
           1,
           "Survived"
          ],
          [
           "de Messemaeker, Mrs. Guillaume Joseph (Emma)",
           3,
           "Survived"
          ],
          [
           "Jonsson, Mr. Carl",
           3,
           "Survived"
          ],
          [
           "Harris, Mr. George",
           2,
           "Survived"
          ],
          [
           "Appleton, Mrs. Edward Dale (Charlotte Lamson)",
           1,
           "Survived"
          ],
          [
           "Flynn, Mr. John Irwin (\"Irving\")",
           1,
           "Survived"
          ],
          [
           "Garside, Miss. Ethel",
           2,
           "Survived"
          ],
          [
           "Silvey, Mrs. William Baird (Alice Munger)",
           1,
           "Survived"
          ],
          [
           "Jussila, Mr. Eiriik",
           3,
           "Survived"
          ],
          [
           "Christy, Miss. Julie Rachel",
           2,
           "Survived"
          ],
          [
           "Thayer, Mrs. John Borland (Marian Longstreth Morris)",
           1,
           "Survived"
          ],
          [
           "Taussig, Miss. Ruth",
           1,
           "Survived"
          ],
          [
           "Frolicher-Stehli, Mr. Maxmillian",
           1,
           "Survived"
          ],
          [
           "Stephenson, Mrs. Walter Bertram (Martha Eustis)",
           1,
           "Survived"
          ],
          [
           "Duff Gordon, Sir. Cosmo Edmund (\"Mr Morgan\")",
           1,
           "Survived"
          ],
          [
           "Jacobsohn, Mrs. Sidney Samuel (Amy Frances Christy)",
           2,
           "Survived"
          ],
          [
           "Homer, Mr. Harry (\"Mr E Haven\")",
           1,
           "Survived"
          ],
          [
           "Daniel, Mr. Robert Williams",
           1,
           "Survived"
          ],
          [
           "Laroche, Mrs. Joseph (Juliette Marie Louise Lafargue)",
           2,
           "Survived"
          ],
          [
           "Shutes, Miss. Elizabeth W",
           1,
           "Survived"
          ],
          [
           "Herman, Miss. Alice",
           2,
           "Survived"
          ],
          [
           "Becker, Miss. Marion Louise",
           2,
           "Survived"
          ],
          [
           "Kimball, Mr. Edwin Nelson Jr",
           1,
           "Survived"
          ],
          [
           "Nakid, Mr. Sahid",
           3,
           "Survived"
          ],
          [
           "Longley, Miss. Gretchen Fiske",
           1,
           "Survived"
          ],
          [
           "Barkworth, Mr. Algernon Henry Wilson",
           1,
           "Survived"
          ],
          [
           "Stahelin-Maeglin, Dr. Max",
           1,
           "Survived"
          ],
          [
           "Davis, Miss. Mary",
           2,
           "Survived"
          ],
          [
           "Sagesser, Mlle. Emma",
           1,
           "Survived"
          ],
          [
           "Baclini, Miss. Eugenie",
           3,
           "Survived"
          ],
          [
           "Harper, Mr. Henry Sleeper",
           1,
           "Survived"
          ],
          [
           "Simonius-Blumer, Col. Oberst Alfons",
           1,
           "Survived"
          ],
          [
           "Stanley, Miss. Amy Zillah Elsie",
           3,
           "Survived"
          ],
          [
           "Doling, Miss. Elsie",
           2,
           "Survived"
          ],
          [
           "Frauenthal, Dr. Henry William",
           1,
           "Survived"
          ],
          [
           "Lindqvist, Mr. Eino William",
           3,
           "Survived"
          ],
          [
           "Brown, Mrs. Thomas William Solomon (Elizabeth Catherine Ford)",
           2,
           "Survived"
          ],
          [
           "Wilhelms, Mr. Charles",
           2,
           "Survived"
          ],
          [
           "Turja, Miss. Anna Sofia",
           3,
           "Survived"
          ],
          [
           "Cardeza, Mr. Thomas Drake Martinez",
           1,
           "Survived"
          ],
          [
           "Hassab, Mr. Hammad",
           1,
           "Survived"
          ],
          [
           "Madill, Miss. Georgette Alexandra",
           1,
           "Survived"
          ],
          [
           "Dick, Mr. Albert Adrian",
           1,
           "Survived"
          ],
          [
           "Karun, Miss. Manca",
           3,
           "Survived"
          ],
          [
           "Astor, Mrs. John Jacob (Madeleine Talmadge Force)",
           1,
           "Survived"
          ],
          [
           "Silverthorne, Mr. Spencer Victor",
           1,
           "Survived"
          ],
          [
           "Kelly, Mrs. Florence \"Fannie\"",
           2,
           "Survived"
          ],
          [
           "Calderhead, Mr. Edward Pennington",
           1,
           "Survived"
          ],
          [
           "Cleaver, Miss. Alice",
           1,
           "Survived"
          ],
          [
           "Mayne, Mlle. Berthe Antonine (\"Mrs de Villiers\")",
           1,
           "Survived"
          ],
          [
           "Taylor, Mr. Elmer Zebley",
           1,
           "Survived"
          ],
          [
           "Endres, Miss. Caroline Louise",
           1,
           "Survived"
          ],
          [
           "Troutt, Miss. Edwina Celia \"Winnie\"",
           2,
           "Survived"
          ],
          [
           "Harper, Miss. Annie Jessie \"Nina\"",
           2,
           "Survived"
          ],
          [
           "Chambers, Mr. Norman Campbell",
           1,
           "Survived"
          ],
          [
           "Renouf, Mrs. Peter Henry (Lillian Jefferys)",
           2,
           "Survived"
          ],
          [
           "Allen, Miss. Elisabeth Walton",
           1,
           "Survived"
          ],
          [
           "Lesurer, Mr. Gustave J",
           1,
           "Survived"
          ],
          [
           "Ryerson, Miss. Susan Parker \"Suzette\"",
           1,
           "Survived"
          ],
          [
           "Stranden, Mr. Juho",
           3,
           "Survived"
          ],
          [
           "Sinkkonen, Miss. Anna",
           2,
           "Survived"
          ],
          [
           "Wells, Miss. Joan",
           2,
           "Survived"
          ],
          [
           "Moor, Master. Meier",
           3,
           "Survived"
          ],
          [
           "Herman, Mrs. Samuel (Jane Laver)",
           2,
           "Survived"
          ],
          [
           "Hamalainen, Master. Viljo",
           2,
           "Survived"
          ],
          [
           "Rothes, the Countess. of (Lucy Noel Martha Dyer-Edwards)",
           1,
           "Survived"
          ],
          [
           "Barah, Mr. Hanna Assi",
           3,
           "Survived"
          ],
          [
           "Carter, Mrs. William Ernest (Lucile Polk)",
           1,
           "Survived"
          ],
          [
           "Hogeboom, Mrs. John C (Anna Andrews)",
           1,
           "Survived"
          ],
          [
           "Hocking, Mrs. Elizabeth (Eliza Needs)",
           2,
           "Survived"
          ],
          [
           "Emanuel, Miss. Virginia Ethel",
           3,
           "Survived"
          ],
          [
           "Robert, Mrs. Edward Scott (Elisabeth Walton McMillan)",
           1,
           "Survived"
          ],
          [
           "Ayoub, Miss. Banoura",
           3,
           "Survived"
          ],
          [
           "Dick, Mrs. Albert Adrian (Vera Gillespie)",
           1,
           "Survived"
          ],
          [
           "Sjoblom, Miss. Anna Sofia",
           3,
           "Survived"
          ],
          [
           "Dean, Master. Bertram Vere",
           3,
           "Survived"
          ],
          [
           "Leader, Dr. Alice (Farnham)",
           1,
           "Survived"
          ],
          [
           "Osman, Mrs. Mara",
           3,
           "Survived"
          ],
          [
           "Collyer, Mrs. Harvey (Charlotte Annie Tate)",
           2,
           "Survived"
          ],
          [
           "Carter, Master. William Thornton II",
           1,
           "Survived"
          ],
          [
           "Thomas, Master. Assad Alexander",
           3,
           "Survived"
          ],
          [
           "Hedman, Mr. Oskar Arvid",
           3,
           "Survived"
          ],
          [
           "Chambers, Mrs. Norman Campbell (Bertha Griggs)",
           1,
           "Survived"
          ],
          [
           "Hays, Mrs. Charles Melville (Clara Jennings Gregg)",
           1,
           "Survived"
          ],
          [
           "Lulic, Mr. Nikola",
           3,
           "Survived"
          ],
          [
           "Moor, Mrs. (Beila)",
           3,
           "Survived"
          ],
          [
           "Mallet, Master. Andre",
           2,
           "Survived"
          ],
          [
           "Stone, Mrs. George Nelson (Martha Evelyn)",
           1,
           "Survived"
          ],
          [
           "Yasbeck, Mrs. Antoni (Selini Alexander)",
           3,
           "Survived"
          ],
          [
           "Richards, Master. George Sibley",
           2,
           "Survived"
          ],
          [
           "Compton, Miss. Sara Rebecca",
           1,
           "Survived"
          ],
          [
           "Chip, Mr. Chang",
           3,
           "Survived"
          ],
          [
           "Serepeca, Miss. Augusta",
           1,
           "Survived"
          ],
          [
           "Lines, Miss. Mary Conover",
           1,
           "Survived"
          ],
          [
           "Aks, Mrs. Sam (Leah Rosen)",
           3,
           "Survived"
          ],
          [
           "Wick, Mrs. George Dennick (Mary Hitchcock)",
           1,
           "Survived"
          ],
          [
           "Daly, Mr. Peter Denis ",
           1,
           "Survived"
          ],
          [
           "Baclini, Mrs. Solomon (Latifa Qurban)",
           3,
           "Survived"
          ],
          [
           "Swift, Mrs. Frederick Joel (Margaret Welles Barron)",
           1,
           "Survived"
          ],
          [
           "Bystrom, Mrs. (Karolina)",
           2,
           "Survived"
          ],
          [
           "Duran y More, Miss. Asuncion",
           2,
           "Survived"
          ],
          [
           "Johnson, Master. Harold Theodor",
           3,
           "Survived"
          ],
          [
           "Beckwith, Mrs. Richard Leonard (Sallie Monypeny)",
           1,
           "Survived"
          ],
          [
           "Abelson, Mrs. Samuel (Hannah Wizosky)",
           2,
           "Survived"
          ],
          [
           "Najib, Miss. Adele Kiamie \"Jane\"",
           3,
           "Survived"
          ],
          [
           "Potter, Mrs. Thomas Jr (Lily Alexenia Wilson)",
           1,
           "Survived"
          ],
          [
           "Shelley, Mrs. William (Imanita Parrish Hall)",
           2,
           "Survived"
          ],
          [
           "Graham, Miss. Margaret Edith",
           1,
           "Survived"
          ],
          [
           "Behr, Mr. Karl Howell",
           1,
           "Survived"
          ]
         ],
         "hovertemplate": "Survival=%{customdata[2]}<br>Age=%{x}<br>Fare=%{y}<br>Name=%{customdata[0]}<br>Pclass=%{customdata[1]}<extra></extra>",
         "legendgroup": "Survived",
         "marker": {
          "color": "forestgreen",
          "symbol": "circle"
         },
         "mode": "markers",
         "name": "Survived",
         "orientation": "v",
         "showlegend": true,
         "type": "scatter",
         "x": [
          38,
          26,
          35,
          27,
          14,
          4,
          58,
          55,
          34,
          15,
          28,
          38,
          14,
          3,
          19,
          49,
          29,
          21,
          5,
          38,
          29,
          17,
          32,
          0.83,
          30,
          29,
          17,
          33,
          23,
          23,
          34,
          21,
          32.5,
          12,
          24,
          29,
          19,
          22,
          24,
          27,
          22,
          16,
          40,
          9,
          1,
          1,
          4,
          45,
          32,
          19,
          3,
          44,
          58,
          18,
          26,
          16,
          40,
          35,
          31,
          27,
          32,
          16,
          38,
          19,
          35,
          5,
          8,
          24,
          37,
          29,
          30,
          35,
          50,
          3,
          25,
          58,
          35,
          25,
          41,
          63,
          35,
          19,
          30,
          42,
          22,
          26,
          19,
          50,
          0.92,
          17,
          30,
          24,
          18,
          26,
          24,
          31,
          40,
          30,
          22,
          36,
          36,
          31,
          16,
          41,
          45,
          2,
          24,
          24,
          40,
          3,
          22,
          60,
          24,
          25,
          22,
          42,
          1,
          35,
          36,
          17,
          36,
          21,
          23,
          24,
          28,
          39,
          3,
          33,
          44,
          34,
          18,
          28,
          19,
          32,
          28,
          42,
          14,
          24,
          45,
          28,
          4,
          13,
          34,
          5,
          52,
          49,
          29,
          50,
          48,
          0.75,
          33,
          23,
          2,
          63,
          25,
          35,
          9,
          54,
          16,
          33,
          26,
          29,
          36,
          54,
          34,
          36,
          30,
          44,
          50,
          2,
          7,
          30,
          22,
          36,
          32,
          19,
          8,
          17,
          22,
          22,
          48,
          39,
          36,
          32,
          62,
          53,
          36,
          34,
          39,
          32,
          25,
          39,
          18,
          60,
          52,
          49,
          24,
          35,
          27,
          22,
          40,
          24,
          4,
          42,
          20,
          21,
          80,
          32,
          28,
          24,
          0.75,
          48,
          56,
          23,
          18,
          50,
          20,
          40,
          31,
          18,
          36,
          27,
          15,
          31,
          4,
          18,
          35,
          45,
          42,
          22,
          24,
          48,
          38,
          27,
          6,
          27,
          30,
          29,
          35,
          21,
          31,
          30,
          4,
          6,
          48,
          0.67,
          33,
          20,
          36,
          51,
          54,
          5,
          43,
          13,
          17,
          18,
          1,
          49,
          31,
          31,
          11,
          0.42,
          27,
          33,
          52,
          27,
          27,
          1,
          62,
          15,
          0.83,
          39,
          32,
          30,
          16,
          18,
          45,
          51,
          24,
          48,
          42,
          27,
          4,
          47,
          28,
          15,
          56,
          25,
          19,
          26
         ],
         "xaxis": "x",
         "y": [
          71.2833,
          7.925,
          53.1,
          11.1333,
          30.0708,
          16.7,
          26.55,
          16,
          13,
          8.0292,
          35.5,
          31.3875,
          11.2417,
          41.5792,
          7.8792,
          76.7292,
          26,
          10.5,
          27.75,
          80,
          10.5,
          7.925,
          56.4958,
          29,
          12.475,
          9.5,
          10.5,
          15.85,
          263,
          63.3583,
          23,
          7.65,
          13,
          11.2417,
          7.1417,
          26,
          26.2833,
          7.75,
          15.85,
          7.7958,
          66.6,
          7.7333,
          15.75,
          20.525,
          11.1333,
          39,
          22.025,
          26.55,
          13,
          7.8542,
          26,
          27.7208,
          146.5208,
          8.05,
          18.7875,
          7.75,
          31,
          21,
          113.275,
          7.925,
          76.2917,
          8.05,
          90,
          10.5,
          83.475,
          31.3875,
          26.25,
          14.5,
          52.5542,
          15.2458,
          86.5,
          512.3292,
          26,
          31.3875,
          7.775,
          153.4625,
          135.6333,
          0,
          19.5,
          77.9583,
          20.25,
          8.05,
          9.5,
          13,
          7.75,
          78.85,
          91.0792,
          247.5208,
          151.55,
          108.9,
          56.9292,
          83.1583,
          262.375,
          7.8542,
          26,
          164.8667,
          134.5,
          12.35,
          29,
          135.6333,
          13,
          20.525,
          57.9792,
          134.5,
          8.05,
          26,
          263,
          13,
          13,
          15.9,
          55,
          75.25,
          69.3,
          55.4417,
          7.25,
          227.525,
          15.7417,
          52,
          13,
          12,
          120,
          7.7958,
          113.275,
          16.7,
          12.65,
          7.925,
          18.75,
          90,
          7.925,
          32.5,
          13,
          26,
          26,
          8.05,
          26.55,
          26,
          120,
          18.75,
          26.25,
          13,
          81.8583,
          19.5,
          26.55,
          19.2583,
          30.5,
          89.1042,
          7.8958,
          10.5,
          26.55,
          19.2583,
          27.75,
          13.7917,
          12.2875,
          9.5875,
          91.0792,
          90,
          15.9,
          78.2667,
          86.5,
          26,
          56.4958,
          7.75,
          26.2875,
          59.4,
          10.5,
          26,
          93.5,
          57.9792,
          10.5,
          26,
          26.25,
          106.425,
          49.5,
          71,
          26,
          26,
          36.75,
          110.8833,
          7.225,
          7.775,
          39.6,
          79.65,
          17.4,
          7.8542,
          10.5,
          51.4792,
          26.3875,
          13,
          55.9,
          7.925,
          30,
          110.8833,
          79.65,
          79.2,
          78.2667,
          56.9292,
          27,
          26.55,
          30.5,
          41.5792,
          153.4625,
          65,
          39,
          52.5542,
          15.7417,
          77.9583,
          30,
          30.5,
          13,
          69.3,
          19.2583,
          76.7292,
          35.5,
          7.55,
          23,
          133.65,
          7.925,
          39,
          13,
          9.8417,
          512.3292,
          76.7292,
          211.3375,
          57,
          13.4167,
          227.525,
          26.2875,
          13.5,
          26.2875,
          151.55,
          49.5042,
          52,
          227.525,
          10.5,
          33,
          53.1,
          21,
          211.3375,
          512.3292,
          262.375,
          7.925,
          13,
          23,
          12.475,
          65,
          14.5,
          86.5,
          7.2292,
          120,
          77.9583,
          23,
          12.475,
          211.3375,
          7.2292,
          57,
          7.4958,
          20.575,
          25.9292,
          8.6833,
          26.25,
          120,
          8.5167,
          6.975,
          53.1,
          93.5,
          8.6625,
          12.475,
          37.0042,
          80,
          14.4542,
          18.75,
          83.1583,
          56.4958,
          31,
          39.4,
          9.35,
          164.8667,
          26.55,
          19.2583,
          25.9292,
          13,
          13.8583,
          11.1333,
          52.5542,
          24,
          7.225,
          83.1583,
          26,
          30,
          30
         ],
         "yaxis": "y"
        }
       ],
       "layout": {
        "legend": {
         "title": {
          "text": "Survival Status"
         },
         "tracegroupgap": 0
        },
        "template": {
         "data": {
          "bar": [
           {
            "error_x": {
             "color": "#2a3f5f"
            },
            "error_y": {
             "color": "#2a3f5f"
            },
            "marker": {
             "line": {
              "color": "#E5ECF6",
              "width": 0.5
             },
             "pattern": {
              "fillmode": "overlay",
              "size": 10,
              "solidity": 0.2
             }
            },
            "type": "bar"
           }
          ],
          "barpolar": [
           {
            "marker": {
             "line": {
              "color": "#E5ECF6",
              "width": 0.5
             },
             "pattern": {
              "fillmode": "overlay",
              "size": 10,
              "solidity": 0.2
             }
            },
            "type": "barpolar"
           }
          ],
          "carpet": [
           {
            "aaxis": {
             "endlinecolor": "#2a3f5f",
             "gridcolor": "white",
             "linecolor": "white",
             "minorgridcolor": "white",
             "startlinecolor": "#2a3f5f"
            },
            "baxis": {
             "endlinecolor": "#2a3f5f",
             "gridcolor": "white",
             "linecolor": "white",
             "minorgridcolor": "white",
             "startlinecolor": "#2a3f5f"
            },
            "type": "carpet"
           }
          ],
          "choropleth": [
           {
            "colorbar": {
             "outlinewidth": 0,
             "ticks": ""
            },
            "type": "choropleth"
           }
          ],
          "contour": [
           {
            "colorbar": {
             "outlinewidth": 0,
             "ticks": ""
            },
            "colorscale": [
             [
              0,
              "#0d0887"
             ],
             [
              0.1111111111111111,
              "#46039f"
             ],
             [
              0.2222222222222222,
              "#7201a8"
             ],
             [
              0.3333333333333333,
              "#9c179e"
             ],
             [
              0.4444444444444444,
              "#bd3786"
             ],
             [
              0.5555555555555556,
              "#d8576b"
             ],
             [
              0.6666666666666666,
              "#ed7953"
             ],
             [
              0.7777777777777778,
              "#fb9f3a"
             ],
             [
              0.8888888888888888,
              "#fdca26"
             ],
             [
              1,
              "#f0f921"
             ]
            ],
            "type": "contour"
           }
          ],
          "contourcarpet": [
           {
            "colorbar": {
             "outlinewidth": 0,
             "ticks": ""
            },
            "type": "contourcarpet"
           }
          ],
          "heatmap": [
           {
            "colorbar": {
             "outlinewidth": 0,
             "ticks": ""
            },
            "colorscale": [
             [
              0,
              "#0d0887"
             ],
             [
              0.1111111111111111,
              "#46039f"
             ],
             [
              0.2222222222222222,
              "#7201a8"
             ],
             [
              0.3333333333333333,
              "#9c179e"
             ],
             [
              0.4444444444444444,
              "#bd3786"
             ],
             [
              0.5555555555555556,
              "#d8576b"
             ],
             [
              0.6666666666666666,
              "#ed7953"
             ],
             [
              0.7777777777777778,
              "#fb9f3a"
             ],
             [
              0.8888888888888888,
              "#fdca26"
             ],
             [
              1,
              "#f0f921"
             ]
            ],
            "type": "heatmap"
           }
          ],
          "heatmapgl": [
           {
            "colorbar": {
             "outlinewidth": 0,
             "ticks": ""
            },
            "colorscale": [
             [
              0,
              "#0d0887"
             ],
             [
              0.1111111111111111,
              "#46039f"
             ],
             [
              0.2222222222222222,
              "#7201a8"
             ],
             [
              0.3333333333333333,
              "#9c179e"
             ],
             [
              0.4444444444444444,
              "#bd3786"
             ],
             [
              0.5555555555555556,
              "#d8576b"
             ],
             [
              0.6666666666666666,
              "#ed7953"
             ],
             [
              0.7777777777777778,
              "#fb9f3a"
             ],
             [
              0.8888888888888888,
              "#fdca26"
             ],
             [
              1,
              "#f0f921"
             ]
            ],
            "type": "heatmapgl"
           }
          ],
          "histogram": [
           {
            "marker": {
             "pattern": {
              "fillmode": "overlay",
              "size": 10,
              "solidity": 0.2
             }
            },
            "type": "histogram"
           }
          ],
          "histogram2d": [
           {
            "colorbar": {
             "outlinewidth": 0,
             "ticks": ""
            },
            "colorscale": [
             [
              0,
              "#0d0887"
             ],
             [
              0.1111111111111111,
              "#46039f"
             ],
             [
              0.2222222222222222,
              "#7201a8"
             ],
             [
              0.3333333333333333,
              "#9c179e"
             ],
             [
              0.4444444444444444,
              "#bd3786"
             ],
             [
              0.5555555555555556,
              "#d8576b"
             ],
             [
              0.6666666666666666,
              "#ed7953"
             ],
             [
              0.7777777777777778,
              "#fb9f3a"
             ],
             [
              0.8888888888888888,
              "#fdca26"
             ],
             [
              1,
              "#f0f921"
             ]
            ],
            "type": "histogram2d"
           }
          ],
          "histogram2dcontour": [
           {
            "colorbar": {
             "outlinewidth": 0,
             "ticks": ""
            },
            "colorscale": [
             [
              0,
              "#0d0887"
             ],
             [
              0.1111111111111111,
              "#46039f"
             ],
             [
              0.2222222222222222,
              "#7201a8"
             ],
             [
              0.3333333333333333,
              "#9c179e"
             ],
             [
              0.4444444444444444,
              "#bd3786"
             ],
             [
              0.5555555555555556,
              "#d8576b"
             ],
             [
              0.6666666666666666,
              "#ed7953"
             ],
             [
              0.7777777777777778,
              "#fb9f3a"
             ],
             [
              0.8888888888888888,
              "#fdca26"
             ],
             [
              1,
              "#f0f921"
             ]
            ],
            "type": "histogram2dcontour"
           }
          ],
          "mesh3d": [
           {
            "colorbar": {
             "outlinewidth": 0,
             "ticks": ""
            },
            "type": "mesh3d"
           }
          ],
          "parcoords": [
           {
            "line": {
             "colorbar": {
              "outlinewidth": 0,
              "ticks": ""
             }
            },
            "type": "parcoords"
           }
          ],
          "pie": [
           {
            "automargin": true,
            "type": "pie"
           }
          ],
          "scatter": [
           {
            "fillpattern": {
             "fillmode": "overlay",
             "size": 10,
             "solidity": 0.2
            },
            "type": "scatter"
           }
          ],
          "scatter3d": [
           {
            "line": {
             "colorbar": {
              "outlinewidth": 0,
              "ticks": ""
             }
            },
            "marker": {
             "colorbar": {
              "outlinewidth": 0,
              "ticks": ""
             }
            },
            "type": "scatter3d"
           }
          ],
          "scattercarpet": [
           {
            "marker": {
             "colorbar": {
              "outlinewidth": 0,
              "ticks": ""
             }
            },
            "type": "scattercarpet"
           }
          ],
          "scattergeo": [
           {
            "marker": {
             "colorbar": {
              "outlinewidth": 0,
              "ticks": ""
             }
            },
            "type": "scattergeo"
           }
          ],
          "scattergl": [
           {
            "marker": {
             "colorbar": {
              "outlinewidth": 0,
              "ticks": ""
             }
            },
            "type": "scattergl"
           }
          ],
          "scattermapbox": [
           {
            "marker": {
             "colorbar": {
              "outlinewidth": 0,
              "ticks": ""
             }
            },
            "type": "scattermapbox"
           }
          ],
          "scatterpolar": [
           {
            "marker": {
             "colorbar": {
              "outlinewidth": 0,
              "ticks": ""
             }
            },
            "type": "scatterpolar"
           }
          ],
          "scatterpolargl": [
           {
            "marker": {
             "colorbar": {
              "outlinewidth": 0,
              "ticks": ""
             }
            },
            "type": "scatterpolargl"
           }
          ],
          "scatterternary": [
           {
            "marker": {
             "colorbar": {
              "outlinewidth": 0,
              "ticks": ""
             }
            },
            "type": "scatterternary"
           }
          ],
          "surface": [
           {
            "colorbar": {
             "outlinewidth": 0,
             "ticks": ""
            },
            "colorscale": [
             [
              0,
              "#0d0887"
             ],
             [
              0.1111111111111111,
              "#46039f"
             ],
             [
              0.2222222222222222,
              "#7201a8"
             ],
             [
              0.3333333333333333,
              "#9c179e"
             ],
             [
              0.4444444444444444,
              "#bd3786"
             ],
             [
              0.5555555555555556,
              "#d8576b"
             ],
             [
              0.6666666666666666,
              "#ed7953"
             ],
             [
              0.7777777777777778,
              "#fb9f3a"
             ],
             [
              0.8888888888888888,
              "#fdca26"
             ],
             [
              1,
              "#f0f921"
             ]
            ],
            "type": "surface"
           }
          ],
          "table": [
           {
            "cells": {
             "fill": {
              "color": "#EBF0F8"
             },
             "line": {
              "color": "white"
             }
            },
            "header": {
             "fill": {
              "color": "#C8D4E3"
             },
             "line": {
              "color": "white"
             }
            },
            "type": "table"
           }
          ]
         },
         "layout": {
          "annotationdefaults": {
           "arrowcolor": "#2a3f5f",
           "arrowhead": 0,
           "arrowwidth": 1
          },
          "autotypenumbers": "strict",
          "coloraxis": {
           "colorbar": {
            "outlinewidth": 0,
            "ticks": ""
           }
          },
          "colorscale": {
           "diverging": [
            [
             0,
             "#8e0152"
            ],
            [
             0.1,
             "#c51b7d"
            ],
            [
             0.2,
             "#de77ae"
            ],
            [
             0.3,
             "#f1b6da"
            ],
            [
             0.4,
             "#fde0ef"
            ],
            [
             0.5,
             "#f7f7f7"
            ],
            [
             0.6,
             "#e6f5d0"
            ],
            [
             0.7,
             "#b8e186"
            ],
            [
             0.8,
             "#7fbc41"
            ],
            [
             0.9,
             "#4d9221"
            ],
            [
             1,
             "#276419"
            ]
           ],
           "sequential": [
            [
             0,
             "#0d0887"
            ],
            [
             0.1111111111111111,
             "#46039f"
            ],
            [
             0.2222222222222222,
             "#7201a8"
            ],
            [
             0.3333333333333333,
             "#9c179e"
            ],
            [
             0.4444444444444444,
             "#bd3786"
            ],
            [
             0.5555555555555556,
             "#d8576b"
            ],
            [
             0.6666666666666666,
             "#ed7953"
            ],
            [
             0.7777777777777778,
             "#fb9f3a"
            ],
            [
             0.8888888888888888,
             "#fdca26"
            ],
            [
             1,
             "#f0f921"
            ]
           ],
           "sequentialminus": [
            [
             0,
             "#0d0887"
            ],
            [
             0.1111111111111111,
             "#46039f"
            ],
            [
             0.2222222222222222,
             "#7201a8"
            ],
            [
             0.3333333333333333,
             "#9c179e"
            ],
            [
             0.4444444444444444,
             "#bd3786"
            ],
            [
             0.5555555555555556,
             "#d8576b"
            ],
            [
             0.6666666666666666,
             "#ed7953"
            ],
            [
             0.7777777777777778,
             "#fb9f3a"
            ],
            [
             0.8888888888888888,
             "#fdca26"
            ],
            [
             1,
             "#f0f921"
            ]
           ]
          },
          "colorway": [
           "#636efa",
           "#EF553B",
           "#00cc96",
           "#ab63fa",
           "#FFA15A",
           "#19d3f3",
           "#FF6692",
           "#B6E880",
           "#FF97FF",
           "#FECB52"
          ],
          "font": {
           "color": "#2a3f5f"
          },
          "geo": {
           "bgcolor": "white",
           "lakecolor": "white",
           "landcolor": "#E5ECF6",
           "showlakes": true,
           "showland": true,
           "subunitcolor": "white"
          },
          "hoverlabel": {
           "align": "left"
          },
          "hovermode": "closest",
          "mapbox": {
           "style": "light"
          },
          "paper_bgcolor": "white",
          "plot_bgcolor": "#E5ECF6",
          "polar": {
           "angularaxis": {
            "gridcolor": "white",
            "linecolor": "white",
            "ticks": ""
           },
           "bgcolor": "#E5ECF6",
           "radialaxis": {
            "gridcolor": "white",
            "linecolor": "white",
            "ticks": ""
           }
          },
          "scene": {
           "xaxis": {
            "backgroundcolor": "#E5ECF6",
            "gridcolor": "white",
            "gridwidth": 2,
            "linecolor": "white",
            "showbackground": true,
            "ticks": "",
            "zerolinecolor": "white"
           },
           "yaxis": {
            "backgroundcolor": "#E5ECF6",
            "gridcolor": "white",
            "gridwidth": 2,
            "linecolor": "white",
            "showbackground": true,
            "ticks": "",
            "zerolinecolor": "white"
           },
           "zaxis": {
            "backgroundcolor": "#E5ECF6",
            "gridcolor": "white",
            "gridwidth": 2,
            "linecolor": "white",
            "showbackground": true,
            "ticks": "",
            "zerolinecolor": "white"
           }
          },
          "shapedefaults": {
           "line": {
            "color": "#2a3f5f"
           }
          },
          "ternary": {
           "aaxis": {
            "gridcolor": "white",
            "linecolor": "white",
            "ticks": ""
           },
           "baxis": {
            "gridcolor": "white",
            "linecolor": "white",
            "ticks": ""
           },
           "bgcolor": "#E5ECF6",
           "caxis": {
            "gridcolor": "white",
            "linecolor": "white",
            "ticks": ""
           }
          },
          "title": {
           "x": 0.05
          },
          "xaxis": {
           "automargin": true,
           "gridcolor": "white",
           "linecolor": "white",
           "ticks": "",
           "title": {
            "standoff": 15
           },
           "zerolinecolor": "white",
           "zerolinewidth": 2
          },
          "yaxis": {
           "automargin": true,
           "gridcolor": "white",
           "linecolor": "white",
           "ticks": "",
           "title": {
            "standoff": 15
           },
           "zerolinecolor": "white",
           "zerolinewidth": 2
          }
         }
        },
        "title": {
         "text": "Age vs. Fare on the Titanic (Interactive)"
        },
        "xaxis": {
         "anchor": "y",
         "domain": [
          0,
          1
         ],
         "title": {
          "text": "Age (Years)"
         }
        },
        "yaxis": {
         "anchor": "x",
         "domain": [
          0,
          1
         ],
         "title": {
          "text": "Fare ($)"
         }
        }
       }
      }
     },
     "metadata": {},
     "output_type": "display_data"
    }
   ],
   "source": [
    "# Add some customization to the plot\n",
    "\n",
    "fig.update_layout(\n",
    "    xaxis_title=\"Age (Years)\",\n",
    "    yaxis_title=\"Fare ($)\",\n",
    "    legend_title=\"Survival Status\"\n",
    ")\n",
    "fig.show()"
   ]
  },
  {
   "cell_type": "code",
   "execution_count": 24,
   "id": "0b487a11",
   "metadata": {},
   "outputs": [
    {
     "name": "stderr",
     "output_type": "stream",
     "text": [
      "C:\\Users\\ASUS\\AppData\\Local\\Temp\\ipykernel_35944\\1555347254.py:3: SettingWithCopyWarning:\n",
      "\n",
      "\n",
      "A value is trying to be set on a copy of a slice from a DataFrame.\n",
      "Try using .loc[row_indexer,col_indexer] = value instead\n",
      "\n",
      "See the caveats in the documentation: https://pandas.pydata.org/pandas-docs/stable/user_guide/indexing.html#returning-a-view-versus-a-copy\n",
      "\n"
     ]
    }
   ],
   "source": [
    "# Create a FamilySize column as our \"animation frame\"\n",
    "\n",
    "interactive_data['FamilySize'] = \\\n",
    "interactive_data['SibSp'] + interactive_data['Parch'] + 1"
   ]
  },
  {
   "cell_type": "code",
   "execution_count": 25,
   "id": "877ac624",
   "metadata": {},
   "outputs": [
    {
     "name": "stdout",
     "output_type": "stream",
     "text": [
      "--- Data for Animated Plot ---\n",
      "   FamilySize  Pclass  Count\n",
      "0           1       1     86\n",
      "1           1       2     93\n",
      "2           1       3    225\n",
      "3           2       1     63\n",
      "4           2       2     34\n"
     ]
    }
   ],
   "source": [
    "# We need a count of passengers for each Pclass at each FamilySize\n",
    "\n",
    "animated_data = interactive_data.groupby(['FamilySize', 'Pclass']).\\\n",
    "                                  size().reset_index(name='Count')\n",
    "print(\"--- Data for Animated Plot ---\")\n",
    "print(animated_data.head())"
   ]
  },
  {
   "cell_type": "code",
   "execution_count": 26,
   "id": "b215d00e",
   "metadata": {},
   "outputs": [],
   "source": [
    "# Create the animated bar chart\n",
    "fig = px.bar(animated_data, \n",
    "             x='Pclass', \n",
    "             y='Count', \n",
    "             animation_frame='FamilySize', \n",
    "             range_y=[0, max(animated_data['Count'])],\n",
    "             color='Pclass',\n",
    "             title='Passenger Class Count by Family Size (Animated)')"
   ]
  },
  {
   "cell_type": "code",
   "execution_count": null,
   "id": "c21bb136",
   "metadata": {},
   "outputs": [
    {
     "data": {
      "application/vnd.plotly.v1+json": {
       "config": {
        "plotlyServerURL": "https://plot.ly"
       },
       "data": [
        {
         "alignmentgroup": "True",
         "hovertemplate": "FamilySize=1<br>Pclass=%{marker.color}<br>Count=%{y}<extra></extra>",
         "legendgroup": "",
         "marker": {
          "color": [
           1,
           2,
           3
          ],
          "coloraxis": "coloraxis",
          "pattern": {
           "shape": ""
          }
         },
         "name": "",
         "offsetgroup": "",
         "orientation": "v",
         "showlegend": false,
         "textposition": "auto",
         "type": "bar",
         "x": [
          1,
          2,
          3
         ],
         "xaxis": "x",
         "y": [
          86,
          93,
          225
         ],
         "yaxis": "y"
        }
       ],
       "frames": [
        {
         "data": [
          {
           "alignmentgroup": "True",
           "hovertemplate": "FamilySize=1<br>Pclass=%{marker.color}<br>Count=%{y}<extra></extra>",
           "legendgroup": "",
           "marker": {
            "color": [
             1,
             2,
             3
            ],
            "coloraxis": "coloraxis",
            "pattern": {
             "shape": ""
            }
           },
           "name": "",
           "offsetgroup": "",
           "orientation": "v",
           "showlegend": false,
           "textposition": "auto",
           "type": "bar",
           "x": [
            1,
            2,
            3
           ],
           "xaxis": "x",
           "y": [
            86,
            93,
            225
           ],
           "yaxis": "y"
          }
         ],
         "name": "1"
        },
        {
         "data": [
          {
           "alignmentgroup": "True",
           "hovertemplate": "FamilySize=2<br>Pclass=%{marker.color}<br>Count=%{y}<extra></extra>",
           "legendgroup": "",
           "marker": {
            "color": [
             1,
             2,
             3
            ],
            "coloraxis": "coloraxis",
            "pattern": {
             "shape": ""
            }
           },
           "name": "",
           "offsetgroup": "",
           "orientation": "v",
           "showlegend": false,
           "textposition": "auto",
           "type": "bar",
           "x": [
            1,
            2,
            3
           ],
           "xaxis": "x",
           "y": [
            63,
            34,
            42
           ],
           "yaxis": "y"
          }
         ],
         "name": "2"
        },
        {
         "data": [
          {
           "alignmentgroup": "True",
           "hovertemplate": "FamilySize=3<br>Pclass=%{marker.color}<br>Count=%{y}<extra></extra>",
           "legendgroup": "",
           "marker": {
            "color": [
             1,
             2,
             3
            ],
            "coloraxis": "coloraxis",
            "pattern": {
             "shape": ""
            }
           },
           "name": "",
           "offsetgroup": "",
           "orientation": "v",
           "showlegend": false,
           "textposition": "auto",
           "type": "bar",
           "x": [
            1,
            2,
            3
           ],
           "xaxis": "x",
           "y": [
            24,
            31,
            38
           ],
           "yaxis": "y"
          }
         ],
         "name": "3"
        },
        {
         "data": [
          {
           "alignmentgroup": "True",
           "hovertemplate": "FamilySize=4<br>Pclass=%{marker.color}<br>Count=%{y}<extra></extra>",
           "legendgroup": "",
           "marker": {
            "color": [
             1,
             2,
             3
            ],
            "coloraxis": "coloraxis",
            "pattern": {
             "shape": ""
            }
           },
           "name": "",
           "offsetgroup": "",
           "orientation": "v",
           "showlegend": false,
           "textposition": "auto",
           "type": "bar",
           "x": [
            1,
            2,
            3
           ],
           "xaxis": "x",
           "y": [
            7,
            13,
            7
           ],
           "yaxis": "y"
          }
         ],
         "name": "4"
        },
        {
         "data": [
          {
           "alignmentgroup": "True",
           "hovertemplate": "FamilySize=5<br>Pclass=%{marker.color}<br>Count=%{y}<extra></extra>",
           "legendgroup": "",
           "marker": {
            "color": [
             1,
             2,
             3
            ],
            "coloraxis": "coloraxis",
            "pattern": {
             "shape": ""
            }
           },
           "name": "",
           "offsetgroup": "",
           "orientation": "v",
           "showlegend": false,
           "textposition": "auto",
           "type": "bar",
           "x": [
            1,
            2,
            3
           ],
           "xaxis": "x",
           "y": [
            2,
            1,
            8
           ],
           "yaxis": "y"
          }
         ],
         "name": "5"
        },
        {
         "data": [
          {
           "alignmentgroup": "True",
           "hovertemplate": "FamilySize=6<br>Pclass=%{marker.color}<br>Count=%{y}<extra></extra>",
           "legendgroup": "",
           "marker": {
            "color": [
             1,
             2,
             3
            ],
            "coloraxis": "coloraxis",
            "pattern": {
             "shape": ""
            }
           },
           "name": "",
           "offsetgroup": "",
           "orientation": "v",
           "showlegend": false,
           "textposition": "auto",
           "type": "bar",
           "x": [
            1,
            2,
            3
           ],
           "xaxis": "x",
           "y": [
            4,
            1,
            17
           ],
           "yaxis": "y"
          }
         ],
         "name": "6"
        },
        {
         "data": [
          {
           "alignmentgroup": "True",
           "hovertemplate": "FamilySize=7<br>Pclass=%{marker.color}<br>Count=%{y}<extra></extra>",
           "legendgroup": "",
           "marker": {
            "color": [
             3
            ],
            "coloraxis": "coloraxis",
            "pattern": {
             "shape": ""
            }
           },
           "name": "",
           "offsetgroup": "",
           "orientation": "v",
           "showlegend": false,
           "textposition": "auto",
           "type": "bar",
           "x": [
            3
           ],
           "xaxis": "x",
           "y": [
            12
           ],
           "yaxis": "y"
          }
         ],
         "name": "7"
        },
        {
         "data": [
          {
           "alignmentgroup": "True",
           "hovertemplate": "FamilySize=8<br>Pclass=%{marker.color}<br>Count=%{y}<extra></extra>",
           "legendgroup": "",
           "marker": {
            "color": [
             3
            ],
            "coloraxis": "coloraxis",
            "pattern": {
             "shape": ""
            }
           },
           "name": "",
           "offsetgroup": "",
           "orientation": "v",
           "showlegend": false,
           "textposition": "auto",
           "type": "bar",
           "x": [
            3
           ],
           "xaxis": "x",
           "y": [
            6
           ],
           "yaxis": "y"
          }
         ],
         "name": "8"
        }
       ],
       "layout": {
        "barmode": "relative",
        "coloraxis": {
         "colorbar": {
          "title": {
           "text": "Pclass"
          }
         },
         "colorscale": [
          [
           0,
           "#0d0887"
          ],
          [
           0.1111111111111111,
           "#46039f"
          ],
          [
           0.2222222222222222,
           "#7201a8"
          ],
          [
           0.3333333333333333,
           "#9c179e"
          ],
          [
           0.4444444444444444,
           "#bd3786"
          ],
          [
           0.5555555555555556,
           "#d8576b"
          ],
          [
           0.6666666666666666,
           "#ed7953"
          ],
          [
           0.7777777777777778,
           "#fb9f3a"
          ],
          [
           0.8888888888888888,
           "#fdca26"
          ],
          [
           1,
           "#f0f921"
          ]
         ]
        },
        "legend": {
         "tracegroupgap": 0
        },
        "sliders": [
         {
          "active": 0,
          "currentvalue": {
           "prefix": "FamilySize="
          },
          "len": 0.9,
          "pad": {
           "b": 10,
           "t": 60
          },
          "steps": [
           {
            "args": [
             [
              "1"
             ],
             {
              "frame": {
               "duration": 0,
               "redraw": true
              },
              "fromcurrent": true,
              "mode": "immediate",
              "transition": {
               "duration": 0,
               "easing": "linear"
              }
             }
            ],
            "label": "1",
            "method": "animate"
           },
           {
            "args": [
             [
              "2"
             ],
             {
              "frame": {
               "duration": 0,
               "redraw": true
              },
              "fromcurrent": true,
              "mode": "immediate",
              "transition": {
               "duration": 0,
               "easing": "linear"
              }
             }
            ],
            "label": "2",
            "method": "animate"
           },
           {
            "args": [
             [
              "3"
             ],
             {
              "frame": {
               "duration": 0,
               "redraw": true
              },
              "fromcurrent": true,
              "mode": "immediate",
              "transition": {
               "duration": 0,
               "easing": "linear"
              }
             }
            ],
            "label": "3",
            "method": "animate"
           },
           {
            "args": [
             [
              "4"
             ],
             {
              "frame": {
               "duration": 0,
               "redraw": true
              },
              "fromcurrent": true,
              "mode": "immediate",
              "transition": {
               "duration": 0,
               "easing": "linear"
              }
             }
            ],
            "label": "4",
            "method": "animate"
           },
           {
            "args": [
             [
              "5"
             ],
             {
              "frame": {
               "duration": 0,
               "redraw": true
              },
              "fromcurrent": true,
              "mode": "immediate",
              "transition": {
               "duration": 0,
               "easing": "linear"
              }
             }
            ],
            "label": "5",
            "method": "animate"
           },
           {
            "args": [
             [
              "6"
             ],
             {
              "frame": {
               "duration": 0,
               "redraw": true
              },
              "fromcurrent": true,
              "mode": "immediate",
              "transition": {
               "duration": 0,
               "easing": "linear"
              }
             }
            ],
            "label": "6",
            "method": "animate"
           },
           {
            "args": [
             [
              "7"
             ],
             {
              "frame": {
               "duration": 0,
               "redraw": true
              },
              "fromcurrent": true,
              "mode": "immediate",
              "transition": {
               "duration": 0,
               "easing": "linear"
              }
             }
            ],
            "label": "7",
            "method": "animate"
           },
           {
            "args": [
             [
              "8"
             ],
             {
              "frame": {
               "duration": 0,
               "redraw": true
              },
              "fromcurrent": true,
              "mode": "immediate",
              "transition": {
               "duration": 0,
               "easing": "linear"
              }
             }
            ],
            "label": "8",
            "method": "animate"
           }
          ],
          "x": 0.1,
          "xanchor": "left",
          "y": 0,
          "yanchor": "top"
         }
        ],
        "template": {
         "data": {
          "bar": [
           {
            "error_x": {
             "color": "#2a3f5f"
            },
            "error_y": {
             "color": "#2a3f5f"
            },
            "marker": {
             "line": {
              "color": "#E5ECF6",
              "width": 0.5
             },
             "pattern": {
              "fillmode": "overlay",
              "size": 10,
              "solidity": 0.2
             }
            },
            "type": "bar"
           }
          ],
          "barpolar": [
           {
            "marker": {
             "line": {
              "color": "#E5ECF6",
              "width": 0.5
             },
             "pattern": {
              "fillmode": "overlay",
              "size": 10,
              "solidity": 0.2
             }
            },
            "type": "barpolar"
           }
          ],
          "carpet": [
           {
            "aaxis": {
             "endlinecolor": "#2a3f5f",
             "gridcolor": "white",
             "linecolor": "white",
             "minorgridcolor": "white",
             "startlinecolor": "#2a3f5f"
            },
            "baxis": {
             "endlinecolor": "#2a3f5f",
             "gridcolor": "white",
             "linecolor": "white",
             "minorgridcolor": "white",
             "startlinecolor": "#2a3f5f"
            },
            "type": "carpet"
           }
          ],
          "choropleth": [
           {
            "colorbar": {
             "outlinewidth": 0,
             "ticks": ""
            },
            "type": "choropleth"
           }
          ],
          "contour": [
           {
            "colorbar": {
             "outlinewidth": 0,
             "ticks": ""
            },
            "colorscale": [
             [
              0,
              "#0d0887"
             ],
             [
              0.1111111111111111,
              "#46039f"
             ],
             [
              0.2222222222222222,
              "#7201a8"
             ],
             [
              0.3333333333333333,
              "#9c179e"
             ],
             [
              0.4444444444444444,
              "#bd3786"
             ],
             [
              0.5555555555555556,
              "#d8576b"
             ],
             [
              0.6666666666666666,
              "#ed7953"
             ],
             [
              0.7777777777777778,
              "#fb9f3a"
             ],
             [
              0.8888888888888888,
              "#fdca26"
             ],
             [
              1,
              "#f0f921"
             ]
            ],
            "type": "contour"
           }
          ],
          "contourcarpet": [
           {
            "colorbar": {
             "outlinewidth": 0,
             "ticks": ""
            },
            "type": "contourcarpet"
           }
          ],
          "heatmap": [
           {
            "colorbar": {
             "outlinewidth": 0,
             "ticks": ""
            },
            "colorscale": [
             [
              0,
              "#0d0887"
             ],
             [
              0.1111111111111111,
              "#46039f"
             ],
             [
              0.2222222222222222,
              "#7201a8"
             ],
             [
              0.3333333333333333,
              "#9c179e"
             ],
             [
              0.4444444444444444,
              "#bd3786"
             ],
             [
              0.5555555555555556,
              "#d8576b"
             ],
             [
              0.6666666666666666,
              "#ed7953"
             ],
             [
              0.7777777777777778,
              "#fb9f3a"
             ],
             [
              0.8888888888888888,
              "#fdca26"
             ],
             [
              1,
              "#f0f921"
             ]
            ],
            "type": "heatmap"
           }
          ],
          "heatmapgl": [
           {
            "colorbar": {
             "outlinewidth": 0,
             "ticks": ""
            },
            "colorscale": [
             [
              0,
              "#0d0887"
             ],
             [
              0.1111111111111111,
              "#46039f"
             ],
             [
              0.2222222222222222,
              "#7201a8"
             ],
             [
              0.3333333333333333,
              "#9c179e"
             ],
             [
              0.4444444444444444,
              "#bd3786"
             ],
             [
              0.5555555555555556,
              "#d8576b"
             ],
             [
              0.6666666666666666,
              "#ed7953"
             ],
             [
              0.7777777777777778,
              "#fb9f3a"
             ],
             [
              0.8888888888888888,
              "#fdca26"
             ],
             [
              1,
              "#f0f921"
             ]
            ],
            "type": "heatmapgl"
           }
          ],
          "histogram": [
           {
            "marker": {
             "pattern": {
              "fillmode": "overlay",
              "size": 10,
              "solidity": 0.2
             }
            },
            "type": "histogram"
           }
          ],
          "histogram2d": [
           {
            "colorbar": {
             "outlinewidth": 0,
             "ticks": ""
            },
            "colorscale": [
             [
              0,
              "#0d0887"
             ],
             [
              0.1111111111111111,
              "#46039f"
             ],
             [
              0.2222222222222222,
              "#7201a8"
             ],
             [
              0.3333333333333333,
              "#9c179e"
             ],
             [
              0.4444444444444444,
              "#bd3786"
             ],
             [
              0.5555555555555556,
              "#d8576b"
             ],
             [
              0.6666666666666666,
              "#ed7953"
             ],
             [
              0.7777777777777778,
              "#fb9f3a"
             ],
             [
              0.8888888888888888,
              "#fdca26"
             ],
             [
              1,
              "#f0f921"
             ]
            ],
            "type": "histogram2d"
           }
          ],
          "histogram2dcontour": [
           {
            "colorbar": {
             "outlinewidth": 0,
             "ticks": ""
            },
            "colorscale": [
             [
              0,
              "#0d0887"
             ],
             [
              0.1111111111111111,
              "#46039f"
             ],
             [
              0.2222222222222222,
              "#7201a8"
             ],
             [
              0.3333333333333333,
              "#9c179e"
             ],
             [
              0.4444444444444444,
              "#bd3786"
             ],
             [
              0.5555555555555556,
              "#d8576b"
             ],
             [
              0.6666666666666666,
              "#ed7953"
             ],
             [
              0.7777777777777778,
              "#fb9f3a"
             ],
             [
              0.8888888888888888,
              "#fdca26"
             ],
             [
              1,
              "#f0f921"
             ]
            ],
            "type": "histogram2dcontour"
           }
          ],
          "mesh3d": [
           {
            "colorbar": {
             "outlinewidth": 0,
             "ticks": ""
            },
            "type": "mesh3d"
           }
          ],
          "parcoords": [
           {
            "line": {
             "colorbar": {
              "outlinewidth": 0,
              "ticks": ""
             }
            },
            "type": "parcoords"
           }
          ],
          "pie": [
           {
            "automargin": true,
            "type": "pie"
           }
          ],
          "scatter": [
           {
            "fillpattern": {
             "fillmode": "overlay",
             "size": 10,
             "solidity": 0.2
            },
            "type": "scatter"
           }
          ],
          "scatter3d": [
           {
            "line": {
             "colorbar": {
              "outlinewidth": 0,
              "ticks": ""
             }
            },
            "marker": {
             "colorbar": {
              "outlinewidth": 0,
              "ticks": ""
             }
            },
            "type": "scatter3d"
           }
          ],
          "scattercarpet": [
           {
            "marker": {
             "colorbar": {
              "outlinewidth": 0,
              "ticks": ""
             }
            },
            "type": "scattercarpet"
           }
          ],
          "scattergeo": [
           {
            "marker": {
             "colorbar": {
              "outlinewidth": 0,
              "ticks": ""
             }
            },
            "type": "scattergeo"
           }
          ],
          "scattergl": [
           {
            "marker": {
             "colorbar": {
              "outlinewidth": 0,
              "ticks": ""
             }
            },
            "type": "scattergl"
           }
          ],
          "scattermapbox": [
           {
            "marker": {
             "colorbar": {
              "outlinewidth": 0,
              "ticks": ""
             }
            },
            "type": "scattermapbox"
           }
          ],
          "scatterpolar": [
           {
            "marker": {
             "colorbar": {
              "outlinewidth": 0,
              "ticks": ""
             }
            },
            "type": "scatterpolar"
           }
          ],
          "scatterpolargl": [
           {
            "marker": {
             "colorbar": {
              "outlinewidth": 0,
              "ticks": ""
             }
            },
            "type": "scatterpolargl"
           }
          ],
          "scatterternary": [
           {
            "marker": {
             "colorbar": {
              "outlinewidth": 0,
              "ticks": ""
             }
            },
            "type": "scatterternary"
           }
          ],
          "surface": [
           {
            "colorbar": {
             "outlinewidth": 0,
             "ticks": ""
            },
            "colorscale": [
             [
              0,
              "#0d0887"
             ],
             [
              0.1111111111111111,
              "#46039f"
             ],
             [
              0.2222222222222222,
              "#7201a8"
             ],
             [
              0.3333333333333333,
              "#9c179e"
             ],
             [
              0.4444444444444444,
              "#bd3786"
             ],
             [
              0.5555555555555556,
              "#d8576b"
             ],
             [
              0.6666666666666666,
              "#ed7953"
             ],
             [
              0.7777777777777778,
              "#fb9f3a"
             ],
             [
              0.8888888888888888,
              "#fdca26"
             ],
             [
              1,
              "#f0f921"
             ]
            ],
            "type": "surface"
           }
          ],
          "table": [
           {
            "cells": {
             "fill": {
              "color": "#EBF0F8"
             },
             "line": {
              "color": "white"
             }
            },
            "header": {
             "fill": {
              "color": "#C8D4E3"
             },
             "line": {
              "color": "white"
             }
            },
            "type": "table"
           }
          ]
         },
         "layout": {
          "annotationdefaults": {
           "arrowcolor": "#2a3f5f",
           "arrowhead": 0,
           "arrowwidth": 1
          },
          "autotypenumbers": "strict",
          "coloraxis": {
           "colorbar": {
            "outlinewidth": 0,
            "ticks": ""
           }
          },
          "colorscale": {
           "diverging": [
            [
             0,
             "#8e0152"
            ],
            [
             0.1,
             "#c51b7d"
            ],
            [
             0.2,
             "#de77ae"
            ],
            [
             0.3,
             "#f1b6da"
            ],
            [
             0.4,
             "#fde0ef"
            ],
            [
             0.5,
             "#f7f7f7"
            ],
            [
             0.6,
             "#e6f5d0"
            ],
            [
             0.7,
             "#b8e186"
            ],
            [
             0.8,
             "#7fbc41"
            ],
            [
             0.9,
             "#4d9221"
            ],
            [
             1,
             "#276419"
            ]
           ],
           "sequential": [
            [
             0,
             "#0d0887"
            ],
            [
             0.1111111111111111,
             "#46039f"
            ],
            [
             0.2222222222222222,
             "#7201a8"
            ],
            [
             0.3333333333333333,
             "#9c179e"
            ],
            [
             0.4444444444444444,
             "#bd3786"
            ],
            [
             0.5555555555555556,
             "#d8576b"
            ],
            [
             0.6666666666666666,
             "#ed7953"
            ],
            [
             0.7777777777777778,
             "#fb9f3a"
            ],
            [
             0.8888888888888888,
             "#fdca26"
            ],
            [
             1,
             "#f0f921"
            ]
           ],
           "sequentialminus": [
            [
             0,
             "#0d0887"
            ],
            [
             0.1111111111111111,
             "#46039f"
            ],
            [
             0.2222222222222222,
             "#7201a8"
            ],
            [
             0.3333333333333333,
             "#9c179e"
            ],
            [
             0.4444444444444444,
             "#bd3786"
            ],
            [
             0.5555555555555556,
             "#d8576b"
            ],
            [
             0.6666666666666666,
             "#ed7953"
            ],
            [
             0.7777777777777778,
             "#fb9f3a"
            ],
            [
             0.8888888888888888,
             "#fdca26"
            ],
            [
             1,
             "#f0f921"
            ]
           ]
          },
          "colorway": [
           "#636efa",
           "#EF553B",
           "#00cc96",
           "#ab63fa",
           "#FFA15A",
           "#19d3f3",
           "#FF6692",
           "#B6E880",
           "#FF97FF",
           "#FECB52"
          ],
          "font": {
           "color": "#2a3f5f"
          },
          "geo": {
           "bgcolor": "white",
           "lakecolor": "white",
           "landcolor": "#E5ECF6",
           "showlakes": true,
           "showland": true,
           "subunitcolor": "white"
          },
          "hoverlabel": {
           "align": "left"
          },
          "hovermode": "closest",
          "mapbox": {
           "style": "light"
          },
          "paper_bgcolor": "white",
          "plot_bgcolor": "#E5ECF6",
          "polar": {
           "angularaxis": {
            "gridcolor": "white",
            "linecolor": "white",
            "ticks": ""
           },
           "bgcolor": "#E5ECF6",
           "radialaxis": {
            "gridcolor": "white",
            "linecolor": "white",
            "ticks": ""
           }
          },
          "scene": {
           "xaxis": {
            "backgroundcolor": "#E5ECF6",
            "gridcolor": "white",
            "gridwidth": 2,
            "linecolor": "white",
            "showbackground": true,
            "ticks": "",
            "zerolinecolor": "white"
           },
           "yaxis": {
            "backgroundcolor": "#E5ECF6",
            "gridcolor": "white",
            "gridwidth": 2,
            "linecolor": "white",
            "showbackground": true,
            "ticks": "",
            "zerolinecolor": "white"
           },
           "zaxis": {
            "backgroundcolor": "#E5ECF6",
            "gridcolor": "white",
            "gridwidth": 2,
            "linecolor": "white",
            "showbackground": true,
            "ticks": "",
            "zerolinecolor": "white"
           }
          },
          "shapedefaults": {
           "line": {
            "color": "#2a3f5f"
           }
          },
          "ternary": {
           "aaxis": {
            "gridcolor": "white",
            "linecolor": "white",
            "ticks": ""
           },
           "baxis": {
            "gridcolor": "white",
            "linecolor": "white",
            "ticks": ""
           },
           "bgcolor": "#E5ECF6",
           "caxis": {
            "gridcolor": "white",
            "linecolor": "white",
            "ticks": ""
           }
          },
          "title": {
           "x": 0.05
          },
          "xaxis": {
           "automargin": true,
           "gridcolor": "white",
           "linecolor": "white",
           "ticks": "",
           "title": {
            "standoff": 15
           },
           "zerolinecolor": "white",
           "zerolinewidth": 2
          },
          "yaxis": {
           "automargin": true,
           "gridcolor": "white",
           "linecolor": "white",
           "ticks": "",
           "title": {
            "standoff": 15
           },
           "zerolinecolor": "white",
           "zerolinewidth": 2
          }
         }
        },
        "title": {
         "text": "Passenger Class Count by Family Size (Animated)"
        },
        "updatemenus": [
         {
          "buttons": [
           {
            "args": [
             null,
             {
              "frame": {
               "duration": 2000,
               "redraw": true
              },
              "fromcurrent": true,
              "mode": "immediate",
              "transition": {
               "duration": 500,
               "easing": "linear"
              }
             }
            ],
            "label": "&#9654;",
            "method": "animate"
           },
           {
            "args": [
             [
              null
             ],
             {
              "frame": {
               "duration": 0,
               "redraw": true
              },
              "fromcurrent": true,
              "mode": "immediate",
              "transition": {
               "duration": 0,
               "easing": "linear"
              }
             }
            ],
            "label": "&#9724;",
            "method": "animate"
           }
          ],
          "direction": "left",
          "pad": {
           "r": 10,
           "t": 70
          },
          "showactive": false,
          "type": "buttons",
          "x": 0.1,
          "xanchor": "right",
          "y": 0,
          "yanchor": "top"
         }
        ],
        "xaxis": {
         "anchor": "y",
         "categoryarray": [
          1,
          2,
          3
         ],
         "categoryorder": "array",
         "domain": [
          0,
          1
         ],
         "title": {
          "text": "Passenger Class"
         }
        },
        "yaxis": {
         "anchor": "x",
         "domain": [
          0,
          1
         ],
         "range": [
          0,
          225
         ],
         "title": {
          "text": "Number of Passengers"
         }
        }
       }
      }
     },
     "metadata": {},
     "output_type": "display_data"
    }
   ],
   "source": [
    "# Update the layout for better readability\n",
    "fig.update_layout(\n",
    "    xaxis_title=\"Passenger Class\",\n",
    "    yaxis_title=\"Number of Passengers\",\n",
    "    xaxis={'categoryorder':'array', 'categoryarray':[1, 2, 3]} \n",
    ")\n",
    "\n",
    "# --- CODE FOR ANIMATION SPEED CONTROL ---\n",
    "# This part modifies the animation controls\n",
    "\n",
    "fig.layout.updatemenus[0].buttons[0].args[1]['frame']['duration'] = 2000   # 2000 milliseconds = 2 seconds per frame\n",
    "fig.layout.updatemenus[0].buttons[0].args[1]['transition']['duration'] = 500 # Smooth transition over 500 milliseconds\n",
    "\n",
    "fig.show()"
   ]
  },
  {
   "cell_type": "code",
   "execution_count": null,
   "id": "6d8b74c4",
   "metadata": {},
   "outputs": [],
   "source": []
  }
 ],
 "metadata": {
  "kernelspec": {
   "display_name": "base",
   "language": "python",
   "name": "python3"
  },
  "language_info": {
   "codemirror_mode": {
    "name": "ipython",
    "version": 3
   },
   "file_extension": ".py",
   "mimetype": "text/x-python",
   "name": "python",
   "nbconvert_exporter": "python",
   "pygments_lexer": "ipython3",
   "version": "3.13.5"
  }
 },
 "nbformat": 4,
 "nbformat_minor": 5
}
