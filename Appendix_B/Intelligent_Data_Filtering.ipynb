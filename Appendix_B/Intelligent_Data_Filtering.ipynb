{
 "cells": [
  {
   "cell_type": "code",
   "execution_count": 6,
   "id": "0b951184",
   "metadata": {},
   "outputs": [
    {
     "name": "stdout",
     "output_type": "stream",
     "text": [
      "Processing result: 12.5\n",
      "Processing result: 45.0\n",
      "Processing result: 31.2\n",
      "Invalid data detected, skipping to the next result...\n",
      "Processing result: 5.0\n",
      "Processing result: 78.9\n",
      "CRITICAL VALUE DETECTED! SOUND THE ALARMS!\n"
     ]
    }
   ],
   "source": [
    "lab_results = [12.5, 45.0, 31.2, \"N/A\", 5.0, 78.9, 999.0,]\n",
    "\n",
    "for result in lab_results:\n",
    "    if result == \"N/A\":        \n",
    "        print(\"Invalid data detected, skipping to the next result...\")\n",
    "        continue    \n",
    "    if result == 999.0:        \n",
    "        print(\"CRITICAL VALUE DETECTED! SOUND THE ALARMS!\")\n",
    "        break    \n",
    "    print(f\"Processing result: {result}\") \n"
   ]
  },
  {
   "cell_type": "code",
   "execution_count": null,
   "id": "45df69d7",
   "metadata": {},
   "outputs": [],
   "source": []
  }
 ],
 "metadata": {
  "kernelspec": {
   "display_name": "Python 3",
   "language": "python",
   "name": "python3"
  },
  "language_info": {
   "codemirror_mode": {
    "name": "ipython",
    "version": 3
   },
   "file_extension": ".py",
   "mimetype": "text/x-python",
   "name": "python",
   "nbconvert_exporter": "python",
   "pygments_lexer": "ipython3",
   "version": "3.12.5"
  }
 },
 "nbformat": 4,
 "nbformat_minor": 5
}
