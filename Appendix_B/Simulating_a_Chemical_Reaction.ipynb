{
 "cells": [
  {
   "cell_type": "code",
   "execution_count": 25,
   "id": "ed9c064a",
   "metadata": {},
   "outputs": [
    {
     "name": "stdout",
     "output_type": "stream",
     "text": [
      "Starting the chemical reaction simulation...\n",
      "Step 1: Reaction stability is now 12\n",
      "Step 2: Reaction stability is now 25\n",
      "Step 3: Reaction stability is now 40\n",
      "Step 4: Reaction stability is now 55\n",
      "---\n",
      "Final step: Reaction has stabilized at 55. Simulation complete.\n"
     ]
    }
   ],
   "source": [
    "import random\n",
    "\n",
    "# Initializing our reaction. The stability is a low number.\n",
    "reaction_stability = 0\n",
    "simulation_step = 0\n",
    "\n",
    "print(\"Starting the chemical reaction simulation...\")\n",
    "\n",
    "# We will run this loop as long as the reaction stability is below 50.\n",
    "while reaction_stability < 50:\n",
    "    # The reaction stability changes in each step.\n",
    "    reaction_stability += random.randint(1, 15)\n",
    "    simulation_step += 1\n",
    "    \n",
    "    # We print the current status so we can monitor the progress.\n",
    "    print(f\"Step {simulation_step}: Reaction stability is now {reaction_stability}\")\n",
    "\n",
    "print(\"---\")\n",
    "print(f\"Final step: Reaction has stabilized at {reaction_stability}. Simulation complete.\")\n"
   ]
  },
  {
   "cell_type": "code",
   "execution_count": null,
   "id": "81df1028",
   "metadata": {},
   "outputs": [],
   "source": []
  },
  {
   "cell_type": "code",
   "execution_count": null,
   "id": "a3750216",
   "metadata": {},
   "outputs": [],
   "source": []
  },
  {
   "cell_type": "code",
   "execution_count": null,
   "id": "896815bd",
   "metadata": {},
   "outputs": [],
   "source": []
  }
 ],
 "metadata": {
  "kernelspec": {
   "display_name": "Python 3",
   "language": "python",
   "name": "python3"
  },
  "language_info": {
   "codemirror_mode": {
    "name": "ipython",
    "version": 3
   },
   "file_extension": ".py",
   "mimetype": "text/x-python",
   "name": "python",
   "nbconvert_exporter": "python",
   "pygments_lexer": "ipython3",
   "version": "3.12.5"
  }
 },
 "nbformat": 4,
 "nbformat_minor": 5
}
