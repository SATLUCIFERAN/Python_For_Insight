{
 "cells": [
  {
   "cell_type": "code",
   "execution_count": 4,
   "id": "4be78d0c",
   "metadata": {},
   "outputs": [
    {
     "name": "stdout",
     "output_type": "stream",
     "text": [
      "Starting analysis of all collected samples:\n",
      "Sample 'green_crystal' is a mineral. Secure in a glass container.\n",
      "Sample 'glowing_liquid' is a fluid. Store in a sealed vial.\n",
      "Sample 'black_powder' is a solid compound. Place in a designated locker.\n",
      "Sample 'volcanic_ash' is a solid compound. Place in a designated locker.\n",
      "Analysis complete. All samples have been categorized!\n"
     ]
    }
   ],
   "source": [
    "# Our collection of mysterious chemical samples.\n",
    "unknown_samples = [\"green_crystal\", \"glowing_liquid\", \"black_powder\", \"volcanic_ash\"]\n",
    "print(\"Starting analysis of all collected samples:\")\n",
    "\n",
    "for sample in unknown_samples:\n",
    "    if \"crystal\" in sample:\n",
    "        print(f\"Sample '{sample}' is a mineral. Secure in a glass container.\")\n",
    "    elif \"liquid\" in sample:\n",
    "        print(f\"Sample '{sample}' is a fluid. Store in a sealed vial.\")\n",
    "    else:\n",
    "        print(f\"Sample '{sample}' is a solid compound. Place in a designated locker.\")\n",
    "\n",
    "print(\"Analysis complete. All samples have been categorized!\")\n",
    "\n",
    "# The loop runs four times, once for each item in the list,\n",
    "# and prints a specific instruction based on its name."
   ]
  },
  {
   "cell_type": "code",
   "execution_count": null,
   "id": "f54a5c35",
   "metadata": {},
   "outputs": [],
   "source": []
  }
 ],
 "metadata": {
  "kernelspec": {
   "display_name": "Python 3",
   "language": "python",
   "name": "python3"
  },
  "language_info": {
   "codemirror_mode": {
    "name": "ipython",
    "version": 3
   },
   "file_extension": ".py",
   "mimetype": "text/x-python",
   "name": "python",
   "nbconvert_exporter": "python",
   "pygments_lexer": "ipython3",
   "version": "3.12.5"
  }
 },
 "nbformat": 4,
 "nbformat_minor": 5
}
