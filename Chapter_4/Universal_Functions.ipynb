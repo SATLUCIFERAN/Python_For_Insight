{
 "cells": [
  {
   "cell_type": "code",
   "execution_count": 1,
   "id": "1fd4327e",
   "metadata": {},
   "outputs": [],
   "source": [
    "import numpy as np\n",
    "\n",
    "quarterly_sales = np.array([\n",
    "    [100, 150, 120, 180], # Product A\n",
    "    [250, 210, 280, 220], # Product B\n",
    "    [300, 350, 310, 380]  # Product C\n",
    "])"
   ]
  },
  {
   "cell_type": "code",
   "execution_count": 2,
   "id": "da4f69ee",
   "metadata": {},
   "outputs": [
    {
     "name": "stdout",
     "output_type": "stream",
     "text": [
      "WOW! Square root of every sales value:\n",
      "[[10.         12.24744871 10.95445115 13.41640786]\n",
      " [15.8113883  14.49137675 16.73320053 14.83239697]\n",
      " [17.32050808 18.70828693 17.60681686 19.49358869]]\n",
      "------------------------------\n"
     ]
    }
   ],
   "source": [
    "sqrt_sales = np.sqrt(quarterly_sales)\n",
    "print(\"WOW! Square root of every sales value:\")\n",
    "print(sqrt_sales)\n",
    "print(\"-\" * 30)"
   ]
  },
  {
   "cell_type": "code",
   "execution_count": 6,
   "id": "9e2923c5",
   "metadata": {},
   "outputs": [
    {
     "name": "stdout",
     "output_type": "stream",
     "text": [
      "Total sales across all products and quarters:2850\n",
      "------------------------------\n"
     ]
    }
   ],
   "source": [
    "total_sales_overall = np.sum(quarterly_sales)\n",
    "print(\"Total sales across all products and quarters:\"\n",
    "       f\"{total_sales_overall}\")\n",
    "print(\"-\" * 30)"
   ]
  },
  {
   "cell_type": "code",
   "execution_count": 7,
   "id": "027ffa08",
   "metadata": {},
   "outputs": [
    {
     "name": "stdout",
     "output_type": "stream",
     "text": [
      "WOW! Total sales for each quarter (axis=0 reduction):\n",
      "[650 710 710 780]\n",
      "------------------------------\n"
     ]
    }
   ],
   "source": [
    "sales_per_quarter = np.sum(quarterly_sales, axis=0)\n",
    "print(\"WOW! Total sales for each quarter (axis=0 reduction):\")\n",
    "print(sales_per_quarter)\n",
    "print(\"-\" * 30)"
   ]
  },
  {
   "cell_type": "code",
   "execution_count": 8,
   "id": "f1572b4b",
   "metadata": {},
   "outputs": [
    {
     "name": "stdout",
     "output_type": "stream",
     "text": [
      "WOW! Total sales for each product (axis=1 reduction):\n",
      "[ 550  960 1340]\n",
      "------------------------------\n"
     ]
    }
   ],
   "source": [
    "sales_per_product = np.sum(quarterly_sales, axis=1)\n",
    "print(\"WOW! Total sales for each product (axis=1 reduction):\")\n",
    "print(sales_per_product)\n",
    "print(\"-\" * 30)"
   ]
  },
  {
   "cell_type": "code",
   "execution_count": 9,
   "id": "93a995e8",
   "metadata": {},
   "outputs": [
    {
     "name": "stdout",
     "output_type": "stream",
     "text": [
      "Our 3D geological survey data:\n",
      "[[[ 1  2  3  4]\n",
      "  [ 5  6  7  8]\n",
      "  [ 9 10 11 12]]\n",
      "\n",
      " [[13 14 15 16]\n",
      "  [17 18 19 20]\n",
      "  [21 22 23 24]]]\n"
     ]
    }
   ],
   "source": [
    "multi_layer_scan = np.array([\n",
    "    [\n",
    "        [1, 2, 3, 4],\n",
    "        [5, 6, 7, 8],\n",
    "        [9, 10, 11, 12]\n",
    "    ],\n",
    "    [\n",
    "        [13, 14, 15, 16],\n",
    "        [17, 18, 19, 20],\n",
    "        [21, 22, 23, 24]\n",
    "    ]\n",
    "])\n",
    "print(\"Our 3D geological survey data:\")\n",
    "print(multi_layer_scan)"
   ]
  },
  {
   "cell_type": "code",
   "execution_count": 11,
   "id": "8e95dc81",
   "metadata": {},
   "outputs": [
    {
     "name": "stdout",
     "output_type": "stream",
     "text": [
      "\n",
      "WOW! Maximum value found in each layer (collapsing rows and columns):\n",
      "[12 24]\n",
      "------------------------------\n"
     ]
    }
   ],
   "source": [
    "max_value_per_layer = np.max(multi_layer_scan, axis=(1, 2))\n",
    "print(\"\\nWOW! Maximum value found in each layer \"\n",
    "      \"(collapsing rows and columns):\")\n",
    "print(max_value_per_layer)\n",
    "print(\"-\" * 30)"
   ]
  },
  {
   "cell_type": "code",
   "execution_count": null,
   "id": "4a5aef55",
   "metadata": {},
   "outputs": [],
   "source": []
  }
 ],
 "metadata": {
  "kernelspec": {
   "display_name": "base",
   "language": "python",
   "name": "python3"
  },
  "language_info": {
   "codemirror_mode": {
    "name": "ipython",
    "version": 3
   },
   "file_extension": ".py",
   "mimetype": "text/x-python",
   "name": "python",
   "nbconvert_exporter": "python",
   "pygments_lexer": "ipython3",
   "version": "3.13.5"
  }
 },
 "nbformat": 4,
 "nbformat_minor": 5
}
