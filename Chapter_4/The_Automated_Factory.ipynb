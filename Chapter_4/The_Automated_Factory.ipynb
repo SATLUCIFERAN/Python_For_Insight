{
 "cells": [
  {
   "cell_type": "code",
   "execution_count": 2,
   "id": "c0a0870e",
   "metadata": {},
   "outputs": [],
   "source": [
    "import numpy as np\n",
    "import timeit\n",
    "\n",
    "ARRAY_SIZE = 10_000_000"
   ]
  },
  {
   "cell_type": "code",
   "execution_count": null,
   "id": "b2a43927",
   "metadata": {},
   "outputs": [
    {
     "name": "stdout",
     "output_type": "stream",
     "text": [
      "--- The Grand Showdown: Python Loopvs. NumPy Vectorization ---\n",
      "Running a test on 10,000,000 elements...\n",
      "------------------------------------------------------------\n"
     ]
    }
   ],
   "source": [
    "python_list = list(range(ARRAY_SIZE)) # A standard Python list\n",
    "numpy_array = np.arange(ARRAY_SIZE) # A NumPy array\n",
    "\n",
    "print(f\"--- The Grand Showdown: Python Loop\" \n",
    "       \"vs. NumPy Vectorization ---\")\n",
    "print(f\"Running a test on {ARRAY_SIZE:,} elements...\")\n",
    "print(\"-\" * 60)"
   ]
  },
  {
   "cell_type": "code",
   "execution_count": 5,
   "id": "f2b6b876",
   "metadata": {},
   "outputs": [
    {
     "name": "stdout",
     "output_type": "stream",
     "text": [
      "Python loop execution time: 0.695752 seconds\n"
     ]
    }
   ],
   "source": [
    "python_loop_time = timeit.timeit(\n",
    "    '[x + 5 for x in python_list]',\n",
    "    globals=globals(),\n",
    "    number=1\n",
    ")\n",
    "print(f\"Python loop execution time: {python_loop_time:.6f} seconds\")"
   ]
  },
  {
   "cell_type": "code",
   "execution_count": 7,
   "id": "60a6f3ce",
   "metadata": {},
   "outputs": [
    {
     "name": "stdout",
     "output_type": "stream",
     "text": [
      "NumPy vectorized time: 0.033792 seconds\n",
      "------------------------------------------------------------\n"
     ]
    }
   ],
   "source": [
    "numpy_vectorized_time = timeit.timeit(\n",
    "    'numpy_array + 5',\n",
    "    globals=globals(),\n",
    "    number=1\n",
    ")\n",
    "print(f\"NumPy vectorized time: {numpy_vectorized_time:.6f} seconds\")\n",
    "\n",
    "print(\"-\" * 60)"
   ]
  },
  {
   "cell_type": "code",
   "execution_count": 9,
   "id": "6821be0c",
   "metadata": {},
   "outputs": [
    {
     "name": "stdout",
     "output_type": "stream",
     "text": [
      "WOW! NumPy is 20.59x faster!\n"
     ]
    }
   ],
   "source": [
    "speedup_factor = python_loop_time / numpy_vectorized_time\n",
    "print(f\"WOW! NumPy is {speedup_factor:.2f}x faster!\")"
   ]
  },
  {
   "cell_type": "code",
   "execution_count": null,
   "id": "1baaf7a6",
   "metadata": {},
   "outputs": [],
   "source": []
  }
 ],
 "metadata": {
  "kernelspec": {
   "display_name": "base",
   "language": "python",
   "name": "python3"
  },
  "language_info": {
   "codemirror_mode": {
    "name": "ipython",
    "version": 3
   },
   "file_extension": ".py",
   "mimetype": "text/x-python",
   "name": "python",
   "nbconvert_exporter": "python",
   "pygments_lexer": "ipython3",
   "version": "3.13.5"
  }
 },
 "nbformat": 4,
 "nbformat_minor": 5
}
