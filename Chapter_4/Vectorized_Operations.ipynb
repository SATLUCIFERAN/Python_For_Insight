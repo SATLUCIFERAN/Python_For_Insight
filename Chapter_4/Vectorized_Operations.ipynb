{
 "cells": [
  {
   "cell_type": "code",
   "execution_count": 2,
   "id": "c652b511",
   "metadata": {},
   "outputs": [],
   "source": [
    "import numpy as np\n",
    "\n",
    "crew_scores_start = np.array([85, 92, 78, 95, 88])\n",
    "crew_scores_end = np.array([88, 95, 75, 98, 90])"
   ]
  },
  {
   "cell_type": "code",
   "execution_count": 3,
   "id": "718fb4ca",
   "metadata": {},
   "outputs": [
    {
     "name": "stdout",
     "output_type": "stream",
     "text": [
      "WOW! The difference in scores (end - start):\n",
      "[ 3  3 -3  3  2]\n",
      "------------------------------\n"
     ]
    }
   ],
   "source": [
    "score_difference = crew_scores_end - crew_scores_start\n",
    "print(\"WOW! The difference in scores (end - start):\")\n",
    "print(score_difference)\n",
    "print(\"-\" * 30)"
   ]
  },
  {
   "cell_type": "code",
   "execution_count": 4,
   "id": "a8c0cb75",
   "metadata": {},
   "outputs": [
    {
     "name": "stdout",
     "output_type": "stream",
     "text": [
      "WOW! Doubled scores (all at once):\n",
      "[170 184 156 190 176]\n",
      "------------------------------\n"
     ]
    }
   ],
   "source": [
    "doubled_scores = crew_scores_start * 2\n",
    "print(\"WOW! Doubled scores (all at once):\")\n",
    "print(doubled_scores)\n",
    "print(\"-\" * 30)"
   ]
  },
  {
   "cell_type": "code",
   "execution_count": 5,
   "id": "ab87177b",
   "metadata": {},
   "outputs": [
    {
     "name": "stdout",
     "output_type": "stream",
     "text": [
      "Our original quarterly sales grid:\n",
      "[[100 150 120 180]\n",
      " [250 210 280 220]\n",
      " [300 350 310 380]]\n"
     ]
    }
   ],
   "source": [
    "quarterly_sales = np.array([\n",
    "    [100, 150, 120, 180], # Product A\n",
    "    [250, 210, 280, 220], # Product B\n",
    "    [300, 350, 310, 380]  # Product C\n",
    "])\n",
    "print(\"Our original quarterly sales grid:\")\n",
    "print(quarterly_sales)"
   ]
  },
  {
   "cell_type": "code",
   "execution_count": 6,
   "id": "34eb766e",
   "metadata": {},
   "outputs": [
    {
     "name": "stdout",
     "output_type": "stream",
     "text": [
      "\n",
      "WOW! All sales with a 10-point bonus (broadcasting a scalar):\n",
      "[[110 160 130 190]\n",
      " [260 220 290 230]\n",
      " [310 360 320 390]]\n",
      "------------------------------\n"
     ]
    }
   ],
   "source": [
    "bonus_sales = quarterly_sales + 10\n",
    "print(\"\\nWOW! All sales with a 10-point bonus (broadcasting a scalar):\")\n",
    "print(bonus_sales)\n",
    "print(\"-\" * 30)"
   ]
  },
  {
   "cell_type": "code",
   "execution_count": 9,
   "id": "cac29a6d",
   "metadata": {},
   "outputs": [
    {
     "name": "stdout",
     "output_type": "stream",
     "text": [
      "WOW! Quarterly sales with different bonuses for each quarter (broadcasting a 1D array to 2D):\n",
      "[[110 170 135 205]\n",
      " [260 230 295 245]\n",
      " [310 370 325 405]]\n",
      "------------------------------\n"
     ]
    }
   ],
   "source": [
    "quarterly_bonus = np.array([10, 20, 15, 25])\n",
    "total_sales = quarterly_sales + quarterly_bonus\n",
    "print(\"WOW! Quarterly sales with different bonuses for \" \\\n",
    "      \"each quarter (broadcasting a 1D array to 2D):\")\n",
    "print(total_sales)\n",
    "print(\"-\" * 30)"
   ]
  },
  {
   "cell_type": "code",
   "execution_count": 10,
   "id": "f4e00652",
   "metadata": {},
   "outputs": [
    {
     "name": "stdout",
     "output_type": "stream",
     "text": [
      "Our 3D geological survey data:\n",
      "[[[ 1  2  3  4]\n",
      "  [ 5  6  7  8]\n",
      "  [ 9 10 11 12]]\n",
      "\n",
      " [[13 14 15 16]\n",
      "  [17 18 19 20]\n",
      "  [21 22 23 24]]]\n"
     ]
    }
   ],
   "source": [
    "multi_layer_scan = np.array([\n",
    "    [\n",
    "        [1, 2, 3, 4],\n",
    "        [5, 6, 7, 8],\n",
    "        [9, 10, 11, 12]\n",
    "    ],\n",
    "    [\n",
    "        [13, 14, 15, 16],\n",
    "        [17, 18, 19, 20],\n",
    "        [21, 22, 23, 24]\n",
    "    ]\n",
    "])\n",
    "print(\"Our 3D geological survey data:\")\n",
    "print(multi_layer_scan)"
   ]
  },
  {
   "cell_type": "code",
   "execution_count": 11,
   "id": "84ddeec2",
   "metadata": {},
   "outputs": [],
   "source": [
    "# 100 for Layer 0, 200 for Layer 1\n",
    "layer_adjustment = np.array([100, 200]) "
   ]
  },
  {
   "cell_type": "code",
   "execution_count": null,
   "id": "7af24e35",
   "metadata": {},
   "outputs": [
    {
     "name": "stdout",
     "output_type": "stream",
     "text": [
      "\n",
      "WOW! Our 3D survey adjusted for each layer (1D array broadcast to 3D):\n",
      "[[[101 102 103 104]\n",
      "  [105 106 107 108]\n",
      "  [109 110 111 112]]\n",
      "\n",
      " [[213 214 215 216]\n",
      "  [217 218 219 220]\n",
      "  [221 222 223 224]]]\n",
      "------------------------------\n"
     ]
    }
   ],
   "source": [
    "adjusted_scan = multi_layer_scan + \\\n",
    "                layer_adjustment[:, np.newaxis, np.newaxis]\n",
    "\n",
    "print(\"\\nWOW! Our 3D survey adjusted for each layer \"\n",
    "      \"(1D array broadcast to 3D):\")\n",
    "print(adjusted_scan)\n",
    "print(\"-\" * 30)"
   ]
  },
  {
   "cell_type": "code",
   "execution_count": null,
   "id": "177d807e",
   "metadata": {},
   "outputs": [],
   "source": []
  }
 ],
 "metadata": {
  "kernelspec": {
   "display_name": "base",
   "language": "python",
   "name": "python3"
  },
  "language_info": {
   "codemirror_mode": {
    "name": "ipython",
    "version": 3
   },
   "file_extension": ".py",
   "mimetype": "text/x-python",
   "name": "python",
   "nbconvert_exporter": "python",
   "pygments_lexer": "ipython3",
   "version": "3.13.5"
  }
 },
 "nbformat": 4,
 "nbformat_minor": 5
}
