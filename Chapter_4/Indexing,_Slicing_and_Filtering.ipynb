{
 "cells": [
  {
   "cell_type": "code",
   "execution_count": 1,
   "id": "95bb9d22",
   "metadata": {},
   "outputs": [
    {
     "name": "stdout",
     "output_type": "stream",
     "text": [
      "Our sales grid:\n",
      "[[100 150 120]\n",
      " [250 210 280]]\n",
      "------------------------------\n"
     ]
    }
   ],
   "source": [
    "import numpy as np\n",
    "\n",
    "sales_data = np.array([\n",
    "    [100, 150, 120],  # Electronics sales\n",
    "    [250, 210, 280]   # Clothing sales\n",
    "])\n",
    "print(\"Our sales grid:\")\n",
    "print(sales_data)\n",
    "print(\"-\" * 30)"
   ]
  },
  {
   "cell_type": "code",
   "execution_count": null,
   "id": "3063526c",
   "metadata": {},
   "outputs": [
    {
     "name": "stdout",
     "output_type": "stream",
     "text": [
      "Sales for Electronics on Day 2 (positive index): 150\n",
      "------------------------------\n"
     ]
    }
   ],
   "source": [
    "print(f\"Sales for Electronics on Day 2 (positive index):\\\n",
    "      {sales_data[0, 1]}\")\n",
    "print(\"-\" * 30)"
   ]
  },
  {
   "cell_type": "code",
   "execution_count": null,
   "id": "fe0847d0",
   "metadata": {},
   "outputs": [
    {
     "name": "stdout",
     "output_type": "stream",
     "text": [
      "Sales for Clothing on the last day (-1 index): 280\n",
      "------------------------------\n"
     ]
    }
   ],
   "source": [
    "print(f\"Sales for Clothing on the last day (-1 index):\\\n",
    "      {sales_data[1, -1]}\")\n",
    "print(\"-\" * 30)"
   ]
  },
  {
   "cell_type": "code",
   "execution_count": 4,
   "id": "35d3bdbe",
   "metadata": {},
   "outputs": [
    {
     "name": "stdout",
     "output_type": "stream",
     "text": [
      "All sales for Electronics:\n",
      "[100 150 120]\n",
      "------------------------------\n"
     ]
    }
   ],
   "source": [
    "print(\"All sales for Electronics:\")\n",
    "print(sales_data[0, :])\n",
    "print(\"-\" * 30)"
   ]
  },
  {
   "cell_type": "code",
   "execution_count": 5,
   "id": "5e9bfd07",
   "metadata": {},
   "outputs": [
    {
     "name": "stdout",
     "output_type": "stream",
     "text": [
      "All sales for Day 3:\n",
      "[120 280]\n",
      "------------------------------\n"
     ]
    }
   ],
   "source": [
    "print(\"All sales for Day 3:\")\n",
    "print(sales_data[:, 2])\n",
    "print(\"-\" * 30)\n"
   ]
  },
  {
   "cell_type": "code",
   "execution_count": 6,
   "id": "4ba69832",
   "metadata": {},
   "outputs": [
    {
     "name": "stdout",
     "output_type": "stream",
     "text": [
      "The boolean mask (True where sales > 200):\n",
      "[[False False False]\n",
      " [ True  True  True]]\n",
      "\n",
      "WOW! All sales greater than 200:\n",
      "[250 210 280]\n",
      "------------------------------\n"
     ]
    }
   ],
   "source": [
    "high_sales_mask = sales_data > 200\n",
    "print(\"The boolean mask (True where sales > 200):\")\n",
    "print(high_sales_mask)\n",
    "print(\"\\nWOW! All sales greater than 200:\")\n",
    "print(sales_data[high_sales_mask])\n",
    "print(\"-\" * 30)"
   ]
  },
  {
   "cell_type": "code",
   "execution_count": 7,
   "id": "74db2f2e",
   "metadata": {},
   "outputs": [
    {
     "name": "stdout",
     "output_type": "stream",
     "text": [
      "WOW! Sales for (Electronics, Day 1) and (Clothing, Day 3):\n",
      "[100 280]\n",
      "------------------------------\n"
     ]
    }
   ],
   "source": [
    "rows_to_select = [0, 1]   # We want to look at row 0 and row 1\n",
    "cols_to_select = [0, 2]   # We want to look at column 0 and column 2\n",
    "teleported_sales = sales_data[rows_to_select, cols_to_select]\n",
    "\n",
    "# The result is a new array containing the sales values we asked for.\n",
    "print(\"WOW! Sales for (Electronics, Day 1) and (Clothing, Day 3):\")\n",
    "print(teleported_sales)\n",
    "print(\"-\" * 30)"
   ]
  },
  {
   "cell_type": "code",
   "execution_count": 14,
   "id": "864108a1",
   "metadata": {},
   "outputs": [],
   "source": [
    "############## The Fancy Indexing Teleporter (3D) #############"
   ]
  },
  {
   "cell_type": "code",
   "execution_count": 15,
   "id": "26aa2641",
   "metadata": {},
   "outputs": [],
   "source": [
    "multi_layer_scan = np.array([\n",
    "    [\n",
    "        [1, 2, 3, 4],    # Layer 0, Row 0\n",
    "        [5, 6, 7, 8],    # Layer 0, Row 1\n",
    "        [9, 10, 11, 12]  # Layer 0, Row 2\n",
    "    ],\n",
    "    [\n",
    "        [13, 14, 15, 16], # Layer 1, Row 0\n",
    "        [17, 18, 19, 20], # Layer 1, Row 1\n",
    "        [21, 22, 23, 24]  # Layer 1, Row 2\n",
    "    ]\n",
    "])"
   ]
  },
  {
   "cell_type": "code",
   "execution_count": 18,
   "id": "96b75cf6",
   "metadata": {},
   "outputs": [],
   "source": [
    "layers_to_select = [0, 1]\n",
    "rows_to_select = [0, 2]\n",
    "cols_to_select = [1, 3]\n",
    "\n",
    "teleported_3d_data = multi_layer_scan[layers_to_select, \n",
    "                                      rows_to_select, \n",
    "                                      cols_to_select]"
   ]
  },
  {
   "cell_type": "code",
   "execution_count": null,
   "id": "73fd24b6",
   "metadata": {},
   "outputs": [
    {
     "name": "stdout",
     "output_type": "stream",
     "text": [
      "\n",
      "WOW! Teleporting to grab specific values from different layers, rows, and columns:\n",
      "[ 2 24]\n",
      "------------------------------\n"
     ]
    }
   ],
   "source": [
    "print(\"\\nWOW! Teleporting to grab specific values \" \\\n",
    "      \"from different layers, rows, and columns:\")\n",
    "print(teleported_3d_data)\n",
    "print(\"-\" * 30)"
   ]
  },
  {
   "cell_type": "code",
   "execution_count": 11,
   "id": "f612d0e7",
   "metadata": {},
   "outputs": [
    {
     "name": "stdout",
     "output_type": "stream",
     "text": [
      "Original sales data before modification:\n",
      "[[100 150 120]\n",
      " [250 210 280]]\n"
     ]
    }
   ],
   "source": [
    "# This is a view of the first two columns\n",
    "slice_view = sales_data[:, 0:2] \n",
    "# This is a true copy\n",
    "slice_copy = sales_data[:, 0:2].copy() \n",
    "\n",
    "print(\"Original sales data before modification:\")\n",
    "print(sales_data)\n"
   ]
  },
  {
   "cell_type": "code",
   "execution_count": 12,
   "id": "5f83cbf4",
   "metadata": {},
   "outputs": [
    {
     "name": "stdout",
     "output_type": "stream",
     "text": [
      "\n",
      "Original sales data after modifying the view (it changed!):\n",
      "[[9999  150  120]\n",
      " [ 250  210  280]]\n"
     ]
    }
   ],
   "source": [
    "slice_view[0, 0] = 9999\n",
    "print(\"\\nOriginal sales data after modifying the view (it changed!):\")\n",
    "print(sales_data)"
   ]
  },
  {
   "cell_type": "code",
   "execution_count": 13,
   "id": "2c1e9e46",
   "metadata": {},
   "outputs": [
    {
     "name": "stdout",
     "output_type": "stream",
     "text": [
      "\n",
      "Original sales data after modifying the copy (it's unchanged!):\n",
      "[[100 150 120]\n",
      " [250 210 280]]\n",
      "------------------------------\n"
     ]
    }
   ],
   "source": [
    "sales_data = np.array([\n",
    "    [100, 150, 120],\n",
    "    [250, 210, 280]\n",
    "])\n",
    "slice_copy[0, 0] = 9999\n",
    "print(\"\\nOriginal sales data after modifying the copy (it's unchanged!):\")\n",
    "print(sales_data)\n",
    "print(\"-\" * 30)"
   ]
  },
  {
   "cell_type": "code",
   "execution_count": null,
   "id": "0b061883",
   "metadata": {},
   "outputs": [],
   "source": []
  }
 ],
 "metadata": {
  "kernelspec": {
   "display_name": "base",
   "language": "python",
   "name": "python3"
  },
  "language_info": {
   "codemirror_mode": {
    "name": "ipython",
    "version": 3
   },
   "file_extension": ".py",
   "mimetype": "text/x-python",
   "name": "python",
   "nbconvert_exporter": "python",
   "pygments_lexer": "ipython3",
   "version": "3.13.5"
  }
 },
 "nbformat": 4,
 "nbformat_minor": 5
}
