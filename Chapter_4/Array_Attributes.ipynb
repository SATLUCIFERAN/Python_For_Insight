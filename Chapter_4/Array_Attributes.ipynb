{
 "cells": [
  {
   "cell_type": "code",
   "execution_count": 2,
   "id": "68c5be61",
   "metadata": {},
   "outputs": [
    {
     "name": "stdout",
     "output_type": "stream",
     "text": [
      "--- Inspecting our treasure grid blueprint ---\n",
      "[[10 20 30]\n",
      " [40 50 60]]\n",
      "------------------------------\n"
     ]
    }
   ],
   "source": [
    "import numpy as np\n",
    "\n",
    "treasure_grid_map = np.array([\n",
    "    [10, 20, 30],\n",
    "    [40, 50, 60]\n",
    "])\n",
    "print(\"--- Inspecting our treasure grid blueprint ---\")\n",
    "print(treasure_grid_map)\n",
    "print(\"-\" * 30)"
   ]
  },
  {
   "cell_type": "code",
   "execution_count": 3,
   "id": "aead7137",
   "metadata": {},
   "outputs": [
    {
     "name": "stdout",
     "output_type": "stream",
     "text": [
      "Shape (dimensions of the grid): (2, 3)\n"
     ]
    }
   ],
   "source": [
    "print(f\"Shape (dimensions of the grid): {treasure_grid_map.shape}\")"
   ]
  },
  {
   "cell_type": "code",
   "execution_count": null,
   "id": "c4d0257f",
   "metadata": {},
   "outputs": [
    {
     "name": "stdout",
     "output_type": "stream",
     "text": [
      "Size (total number of treasure coordinates): 6\n"
     ]
    }
   ],
   "source": [
    "print(f\"Size (total number of treasure coordinates):\\\n",
    "      {treasure_grid_map.size}\")"
   ]
  },
  {
   "cell_type": "code",
   "execution_count": 7,
   "id": "1d99945e",
   "metadata": {},
   "outputs": [
    {
     "name": "stdout",
     "output_type": "stream",
     "text": [
      "Data type of the coordinates: int64\n",
      "------------------------------\n"
     ]
    }
   ],
   "source": [
    "print(f\"Data type of the coordinates: {treasure_grid_map.dtype}\")\n",
    "print(\"-\" * 30)"
   ]
  },
  {
   "cell_type": "code",
   "execution_count": null,
   "id": "a7613e86",
   "metadata": {},
   "outputs": [],
   "source": []
  }
 ],
 "metadata": {
  "kernelspec": {
   "display_name": "base",
   "language": "python",
   "name": "python3"
  },
  "language_info": {
   "codemirror_mode": {
    "name": "ipython",
    "version": 3
   },
   "file_extension": ".py",
   "mimetype": "text/x-python",
   "name": "python",
   "nbconvert_exporter": "python",
   "pygments_lexer": "ipython3",
   "version": "3.13.5"
  }
 },
 "nbformat": 4,
 "nbformat_minor": 5
}
