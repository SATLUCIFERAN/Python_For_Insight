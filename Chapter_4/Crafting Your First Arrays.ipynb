{
 "cells": [
  {
   "cell_type": "code",
   "execution_count": 2,
   "id": "af3ed6a9",
   "metadata": {},
   "outputs": [],
   "source": [
    "import numpy as np"
   ]
  },
  {
   "cell_type": "code",
   "execution_count": 2,
   "id": "72c8e7f0",
   "metadata": {},
   "outputs": [
    {
     "name": "stdout",
     "output_type": "stream",
     "text": [
      "1D Array (our single steel beam of crew scores):\n",
      "[85 92 78 95 88]\n",
      "------------------------------\n"
     ]
    }
   ],
   "source": [
    "expedition_crew_scores = [85, 92, 78, 95, 88]\n",
    "crew_array = np.array(expedition_crew_scores)\n",
    "print(\"1D Array (our single steel beam of crew scores):\")\n",
    "print(crew_array)\n",
    "print(\"-\" * 30)"
   ]
  },
  {
   "cell_type": "code",
   "execution_count": 3,
   "id": "31d4527b",
   "metadata": {},
   "outputs": [
    {
     "name": "stdout",
     "output_type": "stream",
     "text": [
      "2D Array (our treasure grid map - 2 rows, 5 columns):\n",
      "[[ 10  20  30  40  50]\n",
      " [ 60  70  80  90 100]]\n",
      "------------------------------\n"
     ]
    }
   ],
   "source": [
    "treasure_grid_map = [\n",
    "    [10, 20, 30, 40, 50],  \n",
    "    [60, 70, 80, 90, 100]   \n",
    "]\n",
    "map_array = np.array(treasure_grid_map)\n",
    "print(\"2D Array (our treasure grid map - 2 rows, 5 columns):\")\n",
    "print(map_array)\n",
    "print(\"-\" * 30)"
   ]
  },
  {
   "cell_type": "code",
   "execution_count": 4,
   "id": "dc24ee24",
   "metadata": {},
   "outputs": [
    {
     "name": "stdout",
     "output_type": "stream",
     "text": [
      "3D Array (our multi-layer geological scan - 2x3x5):\n",
      "[[[ 1  2  3  4  5]\n",
      "  [ 6  7  8  9 10]\n",
      "  [11 12 13 14 15]]\n",
      "\n",
      " [[16 17 18 19 20]\n",
      "  [21 22 23 24 25]\n",
      "  [26 27 28 29 30]]]\n",
      "------------------------------\n"
     ]
    }
   ],
   "source": [
    "multi_layer_scan = np.array([\n",
    "    [\n",
    "        [1, 2, 3, 4, 5],    # Layer 0, Row 0\n",
    "        [6, 7, 8, 9, 10],    # Layer 0, Row 1\n",
    "        [11, 12, 13, 14, 15]  # Layer 0, Row 2\n",
    "    ],\n",
    "    [\n",
    "        [16, 17, 18, 19, 20], # Layer 1, Row 0\n",
    "        [21, 22, 23, 24, 25], # Layer 1, Row 1\n",
    "        [26, 27, 28, 29, 30]  # Layer 1, Row 2\n",
    "    ]\n",
    "])\n",
    "print(\"3D Array (our multi-layer geological scan - 2x3x5):\")\n",
    "print(multi_layer_scan)\n",
    "print(\"-\" * 30)"
   ]
  },
  {
   "cell_type": "code",
   "execution_count": 7,
   "id": "cd3e4ae9",
   "metadata": {},
   "outputs": [
    {
     "name": "stdout",
     "output_type": "stream",
     "text": [
      "Array of Zeros (our empty logbook - 3x5):\n",
      "[[0. 0. 0. 0. 0.]\n",
      " [0. 0. 0. 0. 0.]\n",
      " [0. 0. 0. 0. 0.]]\n"
     ]
    }
   ],
   "source": [
    "empty_logbook = np.zeros((3, 5)) # A 3x5 grid of zeros\n",
    "print(\"Array of Zeros (our empty logbook - 3x5):\")\n",
    "print(empty_logbook)"
   ]
  },
  {
   "cell_type": "code",
   "execution_count": 8,
   "id": "06cb8426",
   "metadata": {},
   "outputs": [
    {
     "name": "stdout",
     "output_type": "stream",
     "text": [
      "\n",
      "Array of Ones (our success template - 2x2):\n",
      "[[1. 1.]\n",
      " [1. 1.]]\n"
     ]
    }
   ],
   "source": [
    "success_template = np.ones((2, 2)) # A 2x2 grid of ones\n",
    "print(\"\\nArray of Ones (our success template - 2x2):\")\n",
    "print(success_template)"
   ]
  },
  {
   "cell_type": "code",
   "execution_count": 10,
   "id": "fc9d7a52",
   "metadata": {},
   "outputs": [
    {
     "name": "stdout",
     "output_type": "stream",
     "text": [
      "\n",
      "Array of a sequence (our compass settings - 0 to 8, step of 2):\n",
      "[0 2 4 6 8]\n"
     ]
    }
   ],
   "source": [
    "compass_sequence = np.arange(0, 10, 2) \n",
    "print(\"\\nArray of a sequence (our compass settings - 0 to 8, step of 2):\")\n",
    "print(compass_sequence)"
   ]
  },
  {
   "cell_type": "code",
   "execution_count": null,
   "id": "5c56f191",
   "metadata": {},
   "outputs": [
    {
     "name": "stdout",
     "output_type": "stream",
     "text": [
      "\n",
      "Array of 5 evenly spaced numbers from 0 to 100 (our waypoints):\n",
      "[  0.  25.  50.  75. 100.]\n",
      "------------------------------\n"
     ]
    }
   ],
   "source": [
    "waypoints = np.linspace(0, 100, 5) \n",
    "print(\"\\nArray of 5 evenly spaced numbers from 0 to 100 (our waypoints):\")\n",
    "print(waypoints)\n",
    "print(\"-\" * 30)"
   ]
  },
  {
   "cell_type": "code",
   "execution_count": null,
   "id": "14c9cf7e",
   "metadata": {},
   "outputs": [
    {
     "name": "stdout",
     "output_type": "stream",
     "text": [
      "WOW! A random 4x4 array of floats (our atmospheric interference map):\n",
      "[[0.22688567 0.63236754 0.88475392 0.5536889 ]\n",
      " [0.62456872 0.07746396 0.51839472 0.68645189]\n",
      " [0.75587239 0.11795298 0.35709916 0.84462773]\n",
      " [0.04479623 0.58881663 0.72414227 0.06834841]]\n"
     ]
    }
   ],
   "source": [
    "random_interference = np.random.rand(4, 4) \n",
    "print(\"WOW! A random 4x4 array of floats (our atmospheric interference map):\")\n",
    "print(random_interference)"
   ]
  },
  {
   "cell_type": "code",
   "execution_count": 13,
   "id": "2d7bfb82",
   "metadata": {},
   "outputs": [
    {
     "name": "stdout",
     "output_type": "stream",
     "text": [
      "\n",
      "Another WOW! 10 random dice rolls (numbers from 1 to 6):\n",
      "[3 1 2 5 4 4 6 4 4 6]\n",
      "------------------------------\n"
     ]
    }
   ],
   "source": [
    "dice_rolls = np.random.randint(1, 7, size=10)\n",
    "print(\"\\nAnother WOW! 10 random dice rolls (numbers from 1 to 6):\")\n",
    "print(dice_rolls)\n",
    "print(\"-\" * 30)"
   ]
  },
  {
   "cell_type": "code",
   "execution_count": null,
   "id": "acd4294f",
   "metadata": {},
   "outputs": [],
   "source": []
  }
 ],
 "metadata": {
  "kernelspec": {
   "display_name": "base",
   "language": "python",
   "name": "python3"
  },
  "language_info": {
   "codemirror_mode": {
    "name": "ipython",
    "version": 3
   },
   "file_extension": ".py",
   "mimetype": "text/x-python",
   "name": "python",
   "nbconvert_exporter": "python",
   "pygments_lexer": "ipython3",
   "version": "3.13.5"
  }
 },
 "nbformat": 4,
 "nbformat_minor": 5
}
