{
 "cells": [
  {
   "cell_type": "code",
   "execution_count": 2,
   "id": "51d736cd",
   "metadata": {},
   "outputs": [],
   "source": [
    "import numpy as np"
   ]
  },
  {
   "cell_type": "code",
   "execution_count": 3,
   "id": "12c204c7",
   "metadata": {},
   "outputs": [
    {
     "name": "stdout",
     "output_type": "stream",
     "text": [
      "Shapes are compatible: (3, 4) and (3, 4)\n",
      "------------------------------\n"
     ]
    }
   ],
   "source": [
    "A = np.ones((3, 4))\n",
    "B = np.ones((3, 4))\n",
    "print(f\"Shapes are compatible: {A.shape} and {B.shape}\")\n",
    "print(\"-\" * 30)"
   ]
  },
  {
   "cell_type": "code",
   "execution_count": 4,
   "id": "001c9ab1",
   "metadata": {},
   "outputs": [
    {
     "name": "stdout",
     "output_type": "stream",
     "text": [
      "Shapes are compatible: (3, 4) and (4,)\n",
      "Broadcasting C (4,) across A (3, 4):\n",
      "[[1. 2. 3. 4.]\n",
      " [1. 2. 3. 4.]\n",
      " [1. 2. 3. 4.]]\n",
      "------------------------------\n"
     ]
    }
   ],
   "source": [
    "C = np.arange(4)\n",
    "print(f\"Shapes are compatible: {A.shape} and {C.shape}\")\n",
    "print(\"Broadcasting C (4,) across A (3, 4):\")\n",
    "print(A + C)\n",
    "print(\"-\" * 30)"
   ]
  },
  {
   "cell_type": "code",
   "execution_count": 6,
   "id": "59aa2e48",
   "metadata": {},
   "outputs": [
    {
     "name": "stdout",
     "output_type": "stream",
     "text": [
      "Shapes are compatible: (3, 4) and (3, 1)\n",
      "Broadcasting D (3, 1) across A (3, 4):\n",
      "[[11. 11. 11. 11.]\n",
      " [21. 21. 21. 21.]\n",
      " [31. 31. 31. 31.]]\n",
      "------------------------------\n"
     ]
    }
   ],
   "source": [
    "D = np.array([[10], [20], [30]])\n",
    "print(f\"Shapes are compatible: {A.shape} and {D.shape}\")\n",
    "print(\"Broadcasting D (3, 1) across A (3, 4):\")\n",
    "print(A + D)\n",
    "print(\"-\" * 30)"
   ]
  },
  {
   "cell_type": "code",
   "execution_count": 7,
   "id": "35f4ccac",
   "metadata": {},
   "outputs": [
    {
     "name": "stdout",
     "output_type": "stream",
     "text": [
      "Attempting to broadcast shapes: (3, 4) and (3,)\n",
      "WOW! The broadcasting rule was violated!\n",
      "Error: operands could not be broadcast together with shapes (3,4) (3,) \n",
      "NumPy protected us from a silent mistake!\n",
      "------------------------------\n"
     ]
    }
   ],
   "source": [
    "E = np.arange(3)\n",
    "try:\n",
    "    print(f\"Attempting to broadcast shapes: {A.shape} and {E.shape}\")\n",
    "    print(A + E) # This will raise a ValueError\n",
    "except ValueError as e:\n",
    "    print(\"WOW! The broadcasting rule was violated!\")\n",
    "    print(f\"Error: {e}\")\n",
    "    print(\"NumPy protected us from a silent mistake!\")\n",
    "print(\"-\" * 30)"
   ]
  },
  {
   "cell_type": "code",
   "execution_count": 8,
   "id": "76569c12",
   "metadata": {},
   "outputs": [
    {
     "name": "stdout",
     "output_type": "stream",
     "text": [
      "Original crew scores before fixing: [85 92 10 95 88]\n",
      "WOW! Scores after fixing the view: [85 92 78 95 88]\n",
      "We accidentally changed the original data!\n",
      "------------------------------\n"
     ]
    }
   ],
   "source": [
    "crew_scores = np.array([85, 92, 10, 95, 88])\n",
    "print(f\"Original crew scores before fixing: {crew_scores}\")\n",
    "\n",
    "bad_score_view = crew_scores[2:3]\n",
    "bad_score_view[0] = 78\n",
    "\n",
    "print(f\"WOW! Scores after fixing the view: {crew_scores}\")\n",
    "print(\"We accidentally changed the original data!\")\n",
    "print(\"-\" * 30)"
   ]
  },
  {
   "cell_type": "code",
   "execution_count": 10,
   "id": "55227291",
   "metadata": {},
   "outputs": [
    {
     "name": "stdout",
     "output_type": "stream",
     "text": [
      "Original scores after fixing the copy (it's unchanged!): [85 92 10 95 88]\n",
      "Phew! We used .copy() and protected our original data.\n"
     ]
    }
   ],
   "source": [
    "crew_scores = np.array([85, 92, 10, 95, 88]) \n",
    "bad_score_copy = crew_scores[2:3].copy() \n",
    "\n",
    "bad_score_copy[0] = 78\n",
    "\n",
    "print(\"Original scores after fixing the copy \"\n",
    "      f\"(it's unchanged!): {crew_scores}\")\n",
    "print(\"Phew! We used .copy() and protected our original data.\")"
   ]
  },
  {
   "cell_type": "code",
   "execution_count": null,
   "id": "925b1559",
   "metadata": {},
   "outputs": [],
   "source": []
  }
 ],
 "metadata": {
  "kernelspec": {
   "display_name": "base",
   "language": "python",
   "name": "python3"
  },
  "language_info": {
   "codemirror_mode": {
    "name": "ipython",
    "version": 3
   },
   "file_extension": ".py",
   "mimetype": "text/x-python",
   "name": "python",
   "nbconvert_exporter": "python",
   "pygments_lexer": "ipython3",
   "version": "3.13.5"
  }
 },
 "nbformat": 4,
 "nbformat_minor": 5
}
