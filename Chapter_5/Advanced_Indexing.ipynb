{
 "cells": [
  {
   "cell_type": "code",
   "execution_count": 2,
   "id": "5f06bd67",
   "metadata": {},
   "outputs": [],
   "source": [
    "import pandas as pd\n",
    "import numpy as np\n",
    "\n",
    "data = {\n",
    "    'Altitude': [4500, 3800, 5200, 2100, 6100],\n",
    "    'Weather': ['Clear', 'Cloudy', 'Snow', 'Rain', 'Storm'],\n",
    "    'Supplies': ['Low', 'Sufficient', 'High', 'Low', 'Very Low']\n",
    "}"
   ]
  },
  {
   "cell_type": "code",
   "execution_count": 3,
   "id": "6abbba54",
   "metadata": {},
   "outputs": [
    {
     "name": "stdout",
     "output_type": "stream",
     "text": [
      "--- Our Expedition Log (Master Blueprint) ---\n",
      "                Altitude Weather    Supplies\n",
      "Base Camp           4500   Clear         Low\n",
      "Ridge               3800  Cloudy  Sufficient\n",
      "Summit              5200    Snow        High\n",
      "River Crossing      2100    Rain         Low\n",
      "Icefall             6100   Storm    Very Low\n",
      "------------------------------------------------------------\n"
     ]
    }
   ],
   "source": [
    "labels = ['Base Camp', 'Ridge', 'Summit', 'River Crossing', 'Icefall']\n",
    "expedition_log = pd.DataFrame(data, index=labels)\n",
    "\n",
    "print(\"--- Our Expedition Log (Master Blueprint) ---\")\n",
    "print(expedition_log)\n",
    "print(\"-\" * 60)"
   ]
  },
  {
   "cell_type": "code",
   "execution_count": 4,
   "id": "1fcb3f72",
   "metadata": {},
   "outputs": [
    {
     "name": "stdout",
     "output_type": "stream",
     "text": [
      "WOW! The Supplies status at the Summit is:\n",
      "High\n",
      "------------------------------------------------------------\n"
     ]
    }
   ],
   "source": [
    "print(\"WOW! The Supplies status at the Summit is:\")\n",
    "print(expedition_log.loc['Summit', 'Supplies'])\n",
    "print(\"-\" * 60)"
   ]
  },
  {
   "cell_type": "code",
   "execution_count": 5,
   "id": "fb9bdaef",
   "metadata": {},
   "outputs": [
    {
     "name": "stdout",
     "output_type": "stream",
     "text": [
      "WOW! The logs from Base Camp to the Summit:\n",
      "           Altitude Weather    Supplies\n",
      "Base Camp      4500   Clear         Low\n",
      "Ridge          3800  Cloudy  Sufficient\n",
      "Summit         5200    Snow        High\n",
      "------------------------------------------------------------\n"
     ]
    }
   ],
   "source": [
    "print(\"WOW! The logs from Base Camp to the Summit:\")\n",
    "print(expedition_log.loc['Base Camp':'Summit'])\n",
    "print(\"-\" * 60)"
   ]
  },
  {
   "cell_type": "code",
   "execution_count": 6,
   "id": "a4e37776",
   "metadata": {},
   "outputs": [
    {
     "name": "stdout",
     "output_type": "stream",
     "text": [
      "WOW! The logs from 'Icefall' and 'Ridge' by label:\n",
      "         Altitude Weather    Supplies\n",
      "Icefall      6100   Storm    Very Low\n",
      "Ridge        3800  Cloudy  Sufficient\n",
      "------------------------------------------------------------\n"
     ]
    }
   ],
   "source": [
    "print(\"WOW! The logs from 'Icefall' and 'Ridge' by label:\")\n",
    "print(expedition_log.loc[['Icefall', 'Ridge']])\n",
    "print(\"-\" * 60)"
   ]
  },
  {
   "cell_type": "code",
   "execution_count": 7,
   "id": "d6a37944",
   "metadata": {},
   "outputs": [
    {
     "name": "stdout",
     "output_type": "stream",
     "text": [
      "WOW! The log from the 3rd physical location (index 2):\n",
      "Altitude    5200\n",
      "Weather     Snow\n",
      "Supplies    High\n",
      "Name: Summit, dtype: object\n",
      "------------------------------------------------------------\n"
     ]
    }
   ],
   "source": [
    "print(\"WOW! The log from the 3rd physical location (index 2):\")\n",
    "print(expedition_log.iloc[2])\n",
    "print(\"-\" * 60)"
   ]
  },
  {
   "cell_type": "code",
   "execution_count": 9,
   "id": "46412983",
   "metadata": {},
   "outputs": [
    {
     "name": "stdout",
     "output_type": "stream",
     "text": [
      "WOW! The logs from physical positions 1 to 3:\n",
      "                Altitude Weather    Supplies\n",
      "Ridge               3800  Cloudy  Sufficient\n",
      "Summit              5200    Snow        High\n",
      "River Crossing      2100    Rain         Low\n",
      "------------------------------------------------------------\n"
     ]
    }
   ],
   "source": [
    "print(\"WOW! The logs from physical positions 1 to 3:\")\n",
    "print(expedition_log.iloc[1:4])\n",
    "print(\"-\" * 60)"
   ]
  },
  {
   "cell_type": "code",
   "execution_count": 8,
   "id": "6b8d4f4d",
   "metadata": {},
   "outputs": [
    {
     "name": "stdout",
     "output_type": "stream",
     "text": [
      "WOW! The logs from the 1st and 4th physical locations (indexes 0 and 3):\n",
      "                Altitude Weather Supplies\n",
      "Base Camp           4500   Clear      Low\n",
      "River Crossing      2100    Rain      Low\n",
      "------------------------------------------------------------\n"
     ]
    }
   ],
   "source": [
    "print(\"WOW! The logs from the 1st and 4th physical locations \"\n",
    "      \"(indexes 0 and 3):\")\n",
    "print(expedition_log.iloc[[0, 3]])\n",
    "print(\"-\" * 60)"
   ]
  },
  {
   "cell_type": "code",
   "execution_count": null,
   "id": "ddd35288",
   "metadata": {},
   "outputs": [],
   "source": []
  }
 ],
 "metadata": {
  "kernelspec": {
   "display_name": "Python 3",
   "language": "python",
   "name": "python3"
  },
  "language_info": {
   "codemirror_mode": {
    "name": "ipython",
    "version": 3
   },
   "file_extension": ".py",
   "mimetype": "text/x-python",
   "name": "python",
   "nbconvert_exporter": "python",
   "pygments_lexer": "ipython3",
   "version": "3.12.5"
  }
 },
 "nbformat": 4,
 "nbformat_minor": 5
}
