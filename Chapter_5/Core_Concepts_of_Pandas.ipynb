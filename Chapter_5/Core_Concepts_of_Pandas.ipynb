{
 "cells": [
  {
   "cell_type": "code",
   "execution_count": null,
   "id": "9d3dd6ee",
   "metadata": {},
   "outputs": [
    {
     "name": "stdout",
     "output_type": "stream",
     "text": [
      "--- Our Basic Expedition Log (Default Index) ---\n",
      "   Altitude Weather\n",
      "0      4500   Clear\n",
      "1      3800  Cloudy\n",
      "2      5200    Snow\n",
      "------------------------------------------------------------\n"
     ]
    }
   ],
   "source": [
    "import pandas as pd\n",
    "import numpy as np\n",
    "\n",
    "data = {\n",
    "    'Altitude': [4500, 3800, 5200],\n",
    "    'Weather': ['Clear', 'Cloudy', 'Snow']\n",
    "}\n",
    "expedition_log_primer = pd.DataFrame(data)\n",
    "\n",
    "print(\"--- Our Basic Expedition Log (Default Index) ---\")\n",
    "print(expedition_log_primer)\n",
    "print(\"-\" * 60)"
   ]
  },
  {
   "cell_type": "code",
   "execution_count": 4,
   "id": "51a288b1",
   "metadata": {},
   "outputs": [
    {
     "name": "stdout",
     "output_type": "stream",
     "text": [
      "WOW! The 'Altitude' column is a Pandas Series:\n",
      "<class 'pandas.core.series.Series'>\n",
      "0    4500\n",
      "1    3800\n",
      "2    5200\n",
      "Name: Altitude, dtype: int64\n",
      "------------------------------------------------------------\n"
     ]
    }
   ],
   "source": [
    "print(\"WOW! The 'Altitude' column is a Pandas Series:\")\n",
    "print(type(expedition_log_primer['Altitude']))\n",
    "print(expedition_log_primer['Altitude']) # This is a Series!\n",
    "print(\"-\" * 60)"
   ]
  },
  {
   "cell_type": "code",
   "execution_count": 5,
   "id": "cc695731",
   "metadata": {},
   "outputs": [
    {
     "name": "stdout",
     "output_type": "stream",
     "text": [
      "WOW! The DataFrame's Index:\n",
      "RangeIndex(start=0, stop=3, step=1)\n",
      "------------------------------------------------------------\n"
     ]
    }
   ],
   "source": [
    "print(\"WOW! The DataFrame's Index:\")\n",
    "print(expedition_log_primer.index)\n",
    "print(\"-\" * 60)\n"
   ]
  },
  {
   "cell_type": "code",
   "execution_count": 6,
   "id": "9e0727b0",
   "metadata": {},
   "outputs": [
    {
     "name": "stdout",
     "output_type": "stream",
     "text": [
      "Accessing 'Weather' using Bracket Notation:\n",
      "0     Clear\n",
      "1    Cloudy\n",
      "2      Snow\n",
      "Name: Weather, dtype: object\n",
      "------------------------------\n"
     ]
    }
   ],
   "source": [
    "print(\"Accessing 'Weather' using Bracket Notation:\")\n",
    "print(expedition_log_primer['Weather'])\n",
    "print(\"-\" * 30)"
   ]
  },
  {
   "cell_type": "code",
   "execution_count": null,
   "id": "864e0917",
   "metadata": {},
   "outputs": [
    {
     "name": "stdout",
     "output_type": "stream",
     "text": [
      "Accessing 'Weather' using Attribute Notation:\n",
      "0     Clear\n",
      "1    Cloudy\n",
      "2      Snow\n",
      "Name: Weather, dtype: object\n",
      "------------------------------------------------------------\n"
     ]
    }
   ],
   "source": [
    "print(\"Accessing 'Weather' using Attribute Notation:\")\n",
    "print(expedition_log_primer.Weather)\n",
    "print(\"-\" * 60)"
   ]
  },
  {
   "cell_type": "code",
   "execution_count": 9,
   "id": "6d0aacbb",
   "metadata": {},
   "outputs": [
    {
     "name": "stdout",
     "output_type": "stream",
     "text": [
      "--- Expedition Log (Custom Index) ---\n",
      "           Altitude Weather\n",
      "Base Camp      4500   Clear\n",
      "Ridge          3800  Cloudy\n",
      "Summit         5200    Snow\n",
      "------------------------------------------------------------\n"
     ]
    }
   ],
   "source": [
    "custom_labels = ['Base Camp', 'Ridge', 'Summit']\n",
    "expedition_log_custom_index = pd.DataFrame(data, index=custom_labels)\n",
    "print(\"--- Expedition Log (Custom Index) ---\")\n",
    "print(expedition_log_custom_index)\n",
    "print(\"-\" * 60)"
   ]
  },
  {
   "cell_type": "code",
   "execution_count": 10,
   "id": "e7a76014",
   "metadata": {},
   "outputs": [
    {
     "name": "stdout",
     "output_type": "stream",
     "text": [
      "WOW! The DataFrame's Custom Index:\n",
      "Index(['Base Camp', 'Ridge', 'Summit'], dtype='object')\n",
      "------------------------------------------------------------\n"
     ]
    }
   ],
   "source": [
    "print(\"WOW! The DataFrame's Custom Index:\")\n",
    "print(expedition_log_custom_index.index)\n",
    "print(\"-\" * 60)"
   ]
  },
  {
   "cell_type": "code",
   "execution_count": null,
   "id": "d03e3678",
   "metadata": {},
   "outputs": [],
   "source": []
  }
 ],
 "metadata": {
  "kernelspec": {
   "display_name": "Python 3",
   "language": "python",
   "name": "python3"
  },
  "language_info": {
   "codemirror_mode": {
    "name": "ipython",
    "version": 3
   },
   "file_extension": ".py",
   "mimetype": "text/x-python",
   "name": "python",
   "nbconvert_exporter": "python",
   "pygments_lexer": "ipython3",
   "version": "3.12.5"
  }
 },
 "nbformat": 4,
 "nbformat_minor": 5
}
