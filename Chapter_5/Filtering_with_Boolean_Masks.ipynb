{
 "cells": [
  {
   "cell_type": "code",
   "execution_count": 2,
   "id": "ea6d41bc",
   "metadata": {},
   "outputs": [],
   "source": [
    "import pandas as pd\n",
    "import numpy as np\n",
    "\n",
    "data = {\n",
    "    'Altitude': [4500, 3800, 5200, 2100, 6100],\n",
    "    'Weather': ['Clear', 'Cloudy', 'Snow', 'Rain', 'Storm'],\n",
    "    'Supplies': ['Low', 'Sufficient', 'High', 'Low', 'Very Low']\n",
    "}"
   ]
  },
  {
   "cell_type": "code",
   "execution_count": 3,
   "id": "658999eb",
   "metadata": {},
   "outputs": [
    {
     "name": "stdout",
     "output_type": "stream",
     "text": [
      "--- Our Expedition Log (Full Blueprint) ---\n",
      "                Altitude Weather    Supplies\n",
      "Base Camp           4500   Clear         Low\n",
      "Ridge               3800  Cloudy  Sufficient\n",
      "Summit              5200    Snow        High\n",
      "River Crossing      2100    Rain         Low\n",
      "Icefall             6100   Storm    Very Low\n",
      "------------------------------------------------------------\n"
     ]
    }
   ],
   "source": [
    "labels = ['Base Camp', 'Ridge', 'Summit', 'River Crossing', 'Icefall']\n",
    "expedition_log = pd.DataFrame(data, index=labels)\n",
    "\n",
    "print(\"--- Our Expedition Log (Full Blueprint) ---\")\n",
    "print(expedition_log)\n",
    "print(\"-\" * 60)"
   ]
  },
  {
   "cell_type": "code",
   "execution_count": 4,
   "id": "c73b9dc1",
   "metadata": {},
   "outputs": [
    {
     "name": "stdout",
     "output_type": "stream",
     "text": [
      "The boolean mask for 'Low' supplies:\n",
      "Base Camp          True\n",
      "Ridge             False\n",
      "Summit            False\n",
      "River Crossing     True\n",
      "Icefall           False\n",
      "Name: Supplies, dtype: bool\n",
      "------------------------------------------------------------\n"
     ]
    }
   ],
   "source": [
    "low_supplies_mask = (expedition_log['Supplies'] == 'Low')\n",
    "print(\"The boolean mask for 'Low' supplies:\")\n",
    "print(low_supplies_mask)\n",
    "print(\"-\" * 60)"
   ]
  },
  {
   "cell_type": "code",
   "execution_count": 5,
   "id": "dfc007f2",
   "metadata": {},
   "outputs": [
    {
     "name": "stdout",
     "output_type": "stream",
     "text": [
      "WOW! Locations with 'Low' supplies:\n",
      "                Altitude Weather Supplies\n",
      "Base Camp           4500   Clear      Low\n",
      "River Crossing      2100    Rain      Low\n",
      "------------------------------------------------------------\n"
     ]
    }
   ],
   "source": [
    "print(\"WOW! Locations with 'Low' supplies:\")\n",
    "print(expedition_log[low_supplies_mask])\n",
    "print(\"-\" * 60)"
   ]
  },
  {
   "cell_type": "code",
   "execution_count": 6,
   "id": "3f11176c",
   "metadata": {},
   "outputs": [
    {
     "name": "stdout",
     "output_type": "stream",
     "text": [
      "Locations with an Altitude > 5000 AND Snow:\n",
      "        Altitude Weather Supplies\n",
      "Summit      5200    Snow     High\n",
      "------------------------------------------------------------\n"
     ]
    }
   ],
   "source": [
    "high_altitude_snow_mask = (expedition_log['Altitude'] > 5000)\\\n",
    "                        & (expedition_log['Weather'] == 'Snow')\n",
    "print(\"Locations with an Altitude > 5000 AND Snow:\")\n",
    "print(expedition_log[high_altitude_snow_mask])\n",
    "print(\"-\" * 60)"
   ]
  },
  {
   "cell_type": "code",
   "execution_count": 7,
   "id": "d4450837",
   "metadata": {},
   "outputs": [
    {
     "name": "stdout",
     "output_type": "stream",
     "text": [
      "WOW! Locations in a Critical Condition (Very Low Supplies OR Stormy Weather):\n",
      "         Altitude Weather  Supplies\n",
      "Icefall      6100   Storm  Very Low\n",
      "------------------------------------------------------------\n"
     ]
    }
   ],
   "source": [
    "critical_condition_mask = (expedition_log['Supplies'] == 'Very Low') | (expedition_log['Weather'] == 'Storm')\n",
    "print(\"WOW! Locations in a Critical Condition (Very Low Supplies OR Stormy Weather):\")\n",
    "print(expedition_log[critical_condition_mask])\n",
    "print(\"-\" * 60)"
   ]
  },
  {
   "cell_type": "code",
   "execution_count": 8,
   "id": "0decfb9e",
   "metadata": {},
   "outputs": [
    {
     "name": "stdout",
     "output_type": "stream",
     "text": [
      "WOW! Locations where supplies are NOT 'Low':\n",
      "         Altitude Weather    Supplies\n",
      "Ridge        3800  Cloudy  Sufficient\n",
      "Summit       5200    Snow        High\n",
      "Icefall      6100   Storm    Very Low\n",
      "------------------------------------------------------------\n"
     ]
    }
   ],
   "source": [
    "not_low_supplies_mask = ~(expedition_log['Supplies'] == 'Low')\n",
    "print(\"WOW! Locations where supplies are NOT 'Low':\")\n",
    "print(expedition_log[not_low_supplies_mask])\n",
    "print(\"-\" * 60)"
   ]
  },
  {
   "cell_type": "code",
   "execution_count": null,
   "id": "5c035fe3",
   "metadata": {},
   "outputs": [],
   "source": []
  }
 ],
 "metadata": {
  "kernelspec": {
   "display_name": "Python 3",
   "language": "python",
   "name": "python3"
  },
  "language_info": {
   "codemirror_mode": {
    "name": "ipython",
    "version": 3
   },
   "file_extension": ".py",
   "mimetype": "text/x-python",
   "name": "python",
   "nbconvert_exporter": "python",
   "pygments_lexer": "ipython3",
   "version": "3.12.5"
  }
 },
 "nbformat": 4,
 "nbformat_minor": 5
}
