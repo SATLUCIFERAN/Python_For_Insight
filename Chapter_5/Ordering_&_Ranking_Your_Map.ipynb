{
 "cells": [
  {
   "cell_type": "code",
   "execution_count": 2,
   "id": "870e4597",
   "metadata": {},
   "outputs": [],
   "source": [
    "import pandas as pd\n",
    "import numpy as np\n",
    "\n",
    "data = {\n",
    "    'Altitude': [4500, 3800, 5200, 2100, 6100, 4800, 3200],\n",
    "    'Weather': ['Clear', 'Cloudy', 'Snow', 'Rain', \n",
    "                'Storm', 'Clear', 'Cloudy'],\n",
    "    'Supplies': ['Low', 'Sufficient', 'High', 'Low',\n",
    "                 'Very Low', 'High', 'Sufficient']\n",
    "}"
   ]
  },
  {
   "cell_type": "code",
   "execution_count": 3,
   "id": "a5e78933",
   "metadata": {},
   "outputs": [
    {
     "name": "stdout",
     "output_type": "stream",
     "text": [
      "--- Our Unsorted Expedition Log ---\n",
      "                Altitude Weather    Supplies\n",
      "Base Camp           4500   Clear         Low\n",
      "Ridge               3800  Cloudy  Sufficient\n",
      "Summit              5200    Snow        High\n",
      "River Crossing      2100    Rain         Low\n",
      "Icefall             6100   Storm    Very Low\n",
      "Plateau             4800   Clear        High\n",
      "Valley              3200  Cloudy  Sufficient\n",
      "------------------------------------------------------------\n"
     ]
    }
   ],
   "source": [
    "labels = ['Base Camp', 'Ridge', 'Summit', 'River Crossing',\n",
    "          'Icefall', 'Plateau', 'Valley']\n",
    "expedition_log = pd.DataFrame(data, index=labels)\n",
    "\n",
    "print(\"--- Our Unsorted Expedition Log ---\")\n",
    "print(expedition_log)\n",
    "print(\"-\" * 60)"
   ]
  },
  {
   "cell_type": "code",
   "execution_count": 4,
   "id": "665e7b3f",
   "metadata": {},
   "outputs": [
    {
     "name": "stdout",
     "output_type": "stream",
     "text": [
      "The Log Sorted by Altitude (Highest to Lowest):\n",
      "                Altitude Weather    Supplies\n",
      "Icefall             6100   Storm    Very Low\n",
      "Summit              5200    Snow        High\n",
      "Plateau             4800   Clear        High\n",
      "Base Camp           4500   Clear         Low\n",
      "Ridge               3800  Cloudy  Sufficient\n",
      "Valley              3200  Cloudy  Sufficient\n",
      "River Crossing      2100    Rain         Low\n",
      "------------------------------------------------------------\n"
     ]
    }
   ],
   "source": [
    "sorted_log = expedition_log.sort_values(by='Altitude', ascending=False)\n",
    "print(\"The Log Sorted by Altitude (Highest to Lowest):\")\n",
    "print(sorted_log)\n",
    "print(\"-\" * 60)"
   ]
  },
  {
   "cell_type": "code",
   "execution_count": 5,
   "id": "902cbd4f",
   "metadata": {},
   "outputs": [
    {
     "name": "stdout",
     "output_type": "stream",
     "text": [
      "WOW! The 3 Highest Altitudes, Found Instantly:\n",
      "         Altitude Weather  Supplies\n",
      "Icefall      6100   Storm  Very Low\n",
      "Summit       5200    Snow      High\n",
      "Plateau      4800   Clear      High\n",
      "------------------------------------------------------------\n"
     ]
    }
   ],
   "source": [
    "top_3_altitudes = expedition_log.nlargest(3, 'Altitude')\n",
    "print(\"WOW! The 3 Highest Altitudes, Found Instantly:\")\n",
    "print(top_3_altitudes)\n",
    "print(\"-\" * 60)"
   ]
  },
  {
   "cell_type": "code",
   "execution_count": null,
   "id": "9ddfdc3e",
   "metadata": {},
   "outputs": [],
   "source": []
  }
 ],
 "metadata": {
  "kernelspec": {
   "display_name": "Python 3",
   "language": "python",
   "name": "python3"
  },
  "language_info": {
   "codemirror_mode": {
    "name": "ipython",
    "version": 3
   },
   "file_extension": ".py",
   "mimetype": "text/x-python",
   "name": "python",
   "nbconvert_exporter": "python",
   "pygments_lexer": "ipython3",
   "version": "3.12.5"
  }
 },
 "nbformat": 4,
 "nbformat_minor": 5
}
