{
 "cells": [
  {
   "cell_type": "code",
   "execution_count": 1,
   "id": "d44a9deb",
   "metadata": {},
   "outputs": [],
   "source": [
    "import pandas as pd\n",
    "import numpy as np\n",
    "\n",
    "data = {\n",
    "    'Region': ['North', 'South', 'North', 'West', 'South',\n",
    "               'North', 'East', 'South', 'West', 'North'],\n",
    "    'Product': ['Gears', 'Ropes', 'Gears', 'Pulleys', 'Ropes',\n",
    "                'Gears', 'Compass', 'Ropes', 'Gears', 'Pulleys'],\n",
    "    'Sales': [150, 200, 180, 100, 220, 160, 250, 190, 140, 170],\n",
    "    'Weather': ['Clear', 'Cloudy', 'Clear', 'Storm', 'Rain',\n",
    "                'Clear', 'Snow', 'Cloudy', 'Storm', 'Clear']\n",
    "}"
   ]
  },
  {
   "cell_type": "code",
   "execution_count": 2,
   "id": "67e24616",
   "metadata": {},
   "outputs": [
    {
     "name": "stdout",
     "output_type": "stream",
     "text": [
      "--- Our Extended Expedition Log ---\n",
      "  Region  Product  Sales Weather\n",
      "0  North    Gears    150   Clear\n",
      "1  South    Ropes    200  Cloudy\n",
      "2  North    Gears    180   Clear\n",
      "3   West  Pulleys    100   Storm\n",
      "4  South    Ropes    220    Rain\n",
      "5  North    Gears    160   Clear\n",
      "6   East  Compass    250    Snow\n",
      "7  South    Ropes    190  Cloudy\n",
      "8   West    Gears    140   Storm\n",
      "9  North  Pulleys    170   Clear\n",
      "------------------------------------------------------------\n"
     ]
    }
   ],
   "source": [
    "expedition_log_ext = pd.DataFrame(data)\n",
    "\n",
    "print(\"--- Our Extended Expedition Log ---\")\n",
    "print(expedition_log_ext)\n",
    "print(\"-\" * 60)"
   ]
  },
  {
   "cell_type": "code",
   "execution_count": 4,
   "id": "8b27111f",
   "metadata": {},
   "outputs": [
    {
     "name": "stdout",
     "output_type": "stream",
     "text": [
      "The Most Frequent Regions (Value Counts):\n",
      "Region\n",
      "North    4\n",
      "South    3\n",
      "West     2\n",
      "East     1\n",
      "Name: count, dtype: int64\n",
      "------------------------------------------------------------\n"
     ]
    }
   ],
   "source": [
    "print(\"The Most Frequent Regions (Value Counts):\")\n",
    "print(expedition_log_ext['Region'].value_counts())\n",
    "print(\"-\" * 60)"
   ]
  },
  {
   "cell_type": "code",
   "execution_count": 5,
   "id": "31ab0208",
   "metadata": {},
   "outputs": [
    {
     "name": "stdout",
     "output_type": "stream",
     "text": [
      "WOW! Top 2 Most Frequent Products:\n",
      "Product\n",
      "Gears    4\n",
      "Ropes    3\n",
      "Name: count, dtype: int64\n",
      "------------------------------------------------------------\n"
     ]
    }
   ],
   "source": [
    "print(\"WOW! Top 2 Most Frequent Products:\")\n",
    "print(expedition_log_ext['Product'].value_counts().head(2))\n",
    "print(\"-\" * 60)"
   ]
  },
  {
   "cell_type": "code",
   "execution_count": 6,
   "id": "300d60dd",
   "metadata": {},
   "outputs": [
    {
     "name": "stdout",
     "output_type": "stream",
     "text": [
      "WOW! Number of Unique Weather Types Encountered:\n",
      "5\n",
      "------------------------------------------------------------\n"
     ]
    }
   ],
   "source": [
    "print(\"WOW! Number of Unique Weather Types Encountered:\")\n",
    "print(expedition_log_ext['Weather'].nunique())\n",
    "print(\"-\" * 60)"
   ]
  },
  {
   "cell_type": "code",
   "execution_count": 7,
   "id": "d40c51ec",
   "metadata": {},
   "outputs": [
    {
     "name": "stdout",
     "output_type": "stream",
     "text": [
      "WOW! Number of Unique Products in Inventory:\n",
      "4\n",
      "------------------------------------------------------------\n"
     ]
    }
   ],
   "source": [
    "print(\"WOW! Number of Unique Products in Inventory:\")\n",
    "print(expedition_log_ext['Product'].nunique())\n",
    "print(\"-\" * 60)"
   ]
  },
  {
   "cell_type": "code",
   "execution_count": null,
   "id": "c2f5de55",
   "metadata": {},
   "outputs": [],
   "source": []
  }
 ],
 "metadata": {
  "kernelspec": {
   "display_name": "Python 3",
   "language": "python",
   "name": "python3"
  },
  "language_info": {
   "codemirror_mode": {
    "name": "ipython",
    "version": 3
   },
   "file_extension": ".py",
   "mimetype": "text/x-python",
   "name": "python",
   "nbconvert_exporter": "python",
   "pygments_lexer": "ipython3",
   "version": "3.12.5"
  }
 },
 "nbformat": 4,
 "nbformat_minor": 5
}
