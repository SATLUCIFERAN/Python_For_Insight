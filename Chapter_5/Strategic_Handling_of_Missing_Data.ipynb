{
 "cells": [
  {
   "cell_type": "code",
   "execution_count": 3,
   "id": "a7c774d3",
   "metadata": {},
   "outputs": [
    {
     "name": "stderr",
     "output_type": "stream",
     "text": [
      "C:\\Users\\ASUS\\AppData\\Local\\Temp\\ipykernel_97520\\2666952175.py:5: UserWarning: Could not infer format, so each element will be parsed individually, falling back to `dateutil`. To ensure parsing is consistent and as-expected, please specify a format.\n",
      "  'Time': pd.to_datetime(['10:00', '10:01', '10:02', '10:03', '10:04']),\n"
     ]
    }
   ],
   "source": [
    "import pandas as pd\n",
    "import numpy as np\n",
    "\n",
    "data = {\n",
    "    'Time': pd.to_datetime(['10:00', '10:01', '10:02', '10:03', '10:04']),\n",
    "    'Sensor_Reading': [22.5, 23.0, np.nan, np.nan, 24.5],\n",
    "    'Wind_Direction': ['North', 'North', np.nan, 'East', 'East']\n",
    "}"
   ]
  },
  {
   "cell_type": "code",
   "execution_count": null,
   "id": "9b345fce",
   "metadata": {},
   "outputs": [
    {
     "name": "stdout",
     "output_type": "stream",
     "text": [
      "--- The Damaged Expedition Log ---\n",
      "                     Sensor_Reading Wind_Direction\n",
      "Time                                              \n",
      "2025-08-02 10:00:00            22.5          North\n",
      "2025-08-02 10:01:00            23.0          North\n",
      "2025-08-02 10:02:00             NaN            NaN\n",
      "2025-08-02 10:03:00             NaN           East\n",
      "2025-08-02 10:04:00            24.5           East\n",
      "------------------------------------------------------------\n"
     ]
    }
   ],
   "source": [
    "damaged_log = pd.DataFrame(data)\n",
    "damaged_log.set_index('Time', inplace=True) \n",
    "\n",
    "print(\"--- The Damaged Expedition Log ---\")\n",
    "print(damaged_log)\n",
    "print(\"-\" * 60)"
   ]
  },
  {
   "cell_type": "code",
   "execution_count": 5,
   "id": "f3cfa705",
   "metadata": {},
   "outputs": [
    {
     "name": "stdout",
     "output_type": "stream",
     "text": [
      "WOW! The Wind_Direction is repaired using a Forward Fill:\n",
      "                     Sensor_Reading Wind_Direction\n",
      "Time                                              \n",
      "2025-08-02 10:00:00            22.5          North\n",
      "2025-08-02 10:01:00            23.0          North\n",
      "2025-08-02 10:02:00             NaN          North\n",
      "2025-08-02 10:03:00             NaN           East\n",
      "2025-08-02 10:04:00            24.5           East\n",
      "------------------------------------------------------------\n"
     ]
    },
    {
     "name": "stderr",
     "output_type": "stream",
     "text": [
      "C:\\Users\\ASUS\\AppData\\Local\\Temp\\ipykernel_97520\\3164679012.py:2: FutureWarning: A value is trying to be set on a copy of a DataFrame or Series through chained assignment using an inplace method.\n",
      "The behavior will change in pandas 3.0. This inplace method will never work because the intermediate object on which we are setting values always behaves as a copy.\n",
      "\n",
      "For example, when doing 'df[col].method(value, inplace=True)', try using 'df.method({col: value}, inplace=True)' or df[col] = df[col].method(value) instead, to perform the operation inplace on the original object.\n",
      "\n",
      "\n",
      "  log_ffilled['Wind_Direction'].fillna(method='ffill', inplace=True)\n",
      "C:\\Users\\ASUS\\AppData\\Local\\Temp\\ipykernel_97520\\3164679012.py:2: FutureWarning: Series.fillna with 'method' is deprecated and will raise in a future version. Use obj.ffill() or obj.bfill() instead.\n",
      "  log_ffilled['Wind_Direction'].fillna(method='ffill', inplace=True)\n"
     ]
    }
   ],
   "source": [
    "log_ffilled = damaged_log.copy()\n",
    "log_ffilled['Wind_Direction'].fillna(method='ffill', inplace=True)\n",
    "print(\"WOW! The Wind_Direction is repaired using a Forward Fill:\")\n",
    "print(log_ffilled)\n",
    "print(\"-\" * 60)"
   ]
  },
  {
   "cell_type": "code",
   "execution_count": null,
   "id": "fcadb6f8",
   "metadata": {},
   "outputs": [
    {
     "name": "stdout",
     "output_type": "stream",
     "text": [
      "WOW! The Sensor_Reading is forensically reconstructed using Interpolation:\n",
      "                     Sensor_Reading Wind_Direction\n",
      "Time                                              \n",
      "2025-08-02 10:00:00            22.5          North\n",
      "2025-08-02 10:01:00            23.0          North\n",
      "2025-08-02 10:02:00            23.5            NaN\n",
      "2025-08-02 10:03:00            24.0           East\n",
      "2025-08-02 10:04:00            24.5           East\n",
      "------------------------------------------------------------\n"
     ]
    },
    {
     "name": "stderr",
     "output_type": "stream",
     "text": [
      "C:\\Users\\ASUS\\AppData\\Local\\Temp\\ipykernel_97520\\2162538997.py:2: FutureWarning: A value is trying to be set on a copy of a DataFrame or Series through chained assignment using an inplace method.\n",
      "The behavior will change in pandas 3.0. This inplace method will never work because the intermediate object on which we are setting values always behaves as a copy.\n",
      "\n",
      "For example, when doing 'df[col].method(value, inplace=True)', try using 'df.method({col: value}, inplace=True)' or df[col] = df[col].method(value) instead, to perform the operation inplace on the original object.\n",
      "\n",
      "\n",
      "  log_interpolated['Sensor_Reading'].interpolate(inplace=True)\n"
     ]
    }
   ],
   "source": [
    "log_interpolated = damaged_log.copy()\n",
    "log_interpolated['Sensor_Reading'].interpolate(inplace=True)\n",
    "print(\"WOW! The Sensor_Reading is forensically reconstructed \" \\\n",
    "      \"using Interpolation:\")\n",
    "print(log_interpolated)\n",
    "print(\"-\" * 60)"
   ]
  },
  {
   "cell_type": "code",
   "execution_count": null,
   "id": "8e7c2b28",
   "metadata": {},
   "outputs": [],
   "source": []
  }
 ],
 "metadata": {
  "kernelspec": {
   "display_name": "Python 3",
   "language": "python",
   "name": "python3"
  },
  "language_info": {
   "codemirror_mode": {
    "name": "ipython",
    "version": 3
   },
   "file_extension": ".py",
   "mimetype": "text/x-python",
   "name": "python",
   "nbconvert_exporter": "python",
   "pygments_lexer": "ipython3",
   "version": "3.12.5"
  }
 },
 "nbformat": 4,
 "nbformat_minor": 5
}
