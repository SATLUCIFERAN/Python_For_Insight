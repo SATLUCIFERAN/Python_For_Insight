{
 "cells": [
  {
   "cell_type": "code",
   "execution_count": 2,
   "id": "303304ad",
   "metadata": {},
   "outputs": [],
   "source": [
    "import pandas as pd\n",
    "import numpy as np"
   ]
  },
  {
   "cell_type": "code",
   "execution_count": 7,
   "id": "e889b7a1",
   "metadata": {},
   "outputs": [],
   "source": [
    "sales_data = {\n",
    "    'Sales_ID': [1001, 1002, 1003, 1004, 1005],\n",
    "    'Product_Code': ['PROD_A', 'PROD_B', 'PROD_A', 'PROD_C', 'PROD_B'],\n",
    "    # Varied date formats\n",
    "    'Revenue': ['150.75', '$200.00', '99.50', '125.00', '75.25'], \n",
    "    'Transaction_Date': ['2025-01-01', '01/02/2025', '2025-Jan-03','2025-01-04', '05-01-2025'], \n",
    "    'Customer_Rating': [4.5, 3.0, 5.0, 2.5, 4.0],\n",
    "    # Limited unique values\n",
    "    'Payment_Method': ['Credit Card', 'Cash', 'Credit Card', 'Debit Card', 'Cash'] \n",
    "}\n",
    "df_sales = pd.DataFrame(sales_data)"
   ]
  },
  {
   "cell_type": "code",
   "execution_count": 8,
   "id": "643d8c40",
   "metadata": {},
   "outputs": [
    {
     "name": "stdout",
     "output_type": "stream",
     "text": [
      "Original Sales Data:\n",
      "   Sales_ID Product_Code  Revenue Transaction_Date  Customer_Rating  \\\n",
      "0      1001       PROD_A   150.75       2025-01-01              4.5   \n",
      "1      1002       PROD_B  $200.00       01/02/2025              3.0   \n",
      "2      1003       PROD_A    99.50      2025-Jan-03              5.0   \n",
      "3      1004       PROD_C   125.00       2025-01-04              2.5   \n",
      "4      1005       PROD_B    75.25       05-01-2025              4.0   \n",
      "\n",
      "  Payment_Method  \n",
      "0    Credit Card  \n",
      "1           Cash  \n",
      "2    Credit Card  \n",
      "3     Debit Card  \n",
      "4           Cash  \n",
      "\n",
      "Original Data Types (using .info()):\n",
      "<class 'pandas.core.frame.DataFrame'>\n",
      "RangeIndex: 5 entries, 0 to 4\n",
      "Data columns (total 6 columns):\n",
      " #   Column            Non-Null Count  Dtype  \n",
      "---  ------            --------------  -----  \n",
      " 0   Sales_ID          5 non-null      int64  \n",
      " 1   Product_Code      5 non-null      object \n",
      " 2   Revenue           5 non-null      object \n",
      " 3   Transaction_Date  5 non-null      object \n",
      " 4   Customer_Rating   5 non-null      float64\n",
      " 5   Payment_Method    5 non-null      object \n",
      "dtypes: float64(1), int64(1), object(4)\n",
      "memory usage: 372.0+ bytes\n"
     ]
    }
   ],
   "source": [
    "print(\"Original Sales Data:\")\n",
    "print(df_sales)\n",
    "print(\"\\nOriginal Data Types (using .info()):\")\n",
    "df_sales.info()\n"
   ]
  },
  {
   "cell_type": "code",
   "execution_count": 9,
   "id": "8fdfa7a8",
   "metadata": {},
   "outputs": [
    {
     "name": "stdout",
     "output_type": "stream",
     "text": [
      "Data types using .dtypes:\n",
      "Sales_ID              int64\n",
      "Product_Code         object\n",
      "Revenue              object\n",
      "Transaction_Date     object\n",
      "Customer_Rating     float64\n",
      "Payment_Method       object\n",
      "dtype: object\n"
     ]
    }
   ],
   "source": [
    "print(\"Data types using .dtypes:\")\n",
    "print(df_sales.dtypes)"
   ]
  },
  {
   "cell_type": "code",
   "execution_count": null,
   "id": "4d411390",
   "metadata": {},
   "outputs": [],
   "source": [
    "df_converted_basic = df_sales.copy() # Work on a copy\n",
    "df_converted_basic['Sales_ID'] = df_converted_basic['Sales_ID'].astype(str)"
   ]
  },
  {
   "cell_type": "code",
   "execution_count": 11,
   "id": "b97852c8",
   "metadata": {},
   "outputs": [
    {
     "name": "stdout",
     "output_type": "stream",
     "text": [
      "\n",
      "DataFrame after converting 'Sales_ID' to string:\n",
      "  Sales_ID Product_Code  Revenue Transaction_Date  Customer_Rating  \\\n",
      "0     1001       PROD_A   150.75       2025-01-01              4.5   \n",
      "1     1002       PROD_B  $200.00       01/02/2025              3.0   \n",
      "2     1003       PROD_A    99.50      2025-Jan-03              5.0   \n",
      "3     1004       PROD_C   125.00       2025-01-04              2.5   \n",
      "4     1005       PROD_B    75.25       05-01-2025              4.0   \n",
      "\n",
      "  Payment_Method  \n",
      "0    Credit Card  \n",
      "1           Cash  \n",
      "2    Credit Card  \n",
      "3     Debit Card  \n",
      "4           Cash  \n",
      "\n",
      "Data Types after 'Sales_ID' conversion:\n",
      "<class 'pandas.core.frame.DataFrame'>\n",
      "RangeIndex: 5 entries, 0 to 4\n",
      "Data columns (total 6 columns):\n",
      " #   Column            Non-Null Count  Dtype  \n",
      "---  ------            --------------  -----  \n",
      " 0   Sales_ID          5 non-null      object \n",
      " 1   Product_Code      5 non-null      object \n",
      " 2   Revenue           5 non-null      object \n",
      " 3   Transaction_Date  5 non-null      object \n",
      " 4   Customer_Rating   5 non-null      float64\n",
      " 5   Payment_Method    5 non-null      object \n",
      "dtypes: float64(1), object(5)\n",
      "memory usage: 372.0+ bytes\n"
     ]
    }
   ],
   "source": [
    "print(\"\\nDataFrame after converting 'Sales_ID' to string:\")\n",
    "print(df_converted_basic)\n",
    "print(\"\\nData Types after 'Sales_ID' conversion:\")\n",
    "df_converted_basic.info()"
   ]
  },
  {
   "cell_type": "code",
   "execution_count": null,
   "id": "4d0c6a34",
   "metadata": {},
   "outputs": [
    {
     "name": "stdout",
     "output_type": "stream",
     "text": [
      "\n",
      "Revenue column after removing '$':\n",
      "0    150.75\n",
      "1    200.00\n",
      "2     99.50\n",
      "3    125.00\n",
      "4     75.25\n",
      "Name: Revenue, dtype: object\n"
     ]
    }
   ],
   "source": [
    "df_cleaned_revenue = df_sales.copy() #\n",
    "df_cleaned_revenue['Revenue'] = df_cleaned_revenue['Revenue'].str.replace('$', '', regex=False)\n",
    "\n",
    "print(\"\\nRevenue column after removing '$':\")\n",
    "print(df_cleaned_revenue['Revenue'])"
   ]
  },
  {
   "cell_type": "code",
   "execution_count": 13,
   "id": "9d1d5585",
   "metadata": {},
   "outputs": [],
   "source": [
    "df_cleaned_revenue['Revenue'] = pd.to_numeric(df_cleaned_revenue['Revenue'])"
   ]
  },
  {
   "cell_type": "code",
   "execution_count": 14,
   "id": "7236de3d",
   "metadata": {},
   "outputs": [
    {
     "name": "stdout",
     "output_type": "stream",
     "text": [
      "\n",
      "DataFrame after converting 'Revenue' to numeric:\n",
      "   Sales_ID Product_Code  Revenue Transaction_Date  Customer_Rating  \\\n",
      "0      1001       PROD_A   150.75       2025-01-01              4.5   \n",
      "1      1002       PROD_B   200.00       01/02/2025              3.0   \n",
      "2      1003       PROD_A    99.50      2025-Jan-03              5.0   \n",
      "3      1004       PROD_C   125.00       2025-01-04              2.5   \n",
      "4      1005       PROD_B    75.25       05-01-2025              4.0   \n",
      "\n",
      "  Payment_Method  \n",
      "0    Credit Card  \n",
      "1           Cash  \n",
      "2    Credit Card  \n",
      "3     Debit Card  \n",
      "4           Cash  \n",
      "\n",
      "Data Types after 'Revenue' conversion:\n",
      "<class 'pandas.core.frame.DataFrame'>\n",
      "RangeIndex: 5 entries, 0 to 4\n",
      "Data columns (total 6 columns):\n",
      " #   Column            Non-Null Count  Dtype  \n",
      "---  ------            --------------  -----  \n",
      " 0   Sales_ID          5 non-null      int64  \n",
      " 1   Product_Code      5 non-null      object \n",
      " 2   Revenue           5 non-null      float64\n",
      " 3   Transaction_Date  5 non-null      object \n",
      " 4   Customer_Rating   5 non-null      float64\n",
      " 5   Payment_Method    5 non-null      object \n",
      "dtypes: float64(2), int64(1), object(3)\n",
      "memory usage: 372.0+ bytes\n"
     ]
    }
   ],
   "source": [
    "print(\"\\nDataFrame after converting 'Revenue' to numeric:\")\n",
    "print(df_cleaned_revenue)\n",
    "print(\"\\nData Types after 'Revenue' conversion:\")\n",
    "df_cleaned_revenue.info()"
   ]
  },
  {
   "cell_type": "code",
   "execution_count": 17,
   "id": "8fd31c48",
   "metadata": {},
   "outputs": [],
   "source": [
    "df_converted_datetime = df_sales.copy()\n",
    "df_converted_datetime['Transaction_Date'] = \\\n",
    "pd.to_datetime(df_converted_datetime['Transaction_Date'],\n",
    "               format='mixed', dayfirst=True)\n"
   ]
  },
  {
   "cell_type": "code",
   "execution_count": 19,
   "id": "6707b453",
   "metadata": {},
   "outputs": [
    {
     "name": "stdout",
     "output_type": "stream",
     "text": [
      "\n",
      "DataFrame after converting 'Transaction_Date' to datetime:\n",
      "   Sales_ID Product_Code  Revenue Transaction_Date  Customer_Rating  \\\n",
      "0      1001       PROD_A   150.75       2025-01-01              4.5   \n",
      "1      1002       PROD_B  $200.00       2025-02-01              3.0   \n",
      "2      1003       PROD_A    99.50       2025-01-03              5.0   \n",
      "3      1004       PROD_C   125.00       2025-01-04              2.5   \n",
      "4      1005       PROD_B    75.25       2025-01-05              4.0   \n",
      "\n",
      "  Payment_Method  \n",
      "0    Credit Card  \n",
      "1           Cash  \n",
      "2    Credit Card  \n",
      "3     Debit Card  \n",
      "4           Cash  \n",
      "\n",
      "Data Types after 'Transaction_Date' conversion:\n",
      "<class 'pandas.core.frame.DataFrame'>\n",
      "RangeIndex: 5 entries, 0 to 4\n",
      "Data columns (total 6 columns):\n",
      " #   Column            Non-Null Count  Dtype         \n",
      "---  ------            --------------  -----         \n",
      " 0   Sales_ID          5 non-null      int64         \n",
      " 1   Product_Code      5 non-null      object        \n",
      " 2   Revenue           5 non-null      object        \n",
      " 3   Transaction_Date  5 non-null      datetime64[ns]\n",
      " 4   Customer_Rating   5 non-null      float64       \n",
      " 5   Payment_Method    5 non-null      object        \n",
      "dtypes: datetime64[ns](1), float64(1), int64(1), object(3)\n",
      "memory usage: 372.0+ bytes\n"
     ]
    }
   ],
   "source": [
    "print(\"\\nDataFrame after converting 'Transaction_Date' to datetime:\")\n",
    "print(df_converted_datetime)\n",
    "print(\"\\nData Types after 'Transaction_Date' conversion:\")\n",
    "df_converted_datetime.info()"
   ]
  },
  {
   "cell_type": "code",
   "execution_count": 20,
   "id": "03c607e0",
   "metadata": {},
   "outputs": [],
   "source": [
    "df_optimized_category = df_sales.copy()\n",
    "df_optimized_category['Payment_Method'] = \\\n",
    "df_optimized_category['Payment_Method'].astype('category')"
   ]
  },
  {
   "cell_type": "code",
   "execution_count": 21,
   "id": "f6d72c27",
   "metadata": {},
   "outputs": [
    {
     "name": "stdout",
     "output_type": "stream",
     "text": [
      "\n",
      "DataFrame after converting 'Payment_Method' to categorical:\n",
      "   Sales_ID Product_Code  Revenue Transaction_Date  Customer_Rating  \\\n",
      "0      1001       PROD_A   150.75       2025-01-01              4.5   \n",
      "1      1002       PROD_B  $200.00       01/02/2025              3.0   \n",
      "2      1003       PROD_A    99.50      2025-Jan-03              5.0   \n",
      "3      1004       PROD_C   125.00       2025-01-04              2.5   \n",
      "4      1005       PROD_B    75.25       05-01-2025              4.0   \n",
      "\n",
      "  Payment_Method  \n",
      "0    Credit Card  \n",
      "1           Cash  \n",
      "2    Credit Card  \n",
      "3     Debit Card  \n",
      "4           Cash  \n",
      "\n",
      "Data Types after 'Payment_Method' conversion:\n",
      "<class 'pandas.core.frame.DataFrame'>\n",
      "RangeIndex: 5 entries, 0 to 4\n",
      "Data columns (total 6 columns):\n",
      " #   Column            Non-Null Count  Dtype   \n",
      "---  ------            --------------  -----   \n",
      " 0   Sales_ID          5 non-null      int64   \n",
      " 1   Product_Code      5 non-null      object  \n",
      " 2   Revenue           5 non-null      object  \n",
      " 3   Transaction_Date  5 non-null      object  \n",
      " 4   Customer_Rating   5 non-null      float64 \n",
      " 5   Payment_Method    5 non-null      category\n",
      "dtypes: category(1), float64(1), int64(1), object(3)\n",
      "memory usage: 469.0+ bytes\n"
     ]
    }
   ],
   "source": [
    "print(\"\\nDataFrame after converting 'Payment_Method' to categorical:\")\n",
    "print(df_optimized_category)\n",
    "print(\"\\nData Types after 'Payment_Method' conversion:\")\n",
    "df_optimized_category.info()"
   ]
  },
  {
   "cell_type": "code",
   "execution_count": null,
   "id": "2d8b621d",
   "metadata": {},
   "outputs": [],
   "source": []
  }
 ],
 "metadata": {
  "kernelspec": {
   "display_name": "base",
   "language": "python",
   "name": "python3"
  },
  "language_info": {
   "codemirror_mode": {
    "name": "ipython",
    "version": 3
   },
   "file_extension": ".py",
   "mimetype": "text/x-python",
   "name": "python",
   "nbconvert_exporter": "python",
   "pygments_lexer": "ipython3",
   "version": "3.13.5"
  }
 },
 "nbformat": 4,
 "nbformat_minor": 5
}
