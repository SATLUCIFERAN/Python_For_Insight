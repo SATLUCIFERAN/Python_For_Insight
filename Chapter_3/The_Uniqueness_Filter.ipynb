{
 "cells": [
  {
   "cell_type": "code",
   "execution_count": 1,
   "id": "a8d4ea5e",
   "metadata": {},
   "outputs": [],
   "source": [
    "import pandas as pd"
   ]
  },
  {
   "cell_type": "code",
   "execution_count": 3,
   "id": "3d9347b2",
   "metadata": {},
   "outputs": [
    {
     "name": "stdout",
     "output_type": "stream",
     "text": [
      "Original Order Data (with potential duplicates):\n",
      "   OrderID  CustomerID   Product  Quantity  Price   OrderDate\n",
      "0     1001           1    Laptop         1   1200  2025-01-15\n",
      "1     1002           2     Mouse         2     25  2025-01-15\n",
      "2     1003           1    Laptop         1   1200  2025-01-15\n",
      "3     1004           3  Keyboard         1     75  2025-01-16\n",
      "4     1005           4   Monitor         1    300  2025-01-17\n",
      "5     1006           2     Mouse         2     25  2025-01-15\n",
      "6     1007           5    Webcam         3     40  2025-01-18\n",
      "7     1008           1    Laptop         1   1200  2025-01-15\n",
      "\n",
      "Original Data Info:\n",
      "<class 'pandas.core.frame.DataFrame'>\n",
      "RangeIndex: 8 entries, 0 to 7\n",
      "Data columns (total 6 columns):\n",
      " #   Column      Non-Null Count  Dtype \n",
      "---  ------      --------------  ----- \n",
      " 0   OrderID     8 non-null      int64 \n",
      " 1   CustomerID  8 non-null      int64 \n",
      " 2   Product     8 non-null      object\n",
      " 3   Quantity    8 non-null      int64 \n",
      " 4   Price       8 non-null      int64 \n",
      " 5   OrderDate   8 non-null      object\n",
      "dtypes: int64(4), object(2)\n",
      "memory usage: 516.0+ bytes\n"
     ]
    }
   ],
   "source": [
    "order_data = {\n",
    "    'OrderID': [1001, 1002, 1003, 1004, 1005, 1006, 1007, 1008],\n",
    "    'CustomerID': [1, 2, 1, 3, 4, 2, 5, 1],\n",
    "    'Product': ['Laptop', 'Mouse', 'Laptop', 'Keyboard', 'Monitor', \n",
    "                'Mouse', 'Webcam', 'Laptop'],\n",
    "    'Quantity': [1, 2, 1, 1, 1, 2, 3, 1],\n",
    "    'Price': [1200, 25, 1200, 75, 300, 25, 40, 1200],\n",
    "    'OrderDate': ['2025-01-15', '2025-01-15', '2025-01-15', \n",
    "                  '2025-01-16', '2025-01-17', '2025-01-15', \n",
    "                  '2025-01-18', '2025-01-15']\n",
    "}\n",
    "df_orders = pd.DataFrame(order_data)\n",
    "\n",
    "print(\"Original Order Data (with potential duplicates):\")\n",
    "print(df_orders)\n",
    "print(\"\\nOriginal Data Info:\")\n",
    "df_orders.info()"
   ]
  },
  {
   "cell_type": "code",
   "execution_count": 5,
   "id": "2f959605",
   "metadata": {},
   "outputs": [
    {
     "name": "stdout",
     "output_type": "stream",
     "text": [
      "Rows marked as duplicate (default - checking ALL columns):\n",
      "0    False\n",
      "1    False\n",
      "2    False\n",
      "3    False\n",
      "4    False\n",
      "5    False\n",
      "6    False\n",
      "7    False\n",
      "dtype: bool\n"
     ]
    }
   ],
   "source": [
    "is_duplicate_default = df_orders.duplicated()\n",
    "print(\"Rows marked as duplicate (default - checking ALL columns):\")\n",
    "print(is_duplicate_default)"
   ]
  },
  {
   "cell_type": "code",
   "execution_count": null,
   "id": "a5590a1b",
   "metadata": {},
   "outputs": [],
   "source": [
    "order_content_columns = ['CustomerID', 'Product',\n",
    "                         'Quantity', 'Price', 'OrderDate']"
   ]
  },
  {
   "cell_type": "code",
   "execution_count": 7,
   "id": "bc96b608",
   "metadata": {},
   "outputs": [
    {
     "name": "stdout",
     "output_type": "stream",
     "text": [
      "\n",
      "Rows marked as duplicate (based on order content, keeping first):\n",
      "0    False\n",
      "1    False\n",
      "2     True\n",
      "3    False\n",
      "4    False\n",
      "5     True\n",
      "6    False\n",
      "7     True\n",
      "dtype: bool\n"
     ]
    }
   ],
   "source": [
    "is_duplicate_by_content = df_orders.duplicated(subset=order_content_columns)\n",
    "print(\"\\nRows marked as duplicate (based on order content, keeping first):\")\n",
    "print(is_duplicate_by_content)"
   ]
  },
  {
   "cell_type": "code",
   "execution_count": 8,
   "id": "a01435fd",
   "metadata": {},
   "outputs": [
    {
     "name": "stdout",
     "output_type": "stream",
     "text": [
      "\n",
      "Actual duplicate rows based on order content:\n",
      "   OrderID  CustomerID Product  Quantity  Price   OrderDate\n",
      "2     1003           1  Laptop         1   1200  2025-01-15\n",
      "5     1006           2   Mouse         2     25  2025-01-15\n",
      "7     1008           1  Laptop         1   1200  2025-01-15\n"
     ]
    }
   ],
   "source": [
    "print(\"\\nActual duplicate rows based on order content:\")\n",
    "print(df_orders[is_duplicate_by_content])"
   ]
  },
  {
   "cell_type": "code",
   "execution_count": null,
   "id": "30379375",
   "metadata": {},
   "outputs": [
    {
     "name": "stdout",
     "output_type": "stream",
     "text": [
      "\n",
      "DataFrame after dropping duplicates (based on ALL columns, keeping first):\n",
      "   OrderID  CustomerID   Product  Quantity  Price   OrderDate\n",
      "0     1001           1    Laptop         1   1200  2025-01-15\n",
      "1     1002           2     Mouse         2     25  2025-01-15\n",
      "2     1003           1    Laptop         1   1200  2025-01-15\n",
      "3     1004           3  Keyboard         1     75  2025-01-16\n",
      "4     1005           4   Monitor         1    300  2025-01-17\n",
      "5     1006           2     Mouse         2     25  2025-01-15\n",
      "6     1007           5    Webcam         3     40  2025-01-18\n",
      "7     1008           1    Laptop         1   1200  2025-01-15\n",
      "\n",
      "Info after dropping duplicates (all columns):\n",
      "<class 'pandas.core.frame.DataFrame'>\n",
      "RangeIndex: 8 entries, 0 to 7\n",
      "Data columns (total 6 columns):\n",
      " #   Column      Non-Null Count  Dtype \n",
      "---  ------      --------------  ----- \n",
      " 0   OrderID     8 non-null      int64 \n",
      " 1   CustomerID  8 non-null      int64 \n",
      " 2   Product     8 non-null      object\n",
      " 3   Quantity    8 non-null      int64 \n",
      " 4   Price       8 non-null      int64 \n",
      " 5   OrderDate   8 non-null      object\n",
      "dtypes: int64(4), object(2)\n",
      "memory usage: 516.0+ bytes\n"
     ]
    }
   ],
   "source": [
    "df_no_duplicates_all_cols = df_orders.drop_duplicates()\n",
    "print(\"\\nDataFrame after dropping duplicates \"\n",
    "\"        (based on ALL columns, keeping first):\")\n",
    "print(df_no_duplicates_all_cols)\n",
    "print(\"\\nInfo after dropping duplicates (all columns):\")\n",
    "df_no_duplicates_all_cols.info()"
   ]
  },
  {
   "cell_type": "code",
   "execution_count": 11,
   "id": "59a4b178",
   "metadata": {},
   "outputs": [],
   "source": [
    "order_content_columns = ['CustomerID', 'Product', 'Quantity',\n",
    "                         'Price', 'OrderDate']"
   ]
  },
  {
   "cell_type": "code",
   "execution_count": null,
   "id": "cdc413e0",
   "metadata": {},
   "outputs": [
    {
     "name": "stdout",
     "output_type": "stream",
     "text": [
      "\n",
      "DataFrame after dropping duplicates (based on order content, keeping first):\n",
      "   OrderID  CustomerID   Product  Quantity  Price   OrderDate\n",
      "0     1001           1    Laptop         1   1200  2025-01-15\n",
      "1     1002           2     Mouse         2     25  2025-01-15\n",
      "3     1004           3  Keyboard         1     75  2025-01-16\n",
      "4     1005           4   Monitor         1    300  2025-01-17\n",
      "6     1007           5    Webcam         3     40  2025-01-18\n",
      "\n",
      "Info after dropping duplicates (by content):\n",
      "<class 'pandas.core.frame.DataFrame'>\n",
      "Index: 5 entries, 0 to 6\n",
      "Data columns (total 6 columns):\n",
      " #   Column      Non-Null Count  Dtype \n",
      "---  ------      --------------  ----- \n",
      " 0   OrderID     5 non-null      int64 \n",
      " 1   CustomerID  5 non-null      int64 \n",
      " 2   Product     5 non-null      object\n",
      " 3   Quantity    5 non-null      int64 \n",
      " 4   Price       5 non-null      int64 \n",
      " 5   OrderDate   5 non-null      object\n",
      "dtypes: int64(4), object(2)\n",
      "memory usage: 280.0+ bytes\n"
     ]
    }
   ],
   "source": [
    "df_no_duplicates_by_content = df_orders.drop_duplicates(subset=order_content_columns, keep='first')\n",
    "print(\"\\nDataFrame after dropping duplicates (based on order content, keeping first):\")\n",
    "print(df_no_duplicates_by_content)\n",
    "print(\"\\nInfo after dropping duplicates (by content):\")\n",
    "df_no_duplicates_by_content.info()"
   ]
  },
  {
   "cell_type": "code",
   "execution_count": null,
   "id": "211e965a",
   "metadata": {},
   "outputs": [],
   "source": []
  }
 ],
 "metadata": {
  "kernelspec": {
   "display_name": "base",
   "language": "python",
   "name": "python3"
  },
  "language_info": {
   "codemirror_mode": {
    "name": "ipython",
    "version": 3
   },
   "file_extension": ".py",
   "mimetype": "text/x-python",
   "name": "python",
   "nbconvert_exporter": "python",
   "pygments_lexer": "ipython3",
   "version": "3.13.5"
  }
 },
 "nbformat": 4,
 "nbformat_minor": 5
}
