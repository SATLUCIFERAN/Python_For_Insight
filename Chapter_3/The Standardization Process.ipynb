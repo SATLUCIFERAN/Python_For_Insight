{
 "cells": [
  {
   "cell_type": "code",
   "execution_count": 1,
   "id": "fcda48c1",
   "metadata": {},
   "outputs": [],
   "source": [
    "import pandas as pd"
   ]
  },
  {
   "cell_type": "code",
   "execution_count": 3,
   "id": "71e538d4",
   "metadata": {},
   "outputs": [],
   "source": [
    "review_data = {\n",
    "    'ReviewID': [1, 2, 3, 4, 5, 6, 7],\n",
    "    'Product':  ['Laptop', 'Mouse', 'Keyboard',\n",
    "                'Monitor', 'Webcam', 'Laptop', 'Mouse'],\n",
    "    'Category': ['Electronics', 'electronics', 'ELECTRONICS ',\n",
    "                 'Home goods', 'Home Goods', 'Electronics', 'ElecTRONICS'], \n",
    "    'Reviewer_Location': ['New York', 'NY', '  new york', 'California',\n",
    "                          'CA', 'New York', 'ca'], \n",
    "    'Rating': [5, 4, 5, 3, 4, 5, 4]\n",
    "}\n",
    "df_reviews = pd.DataFrame(review_data)"
   ]
  },
  {
   "cell_type": "code",
   "execution_count": 4,
   "id": "4b9dd961",
   "metadata": {},
   "outputs": [
    {
     "name": "stdout",
     "output_type": "stream",
     "text": [
      "Original Review Data (with inconsistencies):\n",
      "   ReviewID   Product      Category Reviewer_Location  Rating\n",
      "0         1    Laptop   Electronics          New York       5\n",
      "1         2     Mouse   electronics                NY       4\n",
      "2         3  Keyboard  ELECTRONICS           new york       5\n",
      "3         4   Monitor    Home goods        California       3\n",
      "4         5    Webcam    Home Goods                CA       4\n",
      "5         6    Laptop   Electronics          New York       5\n",
      "6         7     Mouse   ElecTRONICS                ca       4\n",
      "\n",
      "Original Data Info:\n",
      "<class 'pandas.core.frame.DataFrame'>\n",
      "RangeIndex: 7 entries, 0 to 6\n",
      "Data columns (total 5 columns):\n",
      " #   Column             Non-Null Count  Dtype \n",
      "---  ------             --------------  ----- \n",
      " 0   ReviewID           7 non-null      int64 \n",
      " 1   Product            7 non-null      object\n",
      " 2   Category           7 non-null      object\n",
      " 3   Reviewer_Location  7 non-null      object\n",
      " 4   Rating             7 non-null      int64 \n",
      "dtypes: int64(2), object(3)\n",
      "memory usage: 412.0+ bytes\n"
     ]
    }
   ],
   "source": [
    "print(\"Original Review Data (with inconsistencies):\")\n",
    "print(df_reviews)\n",
    "print(\"\\nOriginal Data Info:\")\n",
    "df_reviews.info()\n"
   ]
  },
  {
   "cell_type": "code",
   "execution_count": 5,
   "id": "0d59726b",
   "metadata": {},
   "outputs": [
    {
     "name": "stdout",
     "output_type": "stream",
     "text": [
      "Unique values and counts in 'Category' (before cleaning):\n",
      "Category\n",
      "Electronics     2\n",
      "electronics     1\n",
      "ELECTRONICS     1\n",
      "Home goods      1\n",
      "Home Goods      1\n",
      "ElecTRONICS     1\n",
      "Name: count, dtype: int64\n"
     ]
    }
   ],
   "source": [
    "print(\"Unique values and counts in 'Category' (before cleaning):\")\n",
    "print(df_reviews['Category'].value_counts())"
   ]
  },
  {
   "cell_type": "code",
   "execution_count": 6,
   "id": "f12ec265",
   "metadata": {},
   "outputs": [
    {
     "name": "stdout",
     "output_type": "stream",
     "text": [
      "\n",
      "Unique values and counts in 'Reviewer_Location' (before cleaning):\n",
      "Reviewer_Location\n",
      "New York      2\n",
      "NY            1\n",
      "  new york    1\n",
      "California    1\n",
      "CA            1\n",
      "ca            1\n",
      "Name: count, dtype: int64\n"
     ]
    }
   ],
   "source": [
    "print(\"\\nUnique values and counts in 'Reviewer_Location' (before cleaning):\")\n",
    "print(df_reviews['Reviewer_Location'].value_counts())\n"
   ]
  },
  {
   "cell_type": "code",
   "execution_count": 9,
   "id": "26d55226",
   "metadata": {},
   "outputs": [
    {
     "name": "stdout",
     "output_type": "stream",
     "text": [
      "Category values after simple replace:\n",
      "Category\n",
      "Electronics     2\n",
      "Home Goods      2\n",
      "electronics     1\n",
      "ELECTRONICS     1\n",
      "ElecTRONICS     1\n",
      "Name: count, dtype: int64\n"
     ]
    }
   ],
   "source": [
    "df_corrected_replace = df_reviews.copy()\n",
    "df_corrected_replace['Category'] = df_corrected_replace['Category'].\\\n",
    "                                   replace('Home goods', 'Home Goods')\n",
    "\n",
    "print(\"Category values after simple replace:\")\n",
    "print(df_corrected_replace['Category'].value_counts())\n"
   ]
  },
  {
   "cell_type": "code",
   "execution_count": 10,
   "id": "42d4f790",
   "metadata": {},
   "outputs": [],
   "source": [
    "df_cleaned_text = df_reviews.copy()"
   ]
  },
  {
   "cell_type": "code",
   "execution_count": 22,
   "id": "5f874b72",
   "metadata": {},
   "outputs": [],
   "source": [
    "df_cleaned_text['Category'] = df_cleaned_text['Category'].str.lower().str.strip()\n"
   ]
  },
  {
   "cell_type": "code",
   "execution_count": 23,
   "id": "659b3058",
   "metadata": {},
   "outputs": [],
   "source": [
    "df_cleaned_text['Reviewer_Location'] = df_cleaned_text['Reviewer_Location'].\\\n",
    "                                       str.lower().str.strip()"
   ]
  },
  {
   "cell_type": "code",
   "execution_count": 24,
   "id": "4a311162",
   "metadata": {},
   "outputs": [
    {
     "name": "stdout",
     "output_type": "stream",
     "text": [
      "\n",
      "Category values after lowercasing and stripping whitespace:\n",
      "Category\n",
      "electronics    5\n",
      "home goods     2\n",
      "Name: count, dtype: int64\n",
      "\n",
      "Reviewer_Location values after lowercasing and stripping whitespace:\n",
      "Reviewer_Location\n",
      "new york      3\n",
      "ca            2\n",
      "ny            1\n",
      "california    1\n",
      "Name: count, dtype: int64\n"
     ]
    }
   ],
   "source": [
    "print(\"\\nCategory values after lowercasing and stripping whitespace:\")\n",
    "print(df_cleaned_text['Category'].value_counts())\n",
    "\n",
    "print(\"\\nReviewer_Location values after lowercasing and stripping whitespace:\")\n",
    "print(df_cleaned_text['Reviewer_Location'].value_counts())"
   ]
  },
  {
   "cell_type": "code",
   "execution_count": 28,
   "id": "3792bd61",
   "metadata": {},
   "outputs": [],
   "source": [
    "location_standardization_mapping = {\n",
    "    'ny': 'New York',\n",
    "    'new york': 'New York', \n",
    "    'ca': 'California',\n",
    "    'california': 'California' \n",
    "}"
   ]
  },
  {
   "cell_type": "code",
   "execution_count": 29,
   "id": "3d44c54b",
   "metadata": {},
   "outputs": [],
   "source": [
    "df_standardized_location = df_cleaned_text.copy() \n",
    "df_standardized_location['Reviewer_Location'] = \\\n",
    "df_standardized_location['Reviewer_Location'].replace(location_standardization_mapping)\n"
   ]
  },
  {
   "cell_type": "code",
   "execution_count": 30,
   "id": "eea13800",
   "metadata": {},
   "outputs": [
    {
     "name": "stdout",
     "output_type": "stream",
     "text": [
      "\n",
      "Reviewer_Location values after mapping abbreviations to full names:\n",
      "Reviewer_Location\n",
      "New York      4\n",
      "California    3\n",
      "Name: count, dtype: int64\n",
      "\n",
      "DataFrame after location standardization:\n",
      "   ReviewID   Product     Category Reviewer_Location  Rating\n",
      "0         1    Laptop  electronics          New York       5\n",
      "1         2     Mouse  electronics          New York       4\n",
      "2         3  Keyboard  electronics          New York       5\n",
      "3         4   Monitor   home goods        California       3\n",
      "4         5    Webcam   home goods        California       4\n",
      "5         6    Laptop  electronics          New York       5\n",
      "6         7     Mouse  electronics        California       4\n"
     ]
    }
   ],
   "source": [
    "print(\"\\nReviewer_Location values after mapping abbreviations to full names:\")\n",
    "print(df_standardized_location['Reviewer_Location'].value_counts())\n",
    "print(\"\\nDataFrame after location standardization:\")\n",
    "print(df_standardized_location)\n"
   ]
  },
  {
   "cell_type": "code",
   "execution_count": 31,
   "id": "3164c9c6",
   "metadata": {},
   "outputs": [],
   "source": [
    "def standardize_product_name_custom(product_name):\n",
    "    \n",
    "    if not isinstance(product_name, str):\n",
    "        return product_name \n",
    "    \n",
    "    product_name = product_name.strip().capitalize() \n",
    "    \n",
    "    if product_name in ['Laptop', 'Monitor']:\n",
    "        return f\"{product_name}_Electronic\"\n",
    "    elif product_name in ['Mouse', 'Keyboard', 'Webcam']:\n",
    "        return f\"{product_name}_Peripheral\"\n",
    "    else:\n",
    "        return product_name "
   ]
  },
  {
   "cell_type": "code",
   "execution_count": null,
   "id": "269a2612",
   "metadata": {},
   "outputs": [
    {
     "name": "stdout",
     "output_type": "stream",
     "text": [
      "\n",
      "Product names after applying custom standardization logic:\n",
      "Product\n",
      "Laptop_Electronic      2\n",
      "Mouse_Peripheral       2\n",
      "Keyboard_Peripheral    1\n",
      "Monitor_Electronic     1\n",
      "Webcam_Peripheral      1\n",
      "Name: count, dtype: int64\n",
      "\n",
      "DataFrame after custom product standardization:\n",
      "   ReviewID              Product      Category Reviewer_Location  Rating\n",
      "0         1    Laptop_Electronic   Electronics          New York       5\n",
      "1         2     Mouse_Peripheral   electronics                NY       4\n",
      "2         3  Keyboard_Peripheral  ELECTRONICS           new york       5\n",
      "3         4   Monitor_Electronic    Home goods        California       3\n",
      "4         5    Webcam_Peripheral    Home Goods                CA       4\n",
      "5         6    Laptop_Electronic   Electronics          New York       5\n",
      "6         7     Mouse_Peripheral   ElecTRONICS                ca       4\n"
     ]
    }
   ],
   "source": [
    "df_custom_standardized = df_reviews.copy() \n",
    "df_custom_standardized['Product'] = df_custom_standardized['Product'].\\\n",
    "                                    apply(standardize_product_name_custom)\n",
    "\n",
    "print(\"\\nProduct names after applying custom standardization logic:\")\n",
    "print(df_custom_standardized['Product'].value_counts())\n",
    "print(\"\\nDataFrame after custom product standardization:\")\n",
    "print(df_custom_standardized)\n"
   ]
  },
  {
   "cell_type": "code",
   "execution_count": null,
   "id": "1581087f",
   "metadata": {},
   "outputs": [],
   "source": []
  }
 ],
 "metadata": {
  "kernelspec": {
   "display_name": "base",
   "language": "python",
   "name": "python3"
  },
  "language_info": {
   "codemirror_mode": {
    "name": "ipython",
    "version": 3
   },
   "file_extension": ".py",
   "mimetype": "text/x-python",
   "name": "python",
   "nbconvert_exporter": "python",
   "pygments_lexer": "ipython3",
   "version": "3.13.5"
  }
 },
 "nbformat": 4,
 "nbformat_minor": 5
}
