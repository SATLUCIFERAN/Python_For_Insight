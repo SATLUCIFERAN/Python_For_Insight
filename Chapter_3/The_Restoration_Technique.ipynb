{
 "cells": [
  {
   "cell_type": "code",
   "execution_count": 1,
   "id": "c5a71126",
   "metadata": {},
   "outputs": [],
   "source": [
    "import pandas as pd\n",
    "import numpy as np "
   ]
  },
  {
   "cell_type": "code",
   "execution_count": null,
   "id": "cdb01052",
   "metadata": {},
   "outputs": [],
   "source": [
    "customer_feedback_data = {\n",
    "    'CustomerID': [101, 102, 103, 104, 105, 106],\n",
    "    'Product_ID': ['P001', 'P002', 'P001', 'P003', 'P002', 'P001'],\n",
    "    'Rating': [5, 4, np.nan, 3, 5, np.nan], \n",
    "    'Feedback_Text': ['Great product!', 'Love it!', 'Satisfied', \n",
    "                      np.nan, 'Excellent!', np.nan], \n",
    "    'Purchase_Amount': [120.50, 50.00, 85.20, 200.00, 75.00, 150.00],\n",
    "    'Region': ['East', 'West', 'East', 'North', 'South', 'West']\n",
    "}\n",
    "df_feedback = pd.DataFrame(customer_feedback_data)"
   ]
  },
  {
   "cell_type": "code",
   "execution_count": 3,
   "id": "1109ae9b",
   "metadata": {},
   "outputs": [
    {
     "name": "stdout",
     "output_type": "stream",
     "text": [
      "Original Customer Feedback Data (with missing values):\n",
      "   CustomerID Product_ID  Rating   Feedback_Text  Purchase_Amount Region\n",
      "0         101       P001     5.0  Great product!            120.5   East\n",
      "1         102       P002     4.0        Love it!             50.0   West\n",
      "2         103       P001     NaN       Satisfied             85.2   East\n",
      "3         104       P003     3.0             NaN            200.0  North\n",
      "4         105       P002     5.0      Excellent!             75.0  South\n",
      "5         106       P001     NaN             NaN            150.0   West\n",
      "\n",
      "Original Data Info:\n",
      "<class 'pandas.core.frame.DataFrame'>\n",
      "RangeIndex: 6 entries, 0 to 5\n",
      "Data columns (total 6 columns):\n",
      " #   Column           Non-Null Count  Dtype  \n",
      "---  ------           --------------  -----  \n",
      " 0   CustomerID       6 non-null      int64  \n",
      " 1   Product_ID       6 non-null      object \n",
      " 2   Rating           4 non-null      float64\n",
      " 3   Feedback_Text    4 non-null      object \n",
      " 4   Purchase_Amount  6 non-null      float64\n",
      " 5   Region           6 non-null      object \n",
      "dtypes: float64(2), int64(1), object(3)\n",
      "memory usage: 420.0+ bytes\n"
     ]
    }
   ],
   "source": [
    "print(\"Original Customer Feedback Data (with missing values):\")\n",
    "print(df_feedback)\n",
    "print(\"\\nOriginal Data Info:\")\n",
    "df_feedback.info()"
   ]
  },
  {
   "cell_type": "code",
   "execution_count": 4,
   "id": "452e69f3",
   "metadata": {},
   "outputs": [
    {
     "name": "stdout",
     "output_type": "stream",
     "text": [
      "Boolean DataFrame showing missing values (True = NaN):\n",
      "   CustomerID  Product_ID  Rating  Feedback_Text  Purchase_Amount  Region\n",
      "0       False       False   False          False            False   False\n",
      "1       False       False   False          False            False   False\n",
      "2       False       False    True          False            False   False\n",
      "3       False       False   False           True            False   False\n",
      "4       False       False   False          False            False   False\n",
      "5       False       False    True           True            False   False\n"
     ]
    }
   ],
   "source": [
    "print(\"Boolean DataFrame showing missing values (True = NaN):\")\n",
    "print(df_feedback.isnull())"
   ]
  },
  {
   "cell_type": "code",
   "execution_count": 5,
   "id": "dbbc3046",
   "metadata": {},
   "outputs": [
    {
     "name": "stdout",
     "output_type": "stream",
     "text": [
      "\n",
      "Number of missing values per column:\n",
      "CustomerID         0\n",
      "Product_ID         0\n",
      "Rating             2\n",
      "Feedback_Text      2\n",
      "Purchase_Amount    0\n",
      "Region             0\n",
      "dtype: int64\n"
     ]
    }
   ],
   "source": [
    "print(\"\\nNumber of missing values per column:\")\n",
    "print(df_feedback.isnull().sum())"
   ]
  },
  {
   "cell_type": "code",
   "execution_count": 6,
   "id": "27d9618d",
   "metadata": {},
   "outputs": [
    {
     "name": "stdout",
     "output_type": "stream",
     "text": [
      "\n",
      "Total missing values in the DataFrame:      4\n"
     ]
    }
   ],
   "source": [
    "print(f\"\\nTotal missing values in the DataFrame:\\\n",
    "      {df_feedback.isnull().sum().sum()}\")"
   ]
  },
  {
   "cell_type": "code",
   "execution_count": 7,
   "id": "aec2a148",
   "metadata": {},
   "outputs": [
    {
     "name": "stdout",
     "output_type": "stream",
     "text": [
      "\n",
      "DataFrame after dropping any row with a missing value:\n",
      "   CustomerID Product_ID  Rating   Feedback_Text  Purchase_Amount Region\n",
      "0         101       P001     5.0  Great product!            120.5   East\n",
      "1         102       P002     4.0        Love it!             50.0   West\n",
      "4         105       P002     5.0      Excellent!             75.0  South\n",
      "\n",
      "Info after dropping any row:\n",
      "<class 'pandas.core.frame.DataFrame'>\n",
      "Index: 3 entries, 0 to 4\n",
      "Data columns (total 6 columns):\n",
      " #   Column           Non-Null Count  Dtype  \n",
      "---  ------           --------------  -----  \n",
      " 0   CustomerID       3 non-null      int64  \n",
      " 1   Product_ID       3 non-null      object \n",
      " 2   Rating           3 non-null      float64\n",
      " 3   Feedback_Text    3 non-null      object \n",
      " 4   Purchase_Amount  3 non-null      float64\n",
      " 5   Region           3 non-null      object \n",
      "dtypes: float64(2), int64(1), object(3)\n",
      "memory usage: 168.0+ bytes\n"
     ]
    }
   ],
   "source": [
    "df_dropped_any_row = df_feedback.dropna()\n",
    "print(\"\\nDataFrame after dropping any row with a missing value:\")\n",
    "print(df_dropped_any_row)\n",
    "print(\"\\nInfo after dropping any row:\")\n",
    "df_dropped_any_row.info()"
   ]
  },
  {
   "cell_type": "code",
   "execution_count": 8,
   "id": "a2942a18",
   "metadata": {},
   "outputs": [
    {
     "name": "stdout",
     "output_type": "stream",
     "text": [
      "\n",
      "DataFrame after dropping any column with a missing value:\n",
      "   CustomerID Product_ID  Purchase_Amount Region\n",
      "0         101       P001            120.5   East\n",
      "1         102       P002             50.0   West\n",
      "2         103       P001             85.2   East\n",
      "3         104       P003            200.0  North\n",
      "4         105       P002             75.0  South\n",
      "5         106       P001            150.0   West\n",
      "\n",
      "Info after dropping any column:\n",
      "<class 'pandas.core.frame.DataFrame'>\n",
      "RangeIndex: 6 entries, 0 to 5\n",
      "Data columns (total 4 columns):\n",
      " #   Column           Non-Null Count  Dtype  \n",
      "---  ------           --------------  -----  \n",
      " 0   CustomerID       6 non-null      int64  \n",
      " 1   Product_ID       6 non-null      object \n",
      " 2   Purchase_Amount  6 non-null      float64\n",
      " 3   Region           6 non-null      object \n",
      "dtypes: float64(1), int64(1), object(2)\n",
      "memory usage: 324.0+ bytes\n"
     ]
    }
   ],
   "source": [
    "df_dropped_any_col = df_feedback.dropna(axis=1)\n",
    "print(\"\\nDataFrame after dropping any column with a missing value:\")\n",
    "print(df_dropped_any_col)\n",
    "print(\"\\nInfo after dropping any column:\")\n",
    "df_dropped_any_col.info()"
   ]
  },
  {
   "cell_type": "code",
   "execution_count": 10,
   "id": "ea50798b",
   "metadata": {},
   "outputs": [
    {
     "name": "stdout",
     "output_type": "stream",
     "text": [
      "\n",
      "DataFrame after filling 'Rating' NaNs with the mean:\n",
      "   CustomerID Product_ID  Rating   Feedback_Text  Purchase_Amount Region\n",
      "0         101       P001    5.00  Great product!            120.5   East\n",
      "1         102       P002    4.00        Love it!             50.0   West\n",
      "2         103       P001    4.25       Satisfied             85.2   East\n",
      "3         104       P003    3.00             NaN            200.0  North\n",
      "4         105       P002    5.00      Excellent!             75.0  South\n",
      "5         106       P001    4.25             NaN            150.0   West\n",
      "\n",
      "Info after filling 'Rating' with mean:\n",
      "<class 'pandas.core.frame.DataFrame'>\n",
      "RangeIndex: 6 entries, 0 to 5\n",
      "Data columns (total 6 columns):\n",
      " #   Column           Non-Null Count  Dtype  \n",
      "---  ------           --------------  -----  \n",
      " 0   CustomerID       6 non-null      int64  \n",
      " 1   Product_ID       6 non-null      object \n",
      " 2   Rating           6 non-null      float64\n",
      " 3   Feedback_Text    4 non-null      object \n",
      " 4   Purchase_Amount  6 non-null      float64\n",
      " 5   Region           6 non-null      object \n",
      "dtypes: float64(2), int64(1), object(3)\n",
      "memory usage: 420.0+ bytes\n"
     ]
    }
   ],
   "source": [
    "df_filled_mean = df_feedback.copy()\n",
    "mean_rating = df_filled_mean['Rating'].mean()\n",
    "df_filled_mean['Rating'] = df_filled_mean['Rating'].fillna(mean_rating)\n",
    "\n",
    "print(\"\\nDataFrame after filling 'Rating' NaNs with the mean:\")\n",
    "print(df_filled_mean)\n",
    "print(\"\\nInfo after filling 'Rating' with mean:\")\n",
    "df_filled_mean.info()"
   ]
  },
  {
   "cell_type": "code",
   "execution_count": null,
   "id": "ae7fee72",
   "metadata": {},
   "outputs": [
    {
     "name": "stdout",
     "output_type": "stream",
     "text": [
      "\n",
      "DataFrame after filling 'Feedback_Text' NaNs with a constant string:\n",
      "   CustomerID Product_ID  Rating         Feedback_Text  Purchase_Amount Region\n",
      "0         101       P001     5.0        Great product!            120.5   East\n",
      "1         102       P002     4.0              Love it!             50.0   West\n",
      "2         103       P001     NaN             Satisfied             85.2   East\n",
      "3         104       P003     3.0  No Feedback Provided            200.0  North\n",
      "4         105       P002     5.0            Excellent!             75.0  South\n",
      "5         106       P001     NaN  No Feedback Provided            150.0   West\n",
      "\n",
      "Info after filling 'Feedback_Text' with constant:\n",
      "<class 'pandas.core.frame.DataFrame'>\n",
      "RangeIndex: 6 entries, 0 to 5\n",
      "Data columns (total 6 columns):\n",
      " #   Column           Non-Null Count  Dtype  \n",
      "---  ------           --------------  -----  \n",
      " 0   CustomerID       6 non-null      int64  \n",
      " 1   Product_ID       6 non-null      object \n",
      " 2   Rating           4 non-null      float64\n",
      " 3   Feedback_Text    6 non-null      object \n",
      " 4   Purchase_Amount  6 non-null      float64\n",
      " 5   Region           6 non-null      object \n",
      "dtypes: float64(2), int64(1), object(3)\n",
      "memory usage: 420.0+ bytes\n"
     ]
    }
   ],
   "source": [
    "df_filled_constant = df_feedback.copy() # Work on another copy\n",
    "df_filled_constant['Feedback_Text'] = df_filled_constant['Feedback_Text'].fillna('No Feedback Provided')\n",
    "\n",
    "print(\"\\nDataFrame after filling 'Feedback_Text' NaNs with a constant string:\")\n",
    "print(df_filled_constant)\n",
    "print(\"\\nInfo after filling 'Feedback_Text' with constant:\")\n",
    "df_filled_constant.info()"
   ]
  },
  {
   "cell_type": "code",
   "execution_count": null,
   "id": "fed52d9c",
   "metadata": {},
   "outputs": [],
   "source": []
  }
 ],
 "metadata": {
  "kernelspec": {
   "display_name": "base",
   "language": "python",
   "name": "python3"
  },
  "language_info": {
   "codemirror_mode": {
    "name": "ipython",
    "version": 3
   },
   "file_extension": ".py",
   "mimetype": "text/x-python",
   "name": "python",
   "nbconvert_exporter": "python",
   "pygments_lexer": "ipython3",
   "version": "3.13.5"
  }
 },
 "nbformat": 4,
 "nbformat_minor": 5
}
